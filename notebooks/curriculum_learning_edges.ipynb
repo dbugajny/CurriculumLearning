{
 "cells": [
  {
   "cell_type": "code",
   "execution_count": 1,
   "id": "initial_id",
   "metadata": {
    "collapsed": true,
    "ExecuteTime": {
     "end_time": "2024-07-01T09:10:15.272540Z",
     "start_time": "2024-07-01T09:10:11.131137Z"
    }
   },
   "outputs": [],
   "source": [
    "import numpy as np\n",
    "import tensorflow as tf\n",
    "from curriculum_learning.models.classifier_model import ClassifierModel\n",
    "from curriculum_learning import utils\n",
    "import yaml\n",
    "from tqdm import tqdm\n",
    "from sklearn.model_selection import train_test_split\n",
    "import tensorflow_datasets as tfds\n",
    "import matplotlib.pyplot as plt\n",
    "import seaborn as sns"
   ]
  },
  {
   "cell_type": "code",
   "execution_count": 2,
   "outputs": [],
   "source": [
    "with open(\"models_hyperparameters.yaml\", \"r\") as stream:\n",
    "    models_hyperparameters = yaml.safe_load(stream)\n",
    "    \n",
    "with open(\"config_tests.yaml\", \"r\") as stream:\n",
    "    config_tests = yaml.safe_load(stream)\n",
    "    \n",
    "N_EPOCHS = 50\n",
    "N_TRIALS = 30\n",
    "BATCH_SIZE = 512\n",
    "\n",
    "CONFIG = config_tests[\"proba_best\"]\n",
    "\n",
    "loss = tf.keras.losses.SparseCategoricalCrossentropy()"
   ],
   "metadata": {
    "collapsed": false,
    "ExecuteTime": {
     "end_time": "2024-07-01T09:10:15.278879Z",
     "start_time": "2024-07-01T09:10:15.273777Z"
    }
   },
   "id": "fa5a1f60ac32c234"
  },
  {
   "cell_type": "code",
   "outputs": [
    {
     "name": "stderr",
     "output_type": "stream",
     "text": [
      "2024-07-01 11:10:17.628907: W tensorflow/core/framework/local_rendezvous.cc:404] Local rendezvous is aborting with status: OUT_OF_RANGE: End of sequence\n"
     ]
    }
   ],
   "source": [
    "ds_1 = tfds.load(\"eurosat\", split=\"train\", as_supervised=True, shuffle_files=False)\n",
    "# ds_2 = tfds.load(\"stl10\", split=\"test\", as_supervised=True, shuffle_files=False)\n",
    "\n",
    "x = []\n",
    "y = []\n",
    "\n",
    "for x_, y_ in ds_1.as_numpy_iterator():\n",
    "    x.append(x_)\n",
    "    y.append(y_)\n",
    "    \n",
    "# for x_, y_ in ds_2.as_numpy_iterator():\n",
    "#     x.append(x_)\n",
    "#     y.append(y_)"
   ],
   "metadata": {
    "collapsed": false,
    "ExecuteTime": {
     "end_time": "2024-07-01T09:10:17.631219Z",
     "start_time": "2024-07-01T09:10:15.279573Z"
    }
   },
   "id": "833df77eba9d27a2",
   "execution_count": 3
  },
  {
   "cell_type": "code",
   "outputs": [
    {
     "data": {
      "text/plain": "(18900, 4050, 4050)"
     },
     "execution_count": 4,
     "metadata": {},
     "output_type": "execute_result"
    }
   ],
   "source": [
    "x = np.array(x, dtype=np.float32) / 255\n",
    "y = np.array(y, dtype=np.float32)\n",
    "\n",
    "x_train, x_test, y_train, y_test = train_test_split(x, y, test_size=0.3, random_state=42, stratify=y)\n",
    "x_test, x_val, y_test, y_val = train_test_split(x_test, y_test, test_size=0.5, random_state=42, stratify=y_test)\n",
    "\n",
    "n_classes = len(np.unique(y))\n",
    "train_size = x_train.shape[0]\n",
    "train_size, len(x_val), len(x_test)"
   ],
   "metadata": {
    "collapsed": false,
    "ExecuteTime": {
     "end_time": "2024-07-01T09:10:18.997528Z",
     "start_time": "2024-07-01T09:10:18.029934Z"
    }
   },
   "id": "3d096e320905ea70",
   "execution_count": 4
  },
  {
   "cell_type": "code",
   "outputs": [],
   "source": [
    "x_train_sorted = x_train[np.argsort(y_train)]\n",
    "y_train_sorted = y_train[np.argsort(y_train)]\n",
    "_, counts = np.unique(y_train_sorted, return_counts=True)"
   ],
   "metadata": {
    "collapsed": false,
    "ExecuteTime": {
     "end_time": "2024-07-01T09:10:19.771357Z",
     "start_time": "2024-07-01T09:10:19.132002Z"
    }
   },
   "id": "a2cd5df2d1ace314",
   "execution_count": 5
  },
  {
   "cell_type": "code",
   "outputs": [],
   "source": [
    "samples_proba = utils.calculate_proba_edges(x_train_sorted, counts, blur=True)"
   ],
   "metadata": {
    "collapsed": false,
    "ExecuteTime": {
     "end_time": "2024-07-01T09:10:24.812838Z",
     "start_time": "2024-07-01T09:10:20.546917Z"
    }
   },
   "id": "475412e6f9af5085",
   "execution_count": 6
  },
  {
   "cell_type": "code",
   "outputs": [],
   "source": [
    "model = ClassifierModel(output_shape=n_classes, **models_hyperparameters[\"test_model_1\"])\n",
    "model.compile(optimizer=\"adam\", loss=loss, metrics=[\"accuracy\"])\n",
    "model(x_train[0:1])\n",
    "# model.save_weights(\"../models/default_model.weights.h5\")\n",
    "model.load_weights(\"../models/default_model.weights.h5\")\n",
    "model_weights = model.get_weights()"
   ],
   "metadata": {
    "collapsed": false,
    "ExecuteTime": {
     "end_time": "2024-07-01T09:10:25.420988Z",
     "start_time": "2024-07-01T09:10:24.815336Z"
    }
   },
   "id": "5d8c20ae81a03a89",
   "execution_count": 7
  },
  {
   "cell_type": "code",
   "outputs": [
    {
     "data": {
      "text/plain": "{'order_type': 'proba'}"
     },
     "execution_count": 18,
     "metadata": {},
     "output_type": "execute_result"
    }
   ],
   "source": [
    "CONFIG"
   ],
   "metadata": {
    "collapsed": false,
    "ExecuteTime": {
     "end_time": "2024-06-27T12:04:47.154267Z",
     "start_time": "2024-06-27T12:04:47.150009Z"
    }
   },
   "id": "fee371cf05954e95",
   "execution_count": 18
  },
  {
   "cell_type": "code",
   "execution_count": null,
   "outputs": [
    {
     "name": "stderr",
     "output_type": "stream",
     "text": [
      "  7%|▋         | 1/15 [03:52<54:15, 232.55s/it]"
     ]
    },
    {
     "name": "stdout",
     "output_type": "stream",
     "text": [
      "Mean: 0.8659   Median: 0.8659   Last accuracy 0.8659\n"
     ]
    },
    {
     "name": "stderr",
     "output_type": "stream",
     "text": [
      " 13%|█▎        | 2/15 [06:42<42:24, 195.72s/it]"
     ]
    },
    {
     "name": "stdout",
     "output_type": "stream",
     "text": [
      "Mean: 0.8643   Median: 0.8643   Last accuracy 0.8627\n"
     ]
    },
    {
     "name": "stderr",
     "output_type": "stream",
     "text": [
      " 20%|██        | 3/15 [10:12<40:27, 202.27s/it]"
     ]
    },
    {
     "name": "stdout",
     "output_type": "stream",
     "text": [
      "Mean: 0.8571   Median: 0.8627   Last accuracy 0.8427\n"
     ]
    },
    {
     "name": "stderr",
     "output_type": "stream",
     "text": [
      " 27%|██▋       | 4/15 [13:55<38:34, 210.44s/it]"
     ]
    },
    {
     "name": "stdout",
     "output_type": "stream",
     "text": [
      "Mean: 0.8513   Median: 0.8527   Last accuracy 0.8338\n"
     ]
    },
    {
     "name": "stderr",
     "output_type": "stream",
     "text": [
      " 33%|███▎      | 5/15 [18:05<37:28, 224.84s/it]"
     ]
    },
    {
     "name": "stdout",
     "output_type": "stream",
     "text": [
      "Mean: 0.8499   Median: 0.8444   Last accuracy 0.8444\n"
     ]
    }
   ],
   "source": [
    "model_scores = []\n",
    "verbose = 0\n",
    "early_stopping = tf.keras.callbacks.EarlyStopping(monitor='val_loss', restore_best_weights=True, patience=5, start_from_epoch=0)\n",
    "\n",
    "for _ in tqdm(range(N_TRIALS // 2)):\n",
    "    model.set_weights(model_weights)\n",
    "\n",
    "    for i in range(N_EPOCHS):\n",
    "        n_samples = int(np.tanh(4 * (i + 1) / N_EPOCHS) * train_size)\n",
    "\n",
    "        samples_ids = utils.chose_samples(n_samples, samples_proba, CONFIG[\"order_type\"])\n",
    "\n",
    "        model.fit(\n",
    "            x_train_sorted[samples_ids],\n",
    "            y_train_sorted[samples_ids],\n",
    "            # validation_data=(x_val, y_val),\n",
    "            epochs=1,\n",
    "            batch_size=BATCH_SIZE,\n",
    "            verbose=verbose,\n",
    "        )\n",
    "\n",
    "    model.fit(\n",
    "        x_train, y_train, validation_data=(x_val, y_val), epochs=500, batch_size=BATCH_SIZE, \n",
    "        callbacks=[tf.keras.callbacks.EarlyStopping(monitor='val_loss', restore_best_weights=True, patience=5, start_from_epoch=10)], \n",
    "        verbose=verbose\n",
    "    )\n",
    "            \n",
    "    _, accuracy = model.evaluate(x_test, y_test, batch_size=BATCH_SIZE, verbose=0)\n",
    "    model_scores.append(accuracy)\n",
    "    print(f\"Mean: {np.mean(model_scores):.4f}   Median: {np.median(model_scores):.4f}   Last accuracy {accuracy:.4f}\")"
   ],
   "metadata": {
    "collapsed": false,
    "is_executing": true,
    "ExecuteTime": {
     "start_time": "2024-07-01T09:10:27.671325Z"
    }
   },
   "id": "ce9112b33b1ada44"
  },
  {
   "cell_type": "code",
   "outputs": [],
   "source": [
    "np.min(model_scores)"
   ],
   "metadata": {
    "collapsed": false,
    "is_executing": true
   },
   "id": "bc3ae2d930db4ffb",
   "execution_count": null
  },
  {
   "cell_type": "code",
   "outputs": [],
   "source": [
    "CONFIG"
   ],
   "metadata": {
    "collapsed": false,
    "is_executing": true
   },
   "id": "ee278ef1e5bd21ff",
   "execution_count": null
  },
  {
   "cell_type": "code",
   "outputs": [],
   "source": [
    "model_scores\n"
   ],
   "metadata": {
    "collapsed": false,
    "is_executing": true
   },
   "id": "b1008223872a931",
   "execution_count": null
  },
  {
   "cell_type": "code",
   "outputs": [
    {
     "data": {
      "text/plain": "{'order_type': 'proba'}"
     },
     "execution_count": 28,
     "metadata": {},
     "output_type": "execute_result"
    }
   ],
   "source": [
    "CONFIG"
   ],
   "metadata": {
    "collapsed": false,
    "ExecuteTime": {
     "end_time": "2024-06-24T12:34:56.926803Z",
     "start_time": "2024-06-24T12:34:56.924703Z"
    }
   },
   "id": "d817f2572ea4a989",
   "execution_count": 28
  },
  {
   "cell_type": "code",
   "outputs": [],
   "source": [],
   "metadata": {
    "collapsed": false,
    "ExecuteTime": {
     "end_time": "2024-06-24T12:34:56.928914Z",
     "start_time": "2024-06-24T12:34:56.927522Z"
    }
   },
   "id": "ab854c56fbbb8a3d",
   "execution_count": 28
  },
  {
   "cell_type": "code",
   "outputs": [],
   "source": [],
   "metadata": {
    "collapsed": false,
    "ExecuteTime": {
     "end_time": "2024-06-24T12:34:56.931232Z",
     "start_time": "2024-06-24T12:34:56.929816Z"
    }
   },
   "id": "6fb3b1188c716777",
   "execution_count": 28
  }
 ],
 "metadata": {
  "kernelspec": {
   "display_name": "Python 3",
   "language": "python",
   "name": "python3"
  },
  "language_info": {
   "codemirror_mode": {
    "name": "ipython",
    "version": 2
   },
   "file_extension": ".py",
   "mimetype": "text/x-python",
   "name": "python",
   "nbconvert_exporter": "python",
   "pygments_lexer": "ipython2",
   "version": "2.7.6"
  }
 },
 "nbformat": 4,
 "nbformat_minor": 5
}
