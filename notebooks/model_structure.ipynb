{
 "cells": [
  {
   "cell_type": "code",
   "execution_count": 1,
   "id": "initial_id",
   "metadata": {
    "collapsed": true,
    "ExecuteTime": {
     "end_time": "2024-06-01T12:31:29.899979Z",
     "start_time": "2024-06-01T12:31:26.961461Z"
    }
   },
   "outputs": [],
   "source": [
    "import numpy as np\n",
    "import tensorflow as tf\n",
    "from curriculum_learning.models.classifier_model_str import ClassifierModel\n",
    "from curriculum_learning import utils\n",
    "import yaml\n",
    "from tqdm import tqdm\n",
    "from sklearn.model_selection import train_test_split\n",
    "import tensorflow_datasets as tfds\n",
    "import matplotlib.pyplot as plt\n",
    "import seaborn as sns"
   ]
  },
  {
   "cell_type": "code",
   "execution_count": 2,
   "outputs": [],
   "source": [
    "with open(\"models_hyperparameters.yaml\", \"r\") as stream:\n",
    "    models_hyperparameters = yaml.safe_load(stream)\n",
    "    \n",
    "with open(\"config_tests.yaml\", \"r\") as stream:\n",
    "    config_tests = yaml.safe_load(stream)\n",
    "    \n",
    "N_EPOCHS = 50\n",
    "N_TRIALS = 30\n",
    "BATCH_SIZE = 512\n",
    "\n",
    "CONFIG = config_tests[\"proba_best\"]\n",
    "\n",
    "loss = tf.keras.losses.SparseCategoricalCrossentropy()"
   ],
   "metadata": {
    "collapsed": false,
    "ExecuteTime": {
     "end_time": "2024-06-01T12:31:29.906821Z",
     "start_time": "2024-06-01T12:31:29.900736Z"
    }
   },
   "id": "fa5a1f60ac32c234"
  },
  {
   "cell_type": "code",
   "outputs": [
    {
     "name": "stderr",
     "output_type": "stream",
     "text": [
      "2024-06-01 14:31:30.012513: W tensorflow/core/kernels/data/cache_dataset_ops.cc:858] The calling iterator did not fully read the dataset being cached. In order to avoid unexpected truncation of the dataset, the partially cached contents of the dataset  will be discarded. This can happen if you have an input pipeline similar to `dataset.cache().take(k).repeat()`. You should use `dataset.take(k).cache().repeat()` instead.\n"
     ]
    }
   ],
   "source": [
    "ds_1 = tfds.load(\"eurosat\", split=\"train\", as_supervised=True, shuffle_files=False)\n",
    "\n",
    "x = []\n",
    "y = []\n",
    "for x_, y_ in ds_1.as_numpy_iterator():\n",
    "    x.append(x_)\n",
    "    y.append(y_)\n",
    "    \n",
    "    if len(x) == 300:\n",
    "        break"
   ],
   "metadata": {
    "collapsed": false,
    "ExecuteTime": {
     "end_time": "2024-06-01T12:31:30.014975Z",
     "start_time": "2024-06-01T12:31:29.908553Z"
    }
   },
   "id": "833df77eba9d27a2",
   "execution_count": 3
  },
  {
   "cell_type": "code",
   "execution_count": 4,
   "outputs": [
    {
     "data": {
      "text/plain": "(210, 45, 45)"
     },
     "execution_count": 4,
     "metadata": {},
     "output_type": "execute_result"
    }
   ],
   "source": [
    "x = np.array(x, dtype=np.float32) / 255\n",
    "y = np.array(y, dtype=np.float32)\n",
    "\n",
    "x_train, x_test, y_train, y_test = train_test_split(x, y, test_size=0.3, random_state=42, stratify=y)\n",
    "x_test, x_val, y_test, y_val = train_test_split(x_test, y_test, test_size=0.5, random_state=42, stratify=y_test)\n",
    "\n",
    "n_classes = len(np.unique(y))\n",
    "train_size = x_train.shape[0]\n",
    "train_size, len(x_val), len(x_test)"
   ],
   "metadata": {
    "collapsed": false,
    "ExecuteTime": {
     "end_time": "2024-06-01T12:31:30.028041Z",
     "start_time": "2024-06-01T12:31:30.016074Z"
    }
   },
   "id": "8424e92d91deb0ac"
  },
  {
   "cell_type": "code",
   "outputs": [],
   "source": [
    "x_train_sorted = x_train[np.argsort(y_train)]\n",
    "y_train_sorted = y_train[np.argsort(y_train)]\n",
    "_, counts = np.unique(y_train_sorted, return_counts=True)"
   ],
   "metadata": {
    "collapsed": false,
    "ExecuteTime": {
     "end_time": "2024-06-01T12:31:30.032352Z",
     "start_time": "2024-06-01T12:31:30.029133Z"
    }
   },
   "id": "a2cd5df2d1ace314",
   "execution_count": 5
  },
  {
   "cell_type": "code",
   "outputs": [
    {
     "data": {
      "text/plain": "(64, 64, 3)"
     },
     "execution_count": 6,
     "metadata": {},
     "output_type": "execute_result"
    }
   ],
   "source": [
    "x_train[0].shape"
   ],
   "metadata": {
    "collapsed": false,
    "ExecuteTime": {
     "end_time": "2024-06-01T12:31:30.036053Z",
     "start_time": "2024-06-01T12:31:30.033336Z"
    }
   },
   "id": "1f1af6b378aed5e0",
   "execution_count": 6
  },
  {
   "cell_type": "code",
   "outputs": [],
   "source": [
    "input_shape=(None, 64, 64, 3), "
   ],
   "metadata": {
    "collapsed": false,
    "ExecuteTime": {
     "end_time": "2024-06-01T12:31:30.039014Z",
     "start_time": "2024-06-01T12:31:30.037208Z"
    }
   },
   "id": "58a275139fc8df5a",
   "execution_count": 7
  },
  {
   "cell_type": "code",
   "outputs": [],
   "source": [
    "model = ClassifierModel(input_shape=(64, 64, 3), output_shape=n_classes, **models_hyperparameters[\"test_model_1\"])"
   ],
   "metadata": {
    "collapsed": false,
    "ExecuteTime": {
     "end_time": "2024-06-01T12:31:30.256791Z",
     "start_time": "2024-06-01T12:31:30.039902Z"
    }
   },
   "id": "6e6b497ae9aa8d8e",
   "execution_count": 8
  },
  {
   "cell_type": "code",
   "outputs": [],
   "source": [
    "model.compile(optimizer=\"adam\", loss=loss, metrics=[\"accuracy\"])\n",
    "model(x_train[0:1])\n",
    "# model.save_weights(\"../models/default_model.weights.h5\")\n",
    "model.load_weights(\"../models/default_model.weights.h5\")\n",
    "model_weights = model.get_weights()"
   ],
   "metadata": {
    "collapsed": false,
    "ExecuteTime": {
     "end_time": "2024-06-01T12:31:30.418760Z",
     "start_time": "2024-06-01T12:31:30.258911Z"
    }
   },
   "id": "5d8c20ae81a03a89",
   "execution_count": 9
  },
  {
   "cell_type": "code",
   "outputs": [
    {
     "data": {
      "text/plain": "[<InputLayer name=image, built=True>,\n <ConvBlock name=conv_block, built=True>,\n <ConvBlock name=conv_block_1, built=True>,\n <ConvBlock name=conv_block_2, built=True>,\n <Flatten name=flatten, built=True>,\n <DenseBlock name=dense_block, built=True>,\n <Dense name=dense_1, built=True>]"
     },
     "execution_count": 10,
     "metadata": {},
     "output_type": "execute_result"
    }
   ],
   "source": [
    "model.layers"
   ],
   "metadata": {
    "collapsed": false,
    "ExecuteTime": {
     "end_time": "2024-06-01T12:31:30.422036Z",
     "start_time": "2024-06-01T12:31:30.419620Z"
    }
   },
   "id": "36eaf9cd033d2688",
   "execution_count": 10
  },
  {
   "cell_type": "code",
   "outputs": [],
   "source": [
    "bb = 1\n",
    "\n",
    "for layer in model.layers[1:6]:\n",
    "    layer.name = f\"Block {bb}\"\n",
    "    bb += 1\n",
    "model.layers[0].name = \"Input\"\n",
    "model.layers[4].name = \"Flatten\"\n",
    "model.layers[-1].name = \"Output\"\n",
    "\n",
    "\n",
    "for layer in model.layers[1:4]:   \n",
    "    ii = 1\n",
    "    for ll in layer.layers:\n",
    "        ll.name = f\"Layer {ii}\"\n",
    "        ii += 1\n",
    "        \n",
    "ii = 1\n",
    "for ll in model.layers[5].layers:\n",
    "    ll.name = f\"Layer {ii}\"\n",
    "    ii += 1\n",
    "\n",
    "model.layers[-1] = f\"Layer {ii}\""
   ],
   "metadata": {
    "collapsed": false,
    "ExecuteTime": {
     "end_time": "2024-06-01T12:40:43.129077Z",
     "start_time": "2024-06-01T12:40:43.122703Z"
    }
   },
   "id": "d6e8d9e446592d34",
   "execution_count": 21
  },
  {
   "cell_type": "code",
   "outputs": [],
   "source": [
    "from tensorflow.python.keras.utils import vis_utils"
   ],
   "metadata": {
    "collapsed": false,
    "ExecuteTime": {
     "end_time": "2024-06-01T12:40:43.490340Z",
     "start_time": "2024-06-01T12:40:43.488201Z"
    }
   },
   "id": "fc366b7c8c1218e",
   "execution_count": 22
  },
  {
   "cell_type": "code",
   "outputs": [
    {
     "ename": "TypeError",
     "evalue": "<lambda>() missing 1 required positional argument: 'x'",
     "output_type": "error",
     "traceback": [
      "\u001B[0;31m---------------------------------------------------------------------------\u001B[0m",
      "\u001B[0;31mTypeError\u001B[0m                                 Traceback (most recent call last)",
      "Cell \u001B[0;32mIn[38], line 23\u001B[0m\n\u001B[1;32m     20\u001B[0m     out_str \u001B[38;5;241m=\u001B[39m out_str\u001B[38;5;241m.\u001B[39mreplace(\u001B[38;5;124m\"\u001B[39m\u001B[38;5;124m#\u001B[39m\u001B[38;5;124m\"\u001B[39m, \u001B[38;5;124m\"\u001B[39m\u001B[38;5;124m\\\u001B[39m\u001B[38;5;124m#\u001B[39m\u001B[38;5;124m\"\u001B[39m)\n\u001B[1;32m     21\u001B[0m     \u001B[38;5;28mprint\u001B[39m(out_str)\n\u001B[0;32m---> 23\u001B[0m \u001B[43mm2tex\u001B[49m\u001B[43m(\u001B[49m\u001B[43m)\u001B[49m\n",
      "Cell \u001B[0;32mIn[38], line 3\u001B[0m, in \u001B[0;36mm2tex\u001B[0;34m()\u001B[0m\n\u001B[1;32m      1\u001B[0m \u001B[38;5;28;01mdef\u001B[39;00m \u001B[38;5;21mm2tex\u001B[39m():\n\u001B[1;32m      2\u001B[0m     stringlist \u001B[38;5;241m=\u001B[39m []\n\u001B[0;32m----> 3\u001B[0m     model\u001B[38;5;241m.\u001B[39msummary(line_length\u001B[38;5;241m=\u001B[39m\u001B[38;5;241m85\u001B[39m, print_fn\u001B[38;5;241m=\u001B[39m\u001B[43m(\u001B[49m\u001B[38;5;28;43;01mlambda\u001B[39;49;00m\u001B[43m \u001B[49m\u001B[43mx\u001B[49m\u001B[43m:\u001B[49m\u001B[43m \u001B[49m\u001B[43mstringlist\u001B[49m\u001B[38;5;241;43m.\u001B[39;49m\u001B[43mappend\u001B[49m\u001B[43m(\u001B[49m\u001B[43mx\u001B[49m\u001B[43m)\u001B[49m\u001B[43m)\u001B[49m\u001B[43m(\u001B[49m\u001B[43m)\u001B[49m)\n\u001B[1;32m      4\u001B[0m     \u001B[38;5;28;01mdel\u001B[39;00m stringlist[\u001B[38;5;241m1\u001B[39m:\u001B[38;5;241m-\u001B[39m\u001B[38;5;241m4\u001B[39m:\u001B[38;5;241m2\u001B[39m]\n\u001B[1;32m      5\u001B[0m     \u001B[38;5;28;01mdel\u001B[39;00m stringlist[\u001B[38;5;241m-\u001B[39m\u001B[38;5;241m1\u001B[39m]\n",
      "\u001B[0;31mTypeError\u001B[0m: <lambda>() missing 1 required positional argument: 'x'"
     ]
    }
   ],
   "source": [
    "def m2tex():\n",
    "    stringlist = []\n",
    "    model.summary(line_length=85, print_fn=(lambda x: stringlist.append(x))())\n",
    "    del stringlist[1:-4:2]\n",
    "    del stringlist[-1]\n",
    "    for ix in range(1,len(stringlist)-3):\n",
    "        tmp = stringlist[ix]\n",
    "        stringlist[ix] = tmp[0:31]+\"& \"+tmp[31:59]+\"& \"+tmp[59:]+\"\\\\\\\\ \\hline\"\n",
    "    stringlist[0] = \"Model: test \\\\\\\\ \\hline\"\n",
    "    stringlist[1] = stringlist[1]+\" \\hline\"\n",
    "    stringlist[-4] = stringlist[-4]+\" \\hline\"\n",
    "    stringlist[-3] = stringlist[-3]+\" \\\\\\\\\"\n",
    "    stringlist[-2] = stringlist[-2]+\" \\\\\\\\\"\n",
    "    stringlist[-1] = stringlist[-1]+\" \\\\\\\\ \\hline\"\n",
    "    prefix = [\"\\\\begin{table}[]\", \"\\\\begin{tabular}{lll}\"]\n",
    "    suffix = [\"\\end{tabular}\", \"\\caption{Model summary for test.}\", \"\\label{tab:model-summary}\" , \"\\end{table}\"]\n",
    "    stringlist = prefix + stringlist + suffix \n",
    "    out_str = \" \\n\".join(stringlist)\n",
    "    out_str = out_str.replace(\"_\", \"\\_\")\n",
    "    out_str = out_str.replace(\"#\", \"\\#\")\n",
    "    print(out_str)\n",
    "\n",
    "m2tex()"
   ],
   "metadata": {
    "collapsed": false,
    "ExecuteTime": {
     "end_time": "2024-06-01T12:56:16.036744Z",
     "start_time": "2024-06-01T12:56:16.001776Z"
    }
   },
   "id": "aa269514111a5fd",
   "execution_count": 38
  },
  {
   "cell_type": "code",
   "outputs": [
    {
     "ename": "TypeError",
     "evalue": "myprint() missing 1 required positional argument: 's'",
     "output_type": "error",
     "traceback": [
      "\u001B[0;31m---------------------------------------------------------------------------\u001B[0m",
      "\u001B[0;31mTypeError\u001B[0m                                 Traceback (most recent call last)",
      "Cell \u001B[0;32mIn[32], line 5\u001B[0m\n\u001B[1;32m      2\u001B[0m     \u001B[38;5;28;01mwith\u001B[39;00m \u001B[38;5;28mopen\u001B[39m(\u001B[38;5;124m'\u001B[39m\u001B[38;5;124mabc.txt\u001B[39m\u001B[38;5;124m'\u001B[39m,\u001B[38;5;124m'\u001B[39m\u001B[38;5;124mw\u001B[39m\u001B[38;5;124m'\u001B[39m) \u001B[38;5;28;01mas\u001B[39;00m f:\n\u001B[1;32m      3\u001B[0m         \u001B[38;5;28mprint\u001B[39m(s, file\u001B[38;5;241m=\u001B[39mf)\n\u001B[0;32m----> 5\u001B[0m model\u001B[38;5;241m.\u001B[39msummary(line_length\u001B[38;5;241m=\u001B[39m\u001B[38;5;241m85\u001B[39m, expand_nested\u001B[38;5;241m=\u001B[39m\u001B[38;5;28;01mTrue\u001B[39;00m, positions\u001B[38;5;241m=\u001B[39m[\u001B[38;5;241m0.15\u001B[39m, \u001B[38;5;241m0.25\u001B[39m, \u001B[38;5;241m0.30\u001B[39m, \u001B[38;5;241m0.5\u001B[39m], print_fn\u001B[38;5;241m=\u001B[39m\u001B[43mmyprint\u001B[49m\u001B[43m(\u001B[49m\u001B[43m)\u001B[49m)\n",
      "\u001B[0;31mTypeError\u001B[0m: myprint() missing 1 required positional argument: 's'"
     ]
    }
   ],
   "source": [
    "def myprint(s):\n",
    "    with open('abc.txt','w') as f:\n",
    "        print(s, file=f)\n",
    "        \n",
    "model.summary(line_length=85, expand_nested=True, positions=[0.15, 0.25, 0.30, 0.5], print_fn=myprint())"
   ],
   "metadata": {
    "collapsed": false,
    "ExecuteTime": {
     "end_time": "2024-06-01T12:54:33.587893Z",
     "start_time": "2024-06-01T12:54:33.572479Z"
    }
   },
   "id": "4fc072ef1d4bee90",
   "execution_count": 32
  },
  {
   "cell_type": "code",
   "outputs": [
    {
     "data": {
      "text/plain": "\u001B[1mModel: \"classifier_model\"\u001B[0m\n",
      "text/html": "<pre style=\"white-space:pre;overflow-x:auto;line-height:normal;font-family:Menlo,'DejaVu Sans Mono',consolas,'Courier New',monospace\"><span style=\"font-weight: bold\">Model: \"classifier_model\"</span>\n</pre>\n"
     },
     "metadata": {},
     "output_type": "display_data"
    },
    {
     "data": {
      "text/plain": "┏━━━━━━━━━━━━━━━━━━━━━━━━━━━━━━━━━━━━━┳━━━━━━━━━━━━━━━━━━━━━━━━━━━━━┳━━━━━━━━━━━━━━━┓\n┃\u001B[1m \u001B[0m\u001B[1mLayer (type)                       \u001B[0m\u001B[1m \u001B[0m┃\u001B[1m \u001B[0m\u001B[1mOutput Shape               \u001B[0m\u001B[1m \u001B[0m┃\u001B[1m \u001B[0m\u001B[1m      Param #\u001B[0m\u001B[1m \u001B[0m┃\n┡━━━━━━━━━━━━━━━━━━━━━━━━━━━━━━━━━━━━━╇━━━━━━━━━━━━━━━━━━━━━━━━━━━━━╇━━━━━━━━━━━━━━━┩\n│ Input (\u001B[38;5;33mInputLayer\u001B[0m)                  │ (\u001B[38;5;45mNone\u001B[0m, \u001B[38;5;34m64\u001B[0m, \u001B[38;5;34m64\u001B[0m, \u001B[38;5;34m3\u001B[0m)           │             \u001B[38;5;34m0\u001B[0m │\n├─────────────────────────────────────┼─────────────────────────────┼───────────────┤\n│ Block 1 (\u001B[38;5;33mConvBlock\u001B[0m)                 │ (\u001B[38;5;45mNone\u001B[0m, \u001B[38;5;34m32\u001B[0m, \u001B[38;5;34m32\u001B[0m, \u001B[38;5;34m16\u001B[0m)          │           \u001B[38;5;34m512\u001B[0m │\n├─────────────────────────────────────┼─────────────────────────────┼───────────────┤\n│    └ Layer 1 (\u001B[38;5;33mConv2D\u001B[0m)               │ ?                           │           \u001B[38;5;34m448\u001B[0m │\n├─────────────────────────────────────┼─────────────────────────────┼───────────────┤\n│    └ Layer 2 (\u001B[38;5;33mBatchNormalization\u001B[0m)   │ ?                           │            \u001B[38;5;34m64\u001B[0m │\n├─────────────────────────────────────┼─────────────────────────────┼───────────────┤\n│    └ Layer 3 (\u001B[38;5;33mReLU\u001B[0m)                 │ ?                           │             \u001B[38;5;34m0\u001B[0m │\n├─────────────────────────────────────┼─────────────────────────────┼───────────────┤\n│    └ Layer 4 (\u001B[38;5;33mDropout\u001B[0m)              │ ?                           │             \u001B[38;5;34m0\u001B[0m │\n├─────────────────────────────────────┼─────────────────────────────┼───────────────┤\n│ Block 2 (\u001B[38;5;33mConvBlock\u001B[0m)                 │ (\u001B[38;5;45mNone\u001B[0m, \u001B[38;5;34m16\u001B[0m, \u001B[38;5;34m16\u001B[0m, \u001B[38;5;34m32\u001B[0m)          │         \u001B[38;5;34m4,768\u001B[0m │\n├─────────────────────────────────────┼─────────────────────────────┼───────────────┤\n│    └ Layer 1 (\u001B[38;5;33mConv2D\u001B[0m)               │ ?                           │         \u001B[38;5;34m4,640\u001B[0m │\n├─────────────────────────────────────┼─────────────────────────────┼───────────────┤\n│    └ Layer 2 (\u001B[38;5;33mBatchNormalization\u001B[0m)   │ ?                           │           \u001B[38;5;34m128\u001B[0m │\n├─────────────────────────────────────┼─────────────────────────────┼───────────────┤\n│    └ Layer 3 (\u001B[38;5;33mReLU\u001B[0m)                 │ ?                           │             \u001B[38;5;34m0\u001B[0m │\n├─────────────────────────────────────┼─────────────────────────────┼───────────────┤\n│    └ Layer 4 (\u001B[38;5;33mDropout\u001B[0m)              │ ?                           │             \u001B[38;5;34m0\u001B[0m │\n├─────────────────────────────────────┼─────────────────────────────┼───────────────┤\n│ Block 3 (\u001B[38;5;33mConvBlock\u001B[0m)                 │ (\u001B[38;5;45mNone\u001B[0m, \u001B[38;5;34m8\u001B[0m, \u001B[38;5;34m8\u001B[0m, \u001B[38;5;34m64\u001B[0m)            │        \u001B[38;5;34m18,752\u001B[0m │\n├─────────────────────────────────────┼─────────────────────────────┼───────────────┤\n│    └ Layer 1 (\u001B[38;5;33mConv2D\u001B[0m)               │ ?                           │        \u001B[38;5;34m18,496\u001B[0m │\n├─────────────────────────────────────┼─────────────────────────────┼───────────────┤\n│    └ Layer 2 (\u001B[38;5;33mBatchNormalization\u001B[0m)   │ ?                           │           \u001B[38;5;34m256\u001B[0m │\n├─────────────────────────────────────┼─────────────────────────────┼───────────────┤\n│    └ Layer 3 (\u001B[38;5;33mReLU\u001B[0m)                 │ ?                           │             \u001B[38;5;34m0\u001B[0m │\n├─────────────────────────────────────┼─────────────────────────────┼───────────────┤\n│    └ Layer 4 (\u001B[38;5;33mDropout\u001B[0m)              │ ?                           │             \u001B[38;5;34m0\u001B[0m │\n├─────────────────────────────────────┼─────────────────────────────┼───────────────┤\n│ Flatten (\u001B[38;5;33mFlatten\u001B[0m)                   │ (\u001B[38;5;45mNone\u001B[0m, \u001B[38;5;34m4096\u001B[0m)                │             \u001B[38;5;34m0\u001B[0m │\n├─────────────────────────────────────┼─────────────────────────────┼───────────────┤\n│ Block 5 (\u001B[38;5;33mDenseBlock\u001B[0m)                │ (\u001B[38;5;45mNone\u001B[0m, \u001B[38;5;34m32\u001B[0m)                  │       \u001B[38;5;34m131,232\u001B[0m │\n├─────────────────────────────────────┼─────────────────────────────┼───────────────┤\n│    └ Layer 1 (\u001B[38;5;33mDense\u001B[0m)                │ ?                           │       \u001B[38;5;34m131,104\u001B[0m │\n├─────────────────────────────────────┼─────────────────────────────┼───────────────┤\n│    └ Layer 2 (\u001B[38;5;33mBatchNormalization\u001B[0m)   │ ?                           │           \u001B[38;5;34m128\u001B[0m │\n├─────────────────────────────────────┼─────────────────────────────┼───────────────┤\n│    └ Layer 3 (\u001B[38;5;33mReLU\u001B[0m)                 │ ?                           │             \u001B[38;5;34m0\u001B[0m │\n├─────────────────────────────────────┼─────────────────────────────┼───────────────┤\n│    └ Layer 4 (\u001B[38;5;33mDropout\u001B[0m)              │ ?                           │             \u001B[38;5;34m0\u001B[0m │\n├─────────────────────────────────────┼─────────────────────────────┼───────────────┤\n│ Output (\u001B[38;5;33mDense\u001B[0m)                      │ (\u001B[38;5;45mNone\u001B[0m, \u001B[38;5;34m10\u001B[0m)                  │           \u001B[38;5;34m330\u001B[0m │\n└─────────────────────────────────────┴─────────────────────────────┴───────────────┘\n",
      "text/html": "<pre style=\"white-space:pre;overflow-x:auto;line-height:normal;font-family:Menlo,'DejaVu Sans Mono',consolas,'Courier New',monospace\">┏━━━━━━━━━━━━━━━━━━━━━━━━━━━━━━━━━━━━━┳━━━━━━━━━━━━━━━━━━━━━━━━━━━━━┳━━━━━━━━━━━━━━━┓\n┃<span style=\"font-weight: bold\"> Layer (type)                        </span>┃<span style=\"font-weight: bold\"> Output Shape                </span>┃<span style=\"font-weight: bold\">       Param # </span>┃\n┡━━━━━━━━━━━━━━━━━━━━━━━━━━━━━━━━━━━━━╇━━━━━━━━━━━━━━━━━━━━━━━━━━━━━╇━━━━━━━━━━━━━━━┩\n│ Input (<span style=\"color: #0087ff; text-decoration-color: #0087ff\">InputLayer</span>)                  │ (<span style=\"color: #00d7ff; text-decoration-color: #00d7ff\">None</span>, <span style=\"color: #00af00; text-decoration-color: #00af00\">64</span>, <span style=\"color: #00af00; text-decoration-color: #00af00\">64</span>, <span style=\"color: #00af00; text-decoration-color: #00af00\">3</span>)           │             <span style=\"color: #00af00; text-decoration-color: #00af00\">0</span> │\n├─────────────────────────────────────┼─────────────────────────────┼───────────────┤\n│ Block 1 (<span style=\"color: #0087ff; text-decoration-color: #0087ff\">ConvBlock</span>)                 │ (<span style=\"color: #00d7ff; text-decoration-color: #00d7ff\">None</span>, <span style=\"color: #00af00; text-decoration-color: #00af00\">32</span>, <span style=\"color: #00af00; text-decoration-color: #00af00\">32</span>, <span style=\"color: #00af00; text-decoration-color: #00af00\">16</span>)          │           <span style=\"color: #00af00; text-decoration-color: #00af00\">512</span> │\n├─────────────────────────────────────┼─────────────────────────────┼───────────────┤\n│    └ Layer 1 (<span style=\"color: #0087ff; text-decoration-color: #0087ff\">Conv2D</span>)               │ ?                           │           <span style=\"color: #00af00; text-decoration-color: #00af00\">448</span> │\n├─────────────────────────────────────┼─────────────────────────────┼───────────────┤\n│    └ Layer 2 (<span style=\"color: #0087ff; text-decoration-color: #0087ff\">BatchNormalization</span>)   │ ?                           │            <span style=\"color: #00af00; text-decoration-color: #00af00\">64</span> │\n├─────────────────────────────────────┼─────────────────────────────┼───────────────┤\n│    └ Layer 3 (<span style=\"color: #0087ff; text-decoration-color: #0087ff\">ReLU</span>)                 │ ?                           │             <span style=\"color: #00af00; text-decoration-color: #00af00\">0</span> │\n├─────────────────────────────────────┼─────────────────────────────┼───────────────┤\n│    └ Layer 4 (<span style=\"color: #0087ff; text-decoration-color: #0087ff\">Dropout</span>)              │ ?                           │             <span style=\"color: #00af00; text-decoration-color: #00af00\">0</span> │\n├─────────────────────────────────────┼─────────────────────────────┼───────────────┤\n│ Block 2 (<span style=\"color: #0087ff; text-decoration-color: #0087ff\">ConvBlock</span>)                 │ (<span style=\"color: #00d7ff; text-decoration-color: #00d7ff\">None</span>, <span style=\"color: #00af00; text-decoration-color: #00af00\">16</span>, <span style=\"color: #00af00; text-decoration-color: #00af00\">16</span>, <span style=\"color: #00af00; text-decoration-color: #00af00\">32</span>)          │         <span style=\"color: #00af00; text-decoration-color: #00af00\">4,768</span> │\n├─────────────────────────────────────┼─────────────────────────────┼───────────────┤\n│    └ Layer 1 (<span style=\"color: #0087ff; text-decoration-color: #0087ff\">Conv2D</span>)               │ ?                           │         <span style=\"color: #00af00; text-decoration-color: #00af00\">4,640</span> │\n├─────────────────────────────────────┼─────────────────────────────┼───────────────┤\n│    └ Layer 2 (<span style=\"color: #0087ff; text-decoration-color: #0087ff\">BatchNormalization</span>)   │ ?                           │           <span style=\"color: #00af00; text-decoration-color: #00af00\">128</span> │\n├─────────────────────────────────────┼─────────────────────────────┼───────────────┤\n│    └ Layer 3 (<span style=\"color: #0087ff; text-decoration-color: #0087ff\">ReLU</span>)                 │ ?                           │             <span style=\"color: #00af00; text-decoration-color: #00af00\">0</span> │\n├─────────────────────────────────────┼─────────────────────────────┼───────────────┤\n│    └ Layer 4 (<span style=\"color: #0087ff; text-decoration-color: #0087ff\">Dropout</span>)              │ ?                           │             <span style=\"color: #00af00; text-decoration-color: #00af00\">0</span> │\n├─────────────────────────────────────┼─────────────────────────────┼───────────────┤\n│ Block 3 (<span style=\"color: #0087ff; text-decoration-color: #0087ff\">ConvBlock</span>)                 │ (<span style=\"color: #00d7ff; text-decoration-color: #00d7ff\">None</span>, <span style=\"color: #00af00; text-decoration-color: #00af00\">8</span>, <span style=\"color: #00af00; text-decoration-color: #00af00\">8</span>, <span style=\"color: #00af00; text-decoration-color: #00af00\">64</span>)            │        <span style=\"color: #00af00; text-decoration-color: #00af00\">18,752</span> │\n├─────────────────────────────────────┼─────────────────────────────┼───────────────┤\n│    └ Layer 1 (<span style=\"color: #0087ff; text-decoration-color: #0087ff\">Conv2D</span>)               │ ?                           │        <span style=\"color: #00af00; text-decoration-color: #00af00\">18,496</span> │\n├─────────────────────────────────────┼─────────────────────────────┼───────────────┤\n│    └ Layer 2 (<span style=\"color: #0087ff; text-decoration-color: #0087ff\">BatchNormalization</span>)   │ ?                           │           <span style=\"color: #00af00; text-decoration-color: #00af00\">256</span> │\n├─────────────────────────────────────┼─────────────────────────────┼───────────────┤\n│    └ Layer 3 (<span style=\"color: #0087ff; text-decoration-color: #0087ff\">ReLU</span>)                 │ ?                           │             <span style=\"color: #00af00; text-decoration-color: #00af00\">0</span> │\n├─────────────────────────────────────┼─────────────────────────────┼───────────────┤\n│    └ Layer 4 (<span style=\"color: #0087ff; text-decoration-color: #0087ff\">Dropout</span>)              │ ?                           │             <span style=\"color: #00af00; text-decoration-color: #00af00\">0</span> │\n├─────────────────────────────────────┼─────────────────────────────┼───────────────┤\n│ Flatten (<span style=\"color: #0087ff; text-decoration-color: #0087ff\">Flatten</span>)                   │ (<span style=\"color: #00d7ff; text-decoration-color: #00d7ff\">None</span>, <span style=\"color: #00af00; text-decoration-color: #00af00\">4096</span>)                │             <span style=\"color: #00af00; text-decoration-color: #00af00\">0</span> │\n├─────────────────────────────────────┼─────────────────────────────┼───────────────┤\n│ Block 5 (<span style=\"color: #0087ff; text-decoration-color: #0087ff\">DenseBlock</span>)                │ (<span style=\"color: #00d7ff; text-decoration-color: #00d7ff\">None</span>, <span style=\"color: #00af00; text-decoration-color: #00af00\">32</span>)                  │       <span style=\"color: #00af00; text-decoration-color: #00af00\">131,232</span> │\n├─────────────────────────────────────┼─────────────────────────────┼───────────────┤\n│    └ Layer 1 (<span style=\"color: #0087ff; text-decoration-color: #0087ff\">Dense</span>)                │ ?                           │       <span style=\"color: #00af00; text-decoration-color: #00af00\">131,104</span> │\n├─────────────────────────────────────┼─────────────────────────────┼───────────────┤\n│    └ Layer 2 (<span style=\"color: #0087ff; text-decoration-color: #0087ff\">BatchNormalization</span>)   │ ?                           │           <span style=\"color: #00af00; text-decoration-color: #00af00\">128</span> │\n├─────────────────────────────────────┼─────────────────────────────┼───────────────┤\n│    └ Layer 3 (<span style=\"color: #0087ff; text-decoration-color: #0087ff\">ReLU</span>)                 │ ?                           │             <span style=\"color: #00af00; text-decoration-color: #00af00\">0</span> │\n├─────────────────────────────────────┼─────────────────────────────┼───────────────┤\n│    └ Layer 4 (<span style=\"color: #0087ff; text-decoration-color: #0087ff\">Dropout</span>)              │ ?                           │             <span style=\"color: #00af00; text-decoration-color: #00af00\">0</span> │\n├─────────────────────────────────────┼─────────────────────────────┼───────────────┤\n│ Output (<span style=\"color: #0087ff; text-decoration-color: #0087ff\">Dense</span>)                      │ (<span style=\"color: #00d7ff; text-decoration-color: #00d7ff\">None</span>, <span style=\"color: #00af00; text-decoration-color: #00af00\">10</span>)                  │           <span style=\"color: #00af00; text-decoration-color: #00af00\">330</span> │\n└─────────────────────────────────────┴─────────────────────────────┴───────────────┘\n</pre>\n"
     },
     "metadata": {},
     "output_type": "display_data"
    },
    {
     "data": {
      "text/plain": "\u001B[1m Total params: \u001B[0m\u001B[38;5;34m155,594\u001B[0m (607.79 KB)\n",
      "text/html": "<pre style=\"white-space:pre;overflow-x:auto;line-height:normal;font-family:Menlo,'DejaVu Sans Mono',consolas,'Courier New',monospace\"><span style=\"font-weight: bold\"> Total params: </span><span style=\"color: #00af00; text-decoration-color: #00af00\">155,594</span> (607.79 KB)\n</pre>\n"
     },
     "metadata": {},
     "output_type": "display_data"
    },
    {
     "data": {
      "text/plain": "\u001B[1m Trainable params: \u001B[0m\u001B[38;5;34m155,306\u001B[0m (606.66 KB)\n",
      "text/html": "<pre style=\"white-space:pre;overflow-x:auto;line-height:normal;font-family:Menlo,'DejaVu Sans Mono',consolas,'Courier New',monospace\"><span style=\"font-weight: bold\"> Trainable params: </span><span style=\"color: #00af00; text-decoration-color: #00af00\">155,306</span> (606.66 KB)\n</pre>\n"
     },
     "metadata": {},
     "output_type": "display_data"
    },
    {
     "data": {
      "text/plain": "\u001B[1m Non-trainable params: \u001B[0m\u001B[38;5;34m288\u001B[0m (1.12 KB)\n",
      "text/html": "<pre style=\"white-space:pre;overflow-x:auto;line-height:normal;font-family:Menlo,'DejaVu Sans Mono',consolas,'Courier New',monospace\"><span style=\"font-weight: bold\"> Non-trainable params: </span><span style=\"color: #00af00; text-decoration-color: #00af00\">288</span> (1.12 KB)\n</pre>\n"
     },
     "metadata": {},
     "output_type": "display_data"
    }
   ],
   "source": [
    "from contextlib import redirect_stdout\n",
    "\n",
    "with open('modelsummary.txt', 'w') as f:\n",
    "    with redirect_stdout(f):\n",
    "        model.summary(line_length=85, expand_nested=True, positions=[0.15, 0.25, 0.30, 0.5])"
   ],
   "metadata": {
    "collapsed": false,
    "ExecuteTime": {
     "end_time": "2024-06-01T12:42:42.617961Z",
     "start_time": "2024-06-01T12:42:42.602483Z"
    }
   },
   "id": "6ad8c091004b3e7c",
   "execution_count": 30
  },
  {
   "cell_type": "code",
   "outputs": [],
   "source": [
    "Non-trainable params: 288a"
   ],
   "metadata": {
    "collapsed": false
   },
   "id": "bc787b124cf43733"
  }
 ],
 "metadata": {
  "kernelspec": {
   "display_name": "Python 3",
   "language": "python",
   "name": "python3"
  },
  "language_info": {
   "codemirror_mode": {
    "name": "ipython",
    "version": 2
   },
   "file_extension": ".py",
   "mimetype": "text/x-python",
   "name": "python",
   "nbconvert_exporter": "python",
   "pygments_lexer": "ipython2",
   "version": "2.7.6"
  }
 },
 "nbformat": 4,
 "nbformat_minor": 5
}
