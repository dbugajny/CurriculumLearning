{
 "cells": [
  {
   "cell_type": "code",
   "execution_count": 1,
   "id": "initial_id",
   "metadata": {
    "collapsed": true,
    "ExecuteTime": {
     "end_time": "2024-02-18T10:20:36.806804Z",
     "start_time": "2024-02-18T10:20:34.657433Z"
    }
   },
   "outputs": [],
   "source": [
    "import numpy as np\n",
    "import tensorflow as tf\n",
    "import matplotlib.pyplot as plt\n",
    "from curriculum_learning.models.classifier_model import ClassifierModel\n",
    "from curriculum_learning.utils import losses_ordering, loading_data\n",
    "import yaml"
   ]
  },
  {
   "cell_type": "code",
   "execution_count": 2,
   "outputs": [],
   "source": [
    "with open(\"models_hyperparameters.yaml\", \"r\") as stream:\n",
    "    models_hyperparameters = yaml.safe_load(stream)\n",
    "    \n",
    "x, y = loading_data.load_data(\"../data/cifar-10-batches-py/data_batch_1\")"
   ],
   "metadata": {
    "collapsed": false,
    "ExecuteTime": {
     "end_time": "2024-02-18T10:20:36.839585Z",
     "start_time": "2024-02-18T10:20:36.808172Z"
    }
   },
   "id": "8424e92d91deb0ac"
  },
  {
   "cell_type": "code",
   "execution_count": 3,
   "outputs": [],
   "source": [
    "test_model_1 = models_hyperparameters[\"assessment_model\"]\n",
    "model = ClassifierModel(output_shape=10, **test_model_1)"
   ],
   "metadata": {
    "collapsed": false,
    "ExecuteTime": {
     "end_time": "2024-02-18T10:20:36.861759Z",
     "start_time": "2024-02-18T10:20:36.840285Z"
    }
   },
   "id": "fa5d2fc2b1a39c49"
  },
  {
   "cell_type": "code",
   "execution_count": 4,
   "outputs": [],
   "source": [
    "model.compile(optimizer='adam',\n",
    "              loss=tf.keras.losses.SparseCategoricalCrossentropy(),\n",
    "              metrics=['accuracy'])"
   ],
   "metadata": {
    "collapsed": false,
    "ExecuteTime": {
     "end_time": "2024-02-18T10:20:36.919985Z",
     "start_time": "2024-02-18T10:20:36.865564Z"
    }
   },
   "id": "fbfacb553942ee5b"
  },
  {
   "cell_type": "code",
   "execution_count": 5,
   "outputs": [
    {
     "name": "stdout",
     "output_type": "stream",
     "text": [
      "Epoch 1/3\n",
      "313/313 [==============================] - 3s 7ms/step - loss: 2.2408 - accuracy: 0.1975\n",
      "Epoch 2/3\n",
      "313/313 [==============================] - 2s 7ms/step - loss: 1.8738 - accuracy: 0.3066\n",
      "Epoch 3/3\n",
      "313/313 [==============================] - 2s 7ms/step - loss: 1.7498 - accuracy: 0.3447\n"
     ]
    },
    {
     "data": {
      "text/plain": "<keras.src.callbacks.History at 0x14fdd6aa0>"
     },
     "execution_count": 5,
     "metadata": {},
     "output_type": "execute_result"
    }
   ],
   "source": [
    "model.fit(x, y, epochs=3)"
   ],
   "metadata": {
    "collapsed": false,
    "ExecuteTime": {
     "end_time": "2024-02-18T10:20:43.880824Z",
     "start_time": "2024-02-18T10:20:36.921719Z"
    }
   },
   "id": "ece3a532f1e9ef80"
  },
  {
   "cell_type": "code",
   "execution_count": 6,
   "outputs": [],
   "source": [
    "loss = tf.keras.losses.SparseCategoricalCrossentropy()"
   ],
   "metadata": {
    "collapsed": false,
    "ExecuteTime": {
     "end_time": "2024-02-18T10:20:43.892363Z",
     "start_time": "2024-02-18T10:20:43.879617Z"
    }
   },
   "id": "69f959643c21242e"
  },
  {
   "cell_type": "code",
   "execution_count": 7,
   "outputs": [
    {
     "name": "stdout",
     "output_type": "stream",
     "text": [
      "313/313 [==============================] - 1s 2ms/step\n"
     ]
    }
   ],
   "source": [
    "pred = model.predict(x)"
   ],
   "metadata": {
    "collapsed": false,
    "ExecuteTime": {
     "end_time": "2024-02-18T10:20:44.586370Z",
     "start_time": "2024-02-18T10:20:43.882467Z"
    }
   },
   "id": "f5bb3df1aea693fa"
  },
  {
   "cell_type": "code",
   "execution_count": 8,
   "outputs": [],
   "source": [
    "losses = losses_ordering.calculate_loss_per_sample(y, pred, loss)"
   ],
   "metadata": {
    "collapsed": false,
    "ExecuteTime": {
     "end_time": "2024-02-18T10:20:49.944109Z",
     "start_time": "2024-02-18T10:20:44.587916Z"
    }
   },
   "id": "8213bb40e156ffe6"
  },
  {
   "cell_type": "code",
   "execution_count": 13,
   "outputs": [
    {
     "data": {
      "text/plain": "<Figure size 640x480 with 1 Axes>",
      "image/png": "[encoded data removed]"
     },
     "metadata": {},
     "output_type": "display_data"
    }
   ],
   "source": [
    "plt.hist(losses, bins=20)\n",
    "plt.show()"
   ],
   "metadata": {
    "collapsed": false,
    "ExecuteTime": {
     "end_time": "2024-02-18T10:21:39.407731Z",
     "start_time": "2024-02-18T10:21:39.242825Z"
    }
   },
   "id": "c51762dc6d7ecbd8"
  },
  {
   "cell_type": "code",
   "execution_count": null,
   "outputs": [],
   "source": [],
   "metadata": {
    "collapsed": false
   },
   "id": "fe21ef1466862a11"
  }
 ],
 "metadata": {
  "kernelspec": {
   "display_name": "Python 3",
   "language": "python",
   "name": "python3"
  },
  "language_info": {
   "codemirror_mode": {
    "name": "ipython",
    "version": 2
   },
   "file_extension": ".py",
   "mimetype": "text/x-python",
   "name": "python",
   "nbconvert_exporter": "python",
   "pygments_lexer": "ipython2",
   "version": "2.7.6"
  }
 },
 "nbformat": 4,
 "nbformat_minor": 5
}
