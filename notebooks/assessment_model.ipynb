{
 "cells": [
  {
   "cell_type": "code",
   "execution_count": 1,
   "id": "initial_id",
   "metadata": {
    "collapsed": true,
    "ExecuteTime": {
     "end_time": "2024-02-18T11:26:24.139251Z",
     "start_time": "2024-02-18T11:26:21.677207Z"
    }
   },
   "outputs": [],
   "source": [
    "import numpy as np\n",
    "import tensorflow as tf\n",
    "from curriculum_learning.models.classifier_model import ClassifierModel\n",
    "from curriculum_learning import utils\n",
    "import yaml\n",
    "from tqdm import tqdm\n",
    "from sklearn.model_selection import train_test_split\n",
    "import matplotlib.pyplot as plt"
   ]
  },
  {
   "cell_type": "code",
   "execution_count": 2,
   "outputs": [],
   "source": [
    "N_EPOCHS = 5\n",
    "N_TRIALS = 3\n",
    "BATCH_SIZE = 64\n",
    "\n",
    "loss = tf.keras.losses.SparseCategoricalCrossentropy()"
   ],
   "metadata": {
    "collapsed": false,
    "ExecuteTime": {
     "end_time": "2024-02-18T11:26:24.143523Z",
     "start_time": "2024-02-18T11:26:24.140152Z"
    }
   },
   "id": "bab2c3f4ef4cf399"
  },
  {
   "cell_type": "code",
   "execution_count": 3,
   "outputs": [],
   "source": [
    "with open(\"models_hyperparameters.yaml\", \"r\") as stream:\n",
    "    models_hyperparameters = yaml.safe_load(stream)\n",
    "    \n",
    "x, y = utils.load_data(\"../data/cifar-10-batches-py/data_batch_1\")\n",
    "x_train, x_test, y_train, y_test = train_test_split(x, y, test_size=0.8, random_state=42)\n",
    "\n",
    "train_size = x_train.shape[0]"
   ],
   "metadata": {
    "collapsed": false,
    "ExecuteTime": {
     "end_time": "2024-02-18T11:26:24.196587Z",
     "start_time": "2024-02-18T11:26:24.144135Z"
    }
   },
   "id": "8424e92d91deb0ac"
  },
  {
   "cell_type": "code",
   "execution_count": 4,
   "outputs": [
    {
     "name": "stdout",
     "output_type": "stream",
     "text": [
      "Epoch 1/10\n",
      "32/32 [==============================] - 1s 9ms/step - loss: 2.5842 - accuracy: 0.1155\n",
      "Epoch 2/10\n",
      "32/32 [==============================] - 0s 10ms/step - loss: 2.3504 - accuracy: 0.1625\n",
      "Epoch 3/10\n",
      "32/32 [==============================] - 0s 10ms/step - loss: 2.1789 - accuracy: 0.2070\n",
      "Epoch 4/10\n",
      "32/32 [==============================] - 0s 10ms/step - loss: 2.0655 - accuracy: 0.2260\n",
      "Epoch 5/10\n",
      "32/32 [==============================] - 0s 10ms/step - loss: 2.0133 - accuracy: 0.2540\n",
      "Epoch 6/10\n",
      "32/32 [==============================] - 0s 10ms/step - loss: 1.9424 - accuracy: 0.2655\n",
      "Epoch 7/10\n",
      "32/32 [==============================] - 0s 10ms/step - loss: 1.8850 - accuracy: 0.3000\n",
      "Epoch 8/10\n",
      "32/32 [==============================] - 0s 10ms/step - loss: 1.8536 - accuracy: 0.3225\n",
      "Epoch 9/10\n",
      "32/32 [==============================] - 0s 10ms/step - loss: 1.8236 - accuracy: 0.3320\n",
      "Epoch 10/10\n",
      "32/32 [==============================] - 0s 11ms/step - loss: 1.8037 - accuracy: 0.3375\n"
     ]
    },
    {
     "data": {
      "text/plain": "<keras.src.callbacks.History at 0x16e8f1db0>"
     },
     "execution_count": 4,
     "metadata": {},
     "output_type": "execute_result"
    }
   ],
   "source": [
    "assessment_model = ClassifierModel(output_shape=10, **models_hyperparameters[\"assessment_model\"])\n",
    "\n",
    "assessment_model.compile(\n",
    "    optimizer='adam',\n",
    "    loss=tf.keras.losses.SparseCategoricalCrossentropy(),\n",
    "    metrics=['accuracy']\n",
    ")\n",
    "        \n",
    "assessment_model.fit(x_train, y_train, epochs=10, batch_size=BATCH_SIZE)"
   ],
   "metadata": {
    "collapsed": false,
    "ExecuteTime": {
     "end_time": "2024-02-18T11:26:27.888179Z",
     "start_time": "2024-02-18T11:26:24.198540Z"
    }
   },
   "id": "bdafb8a9c136f286"
  },
  {
   "cell_type": "code",
   "execution_count": 10,
   "outputs": [
    {
     "name": "stdout",
     "output_type": "stream",
     "text": [
      "63/63 [==============================] - 0s 2ms/step\n"
     ]
    }
   ],
   "source": [
    "y_pred_assessment = assessment_model.predict(x_train)\n",
    "\n",
    "losses_assessment = utils.calculate_loss_per_sample(y_train, y_pred_assessment, loss)\n",
    "order_assessment = np.argsort(losses_assessment)"
   ],
   "metadata": {
    "collapsed": false,
    "ExecuteTime": {
     "end_time": "2024-02-18T11:28:31.736790Z",
     "start_time": "2024-02-18T11:28:30.402423Z"
    }
   },
   "id": "b6b8d2b35609d828"
  },
  {
   "cell_type": "code",
   "execution_count": 13,
   "outputs": [],
   "source": [
    "results = {}\n",
    "\n",
    "test_models = [\"test_model_1\", \"test_model_2\", \"test_model_3\"]"
   ],
   "metadata": {
    "collapsed": false,
    "ExecuteTime": {
     "end_time": "2024-02-18T11:29:14.022743Z",
     "start_time": "2024-02-18T11:29:14.015630Z"
    }
   },
   "id": "fe21ef1466862a11"
  },
  {
   "cell_type": "code",
   "execution_count": 16,
   "outputs": [
    {
     "name": "stdout",
     "output_type": "stream",
     "text": [
      "test_model_1\n"
     ]
    },
    {
     "name": "stderr",
     "output_type": "stream",
     "text": [
      "100%|██████████| 3/3 [00:04<00:00,  1.58s/it]\n"
     ]
    },
    {
     "name": "stdout",
     "output_type": "stream",
     "text": [
      "test_model_2\n"
     ]
    },
    {
     "name": "stderr",
     "output_type": "stream",
     "text": [
      "100%|██████████| 3/3 [00:04<00:00,  1.51s/it]\n"
     ]
    },
    {
     "name": "stdout",
     "output_type": "stream",
     "text": [
      "test_model_3\n"
     ]
    },
    {
     "name": "stderr",
     "output_type": "stream",
     "text": [
      "100%|██████████| 3/3 [00:04<00:00,  1.63s/it]\n"
     ]
    }
   ],
   "source": [
    "for test_model in test_models:\n",
    "    print(test_model)\n",
    "    model_scores = []\n",
    "\n",
    "    for _ in tqdm(range(N_TRIALS)):\n",
    "        model = ClassifierModel(output_shape=10, **models_hyperparameters[test_model])\n",
    "        \n",
    "        model.compile(\n",
    "            optimizer='adam',\n",
    "            loss=tf.keras.losses.SparseCategoricalCrossentropy(),\n",
    "            metrics=['accuracy']\n",
    "        )\n",
    "        \n",
    "        for i in range(N_EPOCHS):\n",
    "            n_samples = int(train_size / (N_EPOCHS - i))\n",
    "            samples_ids = order_assessment[:n_samples]\n",
    "            \n",
    "            model.fit(x_train[samples_ids], y_train[samples_ids], epochs=1, batch_size=BATCH_SIZE, verbose=0)\n",
    "        \n",
    "        _, accuracy = model.evaluate(x_test, y_test, batch_size=BATCH_SIZE, verbose=0)\n",
    "        \n",
    "        model_scores.append(accuracy)\n",
    "    \n",
    "    results[test_model] = model_scores"
   ],
   "metadata": {
    "collapsed": false,
    "ExecuteTime": {
     "end_time": "2024-02-18T11:31:02.780317Z",
     "start_time": "2024-02-18T11:30:48.594407Z"
    }
   },
   "id": "ce9112b33b1ada44"
  },
  {
   "cell_type": "code",
   "execution_count": 16,
   "outputs": [],
   "source": [
    " "
   ],
   "metadata": {
    "collapsed": false,
    "ExecuteTime": {
     "end_time": "2024-02-18T11:31:02.782756Z",
     "start_time": "2024-02-18T11:31:02.779137Z"
    }
   },
   "id": "909e15d33e1ab350"
  },
  {
   "cell_type": "code",
   "execution_count": null,
   "outputs": [],
   "source": [
    " "
   ],
   "metadata": {
    "collapsed": false
   },
   "id": "9790fd22bda8078b"
  }
 ],
 "metadata": {
  "kernelspec": {
   "display_name": "Python 3",
   "language": "python",
   "name": "python3"
  },
  "language_info": {
   "codemirror_mode": {
    "name": "ipython",
    "version": 2
   },
   "file_extension": ".py",
   "mimetype": "text/x-python",
   "name": "python",
   "nbconvert_exporter": "python",
   "pygments_lexer": "ipython2",
   "version": "2.7.6"
  }
 },
 "nbformat": 4,
 "nbformat_minor": 5
}
