{
 "cells": [
  {
   "cell_type": "code",
   "execution_count": 2,
   "id": "initial_id",
   "metadata": {
    "collapsed": true,
    "ExecuteTime": {
     "end_time": "2024-02-20T16:45:22.788Z",
     "start_time": "2024-02-20T16:45:20.147412Z"
    }
   },
   "outputs": [],
   "source": [
    "import numpy as np\n",
    "import tensorflow as tf\n",
    "from curriculum_learning.models.classifier_model import ClassifierModel\n",
    "from curriculum_learning import utils\n",
    "import yaml\n",
    "from tqdm import tqdm\n",
    "from sklearn.model_selection import train_test_split\n",
    "import matplotlib.pyplot as plt"
   ]
  },
  {
   "cell_type": "code",
   "execution_count": 90,
   "outputs": [],
   "source": [
    "N_EPOCHS = 200\n",
    "N_TRIALS = 3\n",
    "BATCH_SIZE = 256\n",
    "\n",
    "loss = tf.keras.losses.SparseCategoricalCrossentropy()"
   ],
   "metadata": {
    "collapsed": false,
    "ExecuteTime": {
     "end_time": "2024-02-20T17:05:53.223683Z",
     "start_time": "2024-02-20T17:05:53.213252Z"
    }
   },
   "id": "bab2c3f4ef4cf399"
  },
  {
   "cell_type": "code",
   "execution_count": 98,
   "outputs": [],
   "source": [
    "with open(\"models_hyperparameters.yaml\", \"r\") as stream:\n",
    "    models_hyperparameters = yaml.safe_load(stream)\n",
    "    \n",
    "x, y = utils.load_data(\"../data/cifar-10-batches-py/data_batch_1\")\n",
    "x_train, x_test, y_train, y_test = train_test_split(x, y, test_size=0.3, random_state=42)\n",
    "x_test, x_val, y_test, y_val = train_test_split(x_test, y_test, test_size=0.5, random_state=42)\n",
    "\n",
    "train_size = x_train.shape[0]"
   ],
   "metadata": {
    "collapsed": false,
    "ExecuteTime": {
     "end_time": "2024-02-20T17:09:55.116063Z",
     "start_time": "2024-02-20T17:09:55.035635Z"
    }
   },
   "id": "8424e92d91deb0ac"
  },
  {
   "cell_type": "code",
   "execution_count": 99,
   "outputs": [],
   "source": [
    "x_train = np.clip(x_train + np.random.normal(0, 20, x_train.shape), 0, 255)\n",
    "x_val = np.clip(x_val + np.random.normal(0, 20, x_val.shape), 0, 255)\n",
    "x_test = np.clip(x_test + np.random.normal(0, 20, x_test.shape), 0, 255)"
   ],
   "metadata": {
    "collapsed": false,
    "ExecuteTime": {
     "end_time": "2024-02-20T17:09:58.001223Z",
     "start_time": "2024-02-20T17:09:57.309107Z"
    }
   },
   "id": "7610b74207fb2df0"
  },
  {
   "cell_type": "code",
   "execution_count": 100,
   "outputs": [
    {
     "name": "stdout",
     "output_type": "stream",
     "text": [
      "Epoch 1/60\n",
      "28/28 [==============================] - 1s 27ms/step - loss: 2.5078 - accuracy: 0.1290\n",
      "Epoch 2/60\n",
      "28/28 [==============================] - 1s 28ms/step - loss: 2.2322 - accuracy: 0.1889\n",
      "Epoch 3/60\n",
      "28/28 [==============================] - 1s 27ms/step - loss: 2.1179 - accuracy: 0.2233\n",
      "Epoch 4/60\n",
      "28/28 [==============================] - 1s 28ms/step - loss: 2.0264 - accuracy: 0.2541\n",
      "Epoch 5/60\n",
      "28/28 [==============================] - 1s 28ms/step - loss: 1.9485 - accuracy: 0.2770\n",
      "Epoch 6/60\n",
      "28/28 [==============================] - 1s 28ms/step - loss: 1.8782 - accuracy: 0.3066\n",
      "Epoch 7/60\n",
      "28/28 [==============================] - 1s 28ms/step - loss: 1.8393 - accuracy: 0.3201\n",
      "Epoch 8/60\n",
      "28/28 [==============================] - 1s 27ms/step - loss: 1.7941 - accuracy: 0.3416\n",
      "Epoch 9/60\n",
      "28/28 [==============================] - 1s 29ms/step - loss: 1.7620 - accuracy: 0.3513\n",
      "Epoch 10/60\n",
      "28/28 [==============================] - 1s 28ms/step - loss: 1.7259 - accuracy: 0.3673\n",
      "Epoch 11/60\n",
      "28/28 [==============================] - 1s 34ms/step - loss: 1.7039 - accuracy: 0.3750\n",
      "Epoch 12/60\n",
      "28/28 [==============================] - 1s 31ms/step - loss: 1.6678 - accuracy: 0.3861\n",
      "Epoch 13/60\n",
      "28/28 [==============================] - 1s 33ms/step - loss: 1.6434 - accuracy: 0.3949\n",
      "Epoch 14/60\n",
      "28/28 [==============================] - 1s 30ms/step - loss: 1.6105 - accuracy: 0.4131\n",
      "Epoch 15/60\n",
      "28/28 [==============================] - 1s 32ms/step - loss: 1.5960 - accuracy: 0.4093\n",
      "Epoch 16/60\n",
      "28/28 [==============================] - 1s 29ms/step - loss: 1.5860 - accuracy: 0.4160\n",
      "Epoch 17/60\n",
      "28/28 [==============================] - 1s 32ms/step - loss: 1.5592 - accuracy: 0.4271\n",
      "Epoch 18/60\n",
      "28/28 [==============================] - 1s 31ms/step - loss: 1.5344 - accuracy: 0.4337\n",
      "Epoch 19/60\n",
      "28/28 [==============================] - 1s 30ms/step - loss: 1.5314 - accuracy: 0.4429\n",
      "Epoch 20/60\n",
      "28/28 [==============================] - 1s 29ms/step - loss: 1.5109 - accuracy: 0.4470\n",
      "Epoch 21/60\n",
      "28/28 [==============================] - 1s 29ms/step - loss: 1.4912 - accuracy: 0.4537\n",
      "Epoch 22/60\n",
      "28/28 [==============================] - 1s 29ms/step - loss: 1.4820 - accuracy: 0.4560\n",
      "Epoch 23/60\n",
      "28/28 [==============================] - 1s 29ms/step - loss: 1.4691 - accuracy: 0.4737\n",
      "Epoch 24/60\n",
      "28/28 [==============================] - 1s 30ms/step - loss: 1.4539 - accuracy: 0.4661\n",
      "Epoch 25/60\n",
      "28/28 [==============================] - 1s 31ms/step - loss: 1.4419 - accuracy: 0.4713\n",
      "Epoch 26/60\n",
      "28/28 [==============================] - 1s 31ms/step - loss: 1.4184 - accuracy: 0.4831\n",
      "Epoch 27/60\n",
      "28/28 [==============================] - 1s 28ms/step - loss: 1.4208 - accuracy: 0.4760\n",
      "Epoch 28/60\n",
      "28/28 [==============================] - 1s 31ms/step - loss: 1.3976 - accuracy: 0.4809\n",
      "Epoch 29/60\n",
      "28/28 [==============================] - 1s 29ms/step - loss: 1.3860 - accuracy: 0.5006\n",
      "Epoch 30/60\n",
      "28/28 [==============================] - 1s 31ms/step - loss: 1.3803 - accuracy: 0.4927\n",
      "Epoch 31/60\n",
      "28/28 [==============================] - 1s 29ms/step - loss: 1.3847 - accuracy: 0.5006\n",
      "Epoch 32/60\n",
      "28/28 [==============================] - 1s 29ms/step - loss: 1.3620 - accuracy: 0.4960\n",
      "Epoch 33/60\n",
      "28/28 [==============================] - 1s 29ms/step - loss: 1.3466 - accuracy: 0.5143\n",
      "Epoch 34/60\n",
      "28/28 [==============================] - 1s 30ms/step - loss: 1.3422 - accuracy: 0.5130\n",
      "Epoch 35/60\n",
      "28/28 [==============================] - 1s 31ms/step - loss: 1.3278 - accuracy: 0.5161\n",
      "Epoch 36/60\n",
      "28/28 [==============================] - 1s 30ms/step - loss: 1.3335 - accuracy: 0.5154\n",
      "Epoch 37/60\n",
      "28/28 [==============================] - 1s 29ms/step - loss: 1.3216 - accuracy: 0.5174\n",
      "Epoch 38/60\n",
      "28/28 [==============================] - 1s 29ms/step - loss: 1.2877 - accuracy: 0.5276\n",
      "Epoch 39/60\n",
      "28/28 [==============================] - 1s 29ms/step - loss: 1.2974 - accuracy: 0.5210\n",
      "Epoch 40/60\n",
      "28/28 [==============================] - 1s 28ms/step - loss: 1.2845 - accuracy: 0.5233\n",
      "Epoch 41/60\n",
      "28/28 [==============================] - 1s 31ms/step - loss: 1.2856 - accuracy: 0.5213\n",
      "Epoch 42/60\n",
      "28/28 [==============================] - 1s 30ms/step - loss: 1.2667 - accuracy: 0.5340\n",
      "Epoch 43/60\n",
      "28/28 [==============================] - 1s 29ms/step - loss: 1.2654 - accuracy: 0.5373\n",
      "Epoch 44/60\n",
      "28/28 [==============================] - 1s 30ms/step - loss: 1.2437 - accuracy: 0.5509\n",
      "Epoch 45/60\n",
      "28/28 [==============================] - 1s 38ms/step - loss: 1.2442 - accuracy: 0.5517\n",
      "Epoch 46/60\n",
      "28/28 [==============================] - 1s 41ms/step - loss: 1.2357 - accuracy: 0.5509\n",
      "Epoch 47/60\n",
      "28/28 [==============================] - 1s 43ms/step - loss: 1.2293 - accuracy: 0.5531\n",
      "Epoch 48/60\n",
      "28/28 [==============================] - 1s 46ms/step - loss: 1.2210 - accuracy: 0.5570\n",
      "Epoch 49/60\n",
      "28/28 [==============================] - 2s 54ms/step - loss: 1.2124 - accuracy: 0.5610\n",
      "Epoch 50/60\n",
      "28/28 [==============================] - 1s 52ms/step - loss: 1.2076 - accuracy: 0.5661\n",
      "Epoch 51/60\n",
      "28/28 [==============================] - 1s 50ms/step - loss: 1.1990 - accuracy: 0.5634\n",
      "Epoch 52/60\n",
      "28/28 [==============================] - 1s 50ms/step - loss: 1.1971 - accuracy: 0.5659\n",
      "Epoch 53/60\n",
      "28/28 [==============================] - 1s 45ms/step - loss: 1.1915 - accuracy: 0.5599\n",
      "Epoch 54/60\n",
      "28/28 [==============================] - 1s 44ms/step - loss: 1.1776 - accuracy: 0.5637\n",
      "Epoch 55/60\n",
      "28/28 [==============================] - 1s 45ms/step - loss: 1.1725 - accuracy: 0.5749\n",
      "Epoch 56/60\n",
      "28/28 [==============================] - 1s 46ms/step - loss: 1.1720 - accuracy: 0.5783\n",
      "Epoch 57/60\n",
      "28/28 [==============================] - 1s 49ms/step - loss: 1.1632 - accuracy: 0.5791\n",
      "Epoch 58/60\n",
      "28/28 [==============================] - 1s 49ms/step - loss: 1.1507 - accuracy: 0.5799\n",
      "Epoch 59/60\n",
      "28/28 [==============================] - 1s 49ms/step - loss: 1.1527 - accuracy: 0.5826\n",
      "Epoch 60/60\n",
      "28/28 [==============================] - 1s 52ms/step - loss: 1.1441 - accuracy: 0.5880\n"
     ]
    },
    {
     "data": {
      "text/plain": "<keras.src.callbacks.History at 0x298d36fe0>"
     },
     "execution_count": 100,
     "metadata": {},
     "output_type": "execute_result"
    }
   ],
   "source": [
    "assessment_model = ClassifierModel(output_shape=10, **models_hyperparameters[\"assessment_model\"])\n",
    "\n",
    "assessment_model.compile(optimizer='adam', loss=loss, metrics=['accuracy'])\n",
    "        \n",
    "assessment_model.fit(x_train, y_train, epochs=60, batch_size=BATCH_SIZE)"
   ],
   "metadata": {
    "collapsed": false,
    "ExecuteTime": {
     "end_time": "2024-02-20T17:10:56.116278Z",
     "start_time": "2024-02-20T17:09:58.003033Z"
    }
   },
   "id": "bdafb8a9c136f286"
  },
  {
   "cell_type": "code",
   "execution_count": 101,
   "outputs": [],
   "source": [
    "y_pred_assessment = assessment_model.predict(x_train, verbose=0)\n",
    "\n",
    "losses_assessment = utils.calculate_loss_per_sample(y_train, y_pred_assessment, loss)\n",
    "order_assessment = np.argsort(losses_assessment)"
   ],
   "metadata": {
    "collapsed": false,
    "ExecuteTime": {
     "end_time": "2024-02-20T17:11:19.156854Z",
     "start_time": "2024-02-20T17:11:11.782890Z"
    }
   },
   "id": "b6b8d2b35609d828"
  },
  {
   "cell_type": "code",
   "execution_count": 102,
   "outputs": [],
   "source": [
    "results = {}\n",
    "\n",
    "# test_models = [\"test_model_1\", \"test_model_2\", \"test_model_3\"]\n",
    "test_models = [\"test_model_1\"]"
   ],
   "metadata": {
    "collapsed": false,
    "ExecuteTime": {
     "end_time": "2024-02-20T17:11:19.170061Z",
     "start_time": "2024-02-20T17:11:19.158150Z"
    }
   },
   "id": "fe21ef1466862a11"
  },
  {
   "cell_type": "code",
   "execution_count": 103,
   "outputs": [],
   "source": [
    "early_stopping = tf.keras.callbacks.EarlyStopping(monitor='val_loss', patience=5)"
   ],
   "metadata": {
    "collapsed": false,
    "ExecuteTime": {
     "end_time": "2024-02-20T17:11:19.172710Z",
     "start_time": "2024-02-20T17:11:19.160753Z"
    }
   },
   "id": "d38ab788eb08c9f4"
  },
  {
   "cell_type": "code",
   "execution_count": null,
   "outputs": [
    {
     "name": "stdout",
     "output_type": "stream",
     "text": [
      "test_model_1\n"
     ]
    },
    {
     "name": "stderr",
     "output_type": "stream",
     "text": [
      "  0%|          | 0/3 [00:00<?, ?it/s]"
     ]
    },
    {
     "name": "stdout",
     "output_type": "stream",
     "text": [
      "1/1 [==============================] - 1s 804ms/step - loss: 2.6745 - accuracy: 0.0725 - val_loss: 7.1897 - val_accuracy: 0.1080\n",
      "1/1 [==============================] - 0s 127ms/step - loss: 2.8048 - accuracy: 0.0935 - val_loss: 6.0349 - val_accuracy: 0.1027\n",
      "1/1 [==============================] - 0s 156ms/step - loss: 2.7069 - accuracy: 0.1100 - val_loss: 5.5748 - val_accuracy: 0.1033\n",
      "2/2 [==============================] - 0s 129ms/step - loss: 2.6138 - accuracy: 0.1219 - val_loss: 4.9660 - val_accuracy: 0.1013\n",
      "2/2 [==============================] - 0s 140ms/step - loss: 2.3431 - accuracy: 0.2092 - val_loss: 4.6304 - val_accuracy: 0.1013\n",
      "2/2 [==============================] - 0s 128ms/step - loss: 2.2930 - accuracy: 0.2196 - val_loss: 4.6083 - val_accuracy: 0.1067\n",
      "2/2 [==============================] - 0s 181ms/step - loss: 2.1187 - accuracy: 0.2638 - val_loss: 4.8047 - val_accuracy: 0.1213\n",
      "3/3 [==============================] - 0s 86ms/step - loss: 2.0091 - accuracy: 0.3262 - val_loss: 5.4506 - val_accuracy: 0.1267\n",
      "3/3 [==============================] - 0s 83ms/step - loss: 1.9118 - accuracy: 0.4045 - val_loss: 6.5377 - val_accuracy: 0.1173\n",
      "3/3 [==============================] - 0s 79ms/step - loss: 1.7196 - accuracy: 0.4892 - val_loss: 8.0511 - val_accuracy: 0.1113\n",
      "3/3 [==============================] - 0s 100ms/step - loss: 1.5826 - accuracy: 0.5366 - val_loss: 9.3964 - val_accuracy: 0.1073\n",
      "4/4 [==============================] - 0s 82ms/step - loss: 1.4888 - accuracy: 0.6060 - val_loss: 10.2621 - val_accuracy: 0.1047\n",
      "4/4 [==============================] - 0s 67ms/step - loss: 1.4030 - accuracy: 0.6095 - val_loss: 10.0968 - val_accuracy: 0.1033\n",
      "4/4 [==============================] - 0s 66ms/step - loss: 1.3265 - accuracy: 0.6393 - val_loss: 8.8400 - val_accuracy: 0.1040\n",
      "5/5 [==============================] - 0s 82ms/step - loss: 1.2005 - accuracy: 0.6536 - val_loss: 7.4347 - val_accuracy: 0.1027\n",
      "5/5 [==============================] - 0s 62ms/step - loss: 1.1449 - accuracy: 0.6577 - val_loss: 6.6430 - val_accuracy: 0.1080\n",
      "5/5 [==============================] - 0s 62ms/step - loss: 1.0695 - accuracy: 0.6749 - val_loss: 5.3967 - val_accuracy: 0.1193\n",
      "5/5 [==============================] - 0s 83ms/step - loss: 1.0004 - accuracy: 0.6910 - val_loss: 3.9871 - val_accuracy: 0.1307\n",
      "6/6 [==============================] - 0s 59ms/step - loss: 1.0018 - accuracy: 0.6956 - val_loss: 3.2785 - val_accuracy: 0.1453\n",
      "6/6 [==============================] - 0s 60ms/step - loss: 0.9425 - accuracy: 0.6959 - val_loss: 2.9822 - val_accuracy: 0.1667\n",
      "6/6 [==============================] - 0s 68ms/step - loss: 0.8798 - accuracy: 0.7162 - val_loss: 2.6907 - val_accuracy: 0.2120\n",
      "6/6 [==============================] - 0s 63ms/step - loss: 0.8852 - accuracy: 0.7155 - val_loss: 2.4321 - val_accuracy: 0.2660\n",
      "7/7 [==============================] - 0s 69ms/step - loss: 0.8062 - accuracy: 0.7421 - val_loss: 2.3407 - val_accuracy: 0.2780\n",
      "7/7 [==============================] - 1s 78ms/step - loss: 0.8140 - accuracy: 0.7555 - val_loss: 2.4545 - val_accuracy: 0.2707\n",
      "7/7 [==============================] - 0s 64ms/step - loss: 0.7925 - accuracy: 0.7509 - val_loss: 2.3875 - val_accuracy: 0.2853\n",
      "7/7 [==============================] - 0s 67ms/step - loss: 0.7887 - accuracy: 0.7562 - val_loss: 2.4471 - val_accuracy: 0.2847\n",
      "8/8 [==============================] - 0s 48ms/step - loss: 0.7574 - accuracy: 0.7626 - val_loss: 2.5564 - val_accuracy: 0.2953\n",
      "8/8 [==============================] - 0s 59ms/step - loss: 0.7303 - accuracy: 0.7743 - val_loss: 2.5174 - val_accuracy: 0.3033\n",
      "8/8 [==============================] - 0s 54ms/step - loss: 0.7330 - accuracy: 0.7609 - val_loss: 2.4745 - val_accuracy: 0.3147\n",
      "8/8 [==============================] - 1s 71ms/step - loss: 0.7218 - accuracy: 0.7612 - val_loss: 2.5082 - val_accuracy: 0.3227\n",
      "9/9 [==============================] - 0s 51ms/step - loss: 0.7162 - accuracy: 0.7727 - val_loss: 2.5424 - val_accuracy: 0.3307\n",
      "9/9 [==============================] - 1s 71ms/step - loss: 0.7055 - accuracy: 0.7807 - val_loss: 2.5466 - val_accuracy: 0.3407\n",
      "9/9 [==============================] - 1s 60ms/step - loss: 0.7152 - accuracy: 0.7707 - val_loss: 2.6107 - val_accuracy: 0.3333\n",
      "9/9 [==============================] - 1s 62ms/step - loss: 0.7282 - accuracy: 0.7709 - val_loss: 2.5160 - val_accuracy: 0.3433\n",
      "10/10 [==============================] - 1s 54ms/step - loss: 0.7253 - accuracy: 0.7655 - val_loss: 2.5682 - val_accuracy: 0.3367\n",
      "10/10 [==============================] - 1s 59ms/step - loss: 0.7160 - accuracy: 0.7678 - val_loss: 2.6474 - val_accuracy: 0.3340\n",
      "10/10 [==============================] - 1s 55ms/step - loss: 0.7196 - accuracy: 0.7638 - val_loss: 2.6002 - val_accuracy: 0.3407\n",
      "10/10 [==============================] - 1s 72ms/step - loss: 0.7207 - accuracy: 0.7667 - val_loss: 2.5449 - val_accuracy: 0.3480\n",
      "11/11 [==============================] - 1s 51ms/step - loss: 0.7328 - accuracy: 0.7603 - val_loss: 2.6931 - val_accuracy: 0.3307\n",
      "11/11 [==============================] - 1s 57ms/step - loss: 0.7363 - accuracy: 0.7593 - val_loss: 2.4850 - val_accuracy: 0.3660\n",
      "11/11 [==============================] - 1s 48ms/step - loss: 0.7406 - accuracy: 0.7609 - val_loss: 2.6227 - val_accuracy: 0.3440\n",
      "11/11 [==============================] - 1s 58ms/step - loss: 0.7688 - accuracy: 0.7621 - val_loss: 2.5462 - val_accuracy: 0.3613\n",
      "12/12 [==============================] - 1s 47ms/step - loss: 0.7690 - accuracy: 0.7540 - val_loss: 2.7370 - val_accuracy: 0.3327\n",
      "12/12 [==============================] - 1s 55ms/step - loss: 0.7872 - accuracy: 0.7489 - val_loss: 2.4695 - val_accuracy: 0.3687\n",
      "12/12 [==============================] - 1s 53ms/step - loss: 0.7923 - accuracy: 0.7467 - val_loss: 2.5910 - val_accuracy: 0.3440\n",
      "12/12 [==============================] - 1s 50ms/step - loss: 0.7842 - accuracy: 0.7452 - val_loss: 2.3762 - val_accuracy: 0.3667\n",
      "12/12 [==============================] - 1s 60ms/step - loss: 0.8158 - accuracy: 0.7362 - val_loss: 2.3772 - val_accuracy: 0.3667\n",
      "13/13 [==============================] - 1s 55ms/step - loss: 0.8023 - accuracy: 0.7470 - val_loss: 2.2887 - val_accuracy: 0.3653\n",
      "13/13 [==============================] - 1s 64ms/step - loss: 0.8085 - accuracy: 0.7361 - val_loss: 2.1837 - val_accuracy: 0.3787\n",
      "13/13 [==============================] - 1s 56ms/step - loss: 0.8173 - accuracy: 0.7424 - val_loss: 2.1796 - val_accuracy: 0.3753\n",
      "13/13 [==============================] - 1s 57ms/step - loss: 0.8125 - accuracy: 0.7337 - val_loss: 2.2786 - val_accuracy: 0.3487\n",
      "14/14 [==============================] - 1s 56ms/step - loss: 0.7865 - accuracy: 0.7427 - val_loss: 2.2733 - val_accuracy: 0.3473\n",
      "14/14 [==============================] - 1s 51ms/step - loss: 0.8147 - accuracy: 0.7221 - val_loss: 1.9996 - val_accuracy: 0.4100\n",
      "14/14 [==============================] - 1s 47ms/step - loss: 0.8031 - accuracy: 0.7307 - val_loss: 2.2937 - val_accuracy: 0.3507\n",
      "14/14 [==============================] - 1s 57ms/step - loss: 0.8150 - accuracy: 0.7245 - val_loss: 2.1902 - val_accuracy: 0.3633\n",
      "14/14 [==============================] - 1s 49ms/step - loss: 0.8184 - accuracy: 0.7184 - val_loss: 1.9325 - val_accuracy: 0.4167\n",
      "15/15 [==============================] - 1s 51ms/step - loss: 0.8027 - accuracy: 0.7211 - val_loss: 1.9622 - val_accuracy: 0.4007\n",
      "15/15 [==============================] - 1s 53ms/step - loss: 0.7885 - accuracy: 0.7203 - val_loss: 1.9664 - val_accuracy: 0.4067\n",
      "15/15 [==============================] - 1s 49ms/step - loss: 0.8034 - accuracy: 0.7220 - val_loss: 1.9692 - val_accuracy: 0.4093\n",
      "15/15 [==============================] - 1s 56ms/step - loss: 0.8148 - accuracy: 0.7175 - val_loss: 1.8993 - val_accuracy: 0.4327\n",
      "15/15 [==============================] - 1s 58ms/step - loss: 0.7977 - accuracy: 0.7222 - val_loss: 1.9292 - val_accuracy: 0.4113\n",
      "16/16 [==============================] - 1s 56ms/step - loss: 0.7918 - accuracy: 0.7208 - val_loss: 1.8878 - val_accuracy: 0.4367\n",
      "16/16 [==============================] - 1s 51ms/step - loss: 0.8495 - accuracy: 0.7097 - val_loss: 1.9519 - val_accuracy: 0.4200\n",
      "16/16 [==============================] - 1s 56ms/step - loss: 0.8326 - accuracy: 0.7086 - val_loss: 1.8113 - val_accuracy: 0.4493\n",
      "16/16 [==============================] - 1s 53ms/step - loss: 0.8208 - accuracy: 0.7123 - val_loss: 1.8216 - val_accuracy: 0.4367\n",
      "16/16 [==============================] - 1s 59ms/step - loss: 0.7931 - accuracy: 0.7191 - val_loss: 1.8716 - val_accuracy: 0.4287\n",
      "16/16 [==============================] - 1s 52ms/step - loss: 0.7931 - accuracy: 0.7201 - val_loss: 1.7524 - val_accuracy: 0.4633\n",
      "17/17 [==============================] - 1s 55ms/step - loss: 0.8212 - accuracy: 0.7121 - val_loss: 1.7525 - val_accuracy: 0.4660\n",
      "17/17 [==============================] - 1s 51ms/step - loss: 0.8208 - accuracy: 0.7018 - val_loss: 1.7854 - val_accuracy: 0.4673\n",
      "17/17 [==============================] - 1s 48ms/step - loss: 0.8159 - accuracy: 0.7128 - val_loss: 1.7657 - val_accuracy: 0.4593\n",
      "17/17 [==============================] - 1s 49ms/step - loss: 0.8243 - accuracy: 0.7064 - val_loss: 1.7050 - val_accuracy: 0.4673\n",
      "17/17 [==============================] - 1s 52ms/step - loss: 0.8195 - accuracy: 0.7063 - val_loss: 1.6403 - val_accuracy: 0.4840\n",
      "18/18 [==============================] - 1s 46ms/step - loss: 0.8124 - accuracy: 0.7115 - val_loss: 1.7576 - val_accuracy: 0.4767\n",
      "18/18 [==============================] - 1s 45ms/step - loss: 0.8418 - accuracy: 0.6957 - val_loss: 1.8573 - val_accuracy: 0.4340\n",
      "18/18 [==============================] - 1s 51ms/step - loss: 0.8486 - accuracy: 0.6991 - val_loss: 1.6797 - val_accuracy: 0.4753\n",
      "18/18 [==============================] - 1s 52ms/step - loss: 0.8223 - accuracy: 0.7096 - val_loss: 1.7137 - val_accuracy: 0.4733\n",
      "18/18 [==============================] - 1s 50ms/step - loss: 0.8189 - accuracy: 0.7032 - val_loss: 1.6446 - val_accuracy: 0.4940\n",
      "18/18 [==============================] - 1s 48ms/step - loss: 0.8165 - accuracy: 0.7084 - val_loss: 1.5987 - val_accuracy: 0.4920\n",
      "18/18 [==============================] - 1s 48ms/step - loss: 0.8160 - accuracy: 0.7049 - val_loss: 1.6747 - val_accuracy: 0.4893\n",
      "19/19 [==============================] - 1s 34ms/step - loss: 0.8174 - accuracy: 0.7059 - val_loss: 1.6268 - val_accuracy: 0.5047\n",
      "19/19 [==============================] - 1s 47ms/step - loss: 0.8202 - accuracy: 0.7068 - val_loss: 1.6248 - val_accuracy: 0.4960\n",
      "19/19 [==============================] - 1s 47ms/step - loss: 0.8400 - accuracy: 0.6938 - val_loss: 1.6412 - val_accuracy: 0.4887\n",
      "19/19 [==============================] - 1s 46ms/step - loss: 0.8347 - accuracy: 0.7023 - val_loss: 1.5445 - val_accuracy: 0.5040\n",
      "19/19 [==============================] - 1s 52ms/step - loss: 0.8418 - accuracy: 0.7004 - val_loss: 1.6922 - val_accuracy: 0.4867\n",
      "19/19 [==============================] - 1s 50ms/step - loss: 0.8273 - accuracy: 0.7066 - val_loss: 1.6494 - val_accuracy: 0.4967\n",
      "20/20 [==============================] - 1s 45ms/step - loss: 0.8335 - accuracy: 0.6951 - val_loss: 1.7496 - val_accuracy: 0.4807\n",
      "20/20 [==============================] - 1s 46ms/step - loss: 0.8489 - accuracy: 0.6930 - val_loss: 1.5632 - val_accuracy: 0.5087\n",
      "20/20 [==============================] - 1s 49ms/step - loss: 0.8476 - accuracy: 0.7006 - val_loss: 1.6254 - val_accuracy: 0.5007\n",
      "20/20 [==============================] - 1s 50ms/step - loss: 0.8498 - accuracy: 0.6877 - val_loss: 1.5664 - val_accuracy: 0.5160\n",
      "20/20 [==============================] - 1s 47ms/step - loss: 0.8295 - accuracy: 0.6998 - val_loss: 1.6687 - val_accuracy: 0.4860\n",
      "20/20 [==============================] - 1s 44ms/step - loss: 0.8320 - accuracy: 0.7020 - val_loss: 1.6874 - val_accuracy: 0.4927\n",
      "20/20 [==============================] - 1s 50ms/step - loss: 0.8386 - accuracy: 0.6971 - val_loss: 1.5804 - val_accuracy: 0.5067\n",
      "20/20 [==============================] - 1s 51ms/step - loss: 0.8326 - accuracy: 0.6914 - val_loss: 1.6638 - val_accuracy: 0.4940\n",
      "21/21 [==============================] - 1s 55ms/step - loss: 0.8486 - accuracy: 0.6902 - val_loss: 1.6090 - val_accuracy: 0.5107\n",
      "21/21 [==============================] - 1s 52ms/step - loss: 0.8388 - accuracy: 0.6869 - val_loss: 1.6310 - val_accuracy: 0.5007\n",
      "21/21 [==============================] - 1s 49ms/step - loss: 0.8289 - accuracy: 0.6990 - val_loss: 1.7659 - val_accuracy: 0.4693\n",
      "21/21 [==============================] - 1s 51ms/step - loss: 0.8334 - accuracy: 0.7004 - val_loss: 1.6704 - val_accuracy: 0.4973\n",
      "21/21 [==============================] - 1s 56ms/step - loss: 0.8419 - accuracy: 0.6894 - val_loss: 1.7137 - val_accuracy: 0.5000\n",
      "21/21 [==============================] - 1s 51ms/step - loss: 0.8519 - accuracy: 0.6880 - val_loss: 1.5316 - val_accuracy: 0.5160\n",
      "21/21 [==============================] - 1s 58ms/step - loss: 0.8258 - accuracy: 0.6939 - val_loss: 1.4365 - val_accuracy: 0.5393\n",
      "21/21 [==============================] - 1s 57ms/step - loss: 0.8216 - accuracy: 0.7019 - val_loss: 1.6185 - val_accuracy: 0.5100\n",
      "22/22 [==============================] - 1s 52ms/step - loss: 0.8499 - accuracy: 0.6933 - val_loss: 1.5423 - val_accuracy: 0.5187\n",
      "22/22 [==============================] - 1s 51ms/step - loss: 0.8583 - accuracy: 0.6869 - val_loss: 1.5016 - val_accuracy: 0.5253\n",
      "22/22 [==============================] - 1s 50ms/step - loss: 0.8565 - accuracy: 0.6865 - val_loss: 1.5926 - val_accuracy: 0.5053\n",
      "22/22 [==============================] - 1s 52ms/step - loss: 0.8409 - accuracy: 0.6952 - val_loss: 1.7074 - val_accuracy: 0.4960\n",
      "22/22 [==============================] - 1s 50ms/step - loss: 0.8420 - accuracy: 0.6910 - val_loss: 1.5978 - val_accuracy: 0.5060\n",
      " 7/22 [========>.....................] - ETA: 0s - loss: 0.8572 - accuracy: 0.6914"
     ]
    }
   ],
   "source": [
    "for test_model in test_models:\n",
    "    print(test_model)\n",
    "    model_scores = []\n",
    "\n",
    "    for _ in tqdm(range(N_TRIALS)):\n",
    "        model = ClassifierModel(output_shape=10, **models_hyperparameters[test_model])\n",
    "        \n",
    "        model.compile(optimizer='adam', loss=loss, metrics=['accuracy'])\n",
    "        \n",
    "        for i in range(N_EPOCHS):\n",
    "            n_samples = int(np.tanh(2 * (i + 1)/ N_EPOCHS) * train_size)\n",
    "            samples_ids = order_assessment[:n_samples]\n",
    "            \n",
    "            model.fit(\n",
    "                x_train[samples_ids], y_train[samples_ids], \n",
    "                validation_data=(x_val, y_val),\n",
    "                epochs=1, batch_size=BATCH_SIZE,\n",
    "                verbose=1, callbacks=[early_stopping]\n",
    "            )\n",
    "        \n",
    "        _, accuracy = model.evaluate(x_test, y_test, batch_size=BATCH_SIZE, verbose=0)\n",
    "        \n",
    "        model_scores.append(accuracy)\n",
    "    \n",
    "    results[test_model] = model_scores"
   ],
   "metadata": {
    "collapsed": false,
    "is_executing": true,
    "ExecuteTime": {
     "start_time": "2024-02-20T17:11:19.165507Z"
    }
   },
   "id": "ce9112b33b1ada44"
  },
  {
   "cell_type": "code",
   "execution_count": null,
   "outputs": [],
   "source": [
    "results"
   ],
   "metadata": {
    "collapsed": false,
    "ExecuteTime": {
     "start_time": "2024-02-20T17:09:49.430101Z"
    }
   },
   "id": "909e15d33e1ab350"
  },
  {
   "cell_type": "code",
   "execution_count": null,
   "outputs": [],
   "source": [
    " "
   ],
   "metadata": {
    "collapsed": false
   },
   "id": "9790fd22bda8078b"
  }
 ],
 "metadata": {
  "kernelspec": {
   "display_name": "Python 3",
   "language": "python",
   "name": "python3"
  },
  "language_info": {
   "codemirror_mode": {
    "name": "ipython",
    "version": 2
   },
   "file_extension": ".py",
   "mimetype": "text/x-python",
   "name": "python",
   "nbconvert_exporter": "python",
   "pygments_lexer": "ipython2",
   "version": "2.7.6"
  }
 },
 "nbformat": 4,
 "nbformat_minor": 5
}
