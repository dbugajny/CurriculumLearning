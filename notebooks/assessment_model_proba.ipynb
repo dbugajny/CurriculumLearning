{
 "cells": [
  {
   "cell_type": "code",
   "execution_count": 115,
   "id": "initial_id",
   "metadata": {
    "collapsed": true,
    "ExecuteTime": {
     "end_time": "2024-02-23T15:05:30.622336Z",
     "start_time": "2024-02-23T15:05:30.614548Z"
    }
   },
   "outputs": [],
   "source": [
    "import numpy as np\n",
    "import tensorflow as tf\n",
    "from curriculum_learning.models.classifier_model import ClassifierModel\n",
    "from curriculum_learning import utils\n",
    "import yaml\n",
    "from tqdm import tqdm\n",
    "from sklearn.model_selection import train_test_split\n",
    "from PIL import Image\n",
    "import matplotlib.pyplot as plt\n",
    "import pathlib"
   ]
  },
  {
   "cell_type": "code",
   "execution_count": 116,
   "outputs": [],
   "source": [
    "def load_class_data(filepath):\n",
    "    class_data = []\n",
    "    \n",
    "    for img_path in pathlib.Path(filepath).iterdir():\n",
    "        img = np.array(Image.open(img_path))\n",
    "        if img.shape == (150, 150, 3):\n",
    "            class_data.append(img)\n",
    "     \n",
    "    return np.array(class_data)"
   ],
   "metadata": {
    "collapsed": false,
    "ExecuteTime": {
     "end_time": "2024-02-23T15:05:30.899048Z",
     "start_time": "2024-02-23T15:05:30.896943Z"
    }
   },
   "id": "55c421b22e6f0ec1"
  },
  {
   "cell_type": "code",
   "execution_count": 117,
   "outputs": [],
   "source": [
    "buildings = load_class_data(\"../data/data2/seg_train/seg_train/buildings\")\n",
    "street = load_class_data(\"../data/data2/seg_train/seg_train/street\")\n",
    "forest = load_class_data(\"../data/data2/seg_train/seg_train/forest\")\n",
    "glacier = load_class_data(\"../data/data2/seg_train/seg_train/glacier\")\n",
    "sea = load_class_data(\"../data/data2/seg_train/seg_train/sea\")\n",
    "mountain = load_class_data(\"../data/data2/seg_train/seg_train/mountain\")"
   ],
   "metadata": {
    "collapsed": false,
    "ExecuteTime": {
     "end_time": "2024-02-23T15:05:40.965376Z",
     "start_time": "2024-02-23T15:05:31.571742Z"
    }
   },
   "id": "c5fb25f05fe5662a"
  },
  {
   "cell_type": "code",
   "execution_count": 118,
   "outputs": [],
   "source": [
    "x = np.concatenate([buildings, street, forest, glacier, sea, mountain])\n",
    "y = np.concatenate(\n",
    "    [\n",
    "        [0] * buildings.shape[0],\n",
    "        [1] * street.shape[0],\n",
    "        [2] * forest.shape[0],\n",
    "        [3] * glacier.shape[0],\n",
    "        [4] * sea.shape[0],\n",
    "        [5] * mountain.shape[0],\n",
    "    ]\n",
    ")"
   ],
   "metadata": {
    "collapsed": false,
    "ExecuteTime": {
     "end_time": "2024-02-23T15:06:24.875261Z",
     "start_time": "2024-02-23T15:06:24.253716Z"
    }
   },
   "id": "3cd800ff0ba75388"
  },
  {
   "cell_type": "code",
   "execution_count": 119,
   "outputs": [],
   "source": [
    "N_EPOCHS = 10\n",
    "N_TRIALS = 3\n",
    "BATCH_SIZE = 128\n",
    "\n",
    "loss = tf.keras.losses.SparseCategoricalCrossentropy()"
   ],
   "metadata": {
    "collapsed": false,
    "ExecuteTime": {
     "end_time": "2024-02-23T15:06:25.719177Z",
     "start_time": "2024-02-23T15:06:25.711271Z"
    }
   },
   "id": "bab2c3f4ef4cf399"
  },
  {
   "cell_type": "code",
   "execution_count": 120,
   "outputs": [],
   "source": [
    "with open(\"models_hyperparameters.yaml\", \"r\") as stream:\n",
    "    models_hyperparameters = yaml.safe_load(stream)\n",
    "    \n",
    "x_train, x_test, y_train, y_test = train_test_split(x, y, test_size=0.3, random_state=42)\n",
    "x_test, x_val, y_test, y_val = train_test_split(x_test, y_test, test_size=0.5, random_state=42)\n",
    "\n",
    "train_size = x_train.shape[0]\n",
    "\n",
    "x_train = x_train / 255\n",
    "x_val = x_val / 255\n",
    "x_test = x_test / 255"
   ],
   "metadata": {
    "collapsed": false,
    "ExecuteTime": {
     "end_time": "2024-02-23T15:06:33.250654Z",
     "start_time": "2024-02-23T15:06:29.345129Z"
    }
   },
   "id": "8424e92d91deb0ac"
  },
  {
   "cell_type": "code",
   "execution_count": 122,
   "outputs": [
    {
     "name": "stdout",
     "output_type": "stream",
     "text": [
      "Epoch 1/10\n",
      "77/77 [==============================] - 18s 230ms/step - loss: 1.4387 - accuracy: 0.5073\n",
      "Epoch 2/10\n",
      "77/77 [==============================] - 18s 230ms/step - loss: 0.9314 - accuracy: 0.6598\n",
      "Epoch 3/10\n",
      "77/77 [==============================] - 17s 226ms/step - loss: 0.7741 - accuracy: 0.7201\n",
      "Epoch 4/10\n",
      "77/77 [==============================] - 17s 226ms/step - loss: 0.6517 - accuracy: 0.7645\n",
      "Epoch 5/10\n",
      "77/77 [==============================] - 18s 228ms/step - loss: 0.5845 - accuracy: 0.7968\n",
      "Epoch 6/10\n",
      "77/77 [==============================] - 18s 233ms/step - loss: 0.5252 - accuracy: 0.8130\n",
      "Epoch 7/10\n",
      "77/77 [==============================] - 18s 229ms/step - loss: 0.4835 - accuracy: 0.8237\n",
      "Epoch 8/10\n",
      "77/77 [==============================] - 18s 228ms/step - loss: 0.4536 - accuracy: 0.8389\n",
      "Epoch 9/10\n",
      "77/77 [==============================] - 18s 234ms/step - loss: 0.4090 - accuracy: 0.8569\n",
      "Epoch 10/10\n",
      "77/77 [==============================] - 18s 227ms/step - loss: 0.3591 - accuracy: 0.8729\n"
     ]
    },
    {
     "data": {
      "text/plain": "<keras.src.callbacks.History at 0x29c8c4c40>"
     },
     "execution_count": 122,
     "metadata": {},
     "output_type": "execute_result"
    }
   ],
   "source": [
    "assessment_model = ClassifierModel(output_shape=10, **models_hyperparameters[\"assessment_model\"])\n",
    "\n",
    "assessment_model.compile(optimizer='adam', loss=loss, metrics=['accuracy'])\n",
    "        \n",
    "assessment_model.fit(x_train, y_train, epochs=10, batch_size=BATCH_SIZE)"
   ],
   "metadata": {
    "collapsed": false,
    "ExecuteTime": {
     "end_time": "2024-02-23T15:10:19.691022Z",
     "start_time": "2024-02-23T15:06:49.227988Z"
    }
   },
   "id": "bdafb8a9c136f286"
  },
  {
   "cell_type": "code",
   "execution_count": 108,
   "outputs": [],
   "source": [
    "y_pred_assessment = assessment_model.predict(x_train, verbose=0)\n",
    "\n",
    "losses_assessment = np.array(utils.calculate_loss_per_sample(y_train, y_pred_assessment, loss))\n",
    "losses_proba = np.exp(losses_assessment) / sum(np.exp(losses_assessment))"
   ],
   "metadata": {
    "collapsed": false,
    "ExecuteTime": {
     "end_time": "2024-02-21T21:35:42.369719Z",
     "start_time": "2024-02-21T21:35:38.584739Z"
    }
   },
   "id": "b6b8d2b35609d828"
  },
  {
   "cell_type": "code",
   "execution_count": 109,
   "outputs": [],
   "source": [
    "results = {}\n",
    "\n",
    "# test_models = [\"test_model_1\", \"test_model_2\", \"test_model_3\"]\n",
    "test_models = [\"test_model_1\"]"
   ],
   "metadata": {
    "collapsed": false,
    "ExecuteTime": {
     "end_time": "2024-02-21T21:35:42.373821Z",
     "start_time": "2024-02-21T21:35:42.370715Z"
    }
   },
   "id": "fe21ef1466862a11"
  },
  {
   "cell_type": "code",
   "execution_count": 110,
   "outputs": [
    {
     "name": "stdout",
     "output_type": "stream",
     "text": [
      "test_model_1\n"
     ]
    },
    {
     "name": "stderr",
     "output_type": "stream",
     "text": [
      "  0%|          | 0/3 [00:00<?, ?it/s]"
     ]
    },
    {
     "name": "stdout",
     "output_type": "stream",
     "text": [
      "10/10 [==============================] - 8s 714ms/step - loss: 2.1157 - accuracy: 0.2436 - val_loss: 2.2311 - val_accuracy: 0.3790\n",
      "17/17 [==============================] - 11s 650ms/step - loss: 1.5036 - accuracy: 0.5730 - val_loss: 1.7902 - val_accuracy: 0.5758\n",
      "21/21 [==============================] - 14s 645ms/step - loss: 1.0456 - accuracy: 0.7731 - val_loss: 1.5085 - val_accuracy: 0.7464\n",
      "24/24 [==============================] - 15s 611ms/step - loss: 0.7611 - accuracy: 0.8280 - val_loss: 1.2353 - val_accuracy: 0.6560\n",
      "25/25 [==============================] - 15s 617ms/step - loss: 0.5742 - accuracy: 0.8508 - val_loss: 1.0993 - val_accuracy: 0.5087\n",
      "25/25 [==============================] - 16s 633ms/step - loss: 0.4774 - accuracy: 0.8713 - val_loss: 1.0582 - val_accuracy: 0.5058\n",
      "25/25 [==============================] - 17s 682ms/step - loss: 0.3909 - accuracy: 0.8825 - val_loss: 0.9749 - val_accuracy: 0.5087\n",
      "25/25 [==============================] - 16s 641ms/step - loss: 0.3216 - accuracy: 0.9103 - val_loss: 0.9998 - val_accuracy: 0.5102\n",
      "25/25 [==============================] - 16s 636ms/step - loss: 0.2604 - accuracy: 0.9264 - val_loss: 0.7686 - val_accuracy: 0.5641\n",
      "25/25 [==============================] - 17s 669ms/step - loss: 0.2079 - accuracy: 0.9515 - val_loss: 0.6884 - val_accuracy: 0.6720\n",
      "6/6 [==============================] - 1s 117ms/step - loss: 0.6675 - accuracy: 0.7041\n"
     ]
    },
    {
     "name": "stderr",
     "output_type": "stream",
     "text": [
      " 33%|███▎      | 1/3 [02:43<05:26, 163.14s/it]"
     ]
    },
    {
     "name": "stdout",
     "output_type": "stream",
     "text": [
      "10/10 [==============================] - 7s 671ms/step - loss: 2.2188 - accuracy: 0.2354 - val_loss: 2.0319 - val_accuracy: 0.5044\n",
      "17/17 [==============================] - 11s 638ms/step - loss: 1.5240 - accuracy: 0.5979 - val_loss: 1.7641 - val_accuracy: 0.7070\n",
      "21/21 [==============================] - 13s 632ms/step - loss: 1.0850 - accuracy: 0.7787 - val_loss: 1.7017 - val_accuracy: 0.7332\n",
      "24/24 [==============================] - 15s 616ms/step - loss: 0.7806 - accuracy: 0.8294 - val_loss: 1.7348 - val_accuracy: 0.5131\n",
      "25/25 [==============================] - 16s 654ms/step - loss: 0.6267 - accuracy: 0.8492 - val_loss: 1.5029 - val_accuracy: 0.5087\n",
      "25/25 [==============================] - 16s 661ms/step - loss: 0.5016 - accuracy: 0.8630 - val_loss: 1.5301 - val_accuracy: 0.5058\n",
      "25/25 [==============================] - 16s 633ms/step - loss: 0.4001 - accuracy: 0.8885 - val_loss: 1.5651 - val_accuracy: 0.5058\n",
      "25/25 [==============================] - 16s 640ms/step - loss: 0.3273 - accuracy: 0.9046 - val_loss: 1.3508 - val_accuracy: 0.5058\n",
      "25/25 [==============================] - 16s 634ms/step - loss: 0.2562 - accuracy: 0.9271 - val_loss: 1.6067 - val_accuracy: 0.5058\n",
      "25/25 [==============================] - 16s 654ms/step - loss: 0.2103 - accuracy: 0.9427 - val_loss: 1.1459 - val_accuracy: 0.5073\n",
      "6/6 [==============================] - 1s 119ms/step - loss: 1.1152 - accuracy: 0.5102\n"
     ]
    },
    {
     "name": "stderr",
     "output_type": "stream",
     "text": [
      " 67%|██████▋   | 2/3 [05:24<02:42, 162.20s/it]"
     ]
    },
    {
     "name": "stdout",
     "output_type": "stream",
     "text": [
      "10/10 [==============================] - 7s 667ms/step - loss: 1.8086 - accuracy: 0.4584 - val_loss: 2.1343 - val_accuracy: 0.5190\n",
      "17/17 [==============================] - 11s 634ms/step - loss: 1.2193 - accuracy: 0.6756 - val_loss: 1.9315 - val_accuracy: 0.6691\n",
      "21/21 [==============================] - 14s 645ms/step - loss: 0.8900 - accuracy: 0.7821 - val_loss: 1.6607 - val_accuracy: 0.5758\n",
      "24/24 [==============================] - 15s 634ms/step - loss: 0.6863 - accuracy: 0.8239 - val_loss: 1.4179 - val_accuracy: 0.5933\n",
      "25/25 [==============================] - 17s 671ms/step - loss: 0.5266 - accuracy: 0.8488 - val_loss: 1.2753 - val_accuracy: 0.5394\n",
      "25/25 [==============================] - 17s 663ms/step - loss: 0.4385 - accuracy: 0.8636 - val_loss: 1.3161 - val_accuracy: 0.5058\n",
      "25/25 [==============================] - 16s 632ms/step - loss: 0.3673 - accuracy: 0.8882 - val_loss: 1.0899 - val_accuracy: 0.5058\n",
      "25/25 [==============================] - 17s 669ms/step - loss: 0.2945 - accuracy: 0.9103 - val_loss: 1.0692 - val_accuracy: 0.5058\n",
      "25/25 [==============================] - 22s 877ms/step - loss: 0.2401 - accuracy: 0.9321 - val_loss: 1.0156 - val_accuracy: 0.5058\n",
      "25/25 [==============================] - 18s 714ms/step - loss: 0.1895 - accuracy: 0.9471 - val_loss: 1.1912 - val_accuracy: 0.5087\n",
      "6/6 [==============================] - 1s 129ms/step - loss: 1.1843 - accuracy: 0.5073\n"
     ]
    },
    {
     "name": "stderr",
     "output_type": "stream",
     "text": [
      "100%|██████████| 3/3 [08:16<00:00, 165.34s/it]\n"
     ]
    }
   ],
   "source": [
    "for test_model in test_models:\n",
    "    print(test_model)\n",
    "    model_scores = []\n",
    "\n",
    "    for _ in tqdm(range(N_TRIALS)):\n",
    "        model = ClassifierModel(output_shape=10, **models_hyperparameters[test_model])\n",
    "        \n",
    "        model.compile(optimizer='adam', loss=loss, metrics=['accuracy'])\n",
    "\n",
    "        for i in range(N_EPOCHS):\n",
    "            n_samples = int(np.tanh(4 * (i + 1) / N_EPOCHS) * train_size)\n",
    "            samples_ids = np.random.choice(range(train_size), p=losses_proba, size=n_samples, replace=False)\n",
    "            \n",
    "            model.fit(\n",
    "                x_train[samples_ids], y_train[samples_ids], \n",
    "                validation_data=(x_val, y_val),\n",
    "                epochs=1, batch_size=BATCH_SIZE, verbose=1\n",
    "            )\n",
    "        \n",
    "        _, accuracy = model.evaluate(x_test, y_test, batch_size=BATCH_SIZE, verbose=1)\n",
    "        \n",
    "        model_scores.append(accuracy)\n",
    "    \n",
    "    results[test_model] = model_scores"
   ],
   "metadata": {
    "collapsed": false,
    "ExecuteTime": {
     "end_time": "2024-02-21T21:43:58.435006Z",
     "start_time": "2024-02-21T21:35:42.376318Z"
    }
   },
   "id": "ce9112b33b1ada44"
  },
  {
   "cell_type": "code",
   "execution_count": 113,
   "outputs": [
    {
     "data": {
      "text/plain": "{'test_model_1': [0.704081654548645, 0.5102040767669678, 0.5072886347770691]}"
     },
     "execution_count": 113,
     "metadata": {},
     "output_type": "execute_result"
    }
   ],
   "source": [
    "results"
   ],
   "metadata": {
    "collapsed": false,
    "ExecuteTime": {
     "end_time": "2024-02-21T21:45:11.407234Z",
     "start_time": "2024-02-21T21:45:11.400609Z"
    }
   },
   "id": "d551d3d3c24e87d6"
  },
  {
   "cell_type": "code",
   "execution_count": 114,
   "outputs": [
    {
     "data": {
      "text/plain": "0.5738581220308939"
     },
     "execution_count": 114,
     "metadata": {},
     "output_type": "execute_result"
    }
   ],
   "source": [
    "sum(results[\"test_model_1\"]) / 3"
   ],
   "metadata": {
    "collapsed": false,
    "ExecuteTime": {
     "end_time": "2024-02-21T21:45:11.874817Z",
     "start_time": "2024-02-21T21:45:11.866536Z"
    }
   },
   "id": "48f13aeabc23da41"
  },
  {
   "cell_type": "code",
   "execution_count": null,
   "outputs": [],
   "source": [
    "{'test_model_1': [0.5553935766220093, 0.5058308839797974, 0.508746325969696]}\n",
    "0.5233235955238342"
   ],
   "metadata": {
    "collapsed": false
   },
   "id": "fd187bb12b6de793"
  }
 ],
 "metadata": {
  "kernelspec": {
   "display_name": "Python 3",
   "language": "python",
   "name": "python3"
  },
  "language_info": {
   "codemirror_mode": {
    "name": "ipython",
    "version": 2
   },
   "file_extension": ".py",
   "mimetype": "text/x-python",
   "name": "python",
   "nbconvert_exporter": "python",
   "pygments_lexer": "ipython2",
   "version": "2.7.6"
  }
 },
 "nbformat": 4,
 "nbformat_minor": 5
}
