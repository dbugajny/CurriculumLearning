{
 "cells": [
  {
   "cell_type": "code",
   "execution_count": 2,
   "id": "initial_id",
   "metadata": {
    "collapsed": true,
    "ExecuteTime": {
     "end_time": "2024-02-25T18:21:11.229851Z",
     "start_time": "2024-02-25T18:21:11.223461Z"
    }
   },
   "outputs": [],
   "source": [
    "import numpy as np\n",
    "import tensorflow as tf\n",
    "from curriculum_learning.models.classifier_model import ClassifierModel\n",
    "from curriculum_learning import utils\n",
    "import yaml\n",
    "from tqdm import tqdm\n",
    "from sklearn.model_selection import train_test_split\n",
    "import matplotlib.pyplot as plt\n",
    "import pandas as pd\n",
    "import seaborn as sns\n",
    "from scipy import stats"
   ]
  },
  {
   "cell_type": "code",
   "execution_count": 3,
   "outputs": [],
   "source": [
    "with open(\"models_hyperparameters.yaml\", \"r\") as stream:\n",
    "    models_hyperparameters = yaml.safe_load(stream)\n",
    "    \n",
    "with open(\"config_tests.yaml\", \"r\") as stream:\n",
    "    config_tests = yaml.safe_load(stream)"
   ],
   "metadata": {
    "collapsed": false,
    "ExecuteTime": {
     "end_time": "2024-02-25T18:21:11.480126Z",
     "start_time": "2024-02-25T18:21:11.466735Z"
    }
   },
   "id": "fa5a1f60ac32c234"
  },
  {
   "cell_type": "code",
   "execution_count": 4,
   "outputs": [],
   "source": [
    "N_EPOCHS = 50\n",
    "N_TRIALS = 10\n",
    "BATCH_SIZE = 128\n",
    "\n",
    "CONFIG = config_tests[\"assessment_proba_best\"]\n",
    "\n",
    "loss = tf.keras.losses.SparseCategoricalCrossentropy()"
   ],
   "metadata": {
    "collapsed": false,
    "ExecuteTime": {
     "end_time": "2024-02-25T18:21:11.796712Z",
     "start_time": "2024-02-25T18:21:11.791002Z"
    }
   },
   "id": "291968d1be29b250"
  },
  {
   "cell_type": "code",
   "execution_count": 5,
   "outputs": [],
   "source": [
    "x, y = utils.load_data(\"../data/cifar-10-batches-py/data_batch_1\")"
   ],
   "metadata": {
    "collapsed": false,
    "ExecuteTime": {
     "end_time": "2024-02-25T18:21:12.162734Z",
     "start_time": "2024-02-25T18:21:12.124198Z"
    }
   },
   "id": "49ca6a8b969530e4"
  },
  {
   "cell_type": "code",
   "execution_count": 6,
   "outputs": [],
   "source": [
    "# filepath_prefix = \"../data/data2/seg_train/seg_train/\"\n",
    "#\n",
    "# buildings = load_class_data(f\"{filepath_prefix}buildings\")\n",
    "# street = load_class_data(f\"{filepath_prefix}street\")\n",
    "# forest = load_class_data(f\"{filepath_prefix}forest\")\n",
    "# glacier = load_class_data(f\"{filepath_prefix}glacier\")\n",
    "# sea = load_class_data(f\"{filepath_prefix}sea\")\n",
    "# mountain = load_class_data(f\"{filepath_prefix}mountain\")"
   ],
   "metadata": {
    "collapsed": false,
    "ExecuteTime": {
     "end_time": "2024-02-25T18:21:12.524170Z",
     "start_time": "2024-02-25T18:21:12.518301Z"
    }
   },
   "id": "c5fb25f05fe5662a"
  },
  {
   "cell_type": "code",
   "execution_count": 7,
   "outputs": [],
   "source": [
    "# x = np.concatenate([buildings, street, forest, glacier, sea, mountain])\n",
    "# y = np.concatenate(\n",
    "#     [\n",
    "#         [0] * buildings.shape[0],\n",
    "#         [1] * street.shape[0],\n",
    "#         [2] * forest.shape[0],\n",
    "#         [3] * glacier.shape[0],\n",
    "#         [4] * sea.shape[0],\n",
    "#         [5] * mountain.shape[0],\n",
    "#     ]\n",
    "# )"
   ],
   "metadata": {
    "collapsed": false,
    "ExecuteTime": {
     "end_time": "2024-02-25T18:21:12.888182Z",
     "start_time": "2024-02-25T18:21:12.883071Z"
    }
   },
   "id": "3cd800ff0ba75388"
  },
  {
   "cell_type": "code",
   "execution_count": 8,
   "outputs": [],
   "source": [
    "x /= 255\n",
    "\n",
    "x_train, x_test, y_train, y_test = train_test_split(x, y, test_size=0.2, random_state=42)\n",
    "x_test, x_val, y_test, y_val = train_test_split(x_test, y_test, test_size=0.5, random_state=42)\n",
    "\n",
    "n_classes = len(np.unique(y))\n",
    "train_size = x_train.shape[0]"
   ],
   "metadata": {
    "collapsed": false,
    "ExecuteTime": {
     "end_time": "2024-02-25T18:21:13.251458Z",
     "start_time": "2024-02-25T18:21:13.201586Z"
    }
   },
   "id": "8424e92d91deb0ac"
  },
  {
   "cell_type": "code",
   "execution_count": 9,
   "outputs": [
    {
     "name": "stdout",
     "output_type": "stream",
     "text": [
      "Epoch 1/30\n",
      "63/63 [==============================] - 2s 16ms/step - loss: 2.4397 - accuracy: 0.1516\n",
      "Epoch 2/30\n",
      "63/63 [==============================] - 1s 16ms/step - loss: 2.1302 - accuracy: 0.2171\n",
      "Epoch 3/30\n",
      "63/63 [==============================] - 1s 16ms/step - loss: 1.9787 - accuracy: 0.2655\n",
      "Epoch 4/30\n",
      "63/63 [==============================] - 1s 16ms/step - loss: 1.8619 - accuracy: 0.3109\n",
      "Epoch 5/30\n",
      "63/63 [==============================] - 1s 16ms/step - loss: 1.7945 - accuracy: 0.3447\n",
      "Epoch 6/30\n",
      "63/63 [==============================] - 1s 17ms/step - loss: 1.7309 - accuracy: 0.3577\n",
      "Epoch 7/30\n",
      "63/63 [==============================] - 1s 16ms/step - loss: 1.6880 - accuracy: 0.3758\n",
      "Epoch 8/30\n",
      "63/63 [==============================] - 1s 16ms/step - loss: 1.6538 - accuracy: 0.3961\n",
      "Epoch 9/30\n",
      "63/63 [==============================] - 1s 17ms/step - loss: 1.6086 - accuracy: 0.3997\n",
      "Epoch 10/30\n",
      "63/63 [==============================] - 1s 21ms/step - loss: 1.5703 - accuracy: 0.4185\n",
      "Epoch 11/30\n",
      "63/63 [==============================] - 1s 20ms/step - loss: 1.5420 - accuracy: 0.4299\n",
      "Epoch 12/30\n",
      "63/63 [==============================] - 1s 18ms/step - loss: 1.5287 - accuracy: 0.4417\n",
      "Epoch 13/30\n",
      "63/63 [==============================] - 1s 17ms/step - loss: 1.4934 - accuracy: 0.4523\n",
      "Epoch 14/30\n",
      "63/63 [==============================] - 1s 17ms/step - loss: 1.4689 - accuracy: 0.4563\n",
      "Epoch 15/30\n",
      "63/63 [==============================] - 1s 17ms/step - loss: 1.4718 - accuracy: 0.4568\n",
      "Epoch 16/30\n",
      "63/63 [==============================] - 1s 17ms/step - loss: 1.4316 - accuracy: 0.4796\n",
      "Epoch 17/30\n",
      "63/63 [==============================] - 1s 18ms/step - loss: 1.4103 - accuracy: 0.4826\n",
      "Epoch 18/30\n",
      "63/63 [==============================] - 1s 18ms/step - loss: 1.3976 - accuracy: 0.4877\n",
      "Epoch 19/30\n",
      "63/63 [==============================] - 1s 21ms/step - loss: 1.3810 - accuracy: 0.4972\n",
      "Epoch 20/30\n",
      "63/63 [==============================] - 1s 18ms/step - loss: 1.3524 - accuracy: 0.5002\n",
      "Epoch 21/30\n",
      "63/63 [==============================] - 1s 18ms/step - loss: 1.3463 - accuracy: 0.5042\n",
      "Epoch 22/30\n",
      "63/63 [==============================] - 1s 18ms/step - loss: 1.3305 - accuracy: 0.5134\n",
      "Epoch 23/30\n",
      "63/63 [==============================] - 1s 19ms/step - loss: 1.3298 - accuracy: 0.5145\n",
      "Epoch 24/30\n",
      "63/63 [==============================] - 1s 18ms/step - loss: 1.3047 - accuracy: 0.5228\n",
      "Epoch 25/30\n",
      "63/63 [==============================] - 1s 20ms/step - loss: 1.2914 - accuracy: 0.5240\n",
      "Epoch 26/30\n",
      "63/63 [==============================] - 2s 24ms/step - loss: 1.2723 - accuracy: 0.5420\n",
      "Epoch 27/30\n",
      "63/63 [==============================] - 2s 24ms/step - loss: 1.2629 - accuracy: 0.5431\n",
      "Epoch 28/30\n",
      "63/63 [==============================] - 1s 20ms/step - loss: 1.2546 - accuracy: 0.5396\n",
      "Epoch 29/30\n",
      "63/63 [==============================] - 1s 20ms/step - loss: 1.2423 - accuracy: 0.5494\n",
      "Epoch 30/30\n",
      "63/63 [==============================] - 1s 21ms/step - loss: 1.2284 - accuracy: 0.5534\n"
     ]
    },
    {
     "data": {
      "text/plain": "<keras.src.callbacks.History at 0x17ff29c90>"
     },
     "execution_count": 9,
     "metadata": {},
     "output_type": "execute_result"
    }
   ],
   "source": [
    "assessment_model = ClassifierModel(output_shape=n_classes, **models_hyperparameters[\"assessment_model\"])\n",
    "\n",
    "assessment_model.compile(optimizer=\"adam\", loss=loss, metrics=[\"accuracy\"])\n",
    "\n",
    "assessment_model.fit(x_train, y_train, epochs=30, batch_size=BATCH_SIZE)"
   ],
   "metadata": {
    "collapsed": false,
    "ExecuteTime": {
     "end_time": "2024-02-25T18:21:48.881783Z",
     "start_time": "2024-02-25T18:21:13.581306Z"
    }
   },
   "id": "bdafb8a9c136f286"
  },
  {
   "cell_type": "code",
   "execution_count": 10,
   "outputs": [],
   "source": [
    "x_train_sorted = x_train[np.argsort(y_train)]\n",
    "y_train_sorted = y_train[np.argsort(y_train)]\n",
    "_, counts = np.unique(y_train_sorted, return_counts=True)\n",
    "\n",
    "samples_proba = utils.calculate_proba(\n",
    "    assessment_model, x_train_sorted, y_train_sorted, counts, CONFIG[\"negative_loss\"]\n",
    ")"
   ],
   "metadata": {
    "collapsed": false,
    "ExecuteTime": {
     "end_time": "2024-02-25T18:22:06.891429Z",
     "start_time": "2024-02-25T18:22:05.514542Z"
    }
   },
   "id": "a2cd5df2d1ace314"
  },
  {
   "cell_type": "code",
   "execution_count": null,
   "outputs": [
    {
     "name": "stdout",
     "output_type": "stream",
     "text": [
      "test_model_1\n"
     ]
    },
    {
     "name": "stderr",
     "output_type": "stream",
     "text": [
      "  0%|          | 0/10 [00:00<?, ?it/s]"
     ]
    },
    {
     "name": "stdout",
     "output_type": "stream",
     "text": [
      "5/5 [==============================] - 1s 90ms/step - loss: 2.8682 - accuracy: 0.0987 - val_loss: 2.3029 - val_accuracy: 0.0930\n",
      "10/10 [==============================] - 0s 45ms/step - loss: 2.6540 - accuracy: 0.1072 - val_loss: 2.3006 - val_accuracy: 0.0930\n",
      "15/15 [==============================] - 1s 42ms/step - loss: 2.5491 - accuracy: 0.1237 - val_loss: 2.2903 - val_accuracy: 0.1250\n",
      "20/20 [==============================] - 1s 38ms/step - loss: 2.3843 - accuracy: 0.1515 - val_loss: 2.2617 - val_accuracy: 0.1740\n",
      "24/24 [==============================] - 1s 45ms/step - loss: 2.2682 - accuracy: 0.1823 - val_loss: 2.2290 - val_accuracy: 0.1800\n",
      "28/28 [==============================] - 2s 63ms/step - loss: 2.1913 - accuracy: 0.1911 - val_loss: 2.2485 - val_accuracy: 0.1320\n",
      "32/32 [==============================] - 2s 56ms/step - loss: 2.0913 - accuracy: 0.2225 - val_loss: 2.2792 - val_accuracy: 0.1200\n",
      "36/36 [==============================] - 2s 50ms/step - loss: 2.0277 - accuracy: 0.2452 - val_loss: 2.2817 - val_accuracy: 0.1300\n",
      "39/39 [==============================] - 2s 47ms/step - loss: 1.9738 - accuracy: 0.2707 - val_loss: 2.3493 - val_accuracy: 0.1170\n",
      "42/42 [==============================] - 3s 66ms/step - loss: 1.9217 - accuracy: 0.2907 - val_loss: 2.3078 - val_accuracy: 0.1570\n",
      "45/45 [==============================] - 2s 47ms/step - loss: 1.8853 - accuracy: 0.3005 - val_loss: 2.2620 - val_accuracy: 0.2090\n",
      "47/47 [==============================] - 2s 43ms/step - loss: 1.8462 - accuracy: 0.3146 - val_loss: 2.1268 - val_accuracy: 0.2030\n",
      "49/49 [==============================] - 2s 43ms/step - loss: 1.7790 - accuracy: 0.3394 - val_loss: 2.2425 - val_accuracy: 0.2320\n",
      "51/51 [==============================] - 2s 39ms/step - loss: 1.7442 - accuracy: 0.3515 - val_loss: 1.9405 - val_accuracy: 0.3110\n",
      "53/53 [==============================] - 2s 41ms/step - loss: 1.7293 - accuracy: 0.3470 - val_loss: 1.8030 - val_accuracy: 0.3700\n",
      "54/54 [==============================] - 2s 41ms/step - loss: 1.7057 - accuracy: 0.3614 - val_loss: 1.6341 - val_accuracy: 0.3820\n",
      "55/55 [==============================] - 2s 41ms/step - loss: 1.6683 - accuracy: 0.3838 - val_loss: 1.7103 - val_accuracy: 0.3780\n",
      "56/56 [==============================] - 3s 45ms/step - loss: 1.6510 - accuracy: 0.3859 - val_loss: 1.6442 - val_accuracy: 0.3890\n",
      "57/57 [==============================] - 3s 47ms/step - loss: 1.6122 - accuracy: 0.4002 - val_loss: 1.5044 - val_accuracy: 0.4430\n",
      "58/58 [==============================] - 3s 49ms/step - loss: 1.5957 - accuracy: 0.4120 - val_loss: 1.4562 - val_accuracy: 0.4640\n",
      "59/59 [==============================] - 2s 41ms/step - loss: 1.5736 - accuracy: 0.4125 - val_loss: 1.4450 - val_accuracy: 0.4910\n",
      "59/59 [==============================] - 2s 41ms/step - loss: 1.5639 - accuracy: 0.4231 - val_loss: 1.4103 - val_accuracy: 0.5020\n",
      "60/60 [==============================] - 2s 38ms/step - loss: 1.5470 - accuracy: 0.4232 - val_loss: 1.5045 - val_accuracy: 0.4390\n",
      "60/60 [==============================] - 2s 37ms/step - loss: 1.5248 - accuracy: 0.4351 - val_loss: 1.3425 - val_accuracy: 0.5300\n",
      "61/61 [==============================] - 2s 36ms/step - loss: 1.5132 - accuracy: 0.4422 - val_loss: 1.3947 - val_accuracy: 0.4780\n",
      "61/61 [==============================] - 2s 37ms/step - loss: 1.4999 - accuracy: 0.4467 - val_loss: 1.3979 - val_accuracy: 0.4900\n",
      "61/61 [==============================] - 2s 40ms/step - loss: 1.4807 - accuracy: 0.4545 - val_loss: 1.7733 - val_accuracy: 0.3500\n",
      "62/62 [==============================] - 2s 39ms/step - loss: 1.4670 - accuracy: 0.4551 - val_loss: 1.4042 - val_accuracy: 0.4840\n",
      "62/62 [==============================] - 2s 38ms/step - loss: 1.4645 - accuracy: 0.4600 - val_loss: 1.4849 - val_accuracy: 0.4610\n",
      "62/62 [==============================] - 2s 38ms/step - loss: 1.4344 - accuracy: 0.4804 - val_loss: 1.4142 - val_accuracy: 0.4900\n",
      "62/62 [==============================] - 2s 38ms/step - loss: 1.4283 - accuracy: 0.4743 - val_loss: 1.4500 - val_accuracy: 0.4820\n",
      "62/62 [==============================] - 2s 38ms/step - loss: 1.4089 - accuracy: 0.4828 - val_loss: 1.3546 - val_accuracy: 0.5090\n",
      "62/62 [==============================] - 2s 39ms/step - loss: 1.3948 - accuracy: 0.4857 - val_loss: 1.4743 - val_accuracy: 0.4720\n",
      "62/62 [==============================] - 2s 40ms/step - loss: 1.3963 - accuracy: 0.4826 - val_loss: 1.4544 - val_accuracy: 0.4910\n",
      "63/63 [==============================] - 2s 39ms/step - loss: 1.3708 - accuracy: 0.4941 - val_loss: 1.3713 - val_accuracy: 0.4840\n",
      "63/63 [==============================] - 3s 40ms/step - loss: 1.3934 - accuracy: 0.4890 - val_loss: 1.7842 - val_accuracy: 0.4330\n",
      "63/63 [==============================] - 2s 38ms/step - loss: 1.3717 - accuracy: 0.4975 - val_loss: 1.2801 - val_accuracy: 0.5290\n",
      "63/63 [==============================] - 2s 39ms/step - loss: 1.3463 - accuracy: 0.5089 - val_loss: 1.3129 - val_accuracy: 0.5140\n",
      "63/63 [==============================] - 2s 39ms/step - loss: 1.3369 - accuracy: 0.5072 - val_loss: 1.2418 - val_accuracy: 0.5480\n",
      "63/63 [==============================] - 2s 39ms/step - loss: 1.3308 - accuracy: 0.5116 - val_loss: 1.2194 - val_accuracy: 0.5640\n",
      "63/63 [==============================] - 2s 38ms/step - loss: 1.3280 - accuracy: 0.5142 - val_loss: 1.2054 - val_accuracy: 0.5680\n",
      "63/63 [==============================] - 3s 40ms/step - loss: 1.3212 - accuracy: 0.5149 - val_loss: 1.4342 - val_accuracy: 0.4960\n",
      "63/63 [==============================] - 2s 39ms/step - loss: 1.2949 - accuracy: 0.5318 - val_loss: 1.2209 - val_accuracy: 0.5670\n",
      "63/63 [==============================] - 2s 39ms/step - loss: 1.2963 - accuracy: 0.5286 - val_loss: 1.5153 - val_accuracy: 0.4500\n",
      "63/63 [==============================] - 2s 39ms/step - loss: 1.2805 - accuracy: 0.5329 - val_loss: 1.4128 - val_accuracy: 0.4870\n",
      "63/63 [==============================] - 2s 37ms/step - loss: 1.2782 - accuracy: 0.5346 - val_loss: 1.2920 - val_accuracy: 0.5320\n",
      "63/63 [==============================] - 2s 37ms/step - loss: 1.2703 - accuracy: 0.5374 - val_loss: 1.2313 - val_accuracy: 0.5520\n",
      "63/63 [==============================] - 2s 36ms/step - loss: 1.2614 - accuracy: 0.5379 - val_loss: 1.2865 - val_accuracy: 0.5300\n",
      "63/63 [==============================] - 2s 35ms/step - loss: 1.2530 - accuracy: 0.5416 - val_loss: 1.2004 - val_accuracy: 0.5700\n",
      "63/63 [==============================] - 2s 36ms/step - loss: 1.2458 - accuracy: 0.5445 - val_loss: 1.3154 - val_accuracy: 0.5400\n",
      "8/8 [==============================] - 0s 10ms/step - loss: 1.3287 - accuracy: 0.5070\n"
     ]
    },
    {
     "name": "stderr",
     "output_type": "stream",
     "text": [
      " 10%|█         | 1/10 [01:51<16:47, 111.94s/it]"
     ]
    },
    {
     "name": "stdout",
     "output_type": "stream",
     "text": [
      "5/5 [==============================] - 1s 86ms/step - loss: 2.6578 - accuracy: 0.1176 - val_loss: 2.3016 - val_accuracy: 0.1000\n",
      "10/10 [==============================] - 0s 46ms/step - loss: 2.5856 - accuracy: 0.1095 - val_loss: 2.2982 - val_accuracy: 0.1110\n",
      "15/15 [==============================] - 1s 42ms/step - loss: 2.4807 - accuracy: 0.1275 - val_loss: 2.2879 - val_accuracy: 0.1130\n",
      "20/20 [==============================] - 1s 40ms/step - loss: 2.3680 - accuracy: 0.1567 - val_loss: 2.2561 - val_accuracy: 0.1840\n",
      "24/24 [==============================] - 1s 39ms/step - loss: 2.2867 - accuracy: 0.1737 - val_loss: 2.2369 - val_accuracy: 0.1910\n",
      "28/28 [==============================] - 1s 38ms/step - loss: 2.2166 - accuracy: 0.1919 - val_loss: 2.2396 - val_accuracy: 0.1630\n",
      "32/32 [==============================] - 1s 38ms/step - loss: 2.1258 - accuracy: 0.2195 - val_loss: 2.3612 - val_accuracy: 0.1310\n",
      "36/36 [==============================] - 1s 40ms/step - loss: 2.0627 - accuracy: 0.2434 - val_loss: 2.5515 - val_accuracy: 0.1180\n",
      "39/39 [==============================] - 2s 40ms/step - loss: 1.9963 - accuracy: 0.2685 - val_loss: 2.7538 - val_accuracy: 0.1150\n",
      "42/42 [==============================] - 2s 44ms/step - loss: 1.9561 - accuracy: 0.2860 - val_loss: 2.8254 - val_accuracy: 0.1270\n",
      "45/45 [==============================] - 2s 44ms/step - loss: 1.9149 - accuracy: 0.2930 - val_loss: 2.4396 - val_accuracy: 0.1590\n",
      "47/47 [==============================] - 2s 38ms/step - loss: 1.8631 - accuracy: 0.3116 - val_loss: 2.3808 - val_accuracy: 0.1790\n",
      "49/49 [==============================] - 2s 38ms/step - loss: 1.8194 - accuracy: 0.3291 - val_loss: 2.2615 - val_accuracy: 0.1980\n",
      "51/51 [==============================] - 2s 39ms/step - loss: 1.7959 - accuracy: 0.3409 - val_loss: 1.9722 - val_accuracy: 0.2840\n",
      "53/53 [==============================] - 2s 37ms/step - loss: 1.7641 - accuracy: 0.3393 - val_loss: 1.6399 - val_accuracy: 0.4240\n",
      "54/54 [==============================] - 2s 37ms/step - loss: 1.7188 - accuracy: 0.3583 - val_loss: 1.8538 - val_accuracy: 0.3670\n",
      "55/55 [==============================] - 2s 39ms/step - loss: 1.6949 - accuracy: 0.3661 - val_loss: 1.6108 - val_accuracy: 0.4060\n",
      "56/56 [==============================] - 2s 38ms/step - loss: 1.6585 - accuracy: 0.3862 - val_loss: 1.5696 - val_accuracy: 0.4340\n",
      "57/57 [==============================] - 2s 38ms/step - loss: 1.6539 - accuracy: 0.3797 - val_loss: 1.5968 - val_accuracy: 0.4070\n",
      "58/58 [==============================] - 2s 37ms/step - loss: 1.6222 - accuracy: 0.3964 - val_loss: 1.5582 - val_accuracy: 0.4280\n",
      "59/59 [==============================] - 2s 38ms/step - loss: 1.5996 - accuracy: 0.4085 - val_loss: 1.4681 - val_accuracy: 0.4650\n",
      "59/59 [==============================] - 2s 39ms/step - loss: 1.5738 - accuracy: 0.4215 - val_loss: 1.7423 - val_accuracy: 0.3450\n",
      "60/60 [==============================] - 2s 37ms/step - loss: 1.5674 - accuracy: 0.4184 - val_loss: 1.4306 - val_accuracy: 0.4570\n",
      "60/60 [==============================] - 2s 37ms/step - loss: 1.5331 - accuracy: 0.4363 - val_loss: 1.5101 - val_accuracy: 0.4540\n",
      "61/61 [==============================] - 2s 37ms/step - loss: 1.5156 - accuracy: 0.4363 - val_loss: 1.5921 - val_accuracy: 0.4130\n",
      "61/61 [==============================] - 2s 39ms/step - loss: 1.4952 - accuracy: 0.4475 - val_loss: 1.6365 - val_accuracy: 0.3990\n",
      "61/61 [==============================] - 2s 35ms/step - loss: 1.5005 - accuracy: 0.4527 - val_loss: 1.3785 - val_accuracy: 0.5030\n",
      "62/62 [==============================] - 2s 33ms/step - loss: 1.4797 - accuracy: 0.4473 - val_loss: 1.5772 - val_accuracy: 0.4120\n",
      "62/62 [==============================] - 2s 35ms/step - loss: 1.4650 - accuracy: 0.4655 - val_loss: 1.3771 - val_accuracy: 0.4770\n",
      "62/62 [==============================] - 2s 36ms/step - loss: 1.4583 - accuracy: 0.4760 - val_loss: 1.6368 - val_accuracy: 0.3930\n",
      "62/62 [==============================] - 2s 35ms/step - loss: 1.4505 - accuracy: 0.4688 - val_loss: 1.3638 - val_accuracy: 0.4970\n",
      "62/62 [==============================] - 2s 36ms/step - loss: 1.4148 - accuracy: 0.4882 - val_loss: 1.3728 - val_accuracy: 0.4790\n",
      "62/62 [==============================] - 2s 33ms/step - loss: 1.4219 - accuracy: 0.4822 - val_loss: 1.3315 - val_accuracy: 0.5160\n",
      "62/62 [==============================] - 2s 34ms/step - loss: 1.4117 - accuracy: 0.4817 - val_loss: 1.3019 - val_accuracy: 0.5160\n",
      "63/63 [==============================] - 2s 34ms/step - loss: 1.3948 - accuracy: 0.4882 - val_loss: 1.7942 - val_accuracy: 0.3840\n",
      "63/63 [==============================] - 2s 34ms/step - loss: 1.4029 - accuracy: 0.4846 - val_loss: 1.3542 - val_accuracy: 0.5030\n",
      "63/63 [==============================] - 2s 32ms/step - loss: 1.3801 - accuracy: 0.4977 - val_loss: 1.4383 - val_accuracy: 0.4690\n",
      "63/63 [==============================] - 2s 32ms/step - loss: 1.3656 - accuracy: 0.5045 - val_loss: 1.3046 - val_accuracy: 0.5240\n",
      "63/63 [==============================] - 2s 33ms/step - loss: 1.3408 - accuracy: 0.5099 - val_loss: 1.4790 - val_accuracy: 0.4840\n",
      "63/63 [==============================] - 2s 33ms/step - loss: 1.3501 - accuracy: 0.5085 - val_loss: 1.3011 - val_accuracy: 0.5190\n",
      "63/63 [==============================] - 2s 33ms/step - loss: 1.3269 - accuracy: 0.5207 - val_loss: 1.3453 - val_accuracy: 0.5100\n",
      "63/63 [==============================] - 2s 32ms/step - loss: 1.3207 - accuracy: 0.5207 - val_loss: 1.2866 - val_accuracy: 0.5440\n",
      "63/63 [==============================] - 2s 33ms/step - loss: 1.2980 - accuracy: 0.5279 - val_loss: 1.3316 - val_accuracy: 0.5230\n",
      "63/63 [==============================] - 2s 33ms/step - loss: 1.2939 - accuracy: 0.5321 - val_loss: 1.4592 - val_accuracy: 0.4680\n",
      "63/63 [==============================] - 2s 33ms/step - loss: 1.2893 - accuracy: 0.5333 - val_loss: 1.2751 - val_accuracy: 0.5340\n",
      "63/63 [==============================] - 2s 37ms/step - loss: 1.2787 - accuracy: 0.5354 - val_loss: 1.9212 - val_accuracy: 0.3890\n",
      "63/63 [==============================] - 3s 42ms/step - loss: 1.2787 - accuracy: 0.5364 - val_loss: 1.3227 - val_accuracy: 0.5240\n",
      "63/63 [==============================] - 2s 34ms/step - loss: 1.2636 - accuracy: 0.5444 - val_loss: 1.2968 - val_accuracy: 0.5330\n",
      "63/63 [==============================] - 2s 34ms/step - loss: 1.2548 - accuracy: 0.5485 - val_loss: 1.4241 - val_accuracy: 0.4830\n",
      "63/63 [==============================] - 2s 35ms/step - loss: 1.2427 - accuracy: 0.5498 - val_loss: 1.7608 - val_accuracy: 0.4090\n",
      "8/8 [==============================] - 0s 10ms/step - loss: 1.8423 - accuracy: 0.3870\n"
     ]
    },
    {
     "name": "stderr",
     "output_type": "stream",
     "text": [
      " 20%|██        | 2/10 [03:31<13:55, 104.49s/it]"
     ]
    },
    {
     "name": "stdout",
     "output_type": "stream",
     "text": [
      "5/5 [==============================] - 1s 98ms/step - loss: 2.6767 - accuracy: 0.0925 - val_loss: 2.3014 - val_accuracy: 0.0850\n",
      "10/10 [==============================] - 0s 51ms/step - loss: 2.6514 - accuracy: 0.1032 - val_loss: 2.3005 - val_accuracy: 0.1110\n",
      "15/15 [==============================] - 1s 40ms/step - loss: 2.5527 - accuracy: 0.1195 - val_loss: 2.2968 - val_accuracy: 0.1420\n",
      "20/20 [==============================] - 1s 38ms/step - loss: 2.4526 - accuracy: 0.1369 - val_loss: 2.2848 - val_accuracy: 0.1560\n",
      "24/24 [==============================] - 1s 37ms/step - loss: 2.3389 - accuracy: 0.1487 - val_loss: 2.2491 - val_accuracy: 0.1620\n",
      "28/28 [==============================] - 1s 37ms/step - loss: 2.2432 - accuracy: 0.1883 - val_loss: 2.2728 - val_accuracy: 0.1160\n",
      "32/32 [==============================] - 1s 37ms/step - loss: 2.1870 - accuracy: 0.1917 - val_loss: 2.2787 - val_accuracy: 0.1210\n",
      "36/36 [==============================] - 1s 35ms/step - loss: 2.1134 - accuracy: 0.2273 - val_loss: 2.2385 - val_accuracy: 0.1410\n",
      "39/39 [==============================] - 1s 36ms/step - loss: 2.0301 - accuracy: 0.2454 - val_loss: 2.2356 - val_accuracy: 0.1440\n",
      "42/42 [==============================] - 1s 35ms/step - loss: 1.9786 - accuracy: 0.2718 - val_loss: 2.4412 - val_accuracy: 0.1220\n",
      "45/45 [==============================] - 2s 36ms/step - loss: 1.9129 - accuracy: 0.2980 - val_loss: 2.6205 - val_accuracy: 0.1170\n",
      "47/47 [==============================] - 2s 35ms/step - loss: 1.8715 - accuracy: 0.3069 - val_loss: 2.1752 - val_accuracy: 0.1940\n",
      "49/49 [==============================] - 2s 35ms/step - loss: 1.8266 - accuracy: 0.3170 - val_loss: 2.5052 - val_accuracy: 0.1600\n",
      "51/51 [==============================] - 2s 35ms/step - loss: 1.7653 - accuracy: 0.3423 - val_loss: 2.4581 - val_accuracy: 0.1770\n",
      "53/53 [==============================] - 2s 35ms/step - loss: 1.7537 - accuracy: 0.3377 - val_loss: 2.4452 - val_accuracy: 0.1780\n",
      "54/54 [==============================] - 2s 35ms/step - loss: 1.7255 - accuracy: 0.3537 - val_loss: 2.2410 - val_accuracy: 0.2590\n",
      "55/55 [==============================] - 2s 34ms/step - loss: 1.6988 - accuracy: 0.3582 - val_loss: 2.1904 - val_accuracy: 0.2850\n",
      "56/56 [==============================] - 2s 35ms/step - loss: 1.6670 - accuracy: 0.3768 - val_loss: 1.7557 - val_accuracy: 0.3960\n",
      "57/57 [==============================] - 2s 36ms/step - loss: 1.6344 - accuracy: 0.3915 - val_loss: 1.6862 - val_accuracy: 0.3900\n",
      "58/58 [==============================] - 2s 35ms/step - loss: 1.6120 - accuracy: 0.3982 - val_loss: 1.5173 - val_accuracy: 0.4440\n",
      "59/59 [==============================] - 2s 36ms/step - loss: 1.5909 - accuracy: 0.4051 - val_loss: 1.4339 - val_accuracy: 0.4870\n",
      "59/59 [==============================] - 2s 36ms/step - loss: 1.5763 - accuracy: 0.4168 - val_loss: 1.6396 - val_accuracy: 0.4130\n",
      "60/60 [==============================] - 2s 39ms/step - loss: 1.5607 - accuracy: 0.4182 - val_loss: 1.8161 - val_accuracy: 0.3600\n",
      "60/60 [==============================] - 2s 36ms/step - loss: 1.5584 - accuracy: 0.4198 - val_loss: 1.7184 - val_accuracy: 0.3800\n",
      "61/61 [==============================] - 2s 36ms/step - loss: 1.5266 - accuracy: 0.4350 - val_loss: 1.4243 - val_accuracy: 0.4880\n",
      "61/61 [==============================] - 2s 37ms/step - loss: 1.5147 - accuracy: 0.4431 - val_loss: 1.4348 - val_accuracy: 0.4770\n",
      "61/61 [==============================] - 2s 35ms/step - loss: 1.5106 - accuracy: 0.4404 - val_loss: 1.4504 - val_accuracy: 0.4870\n",
      "62/62 [==============================] - 2s 36ms/step - loss: 1.4748 - accuracy: 0.4610 - val_loss: 1.4019 - val_accuracy: 0.4900\n",
      "62/62 [==============================] - 2s 35ms/step - loss: 1.4615 - accuracy: 0.4666 - val_loss: 1.5612 - val_accuracy: 0.4360\n",
      "62/62 [==============================] - 2s 33ms/step - loss: 1.4500 - accuracy: 0.4732 - val_loss: 1.3402 - val_accuracy: 0.5180\n",
      "62/62 [==============================] - 2s 33ms/step - loss: 1.4436 - accuracy: 0.4701 - val_loss: 1.3244 - val_accuracy: 0.5260\n",
      "62/62 [==============================] - 2s 33ms/step - loss: 1.4420 - accuracy: 0.4629 - val_loss: 1.5634 - val_accuracy: 0.4530\n",
      "62/62 [==============================] - 2s 34ms/step - loss: 1.4178 - accuracy: 0.4807 - val_loss: 1.4972 - val_accuracy: 0.4330\n",
      "62/62 [==============================] - 2s 33ms/step - loss: 1.4155 - accuracy: 0.4741 - val_loss: 1.5750 - val_accuracy: 0.4190\n",
      "63/63 [==============================] - 2s 34ms/step - loss: 1.4010 - accuracy: 0.4912 - val_loss: 1.4235 - val_accuracy: 0.4630\n",
      "63/63 [==============================] - 2s 33ms/step - loss: 1.3849 - accuracy: 0.4984 - val_loss: 1.7728 - val_accuracy: 0.3790\n",
      "63/63 [==============================] - 2s 38ms/step - loss: 1.4186 - accuracy: 0.4913 - val_loss: 1.3636 - val_accuracy: 0.5030\n",
      "63/63 [==============================] - 2s 37ms/step - loss: 1.3698 - accuracy: 0.4949 - val_loss: 1.6373 - val_accuracy: 0.4180\n",
      "63/63 [==============================] - 2s 35ms/step - loss: 1.3499 - accuracy: 0.5089 - val_loss: 1.2902 - val_accuracy: 0.5380\n",
      "63/63 [==============================] - 2s 34ms/step - loss: 1.3414 - accuracy: 0.5091 - val_loss: 1.2777 - val_accuracy: 0.5530\n",
      "63/63 [==============================] - 2s 34ms/step - loss: 1.3461 - accuracy: 0.5112 - val_loss: 1.5120 - val_accuracy: 0.4610\n",
      "63/63 [==============================] - 2s 34ms/step - loss: 1.3230 - accuracy: 0.5236 - val_loss: 1.3454 - val_accuracy: 0.5300\n",
      "63/63 [==============================] - 2s 34ms/step - loss: 1.3239 - accuracy: 0.5153 - val_loss: 1.2424 - val_accuracy: 0.5470\n",
      "63/63 [==============================] - 2s 34ms/step - loss: 1.3205 - accuracy: 0.5197 - val_loss: 1.2367 - val_accuracy: 0.5570\n",
      "63/63 [==============================] - 2s 34ms/step - loss: 1.3052 - accuracy: 0.5243 - val_loss: 1.3216 - val_accuracy: 0.5410\n",
      "63/63 [==============================] - 2s 34ms/step - loss: 1.2861 - accuracy: 0.5260 - val_loss: 1.3510 - val_accuracy: 0.5070\n",
      "63/63 [==============================] - 2s 35ms/step - loss: 1.2699 - accuracy: 0.5426 - val_loss: 1.2878 - val_accuracy: 0.5330\n",
      "63/63 [==============================] - 2s 34ms/step - loss: 1.2790 - accuracy: 0.5385 - val_loss: 1.2726 - val_accuracy: 0.5420\n",
      "63/63 [==============================] - 2s 34ms/step - loss: 1.2654 - accuracy: 0.5348 - val_loss: 1.2327 - val_accuracy: 0.5600\n",
      "63/63 [==============================] - 2s 36ms/step - loss: 1.2679 - accuracy: 0.5338 - val_loss: 1.2797 - val_accuracy: 0.5310\n",
      "8/8 [==============================] - 0s 10ms/step - loss: 1.2546 - accuracy: 0.5230\n"
     ]
    },
    {
     "name": "stderr",
     "output_type": "stream",
     "text": [
      " 30%|███       | 3/10 [05:08<11:47, 101.03s/it]"
     ]
    },
    {
     "name": "stdout",
     "output_type": "stream",
     "text": [
      "5/5 [==============================] - 1s 74ms/step - loss: 2.8481 - accuracy: 0.0878 - val_loss: 2.3072 - val_accuracy: 0.0920\n",
      "10/10 [==============================] - 0s 43ms/step - loss: 2.7654 - accuracy: 0.0993 - val_loss: 2.3015 - val_accuracy: 0.1020\n",
      "15/15 [==============================] - 1s 38ms/step - loss: 2.5731 - accuracy: 0.1216 - val_loss: 2.2812 - val_accuracy: 0.1280\n",
      "20/20 [==============================] - 1s 36ms/step - loss: 2.4416 - accuracy: 0.1305 - val_loss: 2.2663 - val_accuracy: 0.1730\n",
      "24/24 [==============================] - 1s 36ms/step - loss: 2.3253 - accuracy: 0.1556 - val_loss: 2.2996 - val_accuracy: 0.1020\n",
      "28/28 [==============================] - 1s 36ms/step - loss: 2.2127 - accuracy: 0.1900 - val_loss: 2.3145 - val_accuracy: 0.1050\n",
      "32/32 [==============================] - 1s 35ms/step - loss: 2.1464 - accuracy: 0.2011 - val_loss: 2.3965 - val_accuracy: 0.0980\n",
      "36/36 [==============================] - 1s 36ms/step - loss: 2.0876 - accuracy: 0.2202 - val_loss: 2.4625 - val_accuracy: 0.0970\n",
      "39/39 [==============================] - 1s 36ms/step - loss: 2.0084 - accuracy: 0.2468 - val_loss: 2.5293 - val_accuracy: 0.0980\n",
      "42/42 [==============================] - 1s 36ms/step - loss: 1.9851 - accuracy: 0.2558 - val_loss: 2.5023 - val_accuracy: 0.1130\n",
      "45/45 [==============================] - 2s 35ms/step - loss: 1.9226 - accuracy: 0.2768 - val_loss: 2.6309 - val_accuracy: 0.1130\n",
      "47/47 [==============================] - 2s 33ms/step - loss: 1.8840 - accuracy: 0.2894 - val_loss: 2.4626 - val_accuracy: 0.1400\n",
      "49/49 [==============================] - 2s 35ms/step - loss: 1.8315 - accuracy: 0.3145 - val_loss: 2.3318 - val_accuracy: 0.2010\n",
      "51/51 [==============================] - 2s 34ms/step - loss: 1.7924 - accuracy: 0.3203 - val_loss: 2.0112 - val_accuracy: 0.3030\n",
      "53/53 [==============================] - 2s 34ms/step - loss: 1.7632 - accuracy: 0.3317 - val_loss: 1.6539 - val_accuracy: 0.4160\n",
      "54/54 [==============================] - 2s 33ms/step - loss: 1.7376 - accuracy: 0.3465 - val_loss: 1.6823 - val_accuracy: 0.3920\n",
      "55/55 [==============================] - 2s 34ms/step - loss: 1.6817 - accuracy: 0.3667 - val_loss: 1.7029 - val_accuracy: 0.3760\n",
      "56/56 [==============================] - 2s 34ms/step - loss: 1.6651 - accuracy: 0.3795 - val_loss: 1.5434 - val_accuracy: 0.4420\n",
      "57/57 [==============================] - 2s 34ms/step - loss: 1.6534 - accuracy: 0.3835 - val_loss: 1.9174 - val_accuracy: 0.3100\n",
      "58/58 [==============================] - 2s 33ms/step - loss: 1.6313 - accuracy: 0.3865 - val_loss: 1.5495 - val_accuracy: 0.4440\n",
      "59/59 [==============================] - 2s 33ms/step - loss: 1.5927 - accuracy: 0.4098 - val_loss: 1.7881 - val_accuracy: 0.3580\n",
      "59/59 [==============================] - 2s 36ms/step - loss: 1.5891 - accuracy: 0.4095 - val_loss: 1.5238 - val_accuracy: 0.4340\n",
      "60/60 [==============================] - 2s 34ms/step - loss: 1.5544 - accuracy: 0.4244 - val_loss: 1.7171 - val_accuracy: 0.3860\n",
      "60/60 [==============================] - 2s 34ms/step - loss: 1.5522 - accuracy: 0.4329 - val_loss: 1.6716 - val_accuracy: 0.3680\n",
      "61/61 [==============================] - 2s 34ms/step - loss: 1.5190 - accuracy: 0.4381 - val_loss: 1.6995 - val_accuracy: 0.3840\n",
      "61/61 [==============================] - 2s 34ms/step - loss: 1.5109 - accuracy: 0.4476 - val_loss: 1.5045 - val_accuracy: 0.4420\n",
      "61/61 [==============================] - 2s 35ms/step - loss: 1.4888 - accuracy: 0.4476 - val_loss: 1.3941 - val_accuracy: 0.4970\n",
      "62/62 [==============================] - 2s 35ms/step - loss: 1.4874 - accuracy: 0.4547 - val_loss: 1.6278 - val_accuracy: 0.3910\n",
      "62/62 [==============================] - 2s 35ms/step - loss: 1.4707 - accuracy: 0.4611 - val_loss: 1.6258 - val_accuracy: 0.4330\n",
      "62/62 [==============================] - 2s 34ms/step - loss: 1.4485 - accuracy: 0.4758 - val_loss: 1.8644 - val_accuracy: 0.3630\n",
      "62/62 [==============================] - 2s 34ms/step - loss: 1.4385 - accuracy: 0.4743 - val_loss: 1.4190 - val_accuracy: 0.4680\n",
      "62/62 [==============================] - 2s 35ms/step - loss: 1.4255 - accuracy: 0.4862 - val_loss: 1.4318 - val_accuracy: 0.4670\n",
      "62/62 [==============================] - 2s 34ms/step - loss: 1.4215 - accuracy: 0.4760 - val_loss: 1.4301 - val_accuracy: 0.4610\n",
      "62/62 [==============================] - 2s 35ms/step - loss: 1.4150 - accuracy: 0.4831 - val_loss: 1.5603 - val_accuracy: 0.4480\n",
      "63/63 [==============================] - 2s 35ms/step - loss: 1.3785 - accuracy: 0.4960 - val_loss: 1.3694 - val_accuracy: 0.5250\n",
      "63/63 [==============================] - 2s 35ms/step - loss: 1.3842 - accuracy: 0.4997 - val_loss: 1.7042 - val_accuracy: 0.4250\n",
      "63/63 [==============================] - 2s 37ms/step - loss: 1.3899 - accuracy: 0.4921 - val_loss: 1.3383 - val_accuracy: 0.4970\n",
      "63/63 [==============================] - 3s 40ms/step - loss: 1.3663 - accuracy: 0.5075 - val_loss: 1.4218 - val_accuracy: 0.4940\n",
      "63/63 [==============================] - 2s 36ms/step - loss: 1.3414 - accuracy: 0.5136 - val_loss: 1.3477 - val_accuracy: 0.5250\n",
      "63/63 [==============================] - 2s 37ms/step - loss: 1.3448 - accuracy: 0.5105 - val_loss: 1.3253 - val_accuracy: 0.5040\n",
      "63/63 [==============================] - 2s 36ms/step - loss: 1.3367 - accuracy: 0.5090 - val_loss: 1.4112 - val_accuracy: 0.4840\n",
      "63/63 [==============================] - 2s 35ms/step - loss: 1.3022 - accuracy: 0.5254 - val_loss: 2.3676 - val_accuracy: 0.3090\n",
      "63/63 [==============================] - 2s 36ms/step - loss: 1.3075 - accuracy: 0.5276 - val_loss: 1.3977 - val_accuracy: 0.4810\n",
      "63/63 [==============================] - 2s 37ms/step - loss: 1.3007 - accuracy: 0.5254 - val_loss: 1.3235 - val_accuracy: 0.5190\n",
      "63/63 [==============================] - 2s 35ms/step - loss: 1.3037 - accuracy: 0.5228 - val_loss: 1.3098 - val_accuracy: 0.5260\n",
      "63/63 [==============================] - 2s 35ms/step - loss: 1.2815 - accuracy: 0.5349 - val_loss: 1.6488 - val_accuracy: 0.4280\n",
      "63/63 [==============================] - 2s 35ms/step - loss: 1.2758 - accuracy: 0.5411 - val_loss: 1.3815 - val_accuracy: 0.5210\n",
      "63/63 [==============================] - 2s 34ms/step - loss: 1.2799 - accuracy: 0.5380 - val_loss: 1.3817 - val_accuracy: 0.5000\n",
      "63/63 [==============================] - 2s 36ms/step - loss: 1.2713 - accuracy: 0.5403 - val_loss: 1.5639 - val_accuracy: 0.4420\n",
      "63/63 [==============================] - 2s 35ms/step - loss: 1.2504 - accuracy: 0.5464 - val_loss: 1.4026 - val_accuracy: 0.5000\n",
      "8/8 [==============================] - 0s 9ms/step - loss: 1.3587 - accuracy: 0.4910\n"
     ]
    },
    {
     "name": "stderr",
     "output_type": "stream",
     "text": [
      " 40%|████      | 4/10 [06:44<09:55, 99.29s/it] "
     ]
    },
    {
     "name": "stdout",
     "output_type": "stream",
     "text": [
      "5/5 [==============================] - 1s 97ms/step - loss: 2.8646 - accuracy: 0.0940 - val_loss: 2.3009 - val_accuracy: 0.1200\n",
      "10/10 [==============================] - 0s 45ms/step - loss: 2.7078 - accuracy: 0.1127 - val_loss: 2.2912 - val_accuracy: 0.1210\n",
      "15/15 [==============================] - 1s 39ms/step - loss: 2.5440 - accuracy: 0.1184 - val_loss: 2.2687 - val_accuracy: 0.1270\n",
      "20/20 [==============================] - 1s 38ms/step - loss: 2.4077 - accuracy: 0.1527 - val_loss: 2.2438 - val_accuracy: 0.1690\n",
      "24/24 [==============================] - 1s 38ms/step - loss: 2.2605 - accuracy: 0.1632 - val_loss: 2.2341 - val_accuracy: 0.1910\n",
      "28/28 [==============================] - 1s 38ms/step - loss: 2.1830 - accuracy: 0.1970 - val_loss: 2.2437 - val_accuracy: 0.1670\n",
      "32/32 [==============================] - 1s 38ms/step - loss: 2.1012 - accuracy: 0.2294 - val_loss: 2.2511 - val_accuracy: 0.1360\n",
      "36/36 [==============================] - 1s 39ms/step - loss: 2.0424 - accuracy: 0.2355 - val_loss: 2.2297 - val_accuracy: 0.1370\n",
      "39/39 [==============================] - 1s 36ms/step - loss: 1.9898 - accuracy: 0.2563 - val_loss: 2.2417 - val_accuracy: 0.1500\n",
      "42/42 [==============================] - 2s 36ms/step - loss: 1.9347 - accuracy: 0.2750 - val_loss: 2.0744 - val_accuracy: 0.2170\n",
      "45/45 [==============================] - 2s 35ms/step - loss: 1.8820 - accuracy: 0.2851 - val_loss: 1.9587 - val_accuracy: 0.2470\n",
      "21/47 [============>.................] - ETA: 0s - loss: 1.8540 - accuracy: 0.3021"
     ]
    }
   ],
   "source": [
    "results = {}\n",
    "# test_models = [\"test_model_1\", \"test_model_2\", \"test_model_3\"]\n",
    "test_models = [\"test_model_1\"]\n",
    "\n",
    "\n",
    "for test_model in test_models:\n",
    "    print(test_model)\n",
    "    model_scores = []\n",
    "\n",
    "    for _ in tqdm(range(N_TRIALS)):\n",
    "        model = ClassifierModel(output_shape=n_classes, **models_hyperparameters[test_model])\n",
    "        model.compile(optimizer=\"adam\", loss=loss, metrics=[\"accuracy\"])\n",
    "\n",
    "        for i in range(N_EPOCHS):\n",
    "            n_samples = int(np.tanh(4 * (i + 1) / N_EPOCHS) * train_size)\n",
    "\n",
    "            utils.chose_samples(n_samples, samples_proba, CONFIG[\"order_type\"])\n",
    "            samples_ids = np.random.choice(range(train_size), size=n_samples, replace=False)\n",
    "\n",
    "            model.fit(\n",
    "                x_train_sorted[samples_ids],\n",
    "                y_train_sorted[samples_ids],\n",
    "                validation_data=(x_val, y_val),\n",
    "                epochs=1,\n",
    "                batch_size=BATCH_SIZE,\n",
    "                verbose=1,\n",
    "            )\n",
    "            \n",
    "            if CONFIG[\"progressive\"]:\n",
    "                samples_proba = utils.calculate_proba(\n",
    "                    model, x_train_sorted, y_train_sorted, counts, CONFIG[\"negative_loss\"]\n",
    "                )\n",
    "\n",
    "        _, accuracy = model.evaluate(x_test, y_test, batch_size=BATCH_SIZE, verbose=1)\n",
    "\n",
    "        model_scores.append(accuracy)\n",
    "\n",
    "    results[test_model] = model_scores"
   ],
   "metadata": {
    "collapsed": false,
    "is_executing": true,
    "ExecuteTime": {
     "start_time": "2024-02-25T18:22:07.462292Z"
    }
   },
   "id": "ce9112b33b1ada44"
  },
  {
   "cell_type": "code",
   "execution_count": 56,
   "outputs": [
    {
     "data": {
      "text/plain": "{'test_model_1': [0.5180000066757202,\n  0.5109999775886536,\n  0.5189999938011169,\n  0.414000004529953,\n  0.5080000162124634]}"
     },
     "execution_count": 56,
     "metadata": {},
     "output_type": "execute_result"
    }
   ],
   "source": [
    "results"
   ],
   "metadata": {
    "collapsed": false,
    "ExecuteTime": {
     "end_time": "2024-02-24T19:52:05.893138Z",
     "start_time": "2024-02-24T19:52:05.889974Z"
    }
   },
   "id": "d551d3d3c24e87d6"
  },
  {
   "cell_type": "code",
   "execution_count": 57,
   "outputs": [
    {
     "data": {
      "text/plain": "0.49399999976158143"
     },
     "execution_count": 57,
     "metadata": {},
     "output_type": "execute_result"
    }
   ],
   "source": [
    "sum(results[\"test_model_1\"]) / 5"
   ],
   "metadata": {
    "collapsed": false,
    "ExecuteTime": {
     "end_time": "2024-02-24T19:52:13.556572Z",
     "start_time": "2024-02-24T19:52:13.554579Z"
    }
   },
   "id": "d7c19f6278654c3b"
  },
  {
   "cell_type": "code",
   "execution_count": null,
   "outputs": [],
   "source": [
    "rs1 = results[\"test_model_1\"][:]"
   ],
   "metadata": {
    "collapsed": false
   },
   "id": "f392255c3a642031"
  },
  {
   "cell_type": "code",
   "execution_count": null,
   "outputs": [],
   "source": [
    "rs2 = results[\"test_model_1\"][:]"
   ],
   "metadata": {
    "collapsed": false
   },
   "id": "94b927182fa9bb20"
  },
  {
   "cell_type": "code",
   "execution_count": null,
   "outputs": [],
   "source": [
    "stats.ttest_ind(rs1, rs2)"
   ],
   "metadata": {
    "collapsed": false
   },
   "id": "fa46743e38493106"
  }
 ],
 "metadata": {
  "kernelspec": {
   "display_name": "Python 3",
   "language": "python",
   "name": "python3"
  },
  "language_info": {
   "codemirror_mode": {
    "name": "ipython",
    "version": 2
   },
   "file_extension": ".py",
   "mimetype": "text/x-python",
   "name": "python",
   "nbconvert_exporter": "python",
   "pygments_lexer": "ipython2",
   "version": "2.7.6"
  }
 },
 "nbformat": 4,
 "nbformat_minor": 5
}
