{
 "cells": [
  {
   "cell_type": "code",
   "execution_count": 52,
   "id": "initial_id",
   "metadata": {
    "collapsed": true,
    "ExecuteTime": {
     "end_time": "2024-02-20T18:51:17.940099Z",
     "start_time": "2024-02-20T18:51:17.933080Z"
    }
   },
   "outputs": [],
   "source": [
    "import numpy as np\n",
    "import tensorflow as tf\n",
    "from curriculum_learning.models.classifier_model import ClassifierModel\n",
    "from curriculum_learning import utils\n",
    "import yaml\n",
    "from tqdm import tqdm\n",
    "from sklearn.model_selection import train_test_split\n",
    "import matplotlib.pyplot as plt"
   ]
  },
  {
   "cell_type": "code",
   "execution_count": 53,
   "outputs": [],
   "source": [
    "N_EPOCHS = 50\n",
    "N_TRIALS = 3\n",
    "BATCH_SIZE = 256\n",
    "\n",
    "loss = tf.keras.losses.SparseCategoricalCrossentropy()"
   ],
   "metadata": {
    "collapsed": false,
    "ExecuteTime": {
     "end_time": "2024-02-20T18:51:18.266461Z",
     "start_time": "2024-02-20T18:51:18.255725Z"
    }
   },
   "id": "bab2c3f4ef4cf399"
  },
  {
   "cell_type": "code",
   "execution_count": 54,
   "outputs": [],
   "source": [
    "with open(\"models_hyperparameters.yaml\", \"r\") as stream:\n",
    "    models_hyperparameters = yaml.safe_load(stream)\n",
    "    \n",
    "x, y = utils.load_data(\"../data/cifar-10-batches-py/data_batch_1\")\n",
    "x_train, x_test, y_train, y_test = train_test_split(x, y, test_size=0.3, random_state=42)\n",
    "x_test, x_val, y_test, y_val = train_test_split(x_test, y_test, test_size=0.5, random_state=42)\n",
    "\n",
    "train_size = x_train.shape[0]"
   ],
   "metadata": {
    "collapsed": false,
    "ExecuteTime": {
     "end_time": "2024-02-20T18:51:18.603226Z",
     "start_time": "2024-02-20T18:51:18.501734Z"
    }
   },
   "id": "8424e92d91deb0ac"
  },
  {
   "cell_type": "code",
   "execution_count": 55,
   "outputs": [],
   "source": [
    "noise = 30\n",
    "x_train = np.clip(x_train + np.random.normal(0, noise, x_train.shape), 0, 255) / 255\n",
    "x_val = np.clip(x_val + np.random.normal(0, noise, x_val.shape), 0, 255) / 255\n",
    "x_test = np.clip(x_test + np.random.normal(0, noise, x_test.shape), 0, 255) / 255"
   ],
   "metadata": {
    "collapsed": false,
    "ExecuteTime": {
     "end_time": "2024-02-20T18:51:19.550544Z",
     "start_time": "2024-02-20T18:51:18.834059Z"
    }
   },
   "id": "7610b74207fb2df0"
  },
  {
   "cell_type": "code",
   "execution_count": 56,
   "outputs": [
    {
     "name": "stdout",
     "output_type": "stream",
     "text": [
      "Epoch 1/60\n",
      "28/28 [==============================] - 2s 44ms/step - loss: 2.5682 - accuracy: 0.1187\n",
      "Epoch 2/60\n",
      "28/28 [==============================] - 1s 45ms/step - loss: 2.2211 - accuracy: 0.1963\n",
      "Epoch 3/60\n",
      "28/28 [==============================] - 1s 51ms/step - loss: 2.1110 - accuracy: 0.2316\n",
      "Epoch 4/60\n",
      "28/28 [==============================] - 2s 54ms/step - loss: 2.0196 - accuracy: 0.2593\n",
      "Epoch 5/60\n",
      "28/28 [==============================] - 2s 58ms/step - loss: 1.9400 - accuracy: 0.2900\n",
      "Epoch 6/60\n",
      "28/28 [==============================] - 2s 56ms/step - loss: 1.8830 - accuracy: 0.3056\n",
      "Epoch 7/60\n",
      "28/28 [==============================] - 2s 56ms/step - loss: 1.8353 - accuracy: 0.3176\n",
      "Epoch 8/60\n",
      "28/28 [==============================] - 1s 48ms/step - loss: 1.8046 - accuracy: 0.3344\n",
      "Epoch 9/60\n",
      "28/28 [==============================] - 1s 49ms/step - loss: 1.7718 - accuracy: 0.3444\n",
      "Epoch 10/60\n",
      "28/28 [==============================] - 2s 54ms/step - loss: 1.7445 - accuracy: 0.3634\n",
      "Epoch 11/60\n",
      "28/28 [==============================] - 1s 51ms/step - loss: 1.7147 - accuracy: 0.3546\n",
      "Epoch 12/60\n",
      "28/28 [==============================] - 1s 51ms/step - loss: 1.6936 - accuracy: 0.3736\n",
      "Epoch 13/60\n",
      "28/28 [==============================] - 1s 34ms/step - loss: 1.6577 - accuracy: 0.3800\n",
      "Epoch 14/60\n",
      "28/28 [==============================] - 1s 36ms/step - loss: 1.6255 - accuracy: 0.3923\n",
      "Epoch 15/60\n",
      "28/28 [==============================] - 1s 48ms/step - loss: 1.6130 - accuracy: 0.3967\n",
      "Epoch 16/60\n",
      "28/28 [==============================] - 1s 47ms/step - loss: 1.5950 - accuracy: 0.4077\n",
      "Epoch 17/60\n",
      "28/28 [==============================] - 1s 53ms/step - loss: 1.5794 - accuracy: 0.4161\n",
      "Epoch 18/60\n",
      "28/28 [==============================] - 1s 45ms/step - loss: 1.5557 - accuracy: 0.4170\n",
      "Epoch 19/60\n",
      "28/28 [==============================] - 1s 50ms/step - loss: 1.5248 - accuracy: 0.4319\n",
      "Epoch 20/60\n",
      "28/28 [==============================] - 1s 50ms/step - loss: 1.5085 - accuracy: 0.4494\n",
      "Epoch 21/60\n",
      "28/28 [==============================] - 2s 55ms/step - loss: 1.5128 - accuracy: 0.4394\n",
      "Epoch 22/60\n",
      "28/28 [==============================] - 2s 57ms/step - loss: 1.4902 - accuracy: 0.4504\n",
      "Epoch 23/60\n",
      "28/28 [==============================] - 1s 50ms/step - loss: 1.4654 - accuracy: 0.4560\n",
      "Epoch 24/60\n",
      "28/28 [==============================] - 1s 48ms/step - loss: 1.4565 - accuracy: 0.4627\n",
      "Epoch 25/60\n",
      "28/28 [==============================] - 1s 47ms/step - loss: 1.4460 - accuracy: 0.4726\n",
      "Epoch 26/60\n",
      "28/28 [==============================] - 1s 51ms/step - loss: 1.4445 - accuracy: 0.4677\n",
      "Epoch 27/60\n",
      "28/28 [==============================] - 1s 52ms/step - loss: 1.4176 - accuracy: 0.4826\n",
      "Epoch 28/60\n",
      "28/28 [==============================] - 2s 55ms/step - loss: 1.4208 - accuracy: 0.4724\n",
      "Epoch 29/60\n",
      "28/28 [==============================] - 1s 51ms/step - loss: 1.3989 - accuracy: 0.4841\n",
      "Epoch 30/60\n",
      "28/28 [==============================] - 1s 49ms/step - loss: 1.3872 - accuracy: 0.4826\n",
      "Epoch 31/60\n",
      "28/28 [==============================] - 1s 49ms/step - loss: 1.3835 - accuracy: 0.4897\n",
      "Epoch 32/60\n",
      "28/28 [==============================] - 1s 51ms/step - loss: 1.3780 - accuracy: 0.4920\n",
      "Epoch 33/60\n",
      "28/28 [==============================] - 2s 54ms/step - loss: 1.3738 - accuracy: 0.4931\n",
      "Epoch 34/60\n",
      "28/28 [==============================] - 1s 51ms/step - loss: 1.3662 - accuracy: 0.5034\n",
      "Epoch 35/60\n",
      "28/28 [==============================] - 1s 51ms/step - loss: 1.3579 - accuracy: 0.5036\n",
      "Epoch 36/60\n",
      "28/28 [==============================] - 1s 50ms/step - loss: 1.3446 - accuracy: 0.5059\n",
      "Epoch 37/60\n",
      "28/28 [==============================] - 1s 50ms/step - loss: 1.3400 - accuracy: 0.5116\n",
      "Epoch 38/60\n",
      "28/28 [==============================] - 2s 61ms/step - loss: 1.3330 - accuracy: 0.5041\n",
      "Epoch 39/60\n",
      "28/28 [==============================] - 1s 50ms/step - loss: 1.3198 - accuracy: 0.5177\n",
      "Epoch 40/60\n",
      "28/28 [==============================] - 1s 50ms/step - loss: 1.3034 - accuracy: 0.5266\n",
      "Epoch 41/60\n",
      "28/28 [==============================] - 1s 52ms/step - loss: 1.3029 - accuracy: 0.5230\n",
      "Epoch 42/60\n",
      "28/28 [==============================] - 1s 51ms/step - loss: 1.2933 - accuracy: 0.5249\n",
      "Epoch 43/60\n",
      "28/28 [==============================] - 2s 54ms/step - loss: 1.2825 - accuracy: 0.5316\n",
      "Epoch 44/60\n",
      "28/28 [==============================] - 1s 50ms/step - loss: 1.2871 - accuracy: 0.5257\n",
      "Epoch 45/60\n",
      "28/28 [==============================] - 1s 46ms/step - loss: 1.2649 - accuracy: 0.5446\n",
      "Epoch 46/60\n",
      "28/28 [==============================] - 1s 50ms/step - loss: 1.2699 - accuracy: 0.5376\n",
      "Epoch 47/60\n",
      "28/28 [==============================] - 1s 51ms/step - loss: 1.2479 - accuracy: 0.5461\n",
      "Epoch 48/60\n",
      "28/28 [==============================] - 1s 53ms/step - loss: 1.2448 - accuracy: 0.5456\n",
      "Epoch 49/60\n",
      "28/28 [==============================] - 1s 52ms/step - loss: 1.2383 - accuracy: 0.5423\n",
      "Epoch 50/60\n",
      "28/28 [==============================] - 1s 50ms/step - loss: 1.2582 - accuracy: 0.5396\n",
      "Epoch 51/60\n",
      "28/28 [==============================] - 1s 50ms/step - loss: 1.2248 - accuracy: 0.5446\n",
      "Epoch 52/60\n",
      "28/28 [==============================] - 1s 52ms/step - loss: 1.2233 - accuracy: 0.5434\n",
      "Epoch 53/60\n",
      "28/28 [==============================] - 1s 46ms/step - loss: 1.2392 - accuracy: 0.5480\n",
      "Epoch 54/60\n",
      "28/28 [==============================] - 1s 49ms/step - loss: 1.2084 - accuracy: 0.5583\n",
      "Epoch 55/60\n",
      "28/28 [==============================] - 2s 54ms/step - loss: 1.1985 - accuracy: 0.5630\n",
      "Epoch 56/60\n",
      "28/28 [==============================] - 2s 60ms/step - loss: 1.1865 - accuracy: 0.5634\n",
      "Epoch 57/60\n",
      "28/28 [==============================] - 1s 51ms/step - loss: 1.1884 - accuracy: 0.5627\n",
      "Epoch 58/60\n",
      "28/28 [==============================] - 1s 47ms/step - loss: 1.1903 - accuracy: 0.5610\n",
      "Epoch 59/60\n",
      "28/28 [==============================] - 1s 37ms/step - loss: 1.1760 - accuracy: 0.5650\n",
      "Epoch 60/60\n",
      "28/28 [==============================] - 1s 30ms/step - loss: 1.1820 - accuracy: 0.5627\n"
     ]
    },
    {
     "data": {
      "text/plain": "<keras.src.callbacks.History at 0x29ad751e0>"
     },
     "execution_count": 56,
     "metadata": {},
     "output_type": "execute_result"
    }
   ],
   "source": [
    "assessment_model = ClassifierModel(output_shape=10, **models_hyperparameters[\"assessment_model\"])\n",
    "\n",
    "assessment_model.compile(optimizer='adam', loss=loss, metrics=['accuracy'])\n",
    "        \n",
    "assessment_model.fit(x_train, y_train, epochs=60, batch_size=BATCH_SIZE)"
   ],
   "metadata": {
    "collapsed": false,
    "ExecuteTime": {
     "end_time": "2024-02-20T18:52:44.338692Z",
     "start_time": "2024-02-20T18:51:19.550972Z"
    }
   },
   "id": "bdafb8a9c136f286"
  },
  {
   "cell_type": "code",
   "execution_count": 57,
   "outputs": [],
   "source": [
    "y_pred_assessment = assessment_model.predict(x_train, verbose=0)\n",
    "\n",
    "losses_assessment = utils.calculate_loss_per_sample(y_train, y_pred_assessment, loss)\n",
    "losses_proba = np.exp(losses_assessment) / sum(np.exp(losses_assessment))"
   ],
   "metadata": {
    "collapsed": false,
    "ExecuteTime": {
     "end_time": "2024-02-20T18:52:51.327630Z",
     "start_time": "2024-02-20T18:52:44.331670Z"
    }
   },
   "id": "b6b8d2b35609d828"
  },
  {
   "cell_type": "code",
   "execution_count": 58,
   "outputs": [],
   "source": [
    "results = {}\n",
    "\n",
    "# test_models = [\"test_model_1\", \"test_model_2\", \"test_model_3\"]\n",
    "test_models = [\"test_model_1\"]"
   ],
   "metadata": {
    "collapsed": false,
    "ExecuteTime": {
     "end_time": "2024-02-20T18:52:51.336112Z",
     "start_time": "2024-02-20T18:52:51.328205Z"
    }
   },
   "id": "fe21ef1466862a11"
  },
  {
   "cell_type": "code",
   "execution_count": null,
   "outputs": [
    {
     "name": "stdout",
     "output_type": "stream",
     "text": [
      "test_model_1\n"
     ]
    },
    {
     "name": "stderr",
     "output_type": "stream",
     "text": [
      "  0%|          | 0/3 [00:00<?, ?it/s]"
     ]
    },
    {
     "name": "stdout",
     "output_type": "stream",
     "text": [
      "3/3 [==============================] - 1s 84ms/step - loss: 2.7302 - accuracy: 0.0842 - val_loss: 2.3029 - val_accuracy: 0.0900\n",
      "5/5 [==============================] - 0s 41ms/step - loss: 2.5878 - accuracy: 0.1189 - val_loss: 2.3032 - val_accuracy: 0.1007\n",
      "7/7 [==============================] - 0s 39ms/step - loss: 2.6590 - accuracy: 0.0880 - val_loss: 2.3020 - val_accuracy: 0.1260\n",
      "9/9 [==============================] - 0s 35ms/step - loss: 2.5556 - accuracy: 0.1131 - val_loss: 2.2989 - val_accuracy: 0.1387\n",
      "11/11 [==============================] - 0s 33ms/step - loss: 2.5104 - accuracy: 0.1147 - val_loss: 2.2956 - val_accuracy: 0.1513\n",
      "13/13 [==============================] - 0s 35ms/step - loss: 2.4129 - accuracy: 0.1467 - val_loss: 2.2878 - val_accuracy: 0.1533\n",
      "14/14 [==============================] - 0s 33ms/step - loss: 2.3622 - accuracy: 0.1466 - val_loss: 2.2701 - val_accuracy: 0.1780\n",
      "16/16 [==============================] - 0s 31ms/step - loss: 2.3003 - accuracy: 0.1657 - val_loss: 2.2441 - val_accuracy: 0.1847\n",
      "17/17 [==============================] - 1s 33ms/step - loss: 2.2255 - accuracy: 0.1846 - val_loss: 2.2090 - val_accuracy: 0.1700\n",
      "19/19 [==============================] - 1s 31ms/step - loss: 2.1622 - accuracy: 0.1990 - val_loss: 2.1837 - val_accuracy: 0.1600\n",
      "20/20 [==============================] - 1s 33ms/step - loss: 2.1252 - accuracy: 0.2035 - val_loss: 2.1610 - val_accuracy: 0.1507\n",
      "21/21 [==============================] - 1s 32ms/step - loss: 2.0630 - accuracy: 0.2313 - val_loss: 2.3332 - val_accuracy: 0.1187\n",
      "22/22 [==============================] - 1s 44ms/step - loss: 2.0087 - accuracy: 0.2520 - val_loss: 2.2867 - val_accuracy: 0.1387\n",
      "23/23 [==============================] - 1s 33ms/step - loss: 1.9708 - accuracy: 0.2702 - val_loss: 2.3354 - val_accuracy: 0.1367\n",
      "23/23 [==============================] - 1s 32ms/step - loss: 1.9290 - accuracy: 0.2776 - val_loss: 2.3337 - val_accuracy: 0.1493\n",
      "24/24 [==============================] - 1s 34ms/step - loss: 1.8791 - accuracy: 0.3073 - val_loss: 2.5767 - val_accuracy: 0.1193\n",
      "24/24 [==============================] - 1s 34ms/step - loss: 1.8519 - accuracy: 0.3032 - val_loss: 2.2834 - val_accuracy: 0.1727\n",
      "25/25 [==============================] - 1s 33ms/step - loss: 1.8207 - accuracy: 0.3229 - val_loss: 2.5236 - val_accuracy: 0.1407\n",
      "25/25 [==============================] - 1s 33ms/step - loss: 1.8004 - accuracy: 0.3266 - val_loss: 2.3958 - val_accuracy: 0.1813\n",
      "26/26 [==============================] - 1s 32ms/step - loss: 1.7817 - accuracy: 0.3283 - val_loss: 2.1461 - val_accuracy: 0.2420\n",
      "26/26 [==============================] - 1s 31ms/step - loss: 1.7436 - accuracy: 0.3455 - val_loss: 2.0804 - val_accuracy: 0.2920\n",
      "26/26 [==============================] - 1s 41ms/step - loss: 1.7170 - accuracy: 0.3576 - val_loss: 1.9984 - val_accuracy: 0.3147\n",
      "26/26 [==============================] - 1s 35ms/step - loss: 1.7018 - accuracy: 0.3629 - val_loss: 2.0502 - val_accuracy: 0.3033\n",
      "27/27 [==============================] - 1s 38ms/step - loss: 1.6804 - accuracy: 0.3739 - val_loss: 1.9301 - val_accuracy: 0.3353\n",
      "27/27 [==============================] - 1s 36ms/step - loss: 1.6641 - accuracy: 0.3843 - val_loss: 1.9048 - val_accuracy: 0.3507\n",
      "27/27 [==============================] - 1s 31ms/step - loss: 1.6362 - accuracy: 0.3924 - val_loss: 1.6974 - val_accuracy: 0.4107\n",
      "27/27 [==============================] - 1s 34ms/step - loss: 1.6080 - accuracy: 0.3998 - val_loss: 1.6973 - val_accuracy: 0.4127\n",
      "27/27 [==============================] - 1s 32ms/step - loss: 1.5925 - accuracy: 0.4146 - val_loss: 1.6620 - val_accuracy: 0.4220\n",
      "27/27 [==============================] - 1s 35ms/step - loss: 1.5799 - accuracy: 0.4103 - val_loss: 1.4824 - val_accuracy: 0.4500\n",
      "27/27 [==============================] - 1s 35ms/step - loss: 1.5640 - accuracy: 0.4196 - val_loss: 1.5698 - val_accuracy: 0.4380\n",
      "27/27 [==============================] - 1s 34ms/step - loss: 1.5501 - accuracy: 0.4264 - val_loss: 1.5761 - val_accuracy: 0.4553\n",
      "28/28 [==============================] - 1s 34ms/step - loss: 1.5405 - accuracy: 0.4206 - val_loss: 1.6353 - val_accuracy: 0.4247\n",
      "28/28 [==============================] - 1s 33ms/step - loss: 1.5338 - accuracy: 0.4269 - val_loss: 1.4493 - val_accuracy: 0.4740\n",
      "28/28 [==============================] - 1s 31ms/step - loss: 1.5142 - accuracy: 0.4421 - val_loss: 1.6227 - val_accuracy: 0.4420\n",
      "28/28 [==============================] - 1s 31ms/step - loss: 1.4965 - accuracy: 0.4447 - val_loss: 1.4836 - val_accuracy: 0.4620\n",
      "28/28 [==============================] - 1s 30ms/step - loss: 1.4826 - accuracy: 0.4518 - val_loss: 1.4180 - val_accuracy: 0.4887\n",
      "28/28 [==============================] - 1s 30ms/step - loss: 1.4694 - accuracy: 0.4527 - val_loss: 1.4206 - val_accuracy: 0.4827\n",
      "28/28 [==============================] - 1s 30ms/step - loss: 1.4633 - accuracy: 0.4512 - val_loss: 1.6366 - val_accuracy: 0.4327\n",
      "28/28 [==============================] - 1s 31ms/step - loss: 1.4392 - accuracy: 0.4676 - val_loss: 1.3952 - val_accuracy: 0.4940\n",
      "28/28 [==============================] - 1s 32ms/step - loss: 1.4415 - accuracy: 0.4679 - val_loss: 1.3659 - val_accuracy: 0.5133\n",
      "28/28 [==============================] - 1s 37ms/step - loss: 1.4137 - accuracy: 0.4723 - val_loss: 1.3866 - val_accuracy: 0.4973\n",
      "28/28 [==============================] - 1s 32ms/step - loss: 1.4203 - accuracy: 0.4837 - val_loss: 1.4635 - val_accuracy: 0.4873\n",
      "28/28 [==============================] - 1s 34ms/step - loss: 1.4139 - accuracy: 0.4815 - val_loss: 1.4228 - val_accuracy: 0.5107\n",
      "28/28 [==============================] - 1s 34ms/step - loss: 1.3909 - accuracy: 0.4858 - val_loss: 1.4079 - val_accuracy: 0.4953\n",
      "28/28 [==============================] - 1s 31ms/step - loss: 1.3835 - accuracy: 0.4909 - val_loss: 1.4611 - val_accuracy: 0.4920\n",
      "LAST EPOCH: 44\n",
      "6/6 [==============================] - 0s 13ms/step - loss: 1.4364 - accuracy: 0.4680\n"
     ]
    },
    {
     "name": "stderr",
     "output_type": "stream",
     "text": [
      " 33%|███▎      | 1/3 [00:40<01:20, 40.15s/it]"
     ]
    },
    {
     "name": "stdout",
     "output_type": "stream",
     "text": [
      "3/3 [==============================] - 1s 102ms/step - loss: 2.7168 - accuracy: 0.1093 - val_loss: 2.3054 - val_accuracy: 0.0907\n",
      "5/5 [==============================] - 0s 53ms/step - loss: 2.6310 - accuracy: 0.1045 - val_loss: 2.3027 - val_accuracy: 0.1013\n",
      "7/7 [==============================] - 0s 42ms/step - loss: 2.5601 - accuracy: 0.1159 - val_loss: 2.2979 - val_accuracy: 0.1340\n",
      "9/9 [==============================] - 0s 42ms/step - loss: 2.5397 - accuracy: 0.1154 - val_loss: 2.2909 - val_accuracy: 0.1533\n",
      "11/11 [==============================] - 0s 35ms/step - loss: 2.4216 - accuracy: 0.1369 - val_loss: 2.2822 - val_accuracy: 0.1600\n",
      "13/13 [==============================] - 0s 32ms/step - loss: 2.3698 - accuracy: 0.1470 - val_loss: 2.2731 - val_accuracy: 0.1540\n",
      "14/14 [==============================] - 0s 34ms/step - loss: 2.3008 - accuracy: 0.1626 - val_loss: 2.2851 - val_accuracy: 0.1267\n",
      "16/16 [==============================] - 1s 34ms/step - loss: 2.2417 - accuracy: 0.1700 - val_loss: 2.3063 - val_accuracy: 0.1193\n",
      "17/17 [==============================] - 1s 35ms/step - loss: 2.1587 - accuracy: 0.2019 - val_loss: 2.3096 - val_accuracy: 0.1293\n",
      "19/19 [==============================] - 1s 34ms/step - loss: 2.1329 - accuracy: 0.2020 - val_loss: 2.3531 - val_accuracy: 0.1273\n",
      "20/20 [==============================] - 1s 42ms/step - loss: 2.0702 - accuracy: 0.2184 - val_loss: 2.3616 - val_accuracy: 0.1267\n",
      "21/21 [==============================] - 1s 36ms/step - loss: 2.0241 - accuracy: 0.2357 - val_loss: 2.3704 - val_accuracy: 0.1267\n",
      "22/22 [==============================] - 1s 36ms/step - loss: 1.9955 - accuracy: 0.2599 - val_loss: 2.4388 - val_accuracy: 0.1227\n",
      "23/23 [==============================] - 1s 33ms/step - loss: 1.9313 - accuracy: 0.2788 - val_loss: 2.5255 - val_accuracy: 0.1127\n",
      "23/23 [==============================] - 1s 33ms/step - loss: 1.9082 - accuracy: 0.2833 - val_loss: 2.3458 - val_accuracy: 0.1573\n",
      "24/24 [==============================] - 1s 31ms/step - loss: 1.8770 - accuracy: 0.2971 - val_loss: 2.3917 - val_accuracy: 0.1540\n",
      "24/24 [==============================] - 1s 32ms/step - loss: 1.8460 - accuracy: 0.3029 - val_loss: 2.3467 - val_accuracy: 0.1667\n",
      "25/25 [==============================] - 1s 33ms/step - loss: 1.8101 - accuracy: 0.3181 - val_loss: 2.2814 - val_accuracy: 0.1813\n",
      "25/25 [==============================] - 1s 32ms/step - loss: 1.7888 - accuracy: 0.3237 - val_loss: 2.1119 - val_accuracy: 0.2427\n",
      "26/26 [==============================] - 1s 30ms/step - loss: 1.7553 - accuracy: 0.3423 - val_loss: 2.1010 - val_accuracy: 0.2367\n",
      "26/26 [==============================] - 1s 31ms/step - loss: 1.7129 - accuracy: 0.3597 - val_loss: 1.8923 - val_accuracy: 0.3087\n",
      "26/26 [==============================] - 1s 33ms/step - loss: 1.7122 - accuracy: 0.3574 - val_loss: 1.8865 - val_accuracy: 0.3173\n",
      "26/26 [==============================] - 1s 32ms/step - loss: 1.6899 - accuracy: 0.3593 - val_loss: 1.7734 - val_accuracy: 0.3567\n",
      "27/27 [==============================] - 1s 32ms/step - loss: 1.6593 - accuracy: 0.3797 - val_loss: 1.7272 - val_accuracy: 0.3773\n",
      "27/27 [==============================] - 1s 32ms/step - loss: 1.6423 - accuracy: 0.3893 - val_loss: 1.5449 - val_accuracy: 0.4447\n",
      "27/27 [==============================] - 1s 31ms/step - loss: 1.6041 - accuracy: 0.3995 - val_loss: 1.5300 - val_accuracy: 0.4493\n",
      "27/27 [==============================] - 1s 32ms/step - loss: 1.5936 - accuracy: 0.4011 - val_loss: 1.5123 - val_accuracy: 0.4580\n",
      "27/27 [==============================] - 1s 32ms/step - loss: 1.5610 - accuracy: 0.4223 - val_loss: 1.4813 - val_accuracy: 0.4640\n",
      "27/27 [==============================] - 1s 34ms/step - loss: 1.5519 - accuracy: 0.4219 - val_loss: 1.5266 - val_accuracy: 0.4493\n",
      "27/27 [==============================] - 1s 31ms/step - loss: 1.5371 - accuracy: 0.4301 - val_loss: 1.4385 - val_accuracy: 0.4867\n",
      "27/27 [==============================] - 1s 33ms/step - loss: 1.5235 - accuracy: 0.4374 - val_loss: 1.4982 - val_accuracy: 0.4707\n",
      "28/28 [==============================] - 1s 33ms/step - loss: 1.4924 - accuracy: 0.4453 - val_loss: 1.6452 - val_accuracy: 0.4187\n",
      "28/28 [==============================] - 1s 30ms/step - loss: 1.5112 - accuracy: 0.4409 - val_loss: 1.4231 - val_accuracy: 0.4947\n",
      "28/28 [==============================] - 1s 30ms/step - loss: 1.4947 - accuracy: 0.4462 - val_loss: 1.4007 - val_accuracy: 0.5040\n",
      "28/28 [==============================] - 1s 31ms/step - loss: 1.4752 - accuracy: 0.4578 - val_loss: 1.5246 - val_accuracy: 0.4653\n",
      "28/28 [==============================] - 1s 31ms/step - loss: 1.4499 - accuracy: 0.4691 - val_loss: 1.4683 - val_accuracy: 0.4707\n",
      "28/28 [==============================] - 1s 32ms/step - loss: 1.4627 - accuracy: 0.4591 - val_loss: 1.4840 - val_accuracy: 0.4707\n",
      "28/28 [==============================] - 1s 33ms/step - loss: 1.4379 - accuracy: 0.4701 - val_loss: 1.4198 - val_accuracy: 0.4913\n",
      "28/28 [==============================] - 1s 32ms/step - loss: 1.4246 - accuracy: 0.4709 - val_loss: 1.3840 - val_accuracy: 0.5173\n",
      "19/28 [===================>..........] - ETA: 0s - loss: 1.4434 - accuracy: 0.4579"
     ]
    }
   ],
   "source": [
    "for test_model in test_models:\n",
    "    print(test_model)\n",
    "    model_scores = []\n",
    "\n",
    "    for _ in tqdm(range(N_TRIALS)):\n",
    "        model = ClassifierModel(output_shape=10, **models_hyperparameters[test_model])\n",
    "        \n",
    "        model.compile(optimizer='adam', loss=loss, metrics=['accuracy'])\n",
    "        \n",
    "        last_best = 0\n",
    "        n_same = 0\n",
    "        for i in range(N_EPOCHS):\n",
    "            n_samples = int(np.tanh(4 * (i + 1) / N_EPOCHS) * train_size)\n",
    "            samples_ids = np.random.choice(range(train_size), p=losses_proba, size=n_samples, replace=False)\n",
    "            \n",
    "            history = model.fit(\n",
    "                x_train[samples_ids], y_train[samples_ids], \n",
    "                validation_data=(x_val, y_val),\n",
    "                epochs=1, batch_size=BATCH_SIZE, verbose=1,\n",
    "            )\n",
    "            \n",
    "            n_same += 1\n",
    "            if last_best < history.history[\"val_accuracy\"][-1]:\n",
    "                last_best = history.history[\"val_accuracy\"][-1]\n",
    "                n_same = 0\n",
    "            \n",
    "            if i >= 30 and n_same == 5:\n",
    "                print(f\"LAST EPOCH: {i}\")\n",
    "                break\n",
    "        \n",
    "        _, accuracy = model.evaluate(x_test, y_test, batch_size=BATCH_SIZE, verbose=1)\n",
    "        \n",
    "        model_scores.append(accuracy)\n",
    "    \n",
    "    results[test_model] = model_scores"
   ],
   "metadata": {
    "collapsed": false,
    "is_executing": true,
    "ExecuteTime": {
     "start_time": "2024-02-20T18:55:04.556538Z"
    }
   },
   "id": "ce9112b33b1ada44"
  },
  {
   "cell_type": "code",
   "execution_count": null,
   "outputs": [],
   "source": [
    "results"
   ],
   "metadata": {
    "collapsed": false,
    "is_executing": true
   },
   "id": "d551d3d3c24e87d6"
  },
  {
   "cell_type": "code",
   "execution_count": null,
   "outputs": [],
   "source": [],
   "metadata": {
    "collapsed": false
   },
   "id": "48f13aeabc23da41"
  }
 ],
 "metadata": {
  "kernelspec": {
   "display_name": "Python 3",
   "language": "python",
   "name": "python3"
  },
  "language_info": {
   "codemirror_mode": {
    "name": "ipython",
    "version": 2
   },
   "file_extension": ".py",
   "mimetype": "text/x-python",
   "name": "python",
   "nbconvert_exporter": "python",
   "pygments_lexer": "ipython2",
   "version": "2.7.6"
  }
 },
 "nbformat": 4,
 "nbformat_minor": 5
}
