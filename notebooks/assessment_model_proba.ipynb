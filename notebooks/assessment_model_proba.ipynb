{
 "cells": [
  {
   "cell_type": "code",
   "execution_count": 15,
   "id": "initial_id",
   "metadata": {
    "collapsed": true,
    "ExecuteTime": {
     "end_time": "2024-02-20T18:44:32.372287Z",
     "start_time": "2024-02-20T18:44:32.359150Z"
    }
   },
   "outputs": [],
   "source": [
    "import numpy as np\n",
    "import tensorflow as tf\n",
    "from curriculum_learning.models.classifier_model import ClassifierModel\n",
    "from curriculum_learning import utils\n",
    "import yaml\n",
    "from tqdm import tqdm\n",
    "from sklearn.model_selection import train_test_split\n",
    "import matplotlib.pyplot as plt"
   ]
  },
  {
   "cell_type": "code",
   "execution_count": 19,
   "outputs": [],
   "source": [
    "N_EPOCHS = 50\n",
    "N_TRIALS = 3\n",
    "BATCH_SIZE = 256\n",
    "\n",
    "loss = tf.keras.losses.SparseCategoricalCrossentropy()"
   ],
   "metadata": {
    "collapsed": false,
    "ExecuteTime": {
     "end_time": "2024-02-20T18:44:57.599957Z",
     "start_time": "2024-02-20T18:44:57.594304Z"
    }
   },
   "id": "bab2c3f4ef4cf399"
  },
  {
   "cell_type": "code",
   "execution_count": 21,
   "outputs": [],
   "source": [
    "with open(\"models_hyperparameters.yaml\", \"r\") as stream:\n",
    "    models_hyperparameters = yaml.safe_load(stream)\n",
    "    \n",
    "x, y = utils.load_data(\"../data/cifar-10-batches-py/data_batch_1\")\n",
    "x_train, x_test, y_train, y_test = train_test_split(x, y, test_size=0.3, random_state=42)\n",
    "x_test, x_val, y_test, y_val = train_test_split(x_test, y_test, test_size=0.5, random_state=42)\n",
    "\n",
    "train_size = x_train.shape[0]"
   ],
   "metadata": {
    "collapsed": false,
    "ExecuteTime": {
     "end_time": "2024-02-20T18:45:45.668463Z",
     "start_time": "2024-02-20T18:45:45.608552Z"
    }
   },
   "id": "8424e92d91deb0ac"
  },
  {
   "cell_type": "code",
   "execution_count": 22,
   "outputs": [],
   "source": [
    "noise = 30\n",
    "x_train = np.clip(x_train + np.random.normal(0, noise, x_train.shape), 0, 255) / 255\n",
    "x_val = np.clip(x_val + np.random.normal(0, noise, x_val.shape), 0, 255) / 255\n",
    "x_test = np.clip(x_test + np.random.normal(0, noise, x_test.shape), 0, 255) / 255"
   ],
   "metadata": {
    "collapsed": false,
    "ExecuteTime": {
     "end_time": "2024-02-20T18:45:47.131622Z",
     "start_time": "2024-02-20T18:45:46.417392Z"
    }
   },
   "id": "7610b74207fb2df0"
  },
  {
   "cell_type": "code",
   "execution_count": null,
   "outputs": [
    {
     "name": "stdout",
     "output_type": "stream",
     "text": [
      "Epoch 1/60\n",
      "28/28 [==============================] - 1s 32ms/step - loss: 2.5629 - accuracy: 0.1216\n",
      "Epoch 2/60\n",
      "28/28 [==============================] - 1s 34ms/step - loss: 2.3181 - accuracy: 0.1663\n",
      "Epoch 3/60\n",
      "28/28 [==============================] - 1s 31ms/step - loss: 2.1635 - accuracy: 0.2143\n",
      "Epoch 4/60\n",
      "28/28 [==============================] - 1s 32ms/step - loss: 2.0317 - accuracy: 0.2579\n",
      "Epoch 5/60\n",
      "28/28 [==============================] - 1s 33ms/step - loss: 1.9515 - accuracy: 0.2837\n",
      "Epoch 6/60\n",
      "25/28 [=========================>....] - ETA: 0s - loss: 1.8997 - accuracy: 0.3052"
     ]
    }
   ],
   "source": [
    "assessment_model = ClassifierModel(output_shape=10, **models_hyperparameters[\"assessment_model\"])\n",
    "\n",
    "assessment_model.compile(optimizer='adam', loss=loss, metrics=['accuracy'])\n",
    "        \n",
    "assessment_model.fit(x_train, y_train, epochs=60, batch_size=BATCH_SIZE)"
   ],
   "metadata": {
    "collapsed": false,
    "is_executing": true,
    "ExecuteTime": {
     "start_time": "2024-02-20T18:46:00.658387Z"
    }
   },
   "id": "bdafb8a9c136f286"
  },
  {
   "cell_type": "code",
   "execution_count": 41,
   "outputs": [],
   "source": [
    "y_pred_assessment = assessment_model.predict(x_train, verbose=0)\n",
    "\n",
    "losses_assessment = utils.calculate_loss_per_sample(y_train, y_pred_assessment, loss)"
   ],
   "metadata": {
    "collapsed": false,
    "ExecuteTime": {
     "end_time": "2024-02-20T18:11:52.041218Z",
     "start_time": "2024-02-20T18:11:47.502976Z"
    }
   },
   "id": "b6b8d2b35609d828"
  },
  {
   "cell_type": "code",
   "execution_count": 54,
   "outputs": [
    {
     "data": {
      "text/plain": "6797"
     },
     "execution_count": 54,
     "metadata": {},
     "output_type": "execute_result"
    }
   ],
   "source": [
    "np.argmin(losses_assessment)"
   ],
   "metadata": {
    "collapsed": false,
    "ExecuteTime": {
     "end_time": "2024-02-20T18:16:31.974510Z",
     "start_time": "2024-02-20T18:16:31.949808Z"
    }
   },
   "id": "c88294cb835bd744"
  },
  {
   "cell_type": "code",
   "execution_count": 56,
   "outputs": [
    {
     "data": {
      "text/plain": "<matplotlib.image.AxesImage at 0x2ca5ad780>"
     },
     "execution_count": 56,
     "metadata": {},
     "output_type": "execute_result"
    },
    {
     "data": {
      "text/plain": "<Figure size 640x480 with 1 Axes>",
      "image/png": "[encoded data removed]"
     },
     "metadata": {},
     "output_type": "display_data"
    }
   ],
   "source": [
    "plt.imshow(x_train[5346].astype(int))"
   ],
   "metadata": {
    "collapsed": false,
    "ExecuteTime": {
     "end_time": "2024-02-20T18:16:45.690339Z",
     "start_time": "2024-02-20T18:16:45.618560Z"
    }
   },
   "id": "87f581e8acc376de"
  },
  {
   "cell_type": "code",
   "execution_count": 42,
   "outputs": [],
   "source": [
    "losses_proba = np.exp(losses_assessment)/sum(np.exp(losses_assessment))"
   ],
   "metadata": {
    "collapsed": false,
    "ExecuteTime": {
     "end_time": "2024-02-20T18:11:52.754738Z",
     "start_time": "2024-02-20T18:11:52.041937Z"
    }
   },
   "id": "d422eee39ff23252"
  },
  {
   "cell_type": "code",
   "execution_count": 43,
   "outputs": [],
   "source": [
    "results = {}\n",
    "\n",
    "# test_models = [\"test_model_1\", \"test_model_2\", \"test_model_3\"]\n",
    "test_models = [\"test_model_1\"]"
   ],
   "metadata": {
    "collapsed": false,
    "ExecuteTime": {
     "end_time": "2024-02-20T18:11:52.760748Z",
     "start_time": "2024-02-20T18:11:52.755939Z"
    }
   },
   "id": "fe21ef1466862a11"
  },
  {
   "cell_type": "code",
   "execution_count": 50,
   "outputs": [
    {
     "name": "stdout",
     "output_type": "stream",
     "text": [
      "test_model_1\n"
     ]
    },
    {
     "name": "stderr",
     "output_type": "stream",
     "text": [
      "  0%|          | 0/3 [00:00<?, ?it/s]"
     ]
    },
    {
     "name": "stdout",
     "output_type": "stream",
     "text": [
      "2/2 [==============================] - 1s 177ms/step - loss: 2.6108 - accuracy: 0.1362 - val_loss: 6.3450 - val_accuracy: 0.1013\n",
      "3/3 [==============================] - 0s 58ms/step - loss: 2.5938 - accuracy: 0.1004 - val_loss: 4.4946 - val_accuracy: 0.1020\n",
      "4/4 [==============================] - 0s 47ms/step - loss: 2.6156 - accuracy: 0.0982 - val_loss: 3.7758 - val_accuracy: 0.1100\n",
      "5/5 [==============================] - 0s 41ms/step - loss: 2.6122 - accuracy: 0.1009 - val_loss: 3.3171 - val_accuracy: 0.1180\n",
      "6/6 [==============================] - 0s 39ms/step - loss: 2.5404 - accuracy: 0.1151 - val_loss: 2.9937 - val_accuracy: 0.1160\n",
      "7/7 [==============================] - 0s 38ms/step - loss: 2.5203 - accuracy: 0.1244 - val_loss: 2.7346 - val_accuracy: 0.1080\n",
      "8/8 [==============================] - 0s 43ms/step - loss: 2.4663 - accuracy: 0.1188 - val_loss: 2.5874 - val_accuracy: 0.1240\n",
      "9/9 [==============================] - 0s 35ms/step - loss: 2.4270 - accuracy: 0.1307 - val_loss: 2.7564 - val_accuracy: 0.0987\n",
      "10/10 [==============================] - 0s 34ms/step - loss: 2.3775 - accuracy: 0.1411 - val_loss: 2.7963 - val_accuracy: 0.0980\n",
      "11/11 [==============================] - 0s 32ms/step - loss: 2.3593 - accuracy: 0.1422 - val_loss: 2.9839 - val_accuracy: 0.0980\n",
      "12/12 [==============================] - 0s 31ms/step - loss: 2.3443 - accuracy: 0.1492 - val_loss: 2.8958 - val_accuracy: 0.1053\n",
      "13/13 [==============================] - 0s 31ms/step - loss: 2.2913 - accuracy: 0.1547 - val_loss: 2.4744 - val_accuracy: 0.1327\n",
      "14/14 [==============================] - 0s 30ms/step - loss: 2.2311 - accuracy: 0.1681 - val_loss: 2.3829 - val_accuracy: 0.1467\n",
      "14/14 [==============================] - 0s 33ms/step - loss: 2.2263 - accuracy: 0.1677 - val_loss: 2.3343 - val_accuracy: 0.1667\n",
      "15/15 [==============================] - 0s 32ms/step - loss: 2.1840 - accuracy: 0.1777 - val_loss: 2.1577 - val_accuracy: 0.2093\n",
      "16/16 [==============================] - 0s 31ms/step - loss: 2.1463 - accuracy: 0.1985 - val_loss: 2.1197 - val_accuracy: 0.2227\n",
      "17/17 [==============================] - 1s 36ms/step - loss: 2.1537 - accuracy: 0.1988 - val_loss: 2.0188 - val_accuracy: 0.2420\n",
      "17/17 [==============================] - 1s 32ms/step - loss: 2.1153 - accuracy: 0.2087 - val_loss: 2.0147 - val_accuracy: 0.2620\n",
      "18/18 [==============================] - 1s 32ms/step - loss: 2.0965 - accuracy: 0.2108 - val_loss: 1.9957 - val_accuracy: 0.2700\n",
      "19/19 [==============================] - 1s 30ms/step - loss: 2.0680 - accuracy: 0.2212 - val_loss: 1.9534 - val_accuracy: 0.2793\n",
      "19/19 [==============================] - 1s 32ms/step - loss: 2.0481 - accuracy: 0.2256 - val_loss: 1.9114 - val_accuracy: 0.3007\n",
      "20/20 [==============================] - 1s 31ms/step - loss: 2.0309 - accuracy: 0.2367 - val_loss: 1.8696 - val_accuracy: 0.3160\n",
      "20/20 [==============================] - 1s 32ms/step - loss: 2.0035 - accuracy: 0.2474 - val_loss: 1.8565 - val_accuracy: 0.3140\n",
      "21/21 [==============================] - 1s 32ms/step - loss: 1.9671 - accuracy: 0.2553 - val_loss: 1.8189 - val_accuracy: 0.3280\n",
      "21/21 [==============================] - 1s 33ms/step - loss: 1.9319 - accuracy: 0.2797 - val_loss: 1.8301 - val_accuracy: 0.3207\n",
      "22/22 [==============================] - 1s 31ms/step - loss: 1.9172 - accuracy: 0.2850 - val_loss: 1.8431 - val_accuracy: 0.3260\n",
      "22/22 [==============================] - 1s 33ms/step - loss: 1.8980 - accuracy: 0.2806 - val_loss: 1.7607 - val_accuracy: 0.3440\n",
      "23/23 [==============================] - 1s 32ms/step - loss: 1.8751 - accuracy: 0.2833 - val_loss: 1.7915 - val_accuracy: 0.3327\n",
      "23/23 [==============================] - 1s 31ms/step - loss: 1.8507 - accuracy: 0.3002 - val_loss: 1.7026 - val_accuracy: 0.3707\n",
      "23/23 [==============================] - 1s 32ms/step - loss: 1.8320 - accuracy: 0.3083 - val_loss: 1.7033 - val_accuracy: 0.3660\n",
      "24/24 [==============================] - 1s 33ms/step - loss: 1.8191 - accuracy: 0.3172 - val_loss: 1.6674 - val_accuracy: 0.3940\n",
      "24/24 [==============================] - 1s 33ms/step - loss: 1.7960 - accuracy: 0.3156 - val_loss: 1.6919 - val_accuracy: 0.3773\n",
      "24/24 [==============================] - 1s 34ms/step - loss: 1.7626 - accuracy: 0.3341 - val_loss: 1.6715 - val_accuracy: 0.3873\n",
      "24/24 [==============================] - 1s 32ms/step - loss: 1.7448 - accuracy: 0.3466 - val_loss: 1.6266 - val_accuracy: 0.3967\n",
      "25/25 [==============================] - 1s 32ms/step - loss: 1.7297 - accuracy: 0.3460 - val_loss: 1.6026 - val_accuracy: 0.4133\n",
      "25/25 [==============================] - 1s 31ms/step - loss: 1.7116 - accuracy: 0.3581 - val_loss: 1.6093 - val_accuracy: 0.4147\n",
      "25/25 [==============================] - 1s 31ms/step - loss: 1.6896 - accuracy: 0.3729 - val_loss: 1.5918 - val_accuracy: 0.4167\n",
      "25/25 [==============================] - 1s 32ms/step - loss: 1.6722 - accuracy: 0.3715 - val_loss: 1.6007 - val_accuracy: 0.4173\n",
      "26/26 [==============================] - 1s 29ms/step - loss: 1.6630 - accuracy: 0.3852 - val_loss: 1.5626 - val_accuracy: 0.4273\n",
      "26/26 [==============================] - 1s 31ms/step - loss: 1.6550 - accuracy: 0.3773 - val_loss: 1.5243 - val_accuracy: 0.4420\n",
      "26/26 [==============================] - 1s 32ms/step - loss: 1.6197 - accuracy: 0.3891 - val_loss: 1.5561 - val_accuracy: 0.4293\n",
      "26/26 [==============================] - 1s 31ms/step - loss: 1.6266 - accuracy: 0.3899 - val_loss: 1.5131 - val_accuracy: 0.4473\n",
      "26/26 [==============================] - 1s 32ms/step - loss: 1.6033 - accuracy: 0.3980 - val_loss: 1.4836 - val_accuracy: 0.4587\n",
      "26/26 [==============================] - 1s 31ms/step - loss: 1.5846 - accuracy: 0.4143 - val_loss: 1.5189 - val_accuracy: 0.4420\n",
      "26/26 [==============================] - 1s 31ms/step - loss: 1.5746 - accuracy: 0.4115 - val_loss: 1.4787 - val_accuracy: 0.4647\n",
      "26/26 [==============================] - 1s 32ms/step - loss: 1.5475 - accuracy: 0.4270 - val_loss: 1.4994 - val_accuracy: 0.4567\n",
      "27/27 [==============================] - 1s 30ms/step - loss: 1.5358 - accuracy: 0.4368 - val_loss: 1.4759 - val_accuracy: 0.4767\n",
      "27/27 [==============================] - 1s 31ms/step - loss: 1.5288 - accuracy: 0.4418 - val_loss: 1.4645 - val_accuracy: 0.4653\n",
      "27/27 [==============================] - 1s 31ms/step - loss: 1.5318 - accuracy: 0.4360 - val_loss: 1.4279 - val_accuracy: 0.4800\n",
      "27/27 [==============================] - 1s 31ms/step - loss: 1.4941 - accuracy: 0.4438 - val_loss: 1.4443 - val_accuracy: 0.4793\n",
      "27/27 [==============================] - 1s 31ms/step - loss: 1.4714 - accuracy: 0.4577 - val_loss: 1.4615 - val_accuracy: 0.4653\n",
      "27/27 [==============================] - 1s 33ms/step - loss: 1.4813 - accuracy: 0.4502 - val_loss: 1.4540 - val_accuracy: 0.4800\n",
      "27/27 [==============================] - 1s 34ms/step - loss: 1.4714 - accuracy: 0.4571 - val_loss: 1.4439 - val_accuracy: 0.4800\n",
      "27/27 [==============================] - 1s 32ms/step - loss: 1.4512 - accuracy: 0.4664 - val_loss: 1.4448 - val_accuracy: 0.4687\n",
      "LAST EPOCH: 53\n",
      "6/6 [==============================] - 0s 8ms/step - loss: 1.4737 - accuracy: 0.4573\n"
     ]
    },
    {
     "name": "stderr",
     "output_type": "stream",
     "text": [
      " 33%|███▎      | 1/3 [00:37<01:15, 37.57s/it]"
     ]
    },
    {
     "name": "stdout",
     "output_type": "stream",
     "text": [
      "2/2 [==============================] - 1s 143ms/step - loss: 2.7148 - accuracy: 0.0932 - val_loss: 4.7414 - val_accuracy: 0.1227\n",
      "3/3 [==============================] - 0s 55ms/step - loss: 2.6896 - accuracy: 0.0842 - val_loss: 3.2699 - val_accuracy: 0.1073\n",
      "4/4 [==============================] - 0s 49ms/step - loss: 2.7360 - accuracy: 0.0934 - val_loss: 2.7986 - val_accuracy: 0.0993\n",
      "5/5 [==============================] - 0s 47ms/step - loss: 2.6276 - accuracy: 0.1153 - val_loss: 2.6098 - val_accuracy: 0.1073\n",
      "6/6 [==============================] - 0s 43ms/step - loss: 2.6102 - accuracy: 0.0985 - val_loss: 2.5853 - val_accuracy: 0.1053\n",
      "7/7 [==============================] - 0s 77ms/step - loss: 2.5831 - accuracy: 0.1019 - val_loss: 2.5807 - val_accuracy: 0.0973\n",
      "8/8 [==============================] - 0s 40ms/step - loss: 2.5368 - accuracy: 0.1031 - val_loss: 2.6258 - val_accuracy: 0.0853\n",
      "9/9 [==============================] - 0s 37ms/step - loss: 2.4720 - accuracy: 0.1168 - val_loss: 2.6648 - val_accuracy: 0.0780\n",
      "10/10 [==============================] - 0s 37ms/step - loss: 2.4367 - accuracy: 0.1246 - val_loss: 2.7518 - val_accuracy: 0.0887\n",
      "11/11 [==============================] - 0s 37ms/step - loss: 2.3882 - accuracy: 0.1414 - val_loss: 2.7982 - val_accuracy: 0.0973\n",
      "12/12 [==============================] - 0s 35ms/step - loss: 2.3608 - accuracy: 0.1378 - val_loss: 2.7603 - val_accuracy: 0.1220\n",
      "13/13 [==============================] - 0s 37ms/step - loss: 2.3264 - accuracy: 0.1515 - val_loss: 2.7351 - val_accuracy: 0.1267\n",
      "14/14 [==============================] - 1s 38ms/step - loss: 2.3043 - accuracy: 0.1481 - val_loss: 2.7833 - val_accuracy: 0.1240\n",
      "14/14 [==============================] - 1s 37ms/step - loss: 2.2672 - accuracy: 0.1660 - val_loss: 2.6228 - val_accuracy: 0.1307\n",
      "15/15 [==============================] - 1s 36ms/step - loss: 2.2353 - accuracy: 0.1620 - val_loss: 2.2435 - val_accuracy: 0.1733\n",
      "16/16 [==============================] - 1s 35ms/step - loss: 2.1972 - accuracy: 0.1854 - val_loss: 2.1322 - val_accuracy: 0.1867\n",
      "17/17 [==============================] - 1s 33ms/step - loss: 2.1625 - accuracy: 0.1850 - val_loss: 2.0949 - val_accuracy: 0.2013\n",
      "17/17 [==============================] - 1s 37ms/step - loss: 2.1177 - accuracy: 0.1994 - val_loss: 2.0347 - val_accuracy: 0.2233\n",
      "18/18 [==============================] - 1s 37ms/step - loss: 2.0955 - accuracy: 0.2108 - val_loss: 2.0117 - val_accuracy: 0.2393\n",
      "19/19 [==============================] - 1s 38ms/step - loss: 2.0697 - accuracy: 0.2257 - val_loss: 1.9465 - val_accuracy: 0.2780\n",
      "19/19 [==============================] - 1s 39ms/step - loss: 2.0378 - accuracy: 0.2333 - val_loss: 1.9159 - val_accuracy: 0.2873\n",
      "20/20 [==============================] - 1s 42ms/step - loss: 2.0098 - accuracy: 0.2415 - val_loss: 1.8734 - val_accuracy: 0.2927\n",
      "20/20 [==============================] - 1s 37ms/step - loss: 1.9830 - accuracy: 0.2521 - val_loss: 1.8645 - val_accuracy: 0.3040\n",
      "21/21 [==============================] - 1s 37ms/step - loss: 1.9683 - accuracy: 0.2569 - val_loss: 1.8262 - val_accuracy: 0.3073\n",
      "21/21 [==============================] - 1s 35ms/step - loss: 1.9441 - accuracy: 0.2711 - val_loss: 1.8276 - val_accuracy: 0.3127\n",
      "22/22 [==============================] - 1s 38ms/step - loss: 1.9138 - accuracy: 0.2760 - val_loss: 1.8123 - val_accuracy: 0.3140\n",
      "22/22 [==============================] - 1s 37ms/step - loss: 1.8970 - accuracy: 0.2770 - val_loss: 1.7615 - val_accuracy: 0.3433\n",
      "23/23 [==============================] - 1s 37ms/step - loss: 1.8688 - accuracy: 0.3027 - val_loss: 1.7267 - val_accuracy: 0.3473\n",
      "23/23 [==============================] - 1s 38ms/step - loss: 1.8568 - accuracy: 0.3031 - val_loss: 1.6964 - val_accuracy: 0.3660\n",
      "23/23 [==============================] - 1s 37ms/step - loss: 1.8225 - accuracy: 0.3167 - val_loss: 1.6871 - val_accuracy: 0.3587\n",
      "24/24 [==============================] - 1s 35ms/step - loss: 1.8053 - accuracy: 0.3238 - val_loss: 1.6665 - val_accuracy: 0.3880\n",
      "24/24 [==============================] - 1s 35ms/step - loss: 1.7841 - accuracy: 0.3256 - val_loss: 1.6518 - val_accuracy: 0.3927\n",
      "24/24 [==============================] - 1s 35ms/step - loss: 1.7658 - accuracy: 0.3336 - val_loss: 1.6262 - val_accuracy: 0.3980\n",
      "24/24 [==============================] - 1s 35ms/step - loss: 1.7463 - accuracy: 0.3428 - val_loss: 1.6124 - val_accuracy: 0.3973\n",
      "25/25 [==============================] - 1s 34ms/step - loss: 1.7249 - accuracy: 0.3471 - val_loss: 1.6358 - val_accuracy: 0.3933\n",
      "25/25 [==============================] - 1s 36ms/step - loss: 1.7012 - accuracy: 0.3546 - val_loss: 1.6363 - val_accuracy: 0.4027\n",
      "25/25 [==============================] - 1s 36ms/step - loss: 1.6892 - accuracy: 0.3653 - val_loss: 1.6665 - val_accuracy: 0.3880\n",
      "25/25 [==============================] - 1s 34ms/step - loss: 1.6766 - accuracy: 0.3714 - val_loss: 1.5605 - val_accuracy: 0.4173\n",
      "26/26 [==============================] - 1s 32ms/step - loss: 1.6642 - accuracy: 0.3744 - val_loss: 1.6439 - val_accuracy: 0.3987\n",
      "26/26 [==============================] - 1s 37ms/step - loss: 1.6403 - accuracy: 0.3875 - val_loss: 1.6243 - val_accuracy: 0.3980\n",
      "26/26 [==============================] - 1s 35ms/step - loss: 1.6296 - accuracy: 0.3876 - val_loss: 1.5672 - val_accuracy: 0.4313\n",
      "26/26 [==============================] - 1s 36ms/step - loss: 1.6155 - accuracy: 0.4021 - val_loss: 1.5459 - val_accuracy: 0.4340\n",
      "26/26 [==============================] - 1s 37ms/step - loss: 1.5938 - accuracy: 0.4072 - val_loss: 1.5319 - val_accuracy: 0.4293\n",
      "26/26 [==============================] - 1s 36ms/step - loss: 1.5760 - accuracy: 0.4112 - val_loss: 1.4836 - val_accuracy: 0.4513\n",
      "26/26 [==============================] - 1s 34ms/step - loss: 1.5631 - accuracy: 0.4207 - val_loss: 1.5473 - val_accuracy: 0.4240\n",
      "26/26 [==============================] - 1s 35ms/step - loss: 1.5515 - accuracy: 0.4299 - val_loss: 1.4841 - val_accuracy: 0.4627\n",
      "27/27 [==============================] - 1s 34ms/step - loss: 1.5362 - accuracy: 0.4264 - val_loss: 1.4774 - val_accuracy: 0.4687\n",
      "27/27 [==============================] - 1s 33ms/step - loss: 1.5379 - accuracy: 0.4316 - val_loss: 1.5883 - val_accuracy: 0.4373\n",
      "27/27 [==============================] - 1s 35ms/step - loss: 1.5245 - accuracy: 0.4385 - val_loss: 1.6057 - val_accuracy: 0.4333\n",
      "27/27 [==============================] - 1s 34ms/step - loss: 1.5227 - accuracy: 0.4400 - val_loss: 1.4494 - val_accuracy: 0.4760\n",
      "27/27 [==============================] - 1s 34ms/step - loss: 1.4883 - accuracy: 0.4479 - val_loss: 1.4291 - val_accuracy: 0.4820\n",
      "27/27 [==============================] - 1s 35ms/step - loss: 1.4814 - accuracy: 0.4514 - val_loss: 1.4604 - val_accuracy: 0.4767\n",
      "27/27 [==============================] - 1s 38ms/step - loss: 1.4783 - accuracy: 0.4536 - val_loss: 1.4870 - val_accuracy: 0.4707\n",
      "27/27 [==============================] - 1s 36ms/step - loss: 1.4581 - accuracy: 0.4611 - val_loss: 1.4562 - val_accuracy: 0.4773\n",
      "27/27 [==============================] - 1s 33ms/step - loss: 1.4501 - accuracy: 0.4584 - val_loss: 1.4621 - val_accuracy: 0.4780\n",
      "27/27 [==============================] - 1s 32ms/step - loss: 1.4372 - accuracy: 0.4644 - val_loss: 1.4957 - val_accuracy: 0.4767\n",
      "LAST EPOCH: 55\n",
      "6/6 [==============================] - 0s 9ms/step - loss: 1.4695 - accuracy: 0.4533\n"
     ]
    },
    {
     "name": "stderr",
     "output_type": "stream",
     "text": [
      " 67%|██████▋   | 2/3 [01:21<00:41, 41.25s/it]"
     ]
    },
    {
     "name": "stdout",
     "output_type": "stream",
     "text": [
      "2/2 [==============================] - 1s 196ms/step - loss: 2.7605 - accuracy: 0.1039 - val_loss: 4.8767 - val_accuracy: 0.0967\n",
      "3/3 [==============================] - 0s 68ms/step - loss: 2.7437 - accuracy: 0.0842 - val_loss: 3.9906 - val_accuracy: 0.0940\n",
      "4/4 [==============================] - 0s 51ms/step - loss: 2.6448 - accuracy: 0.1246 - val_loss: 3.6035 - val_accuracy: 0.0927\n",
      "5/5 [==============================] - 0s 49ms/step - loss: 2.6957 - accuracy: 0.1144 - val_loss: 3.2653 - val_accuracy: 0.0927\n",
      "6/6 [==============================] - 0s 44ms/step - loss: 2.5916 - accuracy: 0.1151 - val_loss: 3.1715 - val_accuracy: 0.0913\n",
      "7/7 [==============================] - 0s 41ms/step - loss: 2.5827 - accuracy: 0.1092 - val_loss: 3.2498 - val_accuracy: 0.0940\n",
      "8/8 [==============================] - 0s 42ms/step - loss: 2.5445 - accuracy: 0.1335 - val_loss: 3.2754 - val_accuracy: 0.0947\n",
      "9/9 [==============================] - 0s 37ms/step - loss: 2.4698 - accuracy: 0.1302 - val_loss: 3.3069 - val_accuracy: 0.0953\n",
      "10/10 [==============================] - 0s 38ms/step - loss: 2.4231 - accuracy: 0.1403 - val_loss: 3.5127 - val_accuracy: 0.0980\n",
      "11/11 [==============================] - 0s 38ms/step - loss: 2.3764 - accuracy: 0.1455 - val_loss: 3.6107 - val_accuracy: 0.1060\n",
      "12/12 [==============================] - 0s 38ms/step - loss: 2.3193 - accuracy: 0.1634 - val_loss: 3.3624 - val_accuracy: 0.0993\n",
      "13/13 [==============================] - 0s 37ms/step - loss: 2.3146 - accuracy: 0.1489 - val_loss: 2.8880 - val_accuracy: 0.1080\n",
      "14/14 [==============================] - 1s 39ms/step - loss: 2.2609 - accuracy: 0.1633 - val_loss: 2.6083 - val_accuracy: 0.1153\n",
      "14/14 [==============================] - 1s 37ms/step - loss: 2.2225 - accuracy: 0.1696 - val_loss: 2.4310 - val_accuracy: 0.1367\n",
      "15/15 [==============================] - 1s 38ms/step - loss: 2.2011 - accuracy: 0.1905 - val_loss: 2.2106 - val_accuracy: 0.1660\n",
      "16/16 [==============================] - 1s 37ms/step - loss: 2.1695 - accuracy: 0.1834 - val_loss: 2.1659 - val_accuracy: 0.1900\n",
      "17/17 [==============================] - 1s 35ms/step - loss: 2.1368 - accuracy: 0.1879 - val_loss: 2.1241 - val_accuracy: 0.2040\n",
      "17/17 [==============================] - 1s 36ms/step - loss: 2.1244 - accuracy: 0.2047 - val_loss: 1.9877 - val_accuracy: 0.2707\n",
      "18/18 [==============================] - 1s 36ms/step - loss: 2.0909 - accuracy: 0.2213 - val_loss: 1.9866 - val_accuracy: 0.2513\n",
      "19/19 [==============================] - 1s 35ms/step - loss: 2.0574 - accuracy: 0.2240 - val_loss: 1.9340 - val_accuracy: 0.2807\n",
      "19/19 [==============================] - 1s 34ms/step - loss: 2.0370 - accuracy: 0.2265 - val_loss: 1.8882 - val_accuracy: 0.3000\n",
      "20/20 [==============================] - 1s 34ms/step - loss: 2.0061 - accuracy: 0.2344 - val_loss: 1.8777 - val_accuracy: 0.3027\n",
      "20/20 [==============================] - 1s 35ms/step - loss: 1.9816 - accuracy: 0.2517 - val_loss: 1.8491 - val_accuracy: 0.3140\n",
      "21/21 [==============================] - 1s 35ms/step - loss: 1.9733 - accuracy: 0.2611 - val_loss: 1.8200 - val_accuracy: 0.3233\n",
      "21/21 [==============================] - 1s 36ms/step - loss: 1.9432 - accuracy: 0.2572 - val_loss: 1.8068 - val_accuracy: 0.3340\n",
      "22/22 [==============================] - 1s 34ms/step - loss: 1.9168 - accuracy: 0.2753 - val_loss: 1.7988 - val_accuracy: 0.3167\n",
      "22/22 [==============================] - 1s 33ms/step - loss: 1.9115 - accuracy: 0.2714 - val_loss: 1.7813 - val_accuracy: 0.3393\n",
      "23/23 [==============================] - 1s 32ms/step - loss: 1.8828 - accuracy: 0.2870 - val_loss: 1.7514 - val_accuracy: 0.3473\n",
      "23/23 [==============================] - 1s 33ms/step - loss: 1.8610 - accuracy: 0.3038 - val_loss: 1.7806 - val_accuracy: 0.3293\n",
      "23/23 [==============================] - 1s 33ms/step - loss: 1.8320 - accuracy: 0.3066 - val_loss: 1.7197 - val_accuracy: 0.3500\n",
      "24/24 [==============================] - 1s 31ms/step - loss: 1.8219 - accuracy: 0.3163 - val_loss: 1.7301 - val_accuracy: 0.3553\n",
      "24/24 [==============================] - 1s 32ms/step - loss: 1.8016 - accuracy: 0.3343 - val_loss: 1.6752 - val_accuracy: 0.3780\n",
      "24/24 [==============================] - 1s 33ms/step - loss: 1.7905 - accuracy: 0.3191 - val_loss: 1.6495 - val_accuracy: 0.3847\n",
      "24/24 [==============================] - 1s 33ms/step - loss: 1.7699 - accuracy: 0.3285 - val_loss: 1.6564 - val_accuracy: 0.3693\n",
      "25/25 [==============================] - 1s 32ms/step - loss: 1.7506 - accuracy: 0.3423 - val_loss: 1.7073 - val_accuracy: 0.3593\n",
      "25/25 [==============================] - 1s 32ms/step - loss: 1.7361 - accuracy: 0.3456 - val_loss: 1.6341 - val_accuracy: 0.3940\n",
      "25/25 [==============================] - 1s 32ms/step - loss: 1.7118 - accuracy: 0.3583 - val_loss: 1.6381 - val_accuracy: 0.3747\n",
      "25/25 [==============================] - 1s 32ms/step - loss: 1.6909 - accuracy: 0.3708 - val_loss: 1.5876 - val_accuracy: 0.4087\n",
      "26/26 [==============================] - 1s 34ms/step - loss: 1.6640 - accuracy: 0.3735 - val_loss: 1.8571 - val_accuracy: 0.3493\n",
      "26/26 [==============================] - 1s 41ms/step - loss: 1.6756 - accuracy: 0.3661 - val_loss: 1.6281 - val_accuracy: 0.3960\n",
      "26/26 [==============================] - 1s 33ms/step - loss: 1.6413 - accuracy: 0.3842 - val_loss: 1.5726 - val_accuracy: 0.4140\n",
      "26/26 [==============================] - 1s 32ms/step - loss: 1.6286 - accuracy: 0.3893 - val_loss: 1.5535 - val_accuracy: 0.4353\n",
      "26/26 [==============================] - 1s 34ms/step - loss: 1.5998 - accuracy: 0.4009 - val_loss: 1.6049 - val_accuracy: 0.4113\n",
      "26/26 [==============================] - 1s 34ms/step - loss: 1.5947 - accuracy: 0.4070 - val_loss: 1.5707 - val_accuracy: 0.4213\n",
      "26/26 [==============================] - 1s 33ms/step - loss: 1.5965 - accuracy: 0.4032 - val_loss: 1.6084 - val_accuracy: 0.4180\n",
      "26/26 [==============================] - 1s 33ms/step - loss: 1.5658 - accuracy: 0.4135 - val_loss: 1.4915 - val_accuracy: 0.4473\n",
      "27/27 [==============================] - 1s 32ms/step - loss: 1.5590 - accuracy: 0.4149 - val_loss: 1.5324 - val_accuracy: 0.4447\n",
      "27/27 [==============================] - 1s 32ms/step - loss: 1.5403 - accuracy: 0.4254 - val_loss: 1.6012 - val_accuracy: 0.4253\n",
      "27/27 [==============================] - 1s 33ms/step - loss: 1.5312 - accuracy: 0.4234 - val_loss: 1.5304 - val_accuracy: 0.4300\n",
      "27/27 [==============================] - 1s 34ms/step - loss: 1.5066 - accuracy: 0.4385 - val_loss: 1.4942 - val_accuracy: 0.4433\n",
      "27/27 [==============================] - 1s 32ms/step - loss: 1.5063 - accuracy: 0.4420 - val_loss: 1.4276 - val_accuracy: 0.4687\n",
      "27/27 [==============================] - 1s 33ms/step - loss: 1.5051 - accuracy: 0.4396 - val_loss: 1.4856 - val_accuracy: 0.4607\n",
      "27/27 [==============================] - 1s 34ms/step - loss: 1.4945 - accuracy: 0.4383 - val_loss: 1.4496 - val_accuracy: 0.4700\n",
      "27/27 [==============================] - 1s 33ms/step - loss: 1.4693 - accuracy: 0.4536 - val_loss: 1.6201 - val_accuracy: 0.4273\n",
      "27/27 [==============================] - 1s 33ms/step - loss: 1.4640 - accuracy: 0.4611 - val_loss: 1.4429 - val_accuracy: 0.4753\n",
      "27/27 [==============================] - 1s 32ms/step - loss: 1.4539 - accuracy: 0.4584 - val_loss: 1.4979 - val_accuracy: 0.4527\n",
      "27/27 [==============================] - 1s 33ms/step - loss: 1.4484 - accuracy: 0.4651 - val_loss: 1.4282 - val_accuracy: 0.4673\n",
      "27/27 [==============================] - 1s 34ms/step - loss: 1.4303 - accuracy: 0.4681 - val_loss: 1.4558 - val_accuracy: 0.4773\n",
      "27/27 [==============================] - 1s 34ms/step - loss: 1.4161 - accuracy: 0.4727 - val_loss: 1.3830 - val_accuracy: 0.5067\n",
      "27/27 [==============================] - 1s 34ms/step - loss: 1.4088 - accuracy: 0.4764 - val_loss: 1.4662 - val_accuracy: 0.4673\n",
      "27/27 [==============================] - 1s 37ms/step - loss: 1.4103 - accuracy: 0.4777 - val_loss: 1.3989 - val_accuracy: 0.4867\n",
      "27/27 [==============================] - 1s 32ms/step - loss: 1.3930 - accuracy: 0.4859 - val_loss: 1.4669 - val_accuracy: 0.4620\n",
      "27/27 [==============================] - 1s 33ms/step - loss: 1.3844 - accuracy: 0.4923 - val_loss: 1.4477 - val_accuracy: 0.4960\n",
      "28/28 [==============================] - 1s 31ms/step - loss: 1.3956 - accuracy: 0.4855 - val_loss: 1.4849 - val_accuracy: 0.4780\n",
      "LAST EPOCH: 63\n",
      "6/6 [==============================] - 0s 8ms/step - loss: 1.4529 - accuracy: 0.4653\n"
     ]
    },
    {
     "name": "stderr",
     "output_type": "stream",
     "text": [
      "100%|██████████| 3/3 [02:11<00:00, 43.89s/it]\n"
     ]
    }
   ],
   "source": [
    "for test_model in test_models:\n",
    "    print(test_model)\n",
    "    model_scores = []\n",
    "\n",
    "    for _ in tqdm(range(N_TRIALS)):\n",
    "        model = ClassifierModel(output_shape=10, **models_hyperparameters[test_model])\n",
    "        \n",
    "        model.compile(optimizer='adam', loss=loss, metrics=['accuracy'])\n",
    "        \n",
    "        last_best = 0\n",
    "        n_same = 0\n",
    "        for i in range(N_EPOCHS):\n",
    "            n_samples = int(np.tanh(2 * (i + 1)/ (N_EPOCHS / 4)) * train_size)\n",
    "            samples_ids = np.random.choice(range(train_size), p=losses_proba, size=n_samples, replace=False)\n",
    "            \n",
    "            history = model.fit(\n",
    "                x_train[samples_ids], y_train[samples_ids], \n",
    "                validation_data=(x_val, y_val),\n",
    "                epochs=1, batch_size=BATCH_SIZE, verbose=1,\n",
    "            )\n",
    "            \n",
    "            n_same += 1\n",
    "            if last_best < history.history[\"val_accuracy\"][-1]:\n",
    "                last_best = history.history[\"val_accuracy\"][-1]\n",
    "                n_same = 0\n",
    "            \n",
    "            if i >= 30 and n_same == 5:\n",
    "                print(f\"LAST EPOCH: {i}\")\n",
    "                break\n",
    "        \n",
    "        _, accuracy = model.evaluate(x_test, y_test, batch_size=BATCH_SIZE, verbose=1)\n",
    "        \n",
    "        model_scores.append(accuracy)\n",
    "    \n",
    "    results[test_model] = model_scores"
   ],
   "metadata": {
    "collapsed": false,
    "ExecuteTime": {
     "end_time": "2024-02-20T18:15:36.243128Z",
     "start_time": "2024-02-20T18:13:24.580662Z"
    }
   },
   "id": "ce9112b33b1ada44"
  },
  {
   "cell_type": "code",
   "execution_count": 51,
   "outputs": [
    {
     "data": {
      "text/plain": "{'test_model_1': [0.4573333263397217, 0.4533333480358124, 0.46533334255218506]}"
     },
     "execution_count": 51,
     "metadata": {},
     "output_type": "execute_result"
    }
   ],
   "source": [
    "results"
   ],
   "metadata": {
    "collapsed": false,
    "ExecuteTime": {
     "end_time": "2024-02-20T18:15:36.247387Z",
     "start_time": "2024-02-20T18:15:36.242674Z"
    }
   },
   "id": "d551d3d3c24e87d6"
  },
  {
   "cell_type": "code",
   "execution_count": 26,
   "outputs": [
    {
     "data": {
      "text/plain": "{'test_model_1': [0.49933332204818726, 0.4893333315849304, 0.4933333396911621]}"
     },
     "execution_count": 26,
     "metadata": {},
     "output_type": "execute_result"
    }
   ],
   "source": [
    "results"
   ],
   "metadata": {
    "collapsed": false,
    "ExecuteTime": {
     "end_time": "2024-02-20T18:05:26.913367Z",
     "start_time": "2024-02-20T18:05:26.901285Z"
    }
   },
   "id": "909e15d33e1ab350"
  },
  {
   "cell_type": "code",
   "execution_count": 30,
   "outputs": [
    {
     "data": {
      "text/plain": "(6995,)"
     },
     "execution_count": 30,
     "metadata": {},
     "output_type": "execute_result"
    }
   ],
   "source": [
    "np.unique(samples_ids).shape"
   ],
   "metadata": {
    "collapsed": false,
    "ExecuteTime": {
     "end_time": "2024-02-20T18:05:48.228693Z",
     "start_time": "2024-02-20T18:05:48.215805Z"
    }
   },
   "id": "61d8258521a7ab6a"
  },
  {
   "cell_type": "code",
   "execution_count": null,
   "outputs": [],
   "source": [
    "{'test_model_1': [0.5386666655540466, 0.5506666898727417, 0.5633333325386047]}"
   ],
   "metadata": {
    "collapsed": false
   },
   "id": "786f28960764af5d"
  },
  {
   "cell_type": "code",
   "execution_count": 107,
   "outputs": [
    {
     "data": {
      "text/plain": "0.9647273193205547"
     },
     "execution_count": 107,
     "metadata": {},
     "output_type": "execute_result"
    }
   ],
   "source": [
    "(np.tanh(2 * (200 + 1)/ N_EPOCHS))"
   ],
   "metadata": {
    "collapsed": false,
    "ExecuteTime": {
     "end_time": "2024-02-20T17:22:53.653399Z",
     "start_time": "2024-02-20T17:22:53.643595Z"
    }
   },
   "id": "9790fd22bda8078b"
  },
  {
   "cell_type": "code",
   "execution_count": 112,
   "outputs": [
    {
     "data": {
      "text/plain": "0.7698665359089003"
     },
     "execution_count": 112,
     "metadata": {},
     "output_type": "execute_result"
    }
   ],
   "source": [
    "(np.tanh(2 * (50 + 1)/ (N_EPOCHS / 2)))"
   ],
   "metadata": {
    "collapsed": false,
    "ExecuteTime": {
     "end_time": "2024-02-20T17:23:55.805922Z",
     "start_time": "2024-02-20T17:23:55.800596Z"
    }
   },
   "id": "156a0684f1bb544b"
  },
  {
   "cell_type": "code",
   "execution_count": null,
   "outputs": [],
   "source": [],
   "metadata": {
    "collapsed": false
   },
   "id": "48f13aeabc23da41"
  }
 ],
 "metadata": {
  "kernelspec": {
   "display_name": "Python 3",
   "language": "python",
   "name": "python3"
  },
  "language_info": {
   "codemirror_mode": {
    "name": "ipython",
    "version": 2
   },
   "file_extension": ".py",
   "mimetype": "text/x-python",
   "name": "python",
   "nbconvert_exporter": "python",
   "pygments_lexer": "ipython2",
   "version": "2.7.6"
  }
 },
 "nbformat": 4,
 "nbformat_minor": 5
}
