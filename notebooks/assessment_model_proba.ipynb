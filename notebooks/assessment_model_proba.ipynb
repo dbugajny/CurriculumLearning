{
 "cells": [
  {
   "cell_type": "code",
   "execution_count": 100,
   "id": "initial_id",
   "metadata": {
    "collapsed": true,
    "ExecuteTime": {
     "end_time": "2024-02-20T19:21:41.300596Z",
     "start_time": "2024-02-20T19:21:41.292118Z"
    }
   },
   "outputs": [],
   "source": [
    "import numpy as np\n",
    "import tensorflow as tf\n",
    "from curriculum_learning.models.classifier_model import ClassifierModel\n",
    "from curriculum_learning import utils\n",
    "import yaml\n",
    "from tqdm import tqdm\n",
    "from sklearn.model_selection import train_test_split\n",
    "import matplotlib.pyplot as plt"
   ]
  },
  {
   "cell_type": "code",
   "execution_count": 101,
   "outputs": [],
   "source": [
    "N_EPOCHS = 70\n",
    "N_TRIALS = 3\n",
    "BATCH_SIZE = 256\n",
    "\n",
    "loss = tf.keras.losses.SparseCategoricalCrossentropy()"
   ],
   "metadata": {
    "collapsed": false,
    "ExecuteTime": {
     "end_time": "2024-02-20T19:21:41.649872Z",
     "start_time": "2024-02-20T19:21:41.643796Z"
    }
   },
   "id": "bab2c3f4ef4cf399"
  },
  {
   "cell_type": "code",
   "execution_count": 117,
   "outputs": [],
   "source": [
    "with open(\"models_hyperparameters.yaml\", \"r\") as stream:\n",
    "    models_hyperparameters = yaml.safe_load(stream)\n",
    "    \n",
    "x, y = utils.load_data(\"../data/cifar-10-batches-py/data_batch_1\")\n",
    "x_train, x_test, y_train, y_test = train_test_split(x, y, test_size=0.3, random_state=42)\n",
    "x_test, x_val, y_test, y_val = train_test_split(x_test, y_test, test_size=0.5, random_state=42)\n",
    "\n",
    "train_size = x_train.shape[0]\n",
    "\n",
    "# x_train = x_train / 255\n",
    "# x_val = x_val / 255\n",
    "# x_test = x_test / 255"
   ],
   "metadata": {
    "collapsed": false,
    "ExecuteTime": {
     "end_time": "2024-02-20T19:33:10.879578Z",
     "start_time": "2024-02-20T19:33:10.740015Z"
    }
   },
   "id": "8424e92d91deb0ac"
  },
  {
   "cell_type": "code",
   "execution_count": 118,
   "outputs": [],
   "source": [
    "noise = 30\n",
    "x_train = np.clip(x_train + np.random.normal(0, noise, x_train.shape), 0, 255) / 255\n",
    "x_val = np.clip(x_val + np.random.normal(0, noise, x_val.shape), 0, 255) / 255\n",
    "x_test = np.clip(x_test + np.random.normal(0, noise, x_test.shape), 0, 255) / 255"
   ],
   "metadata": {
    "collapsed": false,
    "ExecuteTime": {
     "end_time": "2024-02-20T19:33:14.738649Z",
     "start_time": "2024-02-20T19:33:14.012026Z"
    }
   },
   "id": "7610b74207fb2df0"
  },
  {
   "cell_type": "code",
   "execution_count": 119,
   "outputs": [
    {
     "name": "stdout",
     "output_type": "stream",
     "text": [
      "Epoch 1/60\n",
      "28/28 [==============================] - 1s 28ms/step - loss: 2.5289 - accuracy: 0.1367\n",
      "Epoch 2/60\n",
      "28/28 [==============================] - 1s 28ms/step - loss: 2.2120 - accuracy: 0.1917\n",
      "Epoch 3/60\n",
      "28/28 [==============================] - 1s 27ms/step - loss: 2.0844 - accuracy: 0.2337\n",
      "Epoch 4/60\n",
      "28/28 [==============================] - 1s 28ms/step - loss: 2.0062 - accuracy: 0.2589\n",
      "Epoch 5/60\n",
      "28/28 [==============================] - 1s 29ms/step - loss: 1.9516 - accuracy: 0.2737\n",
      "Epoch 6/60\n",
      "28/28 [==============================] - 1s 29ms/step - loss: 1.8875 - accuracy: 0.3016\n",
      "Epoch 7/60\n",
      "28/28 [==============================] - 1s 30ms/step - loss: 1.8631 - accuracy: 0.3151\n",
      "Epoch 8/60\n",
      "28/28 [==============================] - 1s 28ms/step - loss: 1.8199 - accuracy: 0.3289\n",
      "Epoch 9/60\n",
      "28/28 [==============================] - 1s 34ms/step - loss: 1.7881 - accuracy: 0.3293\n",
      "Epoch 10/60\n",
      "28/28 [==============================] - 1s 29ms/step - loss: 1.7449 - accuracy: 0.3566\n",
      "Epoch 11/60\n",
      "28/28 [==============================] - 1s 28ms/step - loss: 1.7197 - accuracy: 0.3629\n",
      "Epoch 12/60\n",
      "28/28 [==============================] - 1s 29ms/step - loss: 1.7017 - accuracy: 0.3720\n",
      "Epoch 13/60\n",
      "28/28 [==============================] - 1s 29ms/step - loss: 1.6678 - accuracy: 0.3810\n",
      "Epoch 14/60\n",
      "28/28 [==============================] - 1s 28ms/step - loss: 1.6545 - accuracy: 0.3807\n",
      "Epoch 15/60\n",
      "28/28 [==============================] - 1s 28ms/step - loss: 1.6404 - accuracy: 0.3906\n",
      "Epoch 16/60\n",
      "28/28 [==============================] - 1s 28ms/step - loss: 1.6102 - accuracy: 0.4020\n",
      "Epoch 17/60\n",
      "28/28 [==============================] - 1s 29ms/step - loss: 1.5775 - accuracy: 0.4163\n",
      "Epoch 18/60\n",
      "28/28 [==============================] - 1s 29ms/step - loss: 1.5611 - accuracy: 0.4266\n",
      "Epoch 19/60\n",
      "28/28 [==============================] - 1s 31ms/step - loss: 1.5494 - accuracy: 0.4230\n",
      "Epoch 20/60\n",
      "28/28 [==============================] - 1s 29ms/step - loss: 1.5402 - accuracy: 0.4290\n",
      "Epoch 21/60\n",
      "28/28 [==============================] - 1s 27ms/step - loss: 1.5126 - accuracy: 0.4423\n",
      "Epoch 22/60\n",
      "28/28 [==============================] - 1s 28ms/step - loss: 1.5169 - accuracy: 0.4379\n",
      "Epoch 23/60\n",
      "28/28 [==============================] - 1s 29ms/step - loss: 1.4956 - accuracy: 0.4386\n",
      "Epoch 24/60\n",
      "28/28 [==============================] - 1s 28ms/step - loss: 1.4826 - accuracy: 0.4469\n",
      "Epoch 25/60\n",
      "28/28 [==============================] - 1s 31ms/step - loss: 1.4682 - accuracy: 0.4557\n",
      "Epoch 26/60\n",
      "28/28 [==============================] - 1s 29ms/step - loss: 1.4561 - accuracy: 0.4659\n",
      "Epoch 27/60\n",
      "28/28 [==============================] - 1s 29ms/step - loss: 1.4327 - accuracy: 0.4723\n",
      "Epoch 28/60\n",
      "28/28 [==============================] - 1s 28ms/step - loss: 1.4409 - accuracy: 0.4740\n",
      "Epoch 29/60\n",
      "28/28 [==============================] - 1s 32ms/step - loss: 1.4032 - accuracy: 0.4809\n",
      "Epoch 30/60\n",
      "28/28 [==============================] - 1s 33ms/step - loss: 1.4094 - accuracy: 0.4799\n",
      "Epoch 31/60\n",
      "28/28 [==============================] - 1s 30ms/step - loss: 1.4011 - accuracy: 0.4897\n",
      "Epoch 32/60\n",
      "28/28 [==============================] - 1s 33ms/step - loss: 1.3854 - accuracy: 0.4856\n",
      "Epoch 33/60\n",
      "28/28 [==============================] - 1s 33ms/step - loss: 1.3768 - accuracy: 0.4927\n",
      "Epoch 34/60\n",
      "28/28 [==============================] - 2s 54ms/step - loss: 1.3653 - accuracy: 0.5017\n",
      "Epoch 35/60\n",
      "28/28 [==============================] - 2s 66ms/step - loss: 1.3684 - accuracy: 0.4947\n",
      "Epoch 36/60\n",
      "28/28 [==============================] - 2s 57ms/step - loss: 1.3506 - accuracy: 0.4946\n",
      "Epoch 37/60\n",
      "28/28 [==============================] - 2s 58ms/step - loss: 1.3499 - accuracy: 0.4986\n",
      "Epoch 38/60\n",
      "28/28 [==============================] - 2s 67ms/step - loss: 1.3316 - accuracy: 0.5059\n",
      "Epoch 39/60\n",
      "28/28 [==============================] - 2s 55ms/step - loss: 1.3301 - accuracy: 0.5101\n",
      "Epoch 40/60\n",
      "28/28 [==============================] - 2s 54ms/step - loss: 1.3246 - accuracy: 0.5136\n",
      "Epoch 41/60\n",
      "28/28 [==============================] - 2s 55ms/step - loss: 1.3062 - accuracy: 0.5167\n",
      "Epoch 42/60\n",
      "28/28 [==============================] - 1s 49ms/step - loss: 1.3088 - accuracy: 0.5103\n",
      "Epoch 43/60\n",
      "28/28 [==============================] - 2s 56ms/step - loss: 1.2853 - accuracy: 0.5229\n",
      "Epoch 44/60\n",
      "28/28 [==============================] - 1s 53ms/step - loss: 1.2917 - accuracy: 0.5283\n",
      "Epoch 45/60\n",
      "28/28 [==============================] - 1s 52ms/step - loss: 1.2716 - accuracy: 0.5287\n",
      "Epoch 46/60\n",
      "28/28 [==============================] - 2s 54ms/step - loss: 1.2645 - accuracy: 0.5401\n",
      "Epoch 47/60\n",
      "28/28 [==============================] - 2s 59ms/step - loss: 1.2802 - accuracy: 0.5303\n",
      "Epoch 48/60\n",
      "28/28 [==============================] - 1s 48ms/step - loss: 1.2591 - accuracy: 0.5367\n",
      "Epoch 49/60\n",
      "28/28 [==============================] - 2s 56ms/step - loss: 1.2544 - accuracy: 0.5411\n",
      "Epoch 50/60\n",
      "28/28 [==============================] - 2s 59ms/step - loss: 1.2415 - accuracy: 0.5391\n",
      "Epoch 51/60\n",
      "28/28 [==============================] - 2s 58ms/step - loss: 1.2353 - accuracy: 0.5466\n",
      "Epoch 52/60\n",
      "28/28 [==============================] - 2s 56ms/step - loss: 1.2460 - accuracy: 0.5410\n",
      "Epoch 53/60\n",
      "28/28 [==============================] - 2s 54ms/step - loss: 1.2162 - accuracy: 0.5544\n",
      "Epoch 54/60\n",
      "28/28 [==============================] - 1s 50ms/step - loss: 1.2127 - accuracy: 0.5477\n",
      "Epoch 55/60\n",
      "28/28 [==============================] - 2s 55ms/step - loss: 1.2096 - accuracy: 0.5573\n",
      "Epoch 56/60\n",
      "28/28 [==============================] - 2s 61ms/step - loss: 1.2020 - accuracy: 0.5573\n",
      "Epoch 57/60\n",
      "28/28 [==============================] - 2s 67ms/step - loss: 1.2165 - accuracy: 0.5561\n",
      "Epoch 58/60\n",
      "28/28 [==============================] - 2s 66ms/step - loss: 1.2104 - accuracy: 0.5569\n",
      "Epoch 59/60\n",
      "28/28 [==============================] - 2s 65ms/step - loss: 1.1802 - accuracy: 0.5726\n",
      "Epoch 60/60\n",
      "28/28 [==============================] - 2s 60ms/step - loss: 1.1976 - accuracy: 0.5599\n"
     ]
    },
    {
     "data": {
      "text/plain": "<keras.src.callbacks.History at 0x17455c550>"
     },
     "execution_count": 119,
     "metadata": {},
     "output_type": "execute_result"
    }
   ],
   "source": [
    "assessment_model = ClassifierModel(output_shape=10, **models_hyperparameters[\"assessment_model\"])\n",
    "\n",
    "assessment_model.compile(optimizer='adam', loss=loss, metrics=['accuracy'])\n",
    "        \n",
    "assessment_model.fit(x_train, y_train, epochs=60, batch_size=BATCH_SIZE)"
   ],
   "metadata": {
    "collapsed": false,
    "ExecuteTime": {
     "end_time": "2024-02-20T19:34:26.619865Z",
     "start_time": "2024-02-20T19:33:15.544991Z"
    }
   },
   "id": "bdafb8a9c136f286"
  },
  {
   "cell_type": "code",
   "execution_count": 120,
   "outputs": [],
   "source": [
    "y_pred_assessment = assessment_model.predict(x_train, verbose=0)\n",
    "\n",
    "losses_assessment = - np.array(utils.calculate_loss_per_sample(y_train, y_pred_assessment, loss))\n",
    "losses_proba = np.exp(losses_assessment) / sum(np.exp(losses_assessment))"
   ],
   "metadata": {
    "collapsed": false,
    "ExecuteTime": {
     "end_time": "2024-02-20T19:34:39.238688Z",
     "start_time": "2024-02-20T19:34:26.617122Z"
    }
   },
   "id": "b6b8d2b35609d828"
  },
  {
   "cell_type": "code",
   "execution_count": 121,
   "outputs": [],
   "source": [
    "results = {}\n",
    "\n",
    "# test_models = [\"test_model_1\", \"test_model_2\", \"test_model_3\"]\n",
    "test_models = [\"test_model_1\"]"
   ],
   "metadata": {
    "collapsed": false,
    "ExecuteTime": {
     "end_time": "2024-02-20T19:34:39.238984Z",
     "start_time": "2024-02-20T19:34:39.151605Z"
    }
   },
   "id": "fe21ef1466862a11"
  },
  {
   "cell_type": "code",
   "execution_count": 122,
   "outputs": [
    {
     "name": "stdout",
     "output_type": "stream",
     "text": [
      "test_model_1\n"
     ]
    },
    {
     "name": "stderr",
     "output_type": "stream",
     "text": [
      "  0%|          | 0/3 [00:00<?, ?it/s]"
     ]
    },
    {
     "name": "stdout",
     "output_type": "stream",
     "text": [
      "2/2 [==============================] - 1s 391ms/step - loss: 2.6182 - accuracy: 0.0902 - val_loss: 2.3017 - val_accuracy: 0.1007\n",
      "4/4 [==============================] - 0s 130ms/step - loss: 2.5131 - accuracy: 0.1344 - val_loss: 2.2941 - val_accuracy: 0.1093\n",
      "5/5 [==============================] - 1s 220ms/step - loss: 2.3589 - accuracy: 0.1524 - val_loss: 2.2884 - val_accuracy: 0.1260\n",
      "7/7 [==============================] - 1s 165ms/step - loss: 2.2557 - accuracy: 0.2042 - val_loss: 2.2763 - val_accuracy: 0.1407\n",
      "8/8 [==============================] - 2s 206ms/step - loss: 2.1539 - accuracy: 0.2368 - val_loss: 2.2639 - val_accuracy: 0.1667\n",
      "10/10 [==============================] - 1s 113ms/step - loss: 2.0599 - accuracy: 0.2758 - val_loss: 2.2470 - val_accuracy: 0.2040\n",
      "11/11 [==============================] - 1s 104ms/step - loss: 1.9846 - accuracy: 0.3095 - val_loss: 2.2058 - val_accuracy: 0.2087\n",
      "12/12 [==============================] - 2s 139ms/step - loss: 1.9545 - accuracy: 0.3173 - val_loss: 2.2171 - val_accuracy: 0.1807\n",
      "13/13 [==============================] - 2s 163ms/step - loss: 1.8785 - accuracy: 0.3714 - val_loss: 2.2081 - val_accuracy: 0.1693\n",
      "15/15 [==============================] - 2s 143ms/step - loss: 1.8486 - accuracy: 0.3683 - val_loss: 2.2217 - val_accuracy: 0.1520\n",
      "16/16 [==============================] - 2s 141ms/step - loss: 1.7596 - accuracy: 0.3998 - val_loss: 2.1768 - val_accuracy: 0.1733\n",
      "17/17 [==============================] - 2s 132ms/step - loss: 1.7207 - accuracy: 0.4011 - val_loss: 2.1742 - val_accuracy: 0.1713\n",
      "18/18 [==============================] - 2s 101ms/step - loss: 1.6732 - accuracy: 0.4167 - val_loss: 2.1673 - val_accuracy: 0.1887\n",
      "19/19 [==============================] - 2s 104ms/step - loss: 1.6275 - accuracy: 0.4320 - val_loss: 2.1932 - val_accuracy: 0.1867\n",
      "19/19 [==============================] - 2s 115ms/step - loss: 1.6085 - accuracy: 0.4351 - val_loss: 2.2159 - val_accuracy: 0.1853\n",
      "20/20 [==============================] - 3s 131ms/step - loss: 1.5561 - accuracy: 0.4605 - val_loss: 2.2667 - val_accuracy: 0.1900\n",
      "21/21 [==============================] - 2s 116ms/step - loss: 1.5235 - accuracy: 0.4530 - val_loss: 2.3544 - val_accuracy: 0.1893\n",
      "22/22 [==============================] - 2s 110ms/step - loss: 1.4772 - accuracy: 0.4761 - val_loss: 2.4243 - val_accuracy: 0.1667\n",
      "22/22 [==============================] - 3s 139ms/step - loss: 1.4411 - accuracy: 0.4893 - val_loss: 2.4603 - val_accuracy: 0.1873\n",
      "23/23 [==============================] - 3s 116ms/step - loss: 1.4211 - accuracy: 0.4948 - val_loss: 2.5478 - val_accuracy: 0.1873\n",
      "23/23 [==============================] - 3s 114ms/step - loss: 1.3866 - accuracy: 0.5109 - val_loss: 2.5595 - val_accuracy: 0.1947\n",
      "24/24 [==============================] - 3s 115ms/step - loss: 1.3549 - accuracy: 0.5105 - val_loss: 2.6614 - val_accuracy: 0.2047\n",
      "24/24 [==============================] - 3s 126ms/step - loss: 1.3484 - accuracy: 0.5158 - val_loss: 2.6540 - val_accuracy: 0.2027\n",
      "25/25 [==============================] - 3s 112ms/step - loss: 1.3148 - accuracy: 0.5220 - val_loss: 2.7166 - val_accuracy: 0.2107\n",
      "25/25 [==============================] - 3s 109ms/step - loss: 1.3337 - accuracy: 0.5110 - val_loss: 2.5392 - val_accuracy: 0.2347\n",
      "25/25 [==============================] - 3s 110ms/step - loss: 1.2830 - accuracy: 0.5368 - val_loss: 2.4857 - val_accuracy: 0.2373\n",
      "25/25 [==============================] - 3s 112ms/step - loss: 1.2707 - accuracy: 0.5394 - val_loss: 2.4375 - val_accuracy: 0.2513\n",
      "26/26 [==============================] - 3s 110ms/step - loss: 1.2462 - accuracy: 0.5511 - val_loss: 2.5139 - val_accuracy: 0.2573\n",
      "26/26 [==============================] - 3s 109ms/step - loss: 1.2613 - accuracy: 0.5406 - val_loss: 2.2001 - val_accuracy: 0.2867\n",
      "26/26 [==============================] - 3s 106ms/step - loss: 1.2093 - accuracy: 0.5628 - val_loss: 1.9712 - val_accuracy: 0.3400\n",
      "26/26 [==============================] - 3s 112ms/step - loss: 1.2124 - accuracy: 0.5590 - val_loss: 2.0590 - val_accuracy: 0.3220\n",
      "26/26 [==============================] - 3s 111ms/step - loss: 1.1939 - accuracy: 0.5673 - val_loss: 1.9672 - val_accuracy: 0.3533\n",
      "27/27 [==============================] - 3s 106ms/step - loss: 1.1807 - accuracy: 0.5770 - val_loss: 1.7883 - val_accuracy: 0.4020\n",
      "27/27 [==============================] - 3s 107ms/step - loss: 1.1970 - accuracy: 0.5615 - val_loss: 1.5324 - val_accuracy: 0.4553\n",
      "27/27 [==============================] - 2s 75ms/step - loss: 1.1606 - accuracy: 0.5834 - val_loss: 1.6661 - val_accuracy: 0.4407\n",
      "27/27 [==============================] - 2s 82ms/step - loss: 1.1466 - accuracy: 0.5864 - val_loss: 1.5353 - val_accuracy: 0.4673\n",
      "27/27 [==============================] - 3s 104ms/step - loss: 1.1243 - accuracy: 0.5964 - val_loss: 1.4652 - val_accuracy: 0.4833\n",
      "27/27 [==============================] - 3s 99ms/step - loss: 1.0971 - accuracy: 0.6045 - val_loss: 1.5675 - val_accuracy: 0.4547\n",
      "27/27 [==============================] - 3s 99ms/step - loss: 1.0872 - accuracy: 0.6131 - val_loss: 1.6230 - val_accuracy: 0.4393\n",
      "27/27 [==============================] - 2s 87ms/step - loss: 1.0520 - accuracy: 0.6253 - val_loss: 1.7068 - val_accuracy: 0.4393\n",
      "27/27 [==============================] - 2s 57ms/step - loss: 1.0678 - accuracy: 0.6190 - val_loss: 1.6853 - val_accuracy: 0.4267\n",
      "27/27 [==============================] - 2s 94ms/step - loss: 1.0313 - accuracy: 0.6344 - val_loss: 1.6567 - val_accuracy: 0.4527\n",
      "27/27 [==============================] - 3s 97ms/step - loss: 1.0161 - accuracy: 0.6380 - val_loss: 1.5823 - val_accuracy: 0.4600\n",
      "27/27 [==============================] - 3s 112ms/step - loss: 1.0102 - accuracy: 0.6416 - val_loss: 1.6149 - val_accuracy: 0.4647\n",
      "28/28 [==============================] - 3s 101ms/step - loss: 0.9781 - accuracy: 0.6505 - val_loss: 1.8852 - val_accuracy: 0.3973\n",
      "28/28 [==============================] - 3s 106ms/step - loss: 1.0998 - accuracy: 0.6125 - val_loss: 1.6208 - val_accuracy: 0.4500\n",
      "28/28 [==============================] - 3s 99ms/step - loss: 1.0739 - accuracy: 0.6105 - val_loss: 1.6438 - val_accuracy: 0.4527\n",
      "28/28 [==============================] - 3s 104ms/step - loss: 1.0102 - accuracy: 0.6367 - val_loss: 1.6670 - val_accuracy: 0.4427\n",
      "28/28 [==============================] - 2s 85ms/step - loss: 1.0187 - accuracy: 0.6327 - val_loss: 1.5201 - val_accuracy: 0.4853\n",
      "28/28 [==============================] - 3s 102ms/step - loss: 0.9818 - accuracy: 0.6517 - val_loss: 1.4886 - val_accuracy: 0.4953\n",
      "28/28 [==============================] - 3s 99ms/step - loss: 0.9424 - accuracy: 0.6705 - val_loss: 1.5961 - val_accuracy: 0.4693\n",
      "28/28 [==============================] - 3s 98ms/step - loss: 0.9408 - accuracy: 0.6677 - val_loss: 1.8111 - val_accuracy: 0.4360\n",
      "28/28 [==============================] - 3s 109ms/step - loss: 0.9260 - accuracy: 0.6712 - val_loss: 1.5661 - val_accuracy: 0.4753\n",
      "28/28 [==============================] - 4s 129ms/step - loss: 0.9070 - accuracy: 0.6815 - val_loss: 1.8711 - val_accuracy: 0.4180\n",
      "28/28 [==============================] - 3s 103ms/step - loss: 0.8850 - accuracy: 0.6889 - val_loss: 1.7808 - val_accuracy: 0.4353\n",
      "28/28 [==============================] - 3s 106ms/step - loss: 0.8640 - accuracy: 0.6938 - val_loss: 1.7184 - val_accuracy: 0.4460\n",
      "28/28 [==============================] - 3s 109ms/step - loss: 0.8631 - accuracy: 0.6908 - val_loss: 1.6468 - val_accuracy: 0.4567\n",
      "28/28 [==============================] - 3s 125ms/step - loss: 0.8622 - accuracy: 0.6899 - val_loss: 1.9037 - val_accuracy: 0.4220\n",
      "28/28 [==============================] - 3s 106ms/step - loss: 0.8346 - accuracy: 0.7051 - val_loss: 1.7103 - val_accuracy: 0.4447\n",
      "28/28 [==============================] - 2s 63ms/step - loss: 0.8397 - accuracy: 0.7015 - val_loss: 1.7079 - val_accuracy: 0.4500\n",
      "28/28 [==============================] - 3s 111ms/step - loss: 0.8262 - accuracy: 0.7078 - val_loss: 1.6822 - val_accuracy: 0.4673\n",
      "28/28 [==============================] - 3s 105ms/step - loss: 0.8252 - accuracy: 0.7079 - val_loss: 1.6542 - val_accuracy: 0.4647\n",
      "28/28 [==============================] - 3s 109ms/step - loss: 0.8090 - accuracy: 0.7146 - val_loss: 2.0583 - val_accuracy: 0.3913\n",
      "28/28 [==============================] - 3s 115ms/step - loss: 0.7726 - accuracy: 0.7299 - val_loss: 1.7286 - val_accuracy: 0.4653\n",
      "28/28 [==============================] - 3s 106ms/step - loss: 0.7928 - accuracy: 0.7269 - val_loss: 1.6474 - val_accuracy: 0.4760\n",
      "28/28 [==============================] - 3s 97ms/step - loss: 0.7677 - accuracy: 0.7270 - val_loss: 1.7142 - val_accuracy: 0.4627\n",
      "28/28 [==============================] - 3s 110ms/step - loss: 0.7560 - accuracy: 0.7350 - val_loss: 1.7575 - val_accuracy: 0.4620\n",
      "28/28 [==============================] - 3s 96ms/step - loss: 0.7355 - accuracy: 0.7388 - val_loss: 1.8027 - val_accuracy: 0.4533\n",
      "28/28 [==============================] - 3s 95ms/step - loss: 0.7397 - accuracy: 0.7421 - val_loss: 1.7457 - val_accuracy: 0.4653\n",
      "28/28 [==============================] - 3s 99ms/step - loss: 0.7469 - accuracy: 0.7337 - val_loss: 1.6775 - val_accuracy: 0.4800\n",
      "6/6 [==============================] - 0s 22ms/step - loss: 1.6238 - accuracy: 0.4653\n"
     ]
    },
    {
     "name": "stderr",
     "output_type": "stream",
     "text": [
      " 33%|███▎      | 1/3 [03:19<06:38, 199.37s/it]"
     ]
    },
    {
     "name": "stdout",
     "output_type": "stream",
     "text": [
      "2/2 [==============================] - 2s 319ms/step - loss: 2.5805 - accuracy: 0.0977 - val_loss: 2.3049 - val_accuracy: 0.0840\n",
      "4/4 [==============================] - 0s 125ms/step - loss: 2.5131 - accuracy: 0.1005 - val_loss: 2.3005 - val_accuracy: 0.1053\n",
      "5/5 [==============================] - 1s 133ms/step - loss: 2.3595 - accuracy: 0.1608 - val_loss: 2.2950 - val_accuracy: 0.1167\n",
      "7/7 [==============================] - 1s 105ms/step - loss: 2.2746 - accuracy: 0.1908 - val_loss: 2.2851 - val_accuracy: 0.1280\n",
      "8/8 [==============================] - 1s 115ms/step - loss: 2.1513 - accuracy: 0.2455 - val_loss: 2.2684 - val_accuracy: 0.1720\n",
      "10/10 [==============================] - 1s 102ms/step - loss: 2.0745 - accuracy: 0.2788 - val_loss: 2.2473 - val_accuracy: 0.2000\n",
      "11/11 [==============================] - 1s 105ms/step - loss: 2.0141 - accuracy: 0.3042 - val_loss: 2.2243 - val_accuracy: 0.2153\n",
      "12/12 [==============================] - 1s 107ms/step - loss: 1.9258 - accuracy: 0.3450 - val_loss: 2.2099 - val_accuracy: 0.2333\n",
      "13/13 [==============================] - 1s 117ms/step - loss: 1.8671 - accuracy: 0.3617 - val_loss: 2.1888 - val_accuracy: 0.2253\n",
      "15/15 [==============================] - 2s 114ms/step - loss: 1.8101 - accuracy: 0.3830 - val_loss: 2.2225 - val_accuracy: 0.1807\n",
      "16/16 [==============================] - 2s 120ms/step - loss: 1.7660 - accuracy: 0.3883 - val_loss: 2.2136 - val_accuracy: 0.1813\n",
      "17/17 [==============================] - 2s 113ms/step - loss: 1.7340 - accuracy: 0.3949 - val_loss: 2.2240 - val_accuracy: 0.1847\n",
      "18/18 [==============================] - 2s 129ms/step - loss: 1.6845 - accuracy: 0.4056 - val_loss: 2.2887 - val_accuracy: 0.1667\n",
      "19/19 [==============================] - 2s 107ms/step - loss: 1.6500 - accuracy: 0.4204 - val_loss: 2.4714 - val_accuracy: 0.1220\n",
      "19/19 [==============================] - 2s 112ms/step - loss: 1.6050 - accuracy: 0.4345 - val_loss: 2.4329 - val_accuracy: 0.1413\n",
      "20/20 [==============================] - 2s 109ms/step - loss: 1.5678 - accuracy: 0.4395 - val_loss: 2.6391 - val_accuracy: 0.1193\n",
      "21/21 [==============================] - 2s 110ms/step - loss: 1.5300 - accuracy: 0.4530 - val_loss: 2.7716 - val_accuracy: 0.1140\n",
      "22/22 [==============================] - 2s 104ms/step - loss: 1.4812 - accuracy: 0.4667 - val_loss: 2.8170 - val_accuracy: 0.1247\n",
      "22/22 [==============================] - 2s 106ms/step - loss: 1.4792 - accuracy: 0.4672 - val_loss: 2.9022 - val_accuracy: 0.1393\n",
      "23/23 [==============================] - 2s 85ms/step - loss: 1.4384 - accuracy: 0.4847 - val_loss: 2.8550 - val_accuracy: 0.1487\n",
      "23/23 [==============================] - 1s 62ms/step - loss: 1.4186 - accuracy: 0.4862 - val_loss: 2.9322 - val_accuracy: 0.1467\n",
      "24/24 [==============================] - 3s 109ms/step - loss: 1.3847 - accuracy: 0.4967 - val_loss: 2.8777 - val_accuracy: 0.1633\n",
      "24/24 [==============================] - 3s 108ms/step - loss: 1.3529 - accuracy: 0.5105 - val_loss: 3.1593 - val_accuracy: 0.1420\n",
      "25/25 [==============================] - 3s 106ms/step - loss: 1.3500 - accuracy: 0.5154 - val_loss: 2.8807 - val_accuracy: 0.1667\n",
      "25/25 [==============================] - 3s 110ms/step - loss: 1.3463 - accuracy: 0.5083 - val_loss: 2.5969 - val_accuracy: 0.1973\n",
      "25/25 [==============================] - 3s 109ms/step - loss: 1.3119 - accuracy: 0.5260 - val_loss: 2.4469 - val_accuracy: 0.2393\n",
      "25/25 [==============================] - 3s 110ms/step - loss: 1.2943 - accuracy: 0.5308 - val_loss: 1.8981 - val_accuracy: 0.3313\n",
      "26/26 [==============================] - 3s 105ms/step - loss: 1.2706 - accuracy: 0.5359 - val_loss: 1.9767 - val_accuracy: 0.3473\n",
      "26/26 [==============================] - 3s 107ms/step - loss: 1.2612 - accuracy: 0.5424 - val_loss: 1.6661 - val_accuracy: 0.4200\n",
      "26/26 [==============================] - 3s 107ms/step - loss: 1.2428 - accuracy: 0.5488 - val_loss: 1.8591 - val_accuracy: 0.3753\n",
      "26/26 [==============================] - 3s 116ms/step - loss: 1.2021 - accuracy: 0.5610 - val_loss: 1.8801 - val_accuracy: 0.3613\n",
      "26/26 [==============================] - 3s 113ms/step - loss: 1.2029 - accuracy: 0.5643 - val_loss: 1.6676 - val_accuracy: 0.4287\n",
      "27/27 [==============================] - 3s 105ms/step - loss: 1.1921 - accuracy: 0.5699 - val_loss: 1.6066 - val_accuracy: 0.4467\n",
      "27/27 [==============================] - 3s 108ms/step - loss: 1.1828 - accuracy: 0.5686 - val_loss: 1.4967 - val_accuracy: 0.4753\n",
      "27/27 [==============================] - 3s 115ms/step - loss: 1.1565 - accuracy: 0.5864 - val_loss: 1.8115 - val_accuracy: 0.3960\n",
      "27/27 [==============================] - 2s 86ms/step - loss: 1.1387 - accuracy: 0.5883 - val_loss: 1.5601 - val_accuracy: 0.4680\n",
      "27/27 [==============================] - 2s 68ms/step - loss: 1.1274 - accuracy: 0.5903 - val_loss: 1.7822 - val_accuracy: 0.4147\n",
      "27/27 [==============================] - 3s 106ms/step - loss: 1.0952 - accuracy: 0.6076 - val_loss: 1.4714 - val_accuracy: 0.4853\n",
      "27/27 [==============================] - 3s 109ms/step - loss: 1.0881 - accuracy: 0.6077 - val_loss: 1.6430 - val_accuracy: 0.4433\n",
      "27/27 [==============================] - 3s 106ms/step - loss: 1.0739 - accuracy: 0.6133 - val_loss: 1.5530 - val_accuracy: 0.4640\n",
      "27/27 [==============================] - 3s 121ms/step - loss: 1.0448 - accuracy: 0.6307 - val_loss: 1.4837 - val_accuracy: 0.4813\n",
      "27/27 [==============================] - 3s 112ms/step - loss: 1.0435 - accuracy: 0.6331 - val_loss: 1.5229 - val_accuracy: 0.4753\n",
      "27/27 [==============================] - 3s 110ms/step - loss: 1.0286 - accuracy: 0.6290 - val_loss: 1.4939 - val_accuracy: 0.4760\n",
      "27/27 [==============================] - 3s 111ms/step - loss: 1.0226 - accuracy: 0.6404 - val_loss: 1.7316 - val_accuracy: 0.4353\n",
      "28/28 [==============================] - 3s 107ms/step - loss: 1.0040 - accuracy: 0.6359 - val_loss: 1.6900 - val_accuracy: 0.4547\n",
      "28/28 [==============================] - 3s 103ms/step - loss: 1.1230 - accuracy: 0.5995 - val_loss: 1.6957 - val_accuracy: 0.4353\n",
      "28/28 [==============================] - 3s 104ms/step - loss: 1.0640 - accuracy: 0.6199 - val_loss: 1.8299 - val_accuracy: 0.4060\n",
      "28/28 [==============================] - 3s 107ms/step - loss: 1.0171 - accuracy: 0.6321 - val_loss: 1.5571 - val_accuracy: 0.4727\n",
      "28/28 [==============================] - 3s 94ms/step - loss: 0.9859 - accuracy: 0.6510 - val_loss: 1.5478 - val_accuracy: 0.4793\n",
      "28/28 [==============================] - 3s 106ms/step - loss: 0.9788 - accuracy: 0.6472 - val_loss: 1.6089 - val_accuracy: 0.4587\n",
      "28/28 [==============================] - 3s 113ms/step - loss: 0.9337 - accuracy: 0.6663 - val_loss: 1.6282 - val_accuracy: 0.4587\n",
      "28/28 [==============================] - 3s 120ms/step - loss: 0.9235 - accuracy: 0.6681 - val_loss: 1.6496 - val_accuracy: 0.4547\n",
      "28/28 [==============================] - 3s 114ms/step - loss: 0.9296 - accuracy: 0.6710 - val_loss: 1.6226 - val_accuracy: 0.4747\n",
      "28/28 [==============================] - 3s 123ms/step - loss: 0.9000 - accuracy: 0.6789 - val_loss: 1.8913 - val_accuracy: 0.4213\n",
      "28/28 [==============================] - 3s 104ms/step - loss: 0.8900 - accuracy: 0.6806 - val_loss: 1.7450 - val_accuracy: 0.4640\n",
      "28/28 [==============================] - 3s 109ms/step - loss: 0.8727 - accuracy: 0.6802 - val_loss: 1.6306 - val_accuracy: 0.4760\n",
      "28/28 [==============================] - 3s 107ms/step - loss: 0.8660 - accuracy: 0.6988 - val_loss: 1.6284 - val_accuracy: 0.4767\n",
      "28/28 [==============================] - 3s 107ms/step - loss: 0.8554 - accuracy: 0.6939 - val_loss: 1.7306 - val_accuracy: 0.4353\n",
      "28/28 [==============================] - 3s 109ms/step - loss: 0.8295 - accuracy: 0.7041 - val_loss: 1.6646 - val_accuracy: 0.4733\n",
      "28/28 [==============================] - 3s 110ms/step - loss: 0.8242 - accuracy: 0.7082 - val_loss: 1.6530 - val_accuracy: 0.4667\n",
      "28/28 [==============================] - 3s 107ms/step - loss: 0.8100 - accuracy: 0.7126 - val_loss: 1.6700 - val_accuracy: 0.4673\n",
      "28/28 [==============================] - 3s 106ms/step - loss: 0.8143 - accuracy: 0.7125 - val_loss: 1.6269 - val_accuracy: 0.4767\n",
      "28/28 [==============================] - 3s 107ms/step - loss: 0.7968 - accuracy: 0.7131 - val_loss: 1.6476 - val_accuracy: 0.4713\n",
      "28/28 [==============================] - 3s 104ms/step - loss: 0.7831 - accuracy: 0.7215 - val_loss: 1.7385 - val_accuracy: 0.4513\n",
      "28/28 [==============================] - 3s 108ms/step - loss: 0.7674 - accuracy: 0.7274 - val_loss: 1.7435 - val_accuracy: 0.4520\n",
      "28/28 [==============================] - 4s 139ms/step - loss: 0.7605 - accuracy: 0.7321 - val_loss: 1.7046 - val_accuracy: 0.4767\n",
      "28/28 [==============================] - 4s 144ms/step - loss: 0.7455 - accuracy: 0.7352 - val_loss: 1.6575 - val_accuracy: 0.4760\n",
      "28/28 [==============================] - 3s 108ms/step - loss: 0.7310 - accuracy: 0.7388 - val_loss: 1.7784 - val_accuracy: 0.4693\n",
      "28/28 [==============================] - 3s 113ms/step - loss: 0.7485 - accuracy: 0.7335 - val_loss: 1.6517 - val_accuracy: 0.4773\n",
      "28/28 [==============================] - 3s 102ms/step - loss: 0.7346 - accuracy: 0.7330 - val_loss: 2.1138 - val_accuracy: 0.4247\n",
      "6/6 [==============================] - 0s 17ms/step - loss: 2.2275 - accuracy: 0.3820\n"
     ]
    },
    {
     "name": "stderr",
     "output_type": "stream",
     "text": [
      " 67%|██████▋   | 2/3 [06:31<03:15, 195.36s/it]"
     ]
    },
    {
     "name": "stdout",
     "output_type": "stream",
     "text": [
      "2/2 [==============================] - 1s 323ms/step - loss: 2.6960 - accuracy: 0.1028 - val_loss: 2.3016 - val_accuracy: 0.1060\n",
      "4/4 [==============================] - 0s 121ms/step - loss: 2.5239 - accuracy: 0.1307 - val_loss: 2.3005 - val_accuracy: 0.1040\n",
      "5/5 [==============================] - 1s 131ms/step - loss: 2.4241 - accuracy: 0.1549 - val_loss: 2.3004 - val_accuracy: 0.1013\n",
      "7/7 [==============================] - 1s 107ms/step - loss: 2.3487 - accuracy: 0.1628 - val_loss: 2.2999 - val_accuracy: 0.0820\n",
      "8/8 [==============================] - 1s 136ms/step - loss: 2.2206 - accuracy: 0.2024 - val_loss: 2.2996 - val_accuracy: 0.1093\n",
      "10/10 [==============================] - 1s 102ms/step - loss: 2.1287 - accuracy: 0.2446 - val_loss: 2.2876 - val_accuracy: 0.1100\n",
      "11/11 [==============================] - 2s 170ms/step - loss: 2.0353 - accuracy: 0.2885 - val_loss: 2.2733 - val_accuracy: 0.1320\n",
      "12/12 [==============================] - 2s 135ms/step - loss: 1.9757 - accuracy: 0.3116 - val_loss: 2.2642 - val_accuracy: 0.1473\n",
      "13/13 [==============================] - 2s 121ms/step - loss: 1.9077 - accuracy: 0.3339 - val_loss: 2.2485 - val_accuracy: 0.1667\n",
      "15/15 [==============================] - 2s 113ms/step - loss: 1.8574 - accuracy: 0.3517 - val_loss: 2.2423 - val_accuracy: 0.1753\n",
      "16/16 [==============================] - 2s 116ms/step - loss: 1.7882 - accuracy: 0.3791 - val_loss: 2.2290 - val_accuracy: 0.1880\n",
      "17/17 [==============================] - 2s 89ms/step - loss: 1.7280 - accuracy: 0.4030 - val_loss: 2.2460 - val_accuracy: 0.1620\n",
      "18/18 [==============================] - 1s 65ms/step - loss: 1.6882 - accuracy: 0.4230 - val_loss: 2.2449 - val_accuracy: 0.1627\n",
      "19/19 [==============================] - 2s 101ms/step - loss: 1.6497 - accuracy: 0.4178 - val_loss: 2.2304 - val_accuracy: 0.1820\n",
      "19/19 [==============================] - 2s 117ms/step - loss: 1.6048 - accuracy: 0.4327 - val_loss: 2.2093 - val_accuracy: 0.2013\n",
      "20/20 [==============================] - 2s 113ms/step - loss: 1.5702 - accuracy: 0.4368 - val_loss: 2.3426 - val_accuracy: 0.1787\n",
      "21/21 [==============================] - 2s 114ms/step - loss: 1.5379 - accuracy: 0.4545 - val_loss: 2.2833 - val_accuracy: 0.1840\n",
      "22/22 [==============================] - 3s 114ms/step - loss: 1.4711 - accuracy: 0.4672 - val_loss: 2.4199 - val_accuracy: 0.1620\n",
      "22/22 [==============================] - 2s 74ms/step - loss: 1.4629 - accuracy: 0.4696 - val_loss: 2.4318 - val_accuracy: 0.1860\n",
      "23/23 [==============================] - 2s 92ms/step - loss: 1.4149 - accuracy: 0.4850 - val_loss: 2.4172 - val_accuracy: 0.1907\n",
      "23/23 [==============================] - 3s 113ms/step - loss: 1.4164 - accuracy: 0.4821 - val_loss: 2.4681 - val_accuracy: 0.1947\n",
      "24/24 [==============================] - 3s 115ms/step - loss: 1.3886 - accuracy: 0.4982 - val_loss: 2.6056 - val_accuracy: 0.1973\n",
      "24/24 [==============================] - 3s 111ms/step - loss: 1.3562 - accuracy: 0.5105 - val_loss: 2.5806 - val_accuracy: 0.1987\n",
      "25/25 [==============================] - 3s 108ms/step - loss: 1.3282 - accuracy: 0.5155 - val_loss: 2.4274 - val_accuracy: 0.2300\n",
      "25/25 [==============================] - 3s 110ms/step - loss: 1.3371 - accuracy: 0.5143 - val_loss: 2.5318 - val_accuracy: 0.2080\n",
      "25/25 [==============================] - 3s 112ms/step - loss: 1.3151 - accuracy: 0.5137 - val_loss: 2.3397 - val_accuracy: 0.2660\n",
      "25/25 [==============================] - 3s 110ms/step - loss: 1.2967 - accuracy: 0.5240 - val_loss: 2.2010 - val_accuracy: 0.2867\n",
      "26/26 [==============================] - 3s 106ms/step - loss: 1.2722 - accuracy: 0.5364 - val_loss: 2.0695 - val_accuracy: 0.2973\n",
      "26/26 [==============================] - 3s 103ms/step - loss: 1.2626 - accuracy: 0.5400 - val_loss: 1.8153 - val_accuracy: 0.3787\n",
      "26/26 [==============================] - 3s 105ms/step - loss: 1.2286 - accuracy: 0.5454 - val_loss: 1.8603 - val_accuracy: 0.3660\n",
      "26/26 [==============================] - 3s 115ms/step - loss: 1.2260 - accuracy: 0.5556 - val_loss: 1.9435 - val_accuracy: 0.3613\n",
      "26/26 [==============================] - 3s 112ms/step - loss: 1.1889 - accuracy: 0.5637 - val_loss: 1.7045 - val_accuracy: 0.4167\n",
      "27/27 [==============================] - 3s 109ms/step - loss: 1.1861 - accuracy: 0.5667 - val_loss: 1.6924 - val_accuracy: 0.4147\n",
      "27/27 [==============================] - 3s 107ms/step - loss: 1.1875 - accuracy: 0.5753 - val_loss: 1.8440 - val_accuracy: 0.4007\n",
      "27/27 [==============================] - 3s 103ms/step - loss: 1.1629 - accuracy: 0.5790 - val_loss: 1.4871 - val_accuracy: 0.4760\n",
      "27/27 [==============================] - 2s 90ms/step - loss: 1.1437 - accuracy: 0.5779 - val_loss: 1.7291 - val_accuracy: 0.4293\n",
      "27/27 [==============================] - 2s 69ms/step - loss: 1.1408 - accuracy: 0.5787 - val_loss: 1.6184 - val_accuracy: 0.4467\n",
      "27/27 [==============================] - 3s 103ms/step - loss: 1.1171 - accuracy: 0.5941 - val_loss: 1.5339 - val_accuracy: 0.4493\n",
      "27/27 [==============================] - 2s 61ms/step - loss: 1.0825 - accuracy: 0.6166 - val_loss: 1.5546 - val_accuracy: 0.4520\n",
      "27/27 [==============================] - 3s 112ms/step - loss: 1.0812 - accuracy: 0.6049 - val_loss: 1.5250 - val_accuracy: 0.4713\n",
      "27/27 [==============================] - 3s 108ms/step - loss: 1.0706 - accuracy: 0.6192 - val_loss: 1.5851 - val_accuracy: 0.4420\n",
      "27/27 [==============================] - 3s 108ms/step - loss: 1.0426 - accuracy: 0.6180 - val_loss: 1.4939 - val_accuracy: 0.4647\n",
      "27/27 [==============================] - 3s 112ms/step - loss: 1.0261 - accuracy: 0.6301 - val_loss: 1.6450 - val_accuracy: 0.4420\n",
      "27/27 [==============================] - 3s 108ms/step - loss: 1.0117 - accuracy: 0.6349 - val_loss: 1.4673 - val_accuracy: 0.4800\n",
      "28/28 [==============================] - 3s 103ms/step - loss: 1.0070 - accuracy: 0.6406 - val_loss: 1.7547 - val_accuracy: 0.4147\n",
      "28/28 [==============================] - 3s 104ms/step - loss: 1.1335 - accuracy: 0.5965 - val_loss: 1.7547 - val_accuracy: 0.4320\n",
      "28/28 [==============================] - 3s 105ms/step - loss: 1.0646 - accuracy: 0.6094 - val_loss: 1.5384 - val_accuracy: 0.4667\n",
      "28/28 [==============================] - 2s 61ms/step - loss: 1.0144 - accuracy: 0.6278 - val_loss: 1.5844 - val_accuracy: 0.4593\n",
      "28/28 [==============================] - 3s 99ms/step - loss: 0.9883 - accuracy: 0.6458 - val_loss: 1.6786 - val_accuracy: 0.4513\n",
      "28/28 [==============================] - 3s 109ms/step - loss: 0.9693 - accuracy: 0.6583 - val_loss: 1.5515 - val_accuracy: 0.4627\n",
      "28/28 [==============================] - 3s 103ms/step - loss: 0.9492 - accuracy: 0.6615 - val_loss: 1.5484 - val_accuracy: 0.4793\n",
      "28/28 [==============================] - 3s 108ms/step - loss: 0.9232 - accuracy: 0.6714 - val_loss: 1.5827 - val_accuracy: 0.4673\n",
      "28/28 [==============================] - 2s 74ms/step - loss: 0.9210 - accuracy: 0.6706 - val_loss: 1.8798 - val_accuracy: 0.4160\n",
      "28/28 [==============================] - 3s 95ms/step - loss: 0.9105 - accuracy: 0.6752 - val_loss: 1.4914 - val_accuracy: 0.4920\n",
      "28/28 [==============================] - 2s 79ms/step - loss: 0.8825 - accuracy: 0.6845 - val_loss: 1.5394 - val_accuracy: 0.4813\n",
      "28/28 [==============================] - 2s 62ms/step - loss: 0.8880 - accuracy: 0.6767 - val_loss: 1.6638 - val_accuracy: 0.4680\n",
      "28/28 [==============================] - 2s 60ms/step - loss: 0.8798 - accuracy: 0.6763 - val_loss: 1.6287 - val_accuracy: 0.4547\n",
      "28/28 [==============================] - 2s 60ms/step - loss: 0.8577 - accuracy: 0.6876 - val_loss: 1.9037 - val_accuracy: 0.4480\n",
      "28/28 [==============================] - 2s 61ms/step - loss: 0.8460 - accuracy: 0.6965 - val_loss: 1.8677 - val_accuracy: 0.4360\n",
      "28/28 [==============================] - 2s 61ms/step - loss: 0.8237 - accuracy: 0.7044 - val_loss: 1.6591 - val_accuracy: 0.4653\n",
      "28/28 [==============================] - 2s 60ms/step - loss: 0.8228 - accuracy: 0.7013 - val_loss: 1.6245 - val_accuracy: 0.4587\n",
      "28/28 [==============================] - 2s 61ms/step - loss: 0.8064 - accuracy: 0.7128 - val_loss: 1.6841 - val_accuracy: 0.4673\n",
      "28/28 [==============================] - 2s 60ms/step - loss: 0.7762 - accuracy: 0.7264 - val_loss: 1.5723 - val_accuracy: 0.4727\n",
      "28/28 [==============================] - 2s 60ms/step - loss: 0.8047 - accuracy: 0.7096 - val_loss: 1.6052 - val_accuracy: 0.4680\n",
      "28/28 [==============================] - 2s 61ms/step - loss: 0.7809 - accuracy: 0.7218 - val_loss: 1.6351 - val_accuracy: 0.4667\n",
      "28/28 [==============================] - 2s 61ms/step - loss: 0.7540 - accuracy: 0.7307 - val_loss: 1.8044 - val_accuracy: 0.4353\n",
      "28/28 [==============================] - 2s 61ms/step - loss: 0.7413 - accuracy: 0.7342 - val_loss: 1.6789 - val_accuracy: 0.4727\n",
      "28/28 [==============================] - 2s 61ms/step - loss: 0.7450 - accuracy: 0.7346 - val_loss: 1.8318 - val_accuracy: 0.4493\n",
      "28/28 [==============================] - 2s 61ms/step - loss: 0.7188 - accuracy: 0.7413 - val_loss: 1.6454 - val_accuracy: 0.4687\n",
      "28/28 [==============================] - 2s 62ms/step - loss: 0.7168 - accuracy: 0.7451 - val_loss: 1.8300 - val_accuracy: 0.4540\n",
      "6/6 [==============================] - 0s 14ms/step - loss: 1.8400 - accuracy: 0.4453\n"
     ]
    },
    {
     "name": "stderr",
     "output_type": "stream",
     "text": [
      "100%|██████████| 3/3 [09:12<00:00, 184.30s/it]\n"
     ]
    }
   ],
   "source": [
    "for test_model in test_models:\n",
    "    print(test_model)\n",
    "    model_scores = []\n",
    "\n",
    "    for _ in tqdm(range(N_TRIALS)):\n",
    "        model = ClassifierModel(output_shape=10, **models_hyperparameters[test_model])\n",
    "        \n",
    "        model.compile(optimizer='adam', loss=loss, metrics=['accuracy'])\n",
    "\n",
    "        for i in range(N_EPOCHS):\n",
    "            n_samples = int(np.tanh(4 * (i + 1) / N_EPOCHS) * train_size)\n",
    "            samples_ids = np.random.choice(range(train_size), p=losses_proba, size=n_samples, replace=False)\n",
    "            \n",
    "            model.fit(\n",
    "                x_train[samples_ids], y_train[samples_ids], \n",
    "                validation_data=(x_val, y_val),\n",
    "                epochs=1, batch_size=BATCH_SIZE, verbose=1\n",
    "            )\n",
    "        \n",
    "        _, accuracy = model.evaluate(x_test, y_test, batch_size=BATCH_SIZE, verbose=1)\n",
    "        \n",
    "        model_scores.append(accuracy)\n",
    "    \n",
    "    results[test_model] = model_scores"
   ],
   "metadata": {
    "collapsed": false,
    "ExecuteTime": {
     "end_time": "2024-02-20T19:43:52.086755Z",
     "start_time": "2024-02-20T19:34:39.189556Z"
    }
   },
   "id": "ce9112b33b1ada44"
  },
  {
   "cell_type": "code",
   "execution_count": 126,
   "outputs": [
    {
     "data": {
      "text/plain": "{'test_model_1': [0.46533334255218506, 0.38199999928474426, 0.445333331823349]}"
     },
     "execution_count": 126,
     "metadata": {},
     "output_type": "execute_result"
    }
   ],
   "source": [
    "results"
   ],
   "metadata": {
    "collapsed": false,
    "ExecuteTime": {
     "end_time": "2024-02-20T19:44:14.414407Z",
     "start_time": "2024-02-20T19:44:14.406490Z"
    }
   },
   "id": "d551d3d3c24e87d6"
  },
  {
   "cell_type": "code",
   "execution_count": 127,
   "outputs": [
    {
     "data": {
      "text/plain": "0.4308888912200928"
     },
     "execution_count": 127,
     "metadata": {},
     "output_type": "execute_result"
    }
   ],
   "source": [
    "sum(results[\"test_model_1\"]) / 3"
   ],
   "metadata": {
    "collapsed": false,
    "ExecuteTime": {
     "end_time": "2024-02-20T19:44:15.271649Z",
     "start_time": "2024-02-20T19:44:15.265264Z"
    }
   },
   "id": "48f13aeabc23da41"
  },
  {
   "cell_type": "code",
   "execution_count": null,
   "outputs": [],
   "source": [],
   "metadata": {
    "collapsed": false
   },
   "id": "296137ad5249dd1a"
  }
 ],
 "metadata": {
  "kernelspec": {
   "display_name": "Python 3",
   "language": "python",
   "name": "python3"
  },
  "language_info": {
   "codemirror_mode": {
    "name": "ipython",
    "version": 2
   },
   "file_extension": ".py",
   "mimetype": "text/x-python",
   "name": "python",
   "nbconvert_exporter": "python",
   "pygments_lexer": "ipython2",
   "version": "2.7.6"
  }
 },
 "nbformat": 4,
 "nbformat_minor": 5
}
