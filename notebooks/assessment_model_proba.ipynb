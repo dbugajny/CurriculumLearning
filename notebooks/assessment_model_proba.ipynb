{
 "cells": [
  {
   "cell_type": "code",
   "execution_count": 61,
   "id": "initial_id",
   "metadata": {
    "collapsed": true,
    "ExecuteTime": {
     "end_time": "2024-02-24T21:48:44.190068Z",
     "start_time": "2024-02-24T21:48:44.185883Z"
    }
   },
   "outputs": [],
   "source": [
    "import numpy as np\n",
    "import tensorflow as tf\n",
    "from curriculum_learning.models.classifier_model import ClassifierModel\n",
    "from curriculum_learning import utils\n",
    "import yaml\n",
    "from tqdm import tqdm\n",
    "from sklearn.model_selection import train_test_split\n",
    "import matplotlib.pyplot as plt\n",
    "import pandas as pd\n",
    "import seaborn as sns"
   ]
  },
  {
   "cell_type": "code",
   "execution_count": 62,
   "outputs": [],
   "source": [
    "# filepath_prefix = \"../data/data2/seg_train/seg_train/\"\n",
    "# \n",
    "# buildings = load_class_data(f\"{filepath_prefix}buildings\")\n",
    "# street = load_class_data(f\"{filepath_prefix}street\")\n",
    "# forest = load_class_data(f\"{filepath_prefix}forest\")\n",
    "# glacier = load_class_data(f\"{filepath_prefix}glacier\")\n",
    "# sea = load_class_data(f\"{filepath_prefix}sea\")\n",
    "# mountain = load_class_data(f\"{filepath_prefix}mountain\")"
   ],
   "metadata": {
    "collapsed": false,
    "ExecuteTime": {
     "end_time": "2024-02-24T21:48:44.485076Z",
     "start_time": "2024-02-24T21:48:44.477985Z"
    }
   },
   "id": "c5fb25f05fe5662a"
  },
  {
   "cell_type": "code",
   "execution_count": 63,
   "outputs": [],
   "source": [
    "# x = np.concatenate([buildings, street, forest, glacier, sea, mountain])\n",
    "# y = np.concatenate(\n",
    "#     [\n",
    "#         [0] * buildings.shape[0],\n",
    "#         [1] * street.shape[0],\n",
    "#         [2] * forest.shape[0],\n",
    "#         [3] * glacier.shape[0],\n",
    "#         [4] * sea.shape[0],\n",
    "#         [5] * mountain.shape[0],\n",
    "#     ]\n",
    "# )"
   ],
   "metadata": {
    "collapsed": false,
    "ExecuteTime": {
     "end_time": "2024-02-24T21:48:44.820674Z",
     "start_time": "2024-02-24T21:48:44.814446Z"
    }
   },
   "id": "3cd800ff0ba75388"
  },
  {
   "cell_type": "code",
   "execution_count": 39,
   "outputs": [],
   "source": [
    "N_EPOCHS = 50\n",
    "N_TRIALS = 5\n",
    "BATCH_SIZE = 128\n",
    "\n",
    "loss = tf.keras.losses.SparseCategoricalCrossentropy()"
   ],
   "metadata": {
    "collapsed": false,
    "ExecuteTime": {
     "end_time": "2024-02-24T19:20:43.541114Z",
     "start_time": "2024-02-24T19:20:43.534605Z"
    }
   },
   "id": "bab2c3f4ef4cf399"
  },
  {
   "cell_type": "code",
   "execution_count": 40,
   "outputs": [],
   "source": [
    "with open(\"models_hyperparameters.yaml\", \"r\") as stream:\n",
    "    models_hyperparameters = yaml.safe_load(stream)\n",
    "\n",
    "x, y = utils.load_data(\"../data/cifar-10-batches-py/data_batch_1\")\n",
    "x /= 255\n",
    "\n",
    "x_train, x_test, y_train, y_test = train_test_split(x, y, test_size=0.2, random_state=42)\n",
    "x_test, x_val, y_test, y_val = train_test_split(x_test, y_test, test_size=0.5, random_state=42)\n",
    "\n",
    "train_size = x_train.shape[0]"
   ],
   "metadata": {
    "collapsed": false,
    "ExecuteTime": {
     "end_time": "2024-02-24T19:20:47.929601Z",
     "start_time": "2024-02-24T19:20:47.753280Z"
    }
   },
   "id": "8424e92d91deb0ac"
  },
  {
   "cell_type": "code",
   "execution_count": 41,
   "outputs": [
    {
     "name": "stdout",
     "output_type": "stream",
     "text": [
      "Epoch 1/30\n",
      "63/63 [==============================] - 1s 15ms/step - loss: 2.4078 - accuracy: 0.1601\n",
      "Epoch 2/30\n",
      "63/63 [==============================] - 1s 14ms/step - loss: 2.0998 - accuracy: 0.2285\n",
      "Epoch 3/30\n",
      "63/63 [==============================] - 1s 15ms/step - loss: 1.9350 - accuracy: 0.2895\n",
      "Epoch 4/30\n",
      "63/63 [==============================] - 1s 16ms/step - loss: 1.8487 - accuracy: 0.3256\n",
      "Epoch 5/30\n",
      "63/63 [==============================] - 1s 15ms/step - loss: 1.7816 - accuracy: 0.3426\n",
      "Epoch 6/30\n",
      "63/63 [==============================] - 1s 16ms/step - loss: 1.7182 - accuracy: 0.3626\n",
      "Epoch 7/30\n",
      "63/63 [==============================] - 1s 15ms/step - loss: 1.6925 - accuracy: 0.3770\n",
      "Epoch 8/30\n",
      "63/63 [==============================] - 1s 15ms/step - loss: 1.6318 - accuracy: 0.3879\n",
      "Epoch 9/30\n",
      "63/63 [==============================] - 1s 14ms/step - loss: 1.6051 - accuracy: 0.4065\n",
      "Epoch 10/30\n",
      "63/63 [==============================] - 1s 15ms/step - loss: 1.5627 - accuracy: 0.4223\n",
      "Epoch 11/30\n",
      "63/63 [==============================] - 1s 15ms/step - loss: 1.5349 - accuracy: 0.4351\n",
      "Epoch 12/30\n",
      "63/63 [==============================] - 1s 15ms/step - loss: 1.5049 - accuracy: 0.4510\n",
      "Epoch 13/30\n",
      "63/63 [==============================] - 1s 14ms/step - loss: 1.4815 - accuracy: 0.4478\n",
      "Epoch 14/30\n",
      "63/63 [==============================] - 1s 15ms/step - loss: 1.4768 - accuracy: 0.4600\n",
      "Epoch 15/30\n",
      "63/63 [==============================] - 1s 15ms/step - loss: 1.4226 - accuracy: 0.4787\n",
      "Epoch 16/30\n",
      "63/63 [==============================] - 1s 15ms/step - loss: 1.4129 - accuracy: 0.4806\n",
      "Epoch 17/30\n",
      "63/63 [==============================] - 1s 15ms/step - loss: 1.3959 - accuracy: 0.4900\n",
      "Epoch 18/30\n",
      "63/63 [==============================] - 1s 15ms/step - loss: 1.3931 - accuracy: 0.4927\n",
      "Epoch 19/30\n",
      "63/63 [==============================] - 1s 15ms/step - loss: 1.3630 - accuracy: 0.5011\n",
      "Epoch 20/30\n",
      "63/63 [==============================] - 1s 14ms/step - loss: 1.3553 - accuracy: 0.5076\n",
      "Epoch 21/30\n",
      "63/63 [==============================] - 1s 15ms/step - loss: 1.3449 - accuracy: 0.5084\n",
      "Epoch 22/30\n",
      "63/63 [==============================] - 1s 14ms/step - loss: 1.3235 - accuracy: 0.5148\n",
      "Epoch 23/30\n",
      "63/63 [==============================] - 1s 15ms/step - loss: 1.3061 - accuracy: 0.5281\n",
      "Epoch 24/30\n",
      "63/63 [==============================] - 1s 15ms/step - loss: 1.3032 - accuracy: 0.5249\n",
      "Epoch 25/30\n",
      "63/63 [==============================] - 1s 15ms/step - loss: 1.2745 - accuracy: 0.5380\n",
      "Epoch 26/30\n",
      "63/63 [==============================] - 1s 15ms/step - loss: 1.2684 - accuracy: 0.5400\n",
      "Epoch 27/30\n",
      "63/63 [==============================] - 1s 16ms/step - loss: 1.2563 - accuracy: 0.5480\n",
      "Epoch 28/30\n",
      "63/63 [==============================] - 1s 16ms/step - loss: 1.2382 - accuracy: 0.5433\n",
      "Epoch 29/30\n",
      "63/63 [==============================] - 1s 15ms/step - loss: 1.2390 - accuracy: 0.5496\n",
      "Epoch 30/30\n",
      "63/63 [==============================] - 1s 15ms/step - loss: 1.2191 - accuracy: 0.5579\n"
     ]
    },
    {
     "data": {
      "text/plain": "<keras.src.callbacks.History at 0x28d7ce920>"
     },
     "execution_count": 41,
     "metadata": {},
     "output_type": "execute_result"
    }
   ],
   "source": [
    "assessment_model = ClassifierModel(output_shape=10, **models_hyperparameters[\"assessment_model\"])\n",
    "\n",
    "assessment_model.compile(optimizer='adam', loss=loss, metrics=['accuracy'])\n",
    "\n",
    "assessment_model.fit(x_train, y_train, epochs=30, batch_size=BATCH_SIZE)"
   ],
   "metadata": {
    "collapsed": false,
    "ExecuteTime": {
     "end_time": "2024-02-24T19:21:16.893134Z",
     "start_time": "2024-02-24T19:20:48.106392Z"
    }
   },
   "id": "bdafb8a9c136f286"
  },
  {
   "cell_type": "code",
   "execution_count": 42,
   "outputs": [],
   "source": [
    "x_train_sorted = x_train[np.argsort(y_train)]\n",
    "y_train_sorted = y_train[np.argsort(y_train)]\n",
    "\n",
    "y_pred_assessment = assessment_model.predict(x_train_sorted, verbose=0)\n",
    "losses_assessment = - np.array(utils.calculate_loss_per_sample(y_train_sorted, y_pred_assessment, loss))"
   ],
   "metadata": {
    "collapsed": false,
    "ExecuteTime": {
     "end_time": "2024-02-24T19:21:16.937225Z",
     "start_time": "2024-02-24T19:21:16.894025Z"
    }
   },
   "id": "ad0e2a1c0154f94b"
  },
  {
   "cell_type": "code",
   "execution_count": 45,
   "outputs": [],
   "source": [
    "_, counts = np.unique(y_train_sorted, return_counts=True)\n",
    "\n",
    "losses_proba = utils.normalize_losses_per_group(counts, losses_assessment)\n",
    "losses_proba2 = np.exp(losses_proba) / sum(np.exp(losses_proba))"
   ],
   "metadata": {
    "collapsed": false,
    "ExecuteTime": {
     "end_time": "2024-02-24T19:21:22.208008Z",
     "start_time": "2024-02-24T19:21:22.204737Z"
    }
   },
   "id": "58d67f553568a328"
  },
  {
   "cell_type": "code",
   "execution_count": 53,
   "outputs": [],
   "source": [
    "results = {}\n",
    "\n",
    "# test_models = [\"test_model_1\", \"test_model_2\", \"test_model_3\"]\n",
    "test_models = [\"test_model_1\"]"
   ],
   "metadata": {
    "collapsed": false,
    "ExecuteTime": {
     "end_time": "2024-02-24T19:32:45.384313Z",
     "start_time": "2024-02-24T19:32:45.368792Z"
    }
   },
   "id": "fe21ef1466862a11"
  },
  {
   "cell_type": "code",
   "execution_count": 54,
   "outputs": [
    {
     "name": "stdout",
     "output_type": "stream",
     "text": [
      "test_model_1\n"
     ]
    },
    {
     "name": "stderr",
     "output_type": "stream",
     "text": [
      "  0%|          | 0/5 [00:00<?, ?it/s]"
     ]
    },
    {
     "name": "stdout",
     "output_type": "stream",
     "text": [
      "5/5 [==============================] - 1s 69ms/step - loss: 2.7168 - accuracy: 0.1097 - val_loss: 2.3050 - val_accuracy: 0.0970\n",
      "10/10 [==============================] - 0s 40ms/step - loss: 2.6379 - accuracy: 0.1040 - val_loss: 2.3005 - val_accuracy: 0.1000\n",
      "15/15 [==============================] - 1s 36ms/step - loss: 2.5499 - accuracy: 0.1110 - val_loss: 2.3013 - val_accuracy: 0.0920\n",
      "20/20 [==============================] - 1s 36ms/step - loss: 2.4291 - accuracy: 0.1264 - val_loss: 2.2993 - val_accuracy: 0.0940\n",
      "24/24 [==============================] - 1s 40ms/step - loss: 2.3629 - accuracy: 0.1418 - val_loss: 2.2948 - val_accuracy: 0.1750\n",
      "28/28 [==============================] - 1s 39ms/step - loss: 2.2591 - accuracy: 0.1670 - val_loss: 2.2879 - val_accuracy: 0.1090\n",
      "32/32 [==============================] - 1s 37ms/step - loss: 2.2013 - accuracy: 0.1984 - val_loss: 2.4222 - val_accuracy: 0.0950\n",
      "36/36 [==============================] - 1s 38ms/step - loss: 2.1055 - accuracy: 0.2259 - val_loss: 2.5370 - val_accuracy: 0.1130\n",
      "39/39 [==============================] - 1s 35ms/step - loss: 2.0437 - accuracy: 0.2462 - val_loss: 2.7202 - val_accuracy: 0.1210\n",
      "42/42 [==============================] - 2s 47ms/step - loss: 1.9738 - accuracy: 0.2622 - val_loss: 3.0052 - val_accuracy: 0.1230\n",
      "45/45 [==============================] - 2s 44ms/step - loss: 1.9272 - accuracy: 0.2775 - val_loss: 2.4730 - val_accuracy: 0.1810\n",
      "47/47 [==============================] - 2s 40ms/step - loss: 1.8800 - accuracy: 0.2890 - val_loss: 2.2958 - val_accuracy: 0.2170\n",
      "49/49 [==============================] - 2s 33ms/step - loss: 1.8306 - accuracy: 0.3143 - val_loss: 1.9466 - val_accuracy: 0.3130\n",
      "51/51 [==============================] - 2s 33ms/step - loss: 1.7783 - accuracy: 0.3277 - val_loss: 1.9424 - val_accuracy: 0.3160\n",
      "53/53 [==============================] - 2s 37ms/step - loss: 1.7473 - accuracy: 0.3450 - val_loss: 1.6974 - val_accuracy: 0.3700\n",
      "54/54 [==============================] - 2s 45ms/step - loss: 1.7172 - accuracy: 0.3502 - val_loss: 1.6052 - val_accuracy: 0.4270\n",
      "55/55 [==============================] - 3s 47ms/step - loss: 1.6829 - accuracy: 0.3669 - val_loss: 1.6811 - val_accuracy: 0.4030\n",
      "56/56 [==============================] - 2s 36ms/step - loss: 1.6713 - accuracy: 0.3816 - val_loss: 1.5628 - val_accuracy: 0.4210\n",
      "57/57 [==============================] - 2s 43ms/step - loss: 1.6459 - accuracy: 0.3908 - val_loss: 1.6383 - val_accuracy: 0.3930\n",
      "58/58 [==============================] - 3s 49ms/step - loss: 1.6177 - accuracy: 0.3864 - val_loss: 1.5130 - val_accuracy: 0.4540\n",
      "59/59 [==============================] - 2s 38ms/step - loss: 1.6078 - accuracy: 0.4046 - val_loss: 1.6275 - val_accuracy: 0.4050\n",
      "59/59 [==============================] - 3s 43ms/step - loss: 1.5839 - accuracy: 0.4122 - val_loss: 1.4697 - val_accuracy: 0.4660\n",
      "60/60 [==============================] - 2s 40ms/step - loss: 1.5627 - accuracy: 0.4131 - val_loss: 1.4353 - val_accuracy: 0.4830\n",
      "60/60 [==============================] - 2s 34ms/step - loss: 1.5427 - accuracy: 0.4207 - val_loss: 1.3981 - val_accuracy: 0.4880\n",
      "61/61 [==============================] - 2s 35ms/step - loss: 1.5218 - accuracy: 0.4410 - val_loss: 1.4845 - val_accuracy: 0.4720\n",
      "61/61 [==============================] - 3s 48ms/step - loss: 1.5108 - accuracy: 0.4387 - val_loss: 1.3978 - val_accuracy: 0.4990\n",
      "61/61 [==============================] - 2s 36ms/step - loss: 1.4941 - accuracy: 0.4486 - val_loss: 1.4815 - val_accuracy: 0.4830\n",
      "62/62 [==============================] - 2s 38ms/step - loss: 1.4856 - accuracy: 0.4519 - val_loss: 1.4082 - val_accuracy: 0.4930\n",
      "62/62 [==============================] - 2s 38ms/step - loss: 1.4761 - accuracy: 0.4609 - val_loss: 1.6019 - val_accuracy: 0.4370\n",
      "62/62 [==============================] - 2s 34ms/step - loss: 1.4506 - accuracy: 0.4703 - val_loss: 1.3809 - val_accuracy: 0.5090\n",
      "62/62 [==============================] - 3s 47ms/step - loss: 1.4609 - accuracy: 0.4663 - val_loss: 1.3729 - val_accuracy: 0.4910\n",
      "62/62 [==============================] - 2s 38ms/step - loss: 1.4359 - accuracy: 0.4725 - val_loss: 1.3688 - val_accuracy: 0.5050\n",
      "62/62 [==============================] - 3s 42ms/step - loss: 1.4128 - accuracy: 0.4821 - val_loss: 1.3705 - val_accuracy: 0.4790\n",
      "62/62 [==============================] - 2s 36ms/step - loss: 1.4039 - accuracy: 0.4835 - val_loss: 1.7508 - val_accuracy: 0.3790\n",
      "63/63 [==============================] - 2s 34ms/step - loss: 1.4147 - accuracy: 0.4798 - val_loss: 1.4280 - val_accuracy: 0.4930\n",
      "63/63 [==============================] - 2s 35ms/step - loss: 1.4005 - accuracy: 0.4936 - val_loss: 1.4527 - val_accuracy: 0.4550\n",
      "63/63 [==============================] - 2s 34ms/step - loss: 1.3879 - accuracy: 0.4986 - val_loss: 1.6803 - val_accuracy: 0.4160\n",
      "63/63 [==============================] - 2s 35ms/step - loss: 1.3696 - accuracy: 0.4976 - val_loss: 1.5490 - val_accuracy: 0.4580\n",
      "63/63 [==============================] - 3s 41ms/step - loss: 1.3656 - accuracy: 0.5035 - val_loss: 1.4509 - val_accuracy: 0.4700\n",
      "63/63 [==============================] - 3s 43ms/step - loss: 1.3532 - accuracy: 0.5055 - val_loss: 1.4467 - val_accuracy: 0.4970\n",
      "63/63 [==============================] - 2s 39ms/step - loss: 1.3390 - accuracy: 0.5061 - val_loss: 1.2614 - val_accuracy: 0.5410\n",
      "63/63 [==============================] - 2s 35ms/step - loss: 1.3361 - accuracy: 0.5147 - val_loss: 1.6868 - val_accuracy: 0.4120\n",
      "63/63 [==============================] - 2s 34ms/step - loss: 1.3251 - accuracy: 0.5150 - val_loss: 1.5780 - val_accuracy: 0.4440\n",
      "63/63 [==============================] - 2s 31ms/step - loss: 1.3112 - accuracy: 0.5146 - val_loss: 1.6191 - val_accuracy: 0.4030\n",
      "63/63 [==============================] - 2s 31ms/step - loss: 1.3000 - accuracy: 0.5280 - val_loss: 1.3154 - val_accuracy: 0.5390\n",
      "63/63 [==============================] - 2s 30ms/step - loss: 1.3042 - accuracy: 0.5245 - val_loss: 1.3229 - val_accuracy: 0.4960\n",
      "63/63 [==============================] - 2s 38ms/step - loss: 1.2757 - accuracy: 0.5372 - val_loss: 1.2616 - val_accuracy: 0.5500\n",
      "63/63 [==============================] - 2s 34ms/step - loss: 1.2734 - accuracy: 0.5367 - val_loss: 1.8565 - val_accuracy: 0.4090\n",
      "63/63 [==============================] - 2s 35ms/step - loss: 1.2773 - accuracy: 0.5308 - val_loss: 1.5423 - val_accuracy: 0.4710\n",
      "63/63 [==============================] - 2s 36ms/step - loss: 1.2585 - accuracy: 0.5370 - val_loss: 1.4074 - val_accuracy: 0.5060\n",
      "8/8 [==============================] - 0s 9ms/step - loss: 1.3353 - accuracy: 0.5180\n"
     ]
    },
    {
     "name": "stderr",
     "output_type": "stream",
     "text": [
      " 20%|██        | 1/5 [01:44<06:57, 104.38s/it]"
     ]
    },
    {
     "name": "stdout",
     "output_type": "stream",
     "text": [
      "5/5 [==============================] - 1s 111ms/step - loss: 2.6332 - accuracy: 0.0987 - val_loss: 2.3035 - val_accuracy: 0.1070\n",
      "10/10 [==============================] - 1s 63ms/step - loss: 2.6187 - accuracy: 0.1111 - val_loss: 2.2999 - val_accuracy: 0.1050\n",
      "15/15 [==============================] - 1s 42ms/step - loss: 2.4869 - accuracy: 0.1360 - val_loss: 2.2912 - val_accuracy: 0.1500\n",
      "20/20 [==============================] - 1s 53ms/step - loss: 2.4240 - accuracy: 0.1405 - val_loss: 2.2718 - val_accuracy: 0.1600\n",
      "24/24 [==============================] - 1s 43ms/step - loss: 2.3290 - accuracy: 0.1685 - val_loss: 2.2531 - val_accuracy: 0.1580\n",
      "28/28 [==============================] - 1s 37ms/step - loss: 2.2236 - accuracy: 0.1925 - val_loss: 2.2357 - val_accuracy: 0.1540\n",
      "32/32 [==============================] - 1s 41ms/step - loss: 2.1550 - accuracy: 0.2112 - val_loss: 2.2038 - val_accuracy: 0.1690\n",
      "36/36 [==============================] - 1s 34ms/step - loss: 2.0929 - accuracy: 0.2315 - val_loss: 2.1891 - val_accuracy: 0.1750\n",
      "39/39 [==============================] - 1s 34ms/step - loss: 2.0212 - accuracy: 0.2496 - val_loss: 2.2078 - val_accuracy: 0.1630\n",
      "42/42 [==============================] - 2s 36ms/step - loss: 1.9634 - accuracy: 0.2654 - val_loss: 1.9924 - val_accuracy: 0.2820\n",
      "45/45 [==============================] - 2s 36ms/step - loss: 1.9150 - accuracy: 0.2913 - val_loss: 2.2914 - val_accuracy: 0.1560\n",
      "47/47 [==============================] - 2s 36ms/step - loss: 1.8751 - accuracy: 0.2998 - val_loss: 2.2872 - val_accuracy: 0.1670\n",
      "49/49 [==============================] - 2s 34ms/step - loss: 1.8365 - accuracy: 0.3158 - val_loss: 1.9578 - val_accuracy: 0.2560\n",
      "51/51 [==============================] - 2s 31ms/step - loss: 1.7946 - accuracy: 0.3297 - val_loss: 1.9989 - val_accuracy: 0.2800\n",
      "53/53 [==============================] - 2s 34ms/step - loss: 1.7643 - accuracy: 0.3453 - val_loss: 2.1186 - val_accuracy: 0.2490\n",
      "54/54 [==============================] - 2s 40ms/step - loss: 1.7181 - accuracy: 0.3618 - val_loss: 1.8521 - val_accuracy: 0.3290\n",
      "55/55 [==============================] - 2s 38ms/step - loss: 1.6903 - accuracy: 0.3693 - val_loss: 1.6464 - val_accuracy: 0.4220\n",
      "56/56 [==============================] - 2s 31ms/step - loss: 1.6758 - accuracy: 0.3739 - val_loss: 1.6996 - val_accuracy: 0.3810\n",
      "57/57 [==============================] - 2s 33ms/step - loss: 1.6282 - accuracy: 0.3936 - val_loss: 1.5339 - val_accuracy: 0.4140\n",
      "58/58 [==============================] - 2s 37ms/step - loss: 1.6058 - accuracy: 0.4005 - val_loss: 1.5545 - val_accuracy: 0.4150\n",
      "59/59 [==============================] - 2s 36ms/step - loss: 1.5778 - accuracy: 0.4126 - val_loss: 1.4455 - val_accuracy: 0.4730\n",
      "59/59 [==============================] - 2s 30ms/step - loss: 1.5633 - accuracy: 0.4151 - val_loss: 1.4091 - val_accuracy: 0.4720\n",
      "60/60 [==============================] - 2s 35ms/step - loss: 1.5474 - accuracy: 0.4265 - val_loss: 1.6700 - val_accuracy: 0.4030\n",
      "60/60 [==============================] - 2s 31ms/step - loss: 1.5323 - accuracy: 0.4334 - val_loss: 1.4198 - val_accuracy: 0.4810\n",
      "61/61 [==============================] - 2s 37ms/step - loss: 1.5111 - accuracy: 0.4375 - val_loss: 1.4284 - val_accuracy: 0.5020\n",
      "61/61 [==============================] - 2s 39ms/step - loss: 1.4996 - accuracy: 0.4461 - val_loss: 1.4693 - val_accuracy: 0.4820\n",
      "61/61 [==============================] - 2s 33ms/step - loss: 1.4771 - accuracy: 0.4538 - val_loss: 1.3211 - val_accuracy: 0.5260\n",
      "62/62 [==============================] - 2s 31ms/step - loss: 1.4780 - accuracy: 0.4552 - val_loss: 1.6331 - val_accuracy: 0.4400\n",
      "62/62 [==============================] - 2s 34ms/step - loss: 1.4593 - accuracy: 0.4625 - val_loss: 1.4895 - val_accuracy: 0.4810\n",
      "62/62 [==============================] - 2s 31ms/step - loss: 1.4388 - accuracy: 0.4727 - val_loss: 1.3556 - val_accuracy: 0.4970\n",
      "62/62 [==============================] - 2s 32ms/step - loss: 1.4239 - accuracy: 0.4771 - val_loss: 1.4177 - val_accuracy: 0.4980\n",
      "62/62 [==============================] - 2s 34ms/step - loss: 1.4091 - accuracy: 0.4843 - val_loss: 1.3520 - val_accuracy: 0.5070\n",
      "62/62 [==============================] - 2s 31ms/step - loss: 1.3827 - accuracy: 0.4909 - val_loss: 1.3092 - val_accuracy: 0.5400\n",
      "62/62 [==============================] - 2s 33ms/step - loss: 1.3887 - accuracy: 0.4890 - val_loss: 1.3521 - val_accuracy: 0.5090\n",
      "63/63 [==============================] - 2s 32ms/step - loss: 1.3688 - accuracy: 0.4999 - val_loss: 1.4715 - val_accuracy: 0.4840\n",
      "63/63 [==============================] - 2s 32ms/step - loss: 1.3644 - accuracy: 0.5032 - val_loss: 1.3046 - val_accuracy: 0.5350\n",
      "63/63 [==============================] - 2s 33ms/step - loss: 1.3597 - accuracy: 0.5040 - val_loss: 1.4086 - val_accuracy: 0.4930\n",
      "63/63 [==============================] - 2s 36ms/step - loss: 1.3454 - accuracy: 0.5115 - val_loss: 1.8342 - val_accuracy: 0.4290\n",
      "63/63 [==============================] - 2s 35ms/step - loss: 1.3389 - accuracy: 0.5127 - val_loss: 1.4614 - val_accuracy: 0.4570\n",
      "63/63 [==============================] - 2s 32ms/step - loss: 1.3252 - accuracy: 0.5166 - val_loss: 1.4134 - val_accuracy: 0.5130\n",
      "63/63 [==============================] - 2s 33ms/step - loss: 1.3189 - accuracy: 0.5209 - val_loss: 1.3783 - val_accuracy: 0.4890\n",
      "63/63 [==============================] - 2s 33ms/step - loss: 1.3047 - accuracy: 0.5246 - val_loss: 1.4993 - val_accuracy: 0.4610\n",
      "63/63 [==============================] - 2s 32ms/step - loss: 1.3102 - accuracy: 0.5165 - val_loss: 1.9344 - val_accuracy: 0.3980\n",
      "63/63 [==============================] - 2s 32ms/step - loss: 1.2891 - accuracy: 0.5358 - val_loss: 1.4361 - val_accuracy: 0.4840\n",
      "63/63 [==============================] - 2s 32ms/step - loss: 1.2702 - accuracy: 0.5373 - val_loss: 1.2872 - val_accuracy: 0.5490\n",
      "63/63 [==============================] - 2s 32ms/step - loss: 1.2800 - accuracy: 0.5417 - val_loss: 1.2952 - val_accuracy: 0.5470\n",
      "63/63 [==============================] - 2s 32ms/step - loss: 1.2540 - accuracy: 0.5414 - val_loss: 1.4039 - val_accuracy: 0.5000\n",
      "63/63 [==============================] - 2s 32ms/step - loss: 1.2522 - accuracy: 0.5429 - val_loss: 1.4034 - val_accuracy: 0.5010\n",
      "63/63 [==============================] - 2s 32ms/step - loss: 1.2441 - accuracy: 0.5454 - val_loss: 1.7068 - val_accuracy: 0.4350\n",
      "63/63 [==============================] - 2s 32ms/step - loss: 1.2355 - accuracy: 0.5448 - val_loss: 1.3030 - val_accuracy: 0.5400\n",
      "8/8 [==============================] - 0s 8ms/step - loss: 1.3288 - accuracy: 0.5110\n"
     ]
    },
    {
     "name": "stderr",
     "output_type": "stream",
     "text": [
      " 40%|████      | 2/5 [03:18<04:55, 98.44s/it] "
     ]
    },
    {
     "name": "stdout",
     "output_type": "stream",
     "text": [
      "5/5 [==============================] - 1s 70ms/step - loss: 2.7577 - accuracy: 0.0909 - val_loss: 2.3010 - val_accuracy: 0.0970\n",
      "10/10 [==============================] - 1s 103ms/step - loss: 2.6109 - accuracy: 0.1095 - val_loss: 2.2961 - val_accuracy: 0.1570\n",
      "15/15 [==============================] - 1s 37ms/step - loss: 2.4885 - accuracy: 0.1280 - val_loss: 2.2775 - val_accuracy: 0.1630\n",
      "20/20 [==============================] - 1s 35ms/step - loss: 2.3879 - accuracy: 0.1575 - val_loss: 2.2609 - val_accuracy: 0.1450\n",
      "24/24 [==============================] - 1s 35ms/step - loss: 2.2521 - accuracy: 0.1744 - val_loss: 2.2899 - val_accuracy: 0.0940\n",
      "28/28 [==============================] - 1s 35ms/step - loss: 2.1592 - accuracy: 0.2012 - val_loss: 2.3169 - val_accuracy: 0.0940\n",
      "32/32 [==============================] - 1s 35ms/step - loss: 2.0894 - accuracy: 0.2291 - val_loss: 2.4240 - val_accuracy: 0.0940\n",
      "36/36 [==============================] - 1s 33ms/step - loss: 2.0345 - accuracy: 0.2478 - val_loss: 2.5138 - val_accuracy: 0.1190\n",
      "39/39 [==============================] - 1s 34ms/step - loss: 1.9908 - accuracy: 0.2614 - val_loss: 2.6133 - val_accuracy: 0.1060\n",
      "42/42 [==============================] - 1s 33ms/step - loss: 1.9478 - accuracy: 0.2792 - val_loss: 2.5850 - val_accuracy: 0.1070\n",
      "45/45 [==============================] - 1s 33ms/step - loss: 1.9091 - accuracy: 0.2952 - val_loss: 2.9070 - val_accuracy: 0.1040\n",
      "47/47 [==============================] - 2s 33ms/step - loss: 1.8625 - accuracy: 0.2981 - val_loss: 2.8475 - val_accuracy: 0.1080\n",
      "49/49 [==============================] - 2s 33ms/step - loss: 1.8167 - accuracy: 0.3117 - val_loss: 2.8097 - val_accuracy: 0.1170\n",
      "51/51 [==============================] - 2s 33ms/step - loss: 1.7660 - accuracy: 0.3407 - val_loss: 2.6179 - val_accuracy: 0.1370\n",
      "53/53 [==============================] - 2s 33ms/step - loss: 1.7224 - accuracy: 0.3453 - val_loss: 2.2370 - val_accuracy: 0.2460\n",
      "54/54 [==============================] - 2s 37ms/step - loss: 1.7003 - accuracy: 0.3563 - val_loss: 1.9510 - val_accuracy: 0.3110\n",
      "55/55 [==============================] - 2s 34ms/step - loss: 1.6598 - accuracy: 0.3740 - val_loss: 1.9216 - val_accuracy: 0.3230\n",
      "56/56 [==============================] - 2s 33ms/step - loss: 1.6482 - accuracy: 0.3863 - val_loss: 1.5610 - val_accuracy: 0.4120\n",
      "57/57 [==============================] - 2s 34ms/step - loss: 1.6139 - accuracy: 0.3936 - val_loss: 1.5959 - val_accuracy: 0.4340\n",
      "58/58 [==============================] - 2s 34ms/step - loss: 1.5995 - accuracy: 0.4015 - val_loss: 1.5421 - val_accuracy: 0.4390\n",
      "59/59 [==============================] - 2s 33ms/step - loss: 1.5810 - accuracy: 0.4146 - val_loss: 1.5112 - val_accuracy: 0.4430\n",
      "59/59 [==============================] - 2s 34ms/step - loss: 1.5681 - accuracy: 0.4178 - val_loss: 1.5599 - val_accuracy: 0.4270\n",
      "60/60 [==============================] - 2s 34ms/step - loss: 1.5324 - accuracy: 0.4299 - val_loss: 1.4757 - val_accuracy: 0.4700\n",
      "60/60 [==============================] - 2s 34ms/step - loss: 1.5364 - accuracy: 0.4283 - val_loss: 1.5162 - val_accuracy: 0.4450\n",
      "61/61 [==============================] - 2s 34ms/step - loss: 1.4984 - accuracy: 0.4453 - val_loss: 1.3616 - val_accuracy: 0.5160\n",
      "61/61 [==============================] - 2s 35ms/step - loss: 1.5009 - accuracy: 0.4497 - val_loss: 1.5858 - val_accuracy: 0.4270\n",
      "61/61 [==============================] - 2s 33ms/step - loss: 1.4967 - accuracy: 0.4460 - val_loss: 1.5210 - val_accuracy: 0.4210\n",
      "62/62 [==============================] - 2s 33ms/step - loss: 1.4697 - accuracy: 0.4616 - val_loss: 1.6307 - val_accuracy: 0.4520\n",
      "62/62 [==============================] - 2s 33ms/step - loss: 1.4786 - accuracy: 0.4574 - val_loss: 1.4031 - val_accuracy: 0.4880\n",
      "62/62 [==============================] - 2s 33ms/step - loss: 1.4352 - accuracy: 0.4736 - val_loss: 1.3374 - val_accuracy: 0.5290\n",
      "62/62 [==============================] - 2s 33ms/step - loss: 1.4207 - accuracy: 0.4734 - val_loss: 1.5232 - val_accuracy: 0.4540\n",
      "62/62 [==============================] - 2s 33ms/step - loss: 1.4316 - accuracy: 0.4805 - val_loss: 1.6194 - val_accuracy: 0.4360\n",
      "62/62 [==============================] - 2s 33ms/step - loss: 1.4143 - accuracy: 0.4867 - val_loss: 1.3092 - val_accuracy: 0.5310\n",
      "62/62 [==============================] - 2s 35ms/step - loss: 1.3854 - accuracy: 0.4932 - val_loss: 1.5689 - val_accuracy: 0.4290\n",
      "63/63 [==============================] - 2s 33ms/step - loss: 1.3843 - accuracy: 0.4911 - val_loss: 1.4894 - val_accuracy: 0.4640\n",
      "63/63 [==============================] - 2s 34ms/step - loss: 1.3935 - accuracy: 0.4920 - val_loss: 1.6321 - val_accuracy: 0.4450\n",
      "63/63 [==============================] - 2s 34ms/step - loss: 1.3950 - accuracy: 0.4862 - val_loss: 1.2953 - val_accuracy: 0.5220\n",
      "63/63 [==============================] - 2s 33ms/step - loss: 1.3505 - accuracy: 0.5037 - val_loss: 1.3992 - val_accuracy: 0.5110\n",
      "63/63 [==============================] - 2s 33ms/step - loss: 1.3328 - accuracy: 0.5138 - val_loss: 1.2507 - val_accuracy: 0.5480\n",
      "63/63 [==============================] - 2s 34ms/step - loss: 1.3481 - accuracy: 0.5062 - val_loss: 1.5683 - val_accuracy: 0.4260\n",
      "63/63 [==============================] - 2s 34ms/step - loss: 1.3263 - accuracy: 0.5145 - val_loss: 1.5292 - val_accuracy: 0.4410\n",
      "63/63 [==============================] - 2s 33ms/step - loss: 1.3255 - accuracy: 0.5162 - val_loss: 1.4056 - val_accuracy: 0.4950\n",
      "63/63 [==============================] - 2s 33ms/step - loss: 1.3127 - accuracy: 0.5252 - val_loss: 1.3871 - val_accuracy: 0.5060\n",
      "63/63 [==============================] - 2s 33ms/step - loss: 1.3029 - accuracy: 0.5276 - val_loss: 1.5846 - val_accuracy: 0.4430\n",
      "63/63 [==============================] - 2s 33ms/step - loss: 1.3118 - accuracy: 0.5192 - val_loss: 1.3445 - val_accuracy: 0.5130\n",
      "63/63 [==============================] - 2s 33ms/step - loss: 1.2776 - accuracy: 0.5312 - val_loss: 1.2727 - val_accuracy: 0.5200\n",
      "63/63 [==============================] - 2s 33ms/step - loss: 1.2789 - accuracy: 0.5342 - val_loss: 1.4036 - val_accuracy: 0.5220\n",
      "63/63 [==============================] - 2s 33ms/step - loss: 1.2695 - accuracy: 0.5357 - val_loss: 1.2777 - val_accuracy: 0.5390\n",
      "63/63 [==============================] - 2s 34ms/step - loss: 1.2638 - accuracy: 0.5485 - val_loss: 1.2526 - val_accuracy: 0.5590\n",
      "63/63 [==============================] - 2s 33ms/step - loss: 1.2593 - accuracy: 0.5359 - val_loss: 1.3487 - val_accuracy: 0.5250\n",
      "8/8 [==============================] - 0s 10ms/step - loss: 1.3718 - accuracy: 0.5190\n"
     ]
    },
    {
     "name": "stderr",
     "output_type": "stream",
     "text": [
      " 60%|██████    | 3/5 [04:51<03:11, 95.92s/it]"
     ]
    },
    {
     "name": "stdout",
     "output_type": "stream",
     "text": [
      "5/5 [==============================] - 1s 94ms/step - loss: 2.8143 - accuracy: 0.0768 - val_loss: 2.3005 - val_accuracy: 0.0830\n",
      "10/10 [==============================] - 0s 45ms/step - loss: 2.6046 - accuracy: 0.1253 - val_loss: 2.2901 - val_accuracy: 0.1640\n",
      "15/15 [==============================] - 1s 39ms/step - loss: 2.4843 - accuracy: 0.1243 - val_loss: 2.2692 - val_accuracy: 0.1650\n",
      "20/20 [==============================] - 1s 36ms/step - loss: 2.3442 - accuracy: 0.1652 - val_loss: 2.2538 - val_accuracy: 0.1650\n",
      "24/24 [==============================] - 1s 35ms/step - loss: 2.2774 - accuracy: 0.1678 - val_loss: 2.3548 - val_accuracy: 0.0950\n",
      "28/28 [==============================] - 1s 38ms/step - loss: 2.2053 - accuracy: 0.1931 - val_loss: 2.4733 - val_accuracy: 0.0940\n",
      "32/32 [==============================] - 1s 35ms/step - loss: 2.1206 - accuracy: 0.2092 - val_loss: 2.5619 - val_accuracy: 0.0880\n",
      "36/36 [==============================] - 1s 34ms/step - loss: 2.0664 - accuracy: 0.2335 - val_loss: 2.7936 - val_accuracy: 0.0900\n",
      "39/39 [==============================] - 1s 34ms/step - loss: 2.0197 - accuracy: 0.2551 - val_loss: 2.8263 - val_accuracy: 0.0810\n",
      "42/42 [==============================] - 1s 34ms/step - loss: 1.9474 - accuracy: 0.2732 - val_loss: 2.8753 - val_accuracy: 0.1010\n",
      "45/45 [==============================] - 2s 34ms/step - loss: 1.9036 - accuracy: 0.3017 - val_loss: 2.8792 - val_accuracy: 0.0970\n",
      "47/47 [==============================] - 2s 34ms/step - loss: 1.8420 - accuracy: 0.3188 - val_loss: 2.4004 - val_accuracy: 0.1710\n",
      "49/49 [==============================] - 2s 34ms/step - loss: 1.8097 - accuracy: 0.3293 - val_loss: 2.7552 - val_accuracy: 0.1350\n",
      "51/51 [==============================] - 2s 34ms/step - loss: 1.7740 - accuracy: 0.3432 - val_loss: 2.5209 - val_accuracy: 0.1830\n",
      "53/53 [==============================] - 2s 33ms/step - loss: 1.7270 - accuracy: 0.3555 - val_loss: 1.9172 - val_accuracy: 0.3160\n",
      "54/54 [==============================] - 2s 33ms/step - loss: 1.6823 - accuracy: 0.3729 - val_loss: 1.8794 - val_accuracy: 0.3510\n",
      "55/55 [==============================] - 2s 34ms/step - loss: 1.6782 - accuracy: 0.3723 - val_loss: 1.8334 - val_accuracy: 0.3450\n",
      "56/56 [==============================] - 2s 34ms/step - loss: 1.6539 - accuracy: 0.3799 - val_loss: 1.5220 - val_accuracy: 0.4600\n",
      "57/57 [==============================] - 2s 33ms/step - loss: 1.6089 - accuracy: 0.4017 - val_loss: 1.7921 - val_accuracy: 0.3610\n",
      "58/58 [==============================] - 2s 33ms/step - loss: 1.6059 - accuracy: 0.4046 - val_loss: 2.1600 - val_accuracy: 0.2870\n",
      "59/59 [==============================] - 2s 39ms/step - loss: 1.5749 - accuracy: 0.4169 - val_loss: 1.6799 - val_accuracy: 0.4240\n",
      "59/59 [==============================] - 2s 35ms/step - loss: 1.5630 - accuracy: 0.4257 - val_loss: 1.5081 - val_accuracy: 0.4580\n",
      "60/60 [==============================] - 2s 33ms/step - loss: 1.5500 - accuracy: 0.4244 - val_loss: 1.7318 - val_accuracy: 0.3680\n",
      "60/60 [==============================] - 2s 34ms/step - loss: 1.5280 - accuracy: 0.4331 - val_loss: 1.4249 - val_accuracy: 0.4700\n",
      "61/61 [==============================] - 2s 36ms/step - loss: 1.5076 - accuracy: 0.4458 - val_loss: 1.6075 - val_accuracy: 0.4090\n",
      "61/61 [==============================] - 2s 38ms/step - loss: 1.5110 - accuracy: 0.4488 - val_loss: 1.5128 - val_accuracy: 0.4650\n",
      "61/61 [==============================] - 3s 41ms/step - loss: 1.4807 - accuracy: 0.4606 - val_loss: 1.4213 - val_accuracy: 0.5040\n",
      "62/62 [==============================] - 2s 33ms/step - loss: 1.4654 - accuracy: 0.4643 - val_loss: 1.4165 - val_accuracy: 0.4900\n",
      "62/62 [==============================] - 2s 33ms/step - loss: 1.4563 - accuracy: 0.4713 - val_loss: 1.5889 - val_accuracy: 0.4510\n",
      "62/62 [==============================] - 2s 33ms/step - loss: 1.4408 - accuracy: 0.4762 - val_loss: 1.4109 - val_accuracy: 0.4870\n",
      "62/62 [==============================] - 2s 33ms/step - loss: 1.4366 - accuracy: 0.4757 - val_loss: 1.3922 - val_accuracy: 0.4880\n",
      "62/62 [==============================] - 2s 33ms/step - loss: 1.4237 - accuracy: 0.4808 - val_loss: 1.7135 - val_accuracy: 0.4090\n",
      "62/62 [==============================] - 2s 32ms/step - loss: 1.4138 - accuracy: 0.4822 - val_loss: 1.5720 - val_accuracy: 0.4410\n",
      "62/62 [==============================] - 2s 36ms/step - loss: 1.3956 - accuracy: 0.4914 - val_loss: 1.3554 - val_accuracy: 0.5140\n",
      "63/63 [==============================] - 2s 33ms/step - loss: 1.3909 - accuracy: 0.4886 - val_loss: 1.4005 - val_accuracy: 0.4830\n",
      "63/63 [==============================] - 2s 35ms/step - loss: 1.3813 - accuracy: 0.4934 - val_loss: 1.4980 - val_accuracy: 0.4920\n",
      "63/63 [==============================] - 3s 47ms/step - loss: 1.3781 - accuracy: 0.5004 - val_loss: 1.2791 - val_accuracy: 0.5520\n",
      "63/63 [==============================] - 3s 47ms/step - loss: 1.3593 - accuracy: 0.5028 - val_loss: 1.3043 - val_accuracy: 0.5280\n",
      "63/63 [==============================] - 3s 40ms/step - loss: 1.3471 - accuracy: 0.5134 - val_loss: 1.2964 - val_accuracy: 0.5360\n",
      "63/63 [==============================] - 2s 34ms/step - loss: 1.3405 - accuracy: 0.5180 - val_loss: 2.0790 - val_accuracy: 0.4000\n",
      "63/63 [==============================] - 2s 35ms/step - loss: 1.3264 - accuracy: 0.5076 - val_loss: 1.2543 - val_accuracy: 0.5540\n",
      "63/63 [==============================] - 2s 34ms/step - loss: 1.3187 - accuracy: 0.5195 - val_loss: 1.5676 - val_accuracy: 0.4640\n",
      "63/63 [==============================] - 2s 31ms/step - loss: 1.3084 - accuracy: 0.5287 - val_loss: 1.2755 - val_accuracy: 0.5550\n",
      "63/63 [==============================] - 2s 31ms/step - loss: 1.2853 - accuracy: 0.5306 - val_loss: 1.3439 - val_accuracy: 0.5310\n",
      "63/63 [==============================] - 2s 32ms/step - loss: 1.2748 - accuracy: 0.5391 - val_loss: 1.3544 - val_accuracy: 0.5210\n",
      "63/63 [==============================] - 2s 31ms/step - loss: 1.2812 - accuracy: 0.5379 - val_loss: 1.2585 - val_accuracy: 0.5520\n",
      "63/63 [==============================] - 2s 31ms/step - loss: 1.2638 - accuracy: 0.5467 - val_loss: 1.2958 - val_accuracy: 0.5090\n",
      "63/63 [==============================] - 2s 31ms/step - loss: 1.2799 - accuracy: 0.5328 - val_loss: 1.2588 - val_accuracy: 0.5530\n",
      "63/63 [==============================] - 2s 32ms/step - loss: 1.2651 - accuracy: 0.5390 - val_loss: 1.3122 - val_accuracy: 0.5290\n",
      "63/63 [==============================] - 2s 31ms/step - loss: 1.2557 - accuracy: 0.5413 - val_loss: 1.6745 - val_accuracy: 0.4090\n",
      "8/8 [==============================] - 0s 8ms/step - loss: 1.6686 - accuracy: 0.4140\n"
     ]
    },
    {
     "name": "stderr",
     "output_type": "stream",
     "text": [
      " 80%|████████  | 4/5 [06:26<01:35, 95.56s/it]"
     ]
    },
    {
     "name": "stdout",
     "output_type": "stream",
     "text": [
      "5/5 [==============================] - 1s 67ms/step - loss: 2.7389 - accuracy: 0.0987 - val_loss: 2.2976 - val_accuracy: 0.1150\n",
      "10/10 [==============================] - 0s 40ms/step - loss: 2.6569 - accuracy: 0.1056 - val_loss: 2.2893 - val_accuracy: 0.1180\n",
      "15/15 [==============================] - 1s 37ms/step - loss: 2.5398 - accuracy: 0.1099 - val_loss: 2.2806 - val_accuracy: 0.1670\n",
      "20/20 [==============================] - 1s 34ms/step - loss: 2.4434 - accuracy: 0.1224 - val_loss: 2.2586 - val_accuracy: 0.1600\n",
      "24/24 [==============================] - 1s 33ms/step - loss: 2.3655 - accuracy: 0.1527 - val_loss: 2.2736 - val_accuracy: 0.1720\n",
      "28/28 [==============================] - 1s 33ms/step - loss: 2.2744 - accuracy: 0.1785 - val_loss: 2.3275 - val_accuracy: 0.1010\n",
      "32/32 [==============================] - 1s 33ms/step - loss: 2.1655 - accuracy: 0.2166 - val_loss: 2.3886 - val_accuracy: 0.1020\n",
      "36/36 [==============================] - 1s 32ms/step - loss: 2.0689 - accuracy: 0.2547 - val_loss: 2.5432 - val_accuracy: 0.1070\n",
      "39/39 [==============================] - 1s 31ms/step - loss: 2.0200 - accuracy: 0.2547 - val_loss: 2.7789 - val_accuracy: 0.1010\n",
      "42/42 [==============================] - 2s 45ms/step - loss: 1.9667 - accuracy: 0.2797 - val_loss: 2.8977 - val_accuracy: 0.1050\n",
      "45/45 [==============================] - 1s 33ms/step - loss: 1.8961 - accuracy: 0.3003 - val_loss: 2.7174 - val_accuracy: 0.1190\n",
      "47/47 [==============================] - 2s 34ms/step - loss: 1.8640 - accuracy: 0.3087 - val_loss: 2.5551 - val_accuracy: 0.1450\n",
      "49/49 [==============================] - 2s 33ms/step - loss: 1.8147 - accuracy: 0.3246 - val_loss: 2.1365 - val_accuracy: 0.2100\n",
      "51/51 [==============================] - 2s 32ms/step - loss: 1.7823 - accuracy: 0.3395 - val_loss: 2.3234 - val_accuracy: 0.2210\n",
      "53/53 [==============================] - 2s 35ms/step - loss: 1.7357 - accuracy: 0.3485 - val_loss: 1.6965 - val_accuracy: 0.3940\n",
      "54/54 [==============================] - 2s 30ms/step - loss: 1.7271 - accuracy: 0.3535 - val_loss: 1.6844 - val_accuracy: 0.4010\n",
      "55/55 [==============================] - 2s 31ms/step - loss: 1.6785 - accuracy: 0.3744 - val_loss: 1.6593 - val_accuracy: 0.4070\n",
      "56/56 [==============================] - 2s 31ms/step - loss: 1.6441 - accuracy: 0.3863 - val_loss: 1.5643 - val_accuracy: 0.4280\n",
      "57/57 [==============================] - 2s 32ms/step - loss: 1.6301 - accuracy: 0.3937 - val_loss: 2.3545 - val_accuracy: 0.2360\n",
      "58/58 [==============================] - 2s 33ms/step - loss: 1.6030 - accuracy: 0.4053 - val_loss: 1.5882 - val_accuracy: 0.4290\n",
      "59/59 [==============================] - 2s 32ms/step - loss: 1.5964 - accuracy: 0.4062 - val_loss: 1.5152 - val_accuracy: 0.4370\n",
      "59/59 [==============================] - 2s 32ms/step - loss: 1.5472 - accuracy: 0.4268 - val_loss: 1.3858 - val_accuracy: 0.4990\n",
      "60/60 [==============================] - 2s 33ms/step - loss: 1.5491 - accuracy: 0.4126 - val_loss: 1.5543 - val_accuracy: 0.4310\n",
      "60/60 [==============================] - 2s 32ms/step - loss: 1.5241 - accuracy: 0.4369 - val_loss: 1.4998 - val_accuracy: 0.4420\n",
      "61/61 [==============================] - 2s 32ms/step - loss: 1.4972 - accuracy: 0.4376 - val_loss: 1.4058 - val_accuracy: 0.4840\n",
      "61/61 [==============================] - 2s 32ms/step - loss: 1.5063 - accuracy: 0.4346 - val_loss: 1.8483 - val_accuracy: 0.3370\n",
      "61/61 [==============================] - 2s 33ms/step - loss: 1.4658 - accuracy: 0.4531 - val_loss: 1.4083 - val_accuracy: 0.4860\n",
      "62/62 [==============================] - 2s 33ms/step - loss: 1.4601 - accuracy: 0.4566 - val_loss: 1.4876 - val_accuracy: 0.4540\n",
      "62/62 [==============================] - 2s 32ms/step - loss: 1.4548 - accuracy: 0.4632 - val_loss: 2.1589 - val_accuracy: 0.2990\n",
      "62/62 [==============================] - 2s 32ms/step - loss: 1.4304 - accuracy: 0.4675 - val_loss: 1.3422 - val_accuracy: 0.5340\n",
      "62/62 [==============================] - 2s 34ms/step - loss: 1.4227 - accuracy: 0.4703 - val_loss: 1.3268 - val_accuracy: 0.5230\n",
      "62/62 [==============================] - 2s 34ms/step - loss: 1.4104 - accuracy: 0.4744 - val_loss: 1.2886 - val_accuracy: 0.5290\n",
      "62/62 [==============================] - 2s 31ms/step - loss: 1.4004 - accuracy: 0.4881 - val_loss: 1.5658 - val_accuracy: 0.4630\n",
      "62/62 [==============================] - 2s 35ms/step - loss: 1.3950 - accuracy: 0.4839 - val_loss: 1.9962 - val_accuracy: 0.3310\n",
      "63/63 [==============================] - 3s 45ms/step - loss: 1.3657 - accuracy: 0.4993 - val_loss: 1.3722 - val_accuracy: 0.5090\n",
      "63/63 [==============================] - 2s 33ms/step - loss: 1.3809 - accuracy: 0.4913 - val_loss: 1.3799 - val_accuracy: 0.4900\n",
      "63/63 [==============================] - 2s 32ms/step - loss: 1.3655 - accuracy: 0.4991 - val_loss: 1.4554 - val_accuracy: 0.4880\n",
      "63/63 [==============================] - 2s 31ms/step - loss: 1.3460 - accuracy: 0.5091 - val_loss: 1.4073 - val_accuracy: 0.5120\n",
      "63/63 [==============================] - 2s 31ms/step - loss: 1.3373 - accuracy: 0.5063 - val_loss: 1.4026 - val_accuracy: 0.5030\n",
      "63/63 [==============================] - 2s 31ms/step - loss: 1.3244 - accuracy: 0.5156 - val_loss: 1.3419 - val_accuracy: 0.5190\n",
      "63/63 [==============================] - 2s 33ms/step - loss: 1.3248 - accuracy: 0.5085 - val_loss: 1.4230 - val_accuracy: 0.4950\n",
      "63/63 [==============================] - 2s 33ms/step - loss: 1.3031 - accuracy: 0.5133 - val_loss: 1.4556 - val_accuracy: 0.5090\n",
      "63/63 [==============================] - 2s 32ms/step - loss: 1.3240 - accuracy: 0.5165 - val_loss: 1.5814 - val_accuracy: 0.4410\n",
      "63/63 [==============================] - 3s 41ms/step - loss: 1.2886 - accuracy: 0.5307 - val_loss: 1.5219 - val_accuracy: 0.4690\n",
      "63/63 [==============================] - 2s 34ms/step - loss: 1.2910 - accuracy: 0.5297 - val_loss: 1.1994 - val_accuracy: 0.5740\n",
      "63/63 [==============================] - 2s 33ms/step - loss: 1.2814 - accuracy: 0.5334 - val_loss: 1.2473 - val_accuracy: 0.5530\n",
      "63/63 [==============================] - 2s 34ms/step - loss: 1.2789 - accuracy: 0.5387 - val_loss: 1.2925 - val_accuracy: 0.5160\n",
      "63/63 [==============================] - 2s 32ms/step - loss: 1.2920 - accuracy: 0.5262 - val_loss: 1.4478 - val_accuracy: 0.5050\n",
      "63/63 [==============================] - 2s 34ms/step - loss: 1.2494 - accuracy: 0.5420 - val_loss: 1.3958 - val_accuracy: 0.5030\n",
      "63/63 [==============================] - 2s 32ms/step - loss: 1.2552 - accuracy: 0.5390 - val_loss: 1.3498 - val_accuracy: 0.5260\n",
      "8/8 [==============================] - 0s 8ms/step - loss: 1.3451 - accuracy: 0.5080\n"
     ]
    },
    {
     "name": "stderr",
     "output_type": "stream",
     "text": [
      "100%|██████████| 5/5 [07:58<00:00, 95.67s/it]\n"
     ]
    }
   ],
   "source": [
    "for test_model in test_models:\n",
    "    print(test_model)\n",
    "    model_scores = []\n",
    "\n",
    "    for _ in tqdm(range(N_TRIALS)):\n",
    "        model = ClassifierModel(output_shape=10, **models_hyperparameters[test_model])\n",
    "        \n",
    "        model.compile(optimizer='adam', loss=loss, metrics=['accuracy'])\n",
    "\n",
    "        for i in range(N_EPOCHS):\n",
    "            n_samples = int(np.tanh(4 * (i + 1) / N_EPOCHS) * train_size)\n",
    "            \n",
    "            samples_ids = np.random.choice(range(train_size), size=n_samples, replace=False)\n",
    "            # samples_ids = np.random.choice(range(train_size), p=losses_proba2, size=n_samples, replace=False)\n",
    "            \n",
    "            model.fit(\n",
    "                x_train_sorted[samples_ids], y_train_sorted[samples_ids], \n",
    "                validation_data=(x_val, y_val),\n",
    "                epochs=1, batch_size=BATCH_SIZE, verbose=1\n",
    "            )\n",
    "        \n",
    "        _, accuracy = model.evaluate(x_test, y_test, batch_size=BATCH_SIZE, verbose=1)\n",
    "        \n",
    "        model_scores.append(accuracy)\n",
    "    \n",
    "    results[test_model] = model_scores"
   ],
   "metadata": {
    "collapsed": false,
    "ExecuteTime": {
     "end_time": "2024-02-24T19:40:44.135460Z",
     "start_time": "2024-02-24T19:32:45.792686Z"
    }
   },
   "id": "ce9112b33b1ada44"
  },
  {
   "cell_type": "code",
   "execution_count": 56,
   "outputs": [
    {
     "data": {
      "text/plain": "{'test_model_1': [0.5180000066757202,\n  0.5109999775886536,\n  0.5189999938011169,\n  0.414000004529953,\n  0.5080000162124634]}"
     },
     "execution_count": 56,
     "metadata": {},
     "output_type": "execute_result"
    }
   ],
   "source": [
    "results"
   ],
   "metadata": {
    "collapsed": false,
    "ExecuteTime": {
     "end_time": "2024-02-24T19:52:05.893138Z",
     "start_time": "2024-02-24T19:52:05.889974Z"
    }
   },
   "id": "d551d3d3c24e87d6"
  },
  {
   "cell_type": "code",
   "execution_count": 57,
   "outputs": [
    {
     "data": {
      "text/plain": "0.49399999976158143"
     },
     "execution_count": 57,
     "metadata": {},
     "output_type": "execute_result"
    }
   ],
   "source": [
    "sum(results[\"test_model_1\"]) / 5"
   ],
   "metadata": {
    "collapsed": false,
    "ExecuteTime": {
     "end_time": "2024-02-24T19:52:13.556572Z",
     "start_time": "2024-02-24T19:52:13.554579Z"
    }
   },
   "id": "d7c19f6278654c3b"
  },
  {
   "cell_type": "code",
   "execution_count": null,
   "outputs": [],
   "source": [
    "{'test_model_1': [0.5270000100135803,\n",
    "  0.5080000162124634,\n",
    "  0.5299999713897705,\n",
    "  0.5419999957084656,\n",
    "  0.4309999942779541]}\n",
    "0.5075999975204468"
   ],
   "metadata": {
    "collapsed": false
   },
   "id": "a0a0449812737936"
  },
  {
   "cell_type": "code",
   "execution_count": 51,
   "outputs": [
    {
     "data": {
      "text/plain": "0.5075999975204468"
     },
     "execution_count": 51,
     "metadata": {},
     "output_type": "execute_result"
    }
   ],
   "source": [
    "sum(results[\"test_model_1\"]) / 5"
   ],
   "metadata": {
    "collapsed": false,
    "ExecuteTime": {
     "end_time": "2024-02-24T19:32:15.959275Z",
     "start_time": "2024-02-24T19:32:15.954885Z"
    }
   },
   "id": "48f13aeabc23da41"
  },
  {
   "cell_type": "code",
   "execution_count": null,
   "outputs": [],
   "source": [
    "{'test_model_1': [0.5070000290870667,\n",
    "  0.5040000081062317,\n",
    "  0.527999997138977,\n",
    "  0.41499999165534973,\n",
    "  0.5329999923706055]}"
   ],
   "metadata": {
    "collapsed": false
   },
   "id": "a89200e535c9c424"
  },
  {
   "cell_type": "code",
   "execution_count": null,
   "outputs": [],
   "source": [
    "0.4974000036716461"
   ],
   "metadata": {
    "collapsed": false
   },
   "id": "90fe733cc2812bd7"
  }
 ],
 "metadata": {
  "kernelspec": {
   "display_name": "Python 3",
   "language": "python",
   "name": "python3"
  },
  "language_info": {
   "codemirror_mode": {
    "name": "ipython",
    "version": 2
   },
   "file_extension": ".py",
   "mimetype": "text/x-python",
   "name": "python",
   "nbconvert_exporter": "python",
   "pygments_lexer": "ipython2",
   "version": "2.7.6"
  }
 },
 "nbformat": 4,
 "nbformat_minor": 5
}
