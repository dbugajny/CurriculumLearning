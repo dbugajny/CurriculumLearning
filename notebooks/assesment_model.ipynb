{
 "cells": [
  {
   "cell_type": "code",
   "execution_count": 2,
   "id": "initial_id",
   "metadata": {
    "collapsed": true,
    "ExecuteTime": {
     "end_time": "2024-03-24T13:39:17.811096Z",
     "start_time": "2024-03-24T13:39:14.425984Z"
    }
   },
   "outputs": [],
   "source": [
    "import numpy as np\n",
    "import tensorflow as tf\n",
    "from curriculum_learning.models.classifier_model import ClassifierModel\n",
    "from curriculum_learning import utils\n",
    "import yaml\n",
    "from sklearn.model_selection import train_test_split"
   ]
  },
  {
   "cell_type": "code",
   "outputs": [],
   "source": [
    "with open(\"models_hyperparameters.yaml\", \"r\") as stream:\n",
    "    models_hyperparameters = yaml.safe_load(stream)"
   ],
   "metadata": {
    "collapsed": false,
    "ExecuteTime": {
     "end_time": "2024-03-24T13:39:17.818213Z",
     "start_time": "2024-03-24T13:39:17.812387Z"
    }
   },
   "id": "738133facf33dc15",
   "execution_count": 3
  },
  {
   "cell_type": "code",
   "outputs": [],
   "source": [
    "N_EPOCHS = 50\n",
    "BATCH_SIZE = 512\n",
    "\n",
    "loss = tf.keras.losses.SparseCategoricalCrossentropy()"
   ],
   "metadata": {
    "collapsed": false,
    "ExecuteTime": {
     "end_time": "2024-03-24T13:39:17.821413Z",
     "start_time": "2024-03-24T13:39:17.819162Z"
    }
   },
   "id": "e43fcdcac7c3a426",
   "execution_count": 4
  },
  {
   "cell_type": "code",
   "outputs": [],
   "source": [
    "x1, y1 = utils.load_cifar_data(\"../data/cifar-10-batches-py/\")\n",
    "x1 /= 255\n",
    "\n",
    "x, _, y, _ = train_test_split(x1, y1, train_size=0.4, random_state=42)\n",
    "x_train, x_test, y_train, y_test = train_test_split(x, y, test_size=0.2, random_state=42)\n",
    "x_test, x_val, y_test, y_val = train_test_split(x_test, y_test, test_size=0.1, random_state=42)\n",
    "\n",
    "n_classes = len(np.unique(y))\n",
    "train_size = x_train.shape[0]"
   ],
   "metadata": {
    "collapsed": false,
    "ExecuteTime": {
     "end_time": "2024-03-24T13:39:18.317783Z",
     "start_time": "2024-03-24T13:39:17.822929Z"
    }
   },
   "id": "4e13936a515cb8f6",
   "execution_count": 5
  },
  {
   "cell_type": "code",
   "outputs": [
    {
     "data": {
      "text/plain": "16000"
     },
     "execution_count": 6,
     "metadata": {},
     "output_type": "execute_result"
    }
   ],
   "source": [
    "train_size"
   ],
   "metadata": {
    "collapsed": false,
    "ExecuteTime": {
     "end_time": "2024-03-24T13:39:18.322037Z",
     "start_time": "2024-03-24T13:39:18.318619Z"
    }
   },
   "id": "dee00021a773dc44",
   "execution_count": 6
  },
  {
   "cell_type": "code",
   "outputs": [
    {
     "name": "stdout",
     "output_type": "stream",
     "text": [
      "Epoch 1/50\n"
     ]
    },
    {
     "name": "stderr",
     "output_type": "stream",
     "text": [
      "2024-03-24 14:39:18.326745: I metal_plugin/src/device/metal_device.cc:1154] Metal device set to: Apple M1 Max\n",
      "2024-03-24 14:39:18.326770: I metal_plugin/src/device/metal_device.cc:296] systemMemory: 32.00 GB\n",
      "2024-03-24 14:39:18.326775: I metal_plugin/src/device/metal_device.cc:313] maxCacheSize: 10.67 GB\n",
      "2024-03-24 14:39:18.326792: I tensorflow/core/common_runtime/pluggable_device/pluggable_device_factory.cc:305] Could not identify NUMA node of platform GPU ID 0, defaulting to 0. Your kernel may not have been built with NUMA support.\n",
      "2024-03-24 14:39:18.326801: I tensorflow/core/common_runtime/pluggable_device/pluggable_device_factory.cc:271] Created TensorFlow device (/job:localhost/replica:0/task:0/device:GPU:0 with 0 MB memory) -> physical PluggableDevice (device: 0, name: METAL, pci bus id: <undefined>)\n",
      "2024-03-24 14:39:19.317398: I tensorflow/core/grappler/optimizers/custom_graph_optimizer_registry.cc:117] Plugin optimizer for device_type GPU is enabled.\n"
     ]
    },
    {
     "name": "stdout",
     "output_type": "stream",
     "text": [
      "\u001B[1m32/32\u001B[0m \u001B[32m━━━━━━━━━━━━━━━━━━━━\u001B[0m\u001B[37m\u001B[0m \u001B[1m5s\u001B[0m 64ms/step - accuracy: 0.1722 - loss: 2.3628 - val_accuracy: 0.2050 - val_loss: 2.2590\n",
      "Epoch 2/50\n",
      "\u001B[1m32/32\u001B[0m \u001B[32m━━━━━━━━━━━━━━━━━━━━\u001B[0m\u001B[37m\u001B[0m \u001B[1m1s\u001B[0m 33ms/step - accuracy: 0.2805 - loss: 1.9916 - val_accuracy: 0.1300 - val_loss: 2.2753\n",
      "Epoch 3/50\n",
      "\u001B[1m32/32\u001B[0m \u001B[32m━━━━━━━━━━━━━━━━━━━━\u001B[0m\u001B[37m\u001B[0m \u001B[1m1s\u001B[0m 32ms/step - accuracy: 0.3519 - loss: 1.8110 - val_accuracy: 0.1150 - val_loss: 2.3438\n",
      "Epoch 4/50\n",
      "\u001B[1m32/32\u001B[0m \u001B[32m━━━━━━━━━━━━━━━━━━━━\u001B[0m\u001B[37m\u001B[0m \u001B[1m1s\u001B[0m 33ms/step - accuracy: 0.3852 - loss: 1.6983 - val_accuracy: 0.1075 - val_loss: 2.4505\n",
      "Epoch 5/50\n",
      "\u001B[1m32/32\u001B[0m \u001B[32m━━━━━━━━━━━━━━━━━━━━\u001B[0m\u001B[37m\u001B[0m \u001B[1m1s\u001B[0m 32ms/step - accuracy: 0.4219 - loss: 1.5879 - val_accuracy: 0.1350 - val_loss: 2.5021\n",
      "Epoch 6/50\n",
      "\u001B[1m32/32\u001B[0m \u001B[32m━━━━━━━━━━━━━━━━━━━━\u001B[0m\u001B[37m\u001B[0m \u001B[1m1s\u001B[0m 32ms/step - accuracy: 0.4509 - loss: 1.5156 - val_accuracy: 0.1400 - val_loss: 2.5086\n",
      "Epoch 7/50\n",
      "\u001B[1m32/32\u001B[0m \u001B[32m━━━━━━━━━━━━━━━━━━━━\u001B[0m\u001B[37m\u001B[0m \u001B[1m1s\u001B[0m 32ms/step - accuracy: 0.4750 - loss: 1.4500 - val_accuracy: 0.1925 - val_loss: 2.5265\n",
      "Epoch 8/50\n",
      "\u001B[1m32/32\u001B[0m \u001B[32m━━━━━━━━━━━━━━━━━━━━\u001B[0m\u001B[37m\u001B[0m \u001B[1m1s\u001B[0m 33ms/step - accuracy: 0.4879 - loss: 1.4003 - val_accuracy: 0.1900 - val_loss: 2.5853\n",
      "Epoch 9/50\n",
      "\u001B[1m32/32\u001B[0m \u001B[32m━━━━━━━━━━━━━━━━━━━━\u001B[0m\u001B[37m\u001B[0m \u001B[1m1s\u001B[0m 33ms/step - accuracy: 0.5173 - loss: 1.3356 - val_accuracy: 0.2275 - val_loss: 2.4586\n",
      "Epoch 10/50\n",
      "\u001B[1m32/32\u001B[0m \u001B[32m━━━━━━━━━━━━━━━━━━━━\u001B[0m\u001B[37m\u001B[0m \u001B[1m1s\u001B[0m 32ms/step - accuracy: 0.5266 - loss: 1.3016 - val_accuracy: 0.2375 - val_loss: 2.4803\n",
      "Epoch 11/50\n",
      "\u001B[1m32/32\u001B[0m \u001B[32m━━━━━━━━━━━━━━━━━━━━\u001B[0m\u001B[37m\u001B[0m \u001B[1m1s\u001B[0m 32ms/step - accuracy: 0.5468 - loss: 1.2477 - val_accuracy: 0.2825 - val_loss: 2.3010\n",
      "Epoch 12/50\n",
      "\u001B[1m32/32\u001B[0m \u001B[32m━━━━━━━━━━━━━━━━━━━━\u001B[0m\u001B[37m\u001B[0m \u001B[1m1s\u001B[0m 32ms/step - accuracy: 0.5679 - loss: 1.1973 - val_accuracy: 0.2875 - val_loss: 2.2311\n",
      "Epoch 13/50\n",
      "\u001B[1m32/32\u001B[0m \u001B[32m━━━━━━━━━━━━━━━━━━━━\u001B[0m\u001B[37m\u001B[0m \u001B[1m1s\u001B[0m 33ms/step - accuracy: 0.5760 - loss: 1.1651 - val_accuracy: 0.3075 - val_loss: 2.0415\n",
      "Epoch 14/50\n",
      "\u001B[1m32/32\u001B[0m \u001B[32m━━━━━━━━━━━━━━━━━━━━\u001B[0m\u001B[37m\u001B[0m \u001B[1m1s\u001B[0m 32ms/step - accuracy: 0.5938 - loss: 1.1338 - val_accuracy: 0.4200 - val_loss: 1.7849\n",
      "Epoch 15/50\n",
      "\u001B[1m32/32\u001B[0m \u001B[32m━━━━━━━━━━━━━━━━━━━━\u001B[0m\u001B[37m\u001B[0m \u001B[1m1s\u001B[0m 32ms/step - accuracy: 0.6088 - loss: 1.0919 - val_accuracy: 0.4275 - val_loss: 1.6631\n",
      "Epoch 16/50\n",
      "\u001B[1m32/32\u001B[0m \u001B[32m━━━━━━━━━━━━━━━━━━━━\u001B[0m\u001B[37m\u001B[0m \u001B[1m1s\u001B[0m 33ms/step - accuracy: 0.6230 - loss: 1.0708 - val_accuracy: 0.4725 - val_loss: 1.5495\n",
      "Epoch 17/50\n",
      "\u001B[1m32/32\u001B[0m \u001B[32m━━━━━━━━━━━━━━━━━━━━\u001B[0m\u001B[37m\u001B[0m \u001B[1m1s\u001B[0m 33ms/step - accuracy: 0.6219 - loss: 1.0560 - val_accuracy: 0.5175 - val_loss: 1.3952\n",
      "Epoch 18/50\n",
      "\u001B[1m32/32\u001B[0m \u001B[32m━━━━━━━━━━━━━━━━━━━━\u001B[0m\u001B[37m\u001B[0m \u001B[1m1s\u001B[0m 33ms/step - accuracy: 0.6481 - loss: 0.9933 - val_accuracy: 0.5075 - val_loss: 1.4294\n",
      "Epoch 19/50\n",
      "\u001B[1m32/32\u001B[0m \u001B[32m━━━━━━━━━━━━━━━━━━━━\u001B[0m\u001B[37m\u001B[0m \u001B[1m1s\u001B[0m 33ms/step - accuracy: 0.6561 - loss: 0.9778 - val_accuracy: 0.5125 - val_loss: 1.4023\n",
      "Epoch 20/50\n",
      "\u001B[1m32/32\u001B[0m \u001B[32m━━━━━━━━━━━━━━━━━━━━\u001B[0m\u001B[37m\u001B[0m \u001B[1m1s\u001B[0m 32ms/step - accuracy: 0.6523 - loss: 0.9694 - val_accuracy: 0.5375 - val_loss: 1.4121\n",
      "Epoch 21/50\n",
      "\u001B[1m32/32\u001B[0m \u001B[32m━━━━━━━━━━━━━━━━━━━━\u001B[0m\u001B[37m\u001B[0m \u001B[1m1s\u001B[0m 34ms/step - accuracy: 0.6754 - loss: 0.9324 - val_accuracy: 0.5600 - val_loss: 1.2697\n",
      "Epoch 22/50\n",
      "\u001B[1m32/32\u001B[0m \u001B[32m━━━━━━━━━━━━━━━━━━━━\u001B[0m\u001B[37m\u001B[0m \u001B[1m1s\u001B[0m 32ms/step - accuracy: 0.6784 - loss: 0.9142 - val_accuracy: 0.5150 - val_loss: 1.5177\n",
      "Epoch 23/50\n",
      "\u001B[1m32/32\u001B[0m \u001B[32m━━━━━━━━━━━━━━━━━━━━\u001B[0m\u001B[37m\u001B[0m \u001B[1m1s\u001B[0m 34ms/step - accuracy: 0.6927 - loss: 0.8873 - val_accuracy: 0.5250 - val_loss: 1.4507\n",
      "Epoch 24/50\n",
      "\u001B[1m32/32\u001B[0m \u001B[32m━━━━━━━━━━━━━━━━━━━━\u001B[0m\u001B[37m\u001B[0m \u001B[1m1s\u001B[0m 32ms/step - accuracy: 0.6951 - loss: 0.8710 - val_accuracy: 0.4525 - val_loss: 1.7930\n",
      "Epoch 25/50\n",
      "\u001B[1m32/32\u001B[0m \u001B[32m━━━━━━━━━━━━━━━━━━━━\u001B[0m\u001B[37m\u001B[0m \u001B[1m1s\u001B[0m 32ms/step - accuracy: 0.6974 - loss: 0.8500 - val_accuracy: 0.5150 - val_loss: 1.5236\n",
      "Epoch 26/50\n",
      "\u001B[1m32/32\u001B[0m \u001B[32m━━━━━━━━━━━━━━━━━━━━\u001B[0m\u001B[37m\u001B[0m \u001B[1m1s\u001B[0m 32ms/step - accuracy: 0.7064 - loss: 0.8269 - val_accuracy: 0.4075 - val_loss: 2.1253\n",
      "Epoch 27/50\n",
      "\u001B[1m32/32\u001B[0m \u001B[32m━━━━━━━━━━━━━━━━━━━━\u001B[0m\u001B[37m\u001B[0m \u001B[1m1s\u001B[0m 33ms/step - accuracy: 0.7166 - loss: 0.8019 - val_accuracy: 0.6025 - val_loss: 1.0932\n",
      "Epoch 28/50\n",
      "\u001B[1m32/32\u001B[0m \u001B[32m━━━━━━━━━━━━━━━━━━━━\u001B[0m\u001B[37m\u001B[0m \u001B[1m1s\u001B[0m 32ms/step - accuracy: 0.7234 - loss: 0.7948 - val_accuracy: 0.5625 - val_loss: 1.2848\n",
      "Epoch 29/50\n",
      "\u001B[1m32/32\u001B[0m \u001B[32m━━━━━━━━━━━━━━━━━━━━\u001B[0m\u001B[37m\u001B[0m \u001B[1m1s\u001B[0m 33ms/step - accuracy: 0.7338 - loss: 0.7565 - val_accuracy: 0.6225 - val_loss: 1.1114\n",
      "Epoch 30/50\n",
      "\u001B[1m32/32\u001B[0m \u001B[32m━━━━━━━━━━━━━━━━━━━━\u001B[0m\u001B[37m\u001B[0m \u001B[1m1s\u001B[0m 34ms/step - accuracy: 0.7382 - loss: 0.7562 - val_accuracy: 0.6000 - val_loss: 1.1437\n",
      "Epoch 31/50\n",
      "\u001B[1m32/32\u001B[0m \u001B[32m━━━━━━━━━━━━━━━━━━━━\u001B[0m\u001B[37m\u001B[0m \u001B[1m1s\u001B[0m 33ms/step - accuracy: 0.7448 - loss: 0.7274 - val_accuracy: 0.5800 - val_loss: 1.2891\n",
      "Epoch 32/50\n",
      "\u001B[1m32/32\u001B[0m \u001B[32m━━━━━━━━━━━━━━━━━━━━\u001B[0m\u001B[37m\u001B[0m \u001B[1m1s\u001B[0m 32ms/step - accuracy: 0.7465 - loss: 0.7176 - val_accuracy: 0.4700 - val_loss: 1.8702\n",
      "Epoch 33/50\n",
      "\u001B[1m32/32\u001B[0m \u001B[32m━━━━━━━━━━━━━━━━━━━━\u001B[0m\u001B[37m\u001B[0m \u001B[1m1s\u001B[0m 33ms/step - accuracy: 0.7558 - loss: 0.7132 - val_accuracy: 0.5525 - val_loss: 1.3415\n",
      "Epoch 34/50\n",
      "\u001B[1m32/32\u001B[0m \u001B[32m━━━━━━━━━━━━━━━━━━━━\u001B[0m\u001B[37m\u001B[0m \u001B[1m1s\u001B[0m 33ms/step - accuracy: 0.7504 - loss: 0.7089 - val_accuracy: 0.5950 - val_loss: 1.3060\n",
      "Epoch 35/50\n",
      "\u001B[1m32/32\u001B[0m \u001B[32m━━━━━━━━━━━━━━━━━━━━\u001B[0m\u001B[37m\u001B[0m \u001B[1m1s\u001B[0m 32ms/step - accuracy: 0.7588 - loss: 0.6846 - val_accuracy: 0.5925 - val_loss: 1.1805\n",
      "Epoch 36/50\n",
      "\u001B[1m32/32\u001B[0m \u001B[32m━━━━━━━━━━━━━━━━━━━━\u001B[0m\u001B[37m\u001B[0m \u001B[1m1s\u001B[0m 33ms/step - accuracy: 0.7709 - loss: 0.6692 - val_accuracy: 0.5800 - val_loss: 1.2121\n",
      "Epoch 37/50\n",
      "\u001B[1m32/32\u001B[0m \u001B[32m━━━━━━━━━━━━━━━━━━━━\u001B[0m\u001B[37m\u001B[0m \u001B[1m1s\u001B[0m 32ms/step - accuracy: 0.7723 - loss: 0.6534 - val_accuracy: 0.5850 - val_loss: 1.2487\n",
      "Epoch 38/50\n",
      "\u001B[1m32/32\u001B[0m \u001B[32m━━━━━━━━━━━━━━━━━━━━\u001B[0m\u001B[37m\u001B[0m \u001B[1m1s\u001B[0m 32ms/step - accuracy: 0.7789 - loss: 0.6358 - val_accuracy: 0.5975 - val_loss: 1.2791\n",
      "Epoch 39/50\n",
      "\u001B[1m32/32\u001B[0m \u001B[32m━━━━━━━━━━━━━━━━━━━━\u001B[0m\u001B[37m\u001B[0m \u001B[1m1s\u001B[0m 33ms/step - accuracy: 0.7833 - loss: 0.6260 - val_accuracy: 0.6100 - val_loss: 1.1834\n",
      "Epoch 40/50\n",
      "\u001B[1m32/32\u001B[0m \u001B[32m━━━━━━━━━━━━━━━━━━━━\u001B[0m\u001B[37m\u001B[0m \u001B[1m1s\u001B[0m 32ms/step - accuracy: 0.7842 - loss: 0.6123 - val_accuracy: 0.5825 - val_loss: 1.3041\n",
      "Epoch 41/50\n",
      "\u001B[1m32/32\u001B[0m \u001B[32m━━━━━━━━━━━━━━━━━━━━\u001B[0m\u001B[37m\u001B[0m \u001B[1m1s\u001B[0m 33ms/step - accuracy: 0.7806 - loss: 0.6273 - val_accuracy: 0.5325 - val_loss: 1.3494\n",
      "Epoch 42/50\n",
      "\u001B[1m32/32\u001B[0m \u001B[32m━━━━━━━━━━━━━━━━━━━━\u001B[0m\u001B[37m\u001B[0m \u001B[1m1s\u001B[0m 33ms/step - accuracy: 0.7955 - loss: 0.5926 - val_accuracy: 0.5975 - val_loss: 1.1533\n",
      "Epoch 43/50\n",
      "\u001B[1m32/32\u001B[0m \u001B[32m━━━━━━━━━━━━━━━━━━━━\u001B[0m\u001B[37m\u001B[0m \u001B[1m1s\u001B[0m 33ms/step - accuracy: 0.8061 - loss: 0.5680 - val_accuracy: 0.5875 - val_loss: 1.3441\n",
      "Epoch 44/50\n",
      "\u001B[1m32/32\u001B[0m \u001B[32m━━━━━━━━━━━━━━━━━━━━\u001B[0m\u001B[37m\u001B[0m \u001B[1m1s\u001B[0m 32ms/step - accuracy: 0.7992 - loss: 0.5753 - val_accuracy: 0.5700 - val_loss: 1.3809\n",
      "Epoch 45/50\n",
      "\u001B[1m32/32\u001B[0m \u001B[32m━━━━━━━━━━━━━━━━━━━━\u001B[0m\u001B[37m\u001B[0m \u001B[1m1s\u001B[0m 33ms/step - accuracy: 0.8063 - loss: 0.5587 - val_accuracy: 0.5975 - val_loss: 1.2303\n",
      "Epoch 46/50\n",
      "\u001B[1m32/32\u001B[0m \u001B[32m━━━━━━━━━━━━━━━━━━━━\u001B[0m\u001B[37m\u001B[0m \u001B[1m1s\u001B[0m 32ms/step - accuracy: 0.8052 - loss: 0.5646 - val_accuracy: 0.6100 - val_loss: 1.1562\n",
      "Epoch 47/50\n",
      "\u001B[1m32/32\u001B[0m \u001B[32m━━━━━━━━━━━━━━━━━━━━\u001B[0m\u001B[37m\u001B[0m \u001B[1m1s\u001B[0m 32ms/step - accuracy: 0.8130 - loss: 0.5479 - val_accuracy: 0.5800 - val_loss: 1.2788\n",
      "Epoch 48/50\n",
      "\u001B[1m32/32\u001B[0m \u001B[32m━━━━━━━━━━━━━━━━━━━━\u001B[0m\u001B[37m\u001B[0m \u001B[1m1s\u001B[0m 32ms/step - accuracy: 0.8127 - loss: 0.5382 - val_accuracy: 0.6075 - val_loss: 1.2098\n",
      "Epoch 49/50\n",
      "\u001B[1m32/32\u001B[0m \u001B[32m━━━━━━━━━━━━━━━━━━━━\u001B[0m\u001B[37m\u001B[0m \u001B[1m1s\u001B[0m 33ms/step - accuracy: 0.8138 - loss: 0.5295 - val_accuracy: 0.5825 - val_loss: 1.2974\n",
      "Epoch 50/50\n",
      "\u001B[1m32/32\u001B[0m \u001B[32m━━━━━━━━━━━━━━━━━━━━\u001B[0m\u001B[37m\u001B[0m \u001B[1m1s\u001B[0m 32ms/step - accuracy: 0.8172 - loss: 0.5330 - val_accuracy: 0.5925 - val_loss: 1.1818\n"
     ]
    }
   ],
   "source": [
    "assessment_model = ClassifierModel(output_shape=n_classes, **models_hyperparameters[\"assessment_model\"])\n",
    "\n",
    "assessment_model.compile(optimizer=\"adam\", loss=loss, metrics=[\"accuracy\"])\n",
    "\n",
    "history = assessment_model.fit(x_train, y_train, validation_data=(x_val, y_val), epochs=N_EPOCHS, batch_size=BATCH_SIZE)"
   ],
   "metadata": {
    "collapsed": false,
    "ExecuteTime": {
     "end_time": "2024-03-24T13:40:15.687115Z",
     "start_time": "2024-03-24T13:39:18.322935Z"
    }
   },
   "id": "a9a8434121f1fa9c",
   "execution_count": 7
  },
  {
   "cell_type": "code",
   "outputs": [],
   "source": [
    "assessment_model.save_weights('../models/assessment_model.weights.h5')"
   ],
   "metadata": {
    "collapsed": false,
    "ExecuteTime": {
     "end_time": "2024-03-24T13:40:15.751850Z",
     "start_time": "2024-03-24T13:40:15.689683Z"
    }
   },
   "id": "ca876979baa26aa3",
   "execution_count": 8
  },
  {
   "cell_type": "code",
   "outputs": [],
   "source": [],
   "metadata": {
    "collapsed": false
   },
   "id": "f5b710c862c2d9a7"
  }
 ],
 "metadata": {
  "kernelspec": {
   "display_name": "Python 3",
   "language": "python",
   "name": "python3"
  },
  "language_info": {
   "codemirror_mode": {
    "name": "ipython",
    "version": 2
   },
   "file_extension": ".py",
   "mimetype": "text/x-python",
   "name": "python",
   "nbconvert_exporter": "python",
   "pygments_lexer": "ipython2",
   "version": "2.7.6"
  }
 },
 "nbformat": 4,
 "nbformat_minor": 5
}
