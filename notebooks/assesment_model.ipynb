{
 "cells": [
  {
   "cell_type": "code",
   "execution_count": 1,
   "id": "initial_id",
   "metadata": {
    "collapsed": true,
    "ExecuteTime": {
     "end_time": "2024-03-27T14:22:37.302484Z",
     "start_time": "2024-03-27T14:22:34.841776Z"
    }
   },
   "outputs": [],
   "source": [
    "import numpy as np\n",
    "import tensorflow as tf\n",
    "from curriculum_learning.models.classifier_model import ClassifierModel\n",
    "from curriculum_learning import utils\n",
    "import yaml\n",
    "from sklearn.model_selection import train_test_split"
   ]
  },
  {
   "cell_type": "code",
   "outputs": [],
   "source": [
    "with open(\"models_hyperparameters.yaml\", \"r\") as stream:\n",
    "    models_hyperparameters = yaml.safe_load(stream)"
   ],
   "metadata": {
    "collapsed": false,
    "ExecuteTime": {
     "end_time": "2024-03-27T14:22:37.307557Z",
     "start_time": "2024-03-27T14:22:37.303644Z"
    }
   },
   "id": "738133facf33dc15",
   "execution_count": 2
  },
  {
   "cell_type": "code",
   "outputs": [],
   "source": [
    "N_EPOCHS = 50\n",
    "BATCH_SIZE = 512\n",
    "\n",
    "loss = tf.keras.losses.SparseCategoricalCrossentropy()"
   ],
   "metadata": {
    "collapsed": false,
    "ExecuteTime": {
     "end_time": "2024-03-27T14:22:37.311703Z",
     "start_time": "2024-03-27T14:22:37.308426Z"
    }
   },
   "id": "e43fcdcac7c3a426",
   "execution_count": 3
  },
  {
   "cell_type": "code",
   "outputs": [],
   "source": [
    "x, y = utils.load_cifar_data(\"../data/cifar-10-batches-py/\")\n",
    "x /= 255\n",
    "\n",
    "x_train, x_test, y_train, y_test = train_test_split(x, y, test_size=0.4, random_state=42, stratify=y)\n",
    "x_test, x_val, y_test, y_val = train_test_split(x_test, y_test, test_size=0.5, random_state=42, stratify=y_test)\n",
    "\n",
    "n_classes = len(np.unique(y))\n",
    "train_size = x_train.shape[0]"
   ],
   "metadata": {
    "collapsed": false,
    "ExecuteTime": {
     "end_time": "2024-03-27T14:22:40.826345Z",
     "start_time": "2024-03-27T14:22:40.314446Z"
    }
   },
   "id": "4e13936a515cb8f6",
   "execution_count": 6
  },
  {
   "cell_type": "code",
   "outputs": [
    {
     "data": {
      "text/plain": "(30000, 10000, 10000)"
     },
     "execution_count": 7,
     "metadata": {},
     "output_type": "execute_result"
    }
   ],
   "source": [
    "train_size, len(x_val), len(x_test)"
   ],
   "metadata": {
    "collapsed": false,
    "ExecuteTime": {
     "end_time": "2024-03-27T14:22:40.990089Z",
     "start_time": "2024-03-27T14:22:40.987311Z"
    }
   },
   "id": "dee00021a773dc44",
   "execution_count": 7
  },
  {
   "cell_type": "code",
   "outputs": [
    {
     "name": "stdout",
     "output_type": "stream",
     "text": [
      "Epoch 1/50\n"
     ]
    },
    {
     "name": "stderr",
     "output_type": "stream",
     "text": [
      "2024-03-27 15:22:41.546223: I metal_plugin/src/device/metal_device.cc:1154] Metal device set to: Apple M1 Max\n",
      "2024-03-27 15:22:41.546250: I metal_plugin/src/device/metal_device.cc:296] systemMemory: 32.00 GB\n",
      "2024-03-27 15:22:41.546256: I metal_plugin/src/device/metal_device.cc:313] maxCacheSize: 10.67 GB\n",
      "2024-03-27 15:22:41.546274: I tensorflow/core/common_runtime/pluggable_device/pluggable_device_factory.cc:305] Could not identify NUMA node of platform GPU ID 0, defaulting to 0. Your kernel may not have been built with NUMA support.\n",
      "2024-03-27 15:22:41.546287: I tensorflow/core/common_runtime/pluggable_device/pluggable_device_factory.cc:271] Created TensorFlow device (/job:localhost/replica:0/task:0/device:GPU:0 with 0 MB memory) -> physical PluggableDevice (device: 0, name: METAL, pci bus id: <undefined>)\n",
      "2024-03-27 15:22:42.391379: I tensorflow/core/grappler/optimizers/custom_graph_optimizer_registry.cc:117] Plugin optimizer for device_type GPU is enabled.\n"
     ]
    },
    {
     "name": "stdout",
     "output_type": "stream",
     "text": [
      "\u001B[1m59/59\u001B[0m \u001B[32m━━━━━━━━━━━━━━━━━━━━\u001B[0m\u001B[37m\u001B[0m \u001B[1m5s\u001B[0m 40ms/step - accuracy: 0.1447 - loss: 2.3837 - val_accuracy: 0.2016 - val_loss: 2.1571\n",
      "Epoch 2/50\n",
      "\u001B[1m59/59\u001B[0m \u001B[32m━━━━━━━━━━━━━━━━━━━━\u001B[0m\u001B[37m\u001B[0m \u001B[1m2s\u001B[0m 26ms/step - accuracy: 0.2367 - loss: 2.0549 - val_accuracy: 0.1922 - val_loss: 2.1129\n",
      "Epoch 3/50\n",
      "\u001B[1m59/59\u001B[0m \u001B[32m━━━━━━━━━━━━━━━━━━━━\u001B[0m\u001B[37m\u001B[0m \u001B[1m2s\u001B[0m 26ms/step - accuracy: 0.2897 - loss: 1.9251 - val_accuracy: 0.1879 - val_loss: 2.1444\n",
      "Epoch 4/50\n",
      "\u001B[1m59/59\u001B[0m \u001B[32m━━━━━━━━━━━━━━━━━━━━\u001B[0m\u001B[37m\u001B[0m \u001B[1m1s\u001B[0m 25ms/step - accuracy: 0.3293 - loss: 1.8317 - val_accuracy: 0.2148 - val_loss: 2.1132\n",
      "Epoch 5/50\n",
      "\u001B[1m59/59\u001B[0m \u001B[32m━━━━━━━━━━━━━━━━━━━━\u001B[0m\u001B[37m\u001B[0m \u001B[1m1s\u001B[0m 25ms/step - accuracy: 0.3496 - loss: 1.7536 - val_accuracy: 0.2235 - val_loss: 2.1058\n",
      "Epoch 6/50\n",
      "\u001B[1m59/59\u001B[0m \u001B[32m━━━━━━━━━━━━━━━━━━━━\u001B[0m\u001B[37m\u001B[0m \u001B[1m1s\u001B[0m 25ms/step - accuracy: 0.3706 - loss: 1.7039 - val_accuracy: 0.2802 - val_loss: 1.9289\n",
      "Epoch 7/50\n",
      "\u001B[1m59/59\u001B[0m \u001B[32m━━━━━━━━━━━━━━━━━━━━\u001B[0m\u001B[37m\u001B[0m \u001B[1m1s\u001B[0m 25ms/step - accuracy: 0.3747 - loss: 1.6726 - val_accuracy: 0.3467 - val_loss: 1.7669\n",
      "Epoch 8/50\n",
      "\u001B[1m59/59\u001B[0m \u001B[32m━━━━━━━━━━━━━━━━━━━━\u001B[0m\u001B[37m\u001B[0m \u001B[1m1s\u001B[0m 25ms/step - accuracy: 0.3972 - loss: 1.6234 - val_accuracy: 0.4100 - val_loss: 1.6348\n",
      "Epoch 9/50\n",
      "\u001B[1m59/59\u001B[0m \u001B[32m━━━━━━━━━━━━━━━━━━━━\u001B[0m\u001B[37m\u001B[0m \u001B[1m2s\u001B[0m 26ms/step - accuracy: 0.4073 - loss: 1.5949 - val_accuracy: 0.4399 - val_loss: 1.5483\n",
      "Epoch 10/50\n",
      "\u001B[1m59/59\u001B[0m \u001B[32m━━━━━━━━━━━━━━━━━━━━\u001B[0m\u001B[37m\u001B[0m \u001B[1m1s\u001B[0m 25ms/step - accuracy: 0.4188 - loss: 1.5743 - val_accuracy: 0.4423 - val_loss: 1.5406\n",
      "Epoch 11/50\n",
      "\u001B[1m59/59\u001B[0m \u001B[32m━━━━━━━━━━━━━━━━━━━━\u001B[0m\u001B[37m\u001B[0m \u001B[1m1s\u001B[0m 25ms/step - accuracy: 0.4207 - loss: 1.5608 - val_accuracy: 0.4580 - val_loss: 1.5036\n",
      "Epoch 12/50\n",
      "\u001B[1m59/59\u001B[0m \u001B[32m━━━━━━━━━━━━━━━━━━━━\u001B[0m\u001B[37m\u001B[0m \u001B[1m2s\u001B[0m 25ms/step - accuracy: 0.4341 - loss: 1.5344 - val_accuracy: 0.4765 - val_loss: 1.4232\n",
      "Epoch 13/50\n",
      "\u001B[1m59/59\u001B[0m \u001B[32m━━━━━━━━━━━━━━━━━━━━\u001B[0m\u001B[37m\u001B[0m \u001B[1m2s\u001B[0m 27ms/step - accuracy: 0.4394 - loss: 1.5115 - val_accuracy: 0.5028 - val_loss: 1.3730\n",
      "Epoch 14/50\n",
      "\u001B[1m59/59\u001B[0m \u001B[32m━━━━━━━━━━━━━━━━━━━━\u001B[0m\u001B[37m\u001B[0m \u001B[1m2s\u001B[0m 28ms/step - accuracy: 0.4433 - loss: 1.5005 - val_accuracy: 0.4992 - val_loss: 1.3759\n",
      "Epoch 15/50\n",
      "\u001B[1m59/59\u001B[0m \u001B[32m━━━━━━━━━━━━━━━━━━━━\u001B[0m\u001B[37m\u001B[0m \u001B[1m2s\u001B[0m 27ms/step - accuracy: 0.4512 - loss: 1.4917 - val_accuracy: 0.4873 - val_loss: 1.4030\n",
      "Epoch 16/50\n",
      "\u001B[1m59/59\u001B[0m \u001B[32m━━━━━━━━━━━━━━━━━━━━\u001B[0m\u001B[37m\u001B[0m \u001B[1m2s\u001B[0m 26ms/step - accuracy: 0.4632 - loss: 1.4638 - val_accuracy: 0.5096 - val_loss: 1.3468\n",
      "Epoch 17/50\n",
      "\u001B[1m59/59\u001B[0m \u001B[32m━━━━━━━━━━━━━━━━━━━━\u001B[0m\u001B[37m\u001B[0m \u001B[1m2s\u001B[0m 27ms/step - accuracy: 0.4624 - loss: 1.4525 - val_accuracy: 0.5162 - val_loss: 1.3469\n",
      "Epoch 18/50\n",
      "\u001B[1m59/59\u001B[0m \u001B[32m━━━━━━━━━━━━━━━━━━━━\u001B[0m\u001B[37m\u001B[0m \u001B[1m2s\u001B[0m 27ms/step - accuracy: 0.4646 - loss: 1.4554 - val_accuracy: 0.5268 - val_loss: 1.3080\n",
      "Epoch 19/50\n",
      "\u001B[1m59/59\u001B[0m \u001B[32m━━━━━━━━━━━━━━━━━━━━\u001B[0m\u001B[37m\u001B[0m \u001B[1m2s\u001B[0m 27ms/step - accuracy: 0.4655 - loss: 1.4345 - val_accuracy: 0.5309 - val_loss: 1.2930\n",
      "Epoch 20/50\n",
      "\u001B[1m59/59\u001B[0m \u001B[32m━━━━━━━━━━━━━━━━━━━━\u001B[0m\u001B[37m\u001B[0m \u001B[1m2s\u001B[0m 26ms/step - accuracy: 0.4697 - loss: 1.4346 - val_accuracy: 0.5394 - val_loss: 1.2835\n",
      "Epoch 21/50\n",
      "\u001B[1m59/59\u001B[0m \u001B[32m━━━━━━━━━━━━━━━━━━━━\u001B[0m\u001B[37m\u001B[0m \u001B[1m2s\u001B[0m 25ms/step - accuracy: 0.4813 - loss: 1.4179 - val_accuracy: 0.5263 - val_loss: 1.3300\n",
      "Epoch 22/50\n",
      "\u001B[1m59/59\u001B[0m \u001B[32m━━━━━━━━━━━━━━━━━━━━\u001B[0m\u001B[37m\u001B[0m \u001B[1m2s\u001B[0m 27ms/step - accuracy: 0.4700 - loss: 1.4250 - val_accuracy: 0.5404 - val_loss: 1.2754\n",
      "Epoch 23/50\n",
      "\u001B[1m59/59\u001B[0m \u001B[32m━━━━━━━━━━━━━━━━━━━━\u001B[0m\u001B[37m\u001B[0m \u001B[1m2s\u001B[0m 26ms/step - accuracy: 0.4801 - loss: 1.4061 - val_accuracy: 0.5404 - val_loss: 1.2652\n",
      "Epoch 24/50\n",
      "\u001B[1m59/59\u001B[0m \u001B[32m━━━━━━━━━━━━━━━━━━━━\u001B[0m\u001B[37m\u001B[0m \u001B[1m2s\u001B[0m 26ms/step - accuracy: 0.4854 - loss: 1.4033 - val_accuracy: 0.5479 - val_loss: 1.2525\n",
      "Epoch 25/50\n",
      "\u001B[1m59/59\u001B[0m \u001B[32m━━━━━━━━━━━━━━━━━━━━\u001B[0m\u001B[37m\u001B[0m \u001B[1m2s\u001B[0m 27ms/step - accuracy: 0.4840 - loss: 1.3939 - val_accuracy: 0.5391 - val_loss: 1.2914\n",
      "Epoch 26/50\n",
      "\u001B[1m59/59\u001B[0m \u001B[32m━━━━━━━━━━━━━━━━━━━━\u001B[0m\u001B[37m\u001B[0m \u001B[1m2s\u001B[0m 27ms/step - accuracy: 0.4913 - loss: 1.3859 - val_accuracy: 0.5312 - val_loss: 1.2859\n",
      "Epoch 27/50\n",
      "\u001B[1m59/59\u001B[0m \u001B[32m━━━━━━━━━━━━━━━━━━━━\u001B[0m\u001B[37m\u001B[0m \u001B[1m2s\u001B[0m 26ms/step - accuracy: 0.4945 - loss: 1.3816 - val_accuracy: 0.5630 - val_loss: 1.2288\n",
      "Epoch 28/50\n",
      "\u001B[1m59/59\u001B[0m \u001B[32m━━━━━━━━━━━━━━━━━━━━\u001B[0m\u001B[37m\u001B[0m \u001B[1m2s\u001B[0m 26ms/step - accuracy: 0.4996 - loss: 1.3694 - val_accuracy: 0.5643 - val_loss: 1.2211\n",
      "Epoch 29/50\n",
      "\u001B[1m59/59\u001B[0m \u001B[32m━━━━━━━━━━━━━━━━━━━━\u001B[0m\u001B[37m\u001B[0m \u001B[1m2s\u001B[0m 26ms/step - accuracy: 0.4997 - loss: 1.3548 - val_accuracy: 0.5502 - val_loss: 1.2745\n",
      "Epoch 30/50\n",
      "\u001B[1m59/59\u001B[0m \u001B[32m━━━━━━━━━━━━━━━━━━━━\u001B[0m\u001B[37m\u001B[0m \u001B[1m2s\u001B[0m 28ms/step - accuracy: 0.4953 - loss: 1.3614 - val_accuracy: 0.5155 - val_loss: 1.3739\n",
      "Epoch 31/50\n",
      "\u001B[1m59/59\u001B[0m \u001B[32m━━━━━━━━━━━━━━━━━━━━\u001B[0m\u001B[37m\u001B[0m \u001B[1m2s\u001B[0m 26ms/step - accuracy: 0.5034 - loss: 1.3522 - val_accuracy: 0.5588 - val_loss: 1.2253\n",
      "Epoch 32/50\n",
      "\u001B[1m59/59\u001B[0m \u001B[32m━━━━━━━━━━━━━━━━━━━━\u001B[0m\u001B[37m\u001B[0m \u001B[1m2s\u001B[0m 28ms/step - accuracy: 0.5069 - loss: 1.3402 - val_accuracy: 0.5395 - val_loss: 1.3083\n",
      "Epoch 33/50\n",
      "\u001B[1m59/59\u001B[0m \u001B[32m━━━━━━━━━━━━━━━━━━━━\u001B[0m\u001B[37m\u001B[0m \u001B[1m2s\u001B[0m 27ms/step - accuracy: 0.5129 - loss: 1.3379 - val_accuracy: 0.5739 - val_loss: 1.1875\n",
      "Epoch 34/50\n",
      "\u001B[1m59/59\u001B[0m \u001B[32m━━━━━━━━━━━━━━━━━━━━\u001B[0m\u001B[37m\u001B[0m \u001B[1m2s\u001B[0m 27ms/step - accuracy: 0.5075 - loss: 1.3360 - val_accuracy: 0.5376 - val_loss: 1.2736\n",
      "Epoch 35/50\n",
      "\u001B[1m59/59\u001B[0m \u001B[32m━━━━━━━━━━━━━━━━━━━━\u001B[0m\u001B[37m\u001B[0m \u001B[1m2s\u001B[0m 27ms/step - accuracy: 0.5163 - loss: 1.3253 - val_accuracy: 0.5181 - val_loss: 1.3400\n",
      "Epoch 36/50\n",
      "\u001B[1m59/59\u001B[0m \u001B[32m━━━━━━━━━━━━━━━━━━━━\u001B[0m\u001B[37m\u001B[0m \u001B[1m2s\u001B[0m 28ms/step - accuracy: 0.5088 - loss: 1.3504 - val_accuracy: 0.5458 - val_loss: 1.2444\n",
      "Epoch 37/50\n",
      "\u001B[1m59/59\u001B[0m \u001B[32m━━━━━━━━━━━━━━━━━━━━\u001B[0m\u001B[37m\u001B[0m \u001B[1m2s\u001B[0m 27ms/step - accuracy: 0.5125 - loss: 1.3295 - val_accuracy: 0.5416 - val_loss: 1.2595\n",
      "Epoch 38/50\n",
      "\u001B[1m59/59\u001B[0m \u001B[32m━━━━━━━━━━━━━━━━━━━━\u001B[0m\u001B[37m\u001B[0m \u001B[1m2s\u001B[0m 27ms/step - accuracy: 0.5178 - loss: 1.3221 - val_accuracy: 0.5771 - val_loss: 1.1876\n",
      "Epoch 39/50\n",
      "\u001B[1m59/59\u001B[0m \u001B[32m━━━━━━━━━━━━━━━━━━━━\u001B[0m\u001B[37m\u001B[0m \u001B[1m2s\u001B[0m 26ms/step - accuracy: 0.5175 - loss: 1.3198 - val_accuracy: 0.5556 - val_loss: 1.2226\n",
      "Epoch 40/50\n",
      "\u001B[1m59/59\u001B[0m \u001B[32m━━━━━━━━━━━━━━━━━━━━\u001B[0m\u001B[37m\u001B[0m \u001B[1m2s\u001B[0m 28ms/step - accuracy: 0.5175 - loss: 1.3177 - val_accuracy: 0.5346 - val_loss: 1.3386\n",
      "Epoch 41/50\n",
      "\u001B[1m59/59\u001B[0m \u001B[32m━━━━━━━━━━━━━━━━━━━━\u001B[0m\u001B[37m\u001B[0m \u001B[1m2s\u001B[0m 27ms/step - accuracy: 0.5251 - loss: 1.3078 - val_accuracy: 0.5641 - val_loss: 1.2065\n",
      "Epoch 42/50\n",
      "\u001B[1m59/59\u001B[0m \u001B[32m━━━━━━━━━━━━━━━━━━━━\u001B[0m\u001B[37m\u001B[0m \u001B[1m2s\u001B[0m 27ms/step - accuracy: 0.5209 - loss: 1.3139 - val_accuracy: 0.5753 - val_loss: 1.1740\n",
      "Epoch 43/50\n",
      "\u001B[1m59/59\u001B[0m \u001B[32m━━━━━━━━━━━━━━━━━━━━\u001B[0m\u001B[37m\u001B[0m \u001B[1m2s\u001B[0m 27ms/step - accuracy: 0.5241 - loss: 1.3083 - val_accuracy: 0.5798 - val_loss: 1.1614\n",
      "Epoch 44/50\n",
      "\u001B[1m59/59\u001B[0m \u001B[32m━━━━━━━━━━━━━━━━━━━━\u001B[0m\u001B[37m\u001B[0m \u001B[1m2s\u001B[0m 27ms/step - accuracy: 0.5251 - loss: 1.2943 - val_accuracy: 0.5501 - val_loss: 1.2545\n",
      "Epoch 45/50\n",
      "\u001B[1m59/59\u001B[0m \u001B[32m━━━━━━━━━━━━━━━━━━━━\u001B[0m\u001B[37m\u001B[0m \u001B[1m2s\u001B[0m 26ms/step - accuracy: 0.5263 - loss: 1.3089 - val_accuracy: 0.5323 - val_loss: 1.3012\n",
      "Epoch 46/50\n",
      "\u001B[1m59/59\u001B[0m \u001B[32m━━━━━━━━━━━━━━━━━━━━\u001B[0m\u001B[37m\u001B[0m \u001B[1m2s\u001B[0m 27ms/step - accuracy: 0.5238 - loss: 1.3008 - val_accuracy: 0.5578 - val_loss: 1.2216\n",
      "Epoch 47/50\n",
      "\u001B[1m59/59\u001B[0m \u001B[32m━━━━━━━━━━━━━━━━━━━━\u001B[0m\u001B[37m\u001B[0m \u001B[1m2s\u001B[0m 27ms/step - accuracy: 0.5250 - loss: 1.2881 - val_accuracy: 0.5773 - val_loss: 1.1745\n",
      "Epoch 48/50\n",
      "\u001B[1m59/59\u001B[0m \u001B[32m━━━━━━━━━━━━━━━━━━━━\u001B[0m\u001B[37m\u001B[0m \u001B[1m2s\u001B[0m 27ms/step - accuracy: 0.5346 - loss: 1.2847 - val_accuracy: 0.5444 - val_loss: 1.3168\n",
      "Epoch 49/50\n",
      "\u001B[1m59/59\u001B[0m \u001B[32m━━━━━━━━━━━━━━━━━━━━\u001B[0m\u001B[37m\u001B[0m \u001B[1m2s\u001B[0m 27ms/step - accuracy: 0.5312 - loss: 1.2891 - val_accuracy: 0.5744 - val_loss: 1.1801\n",
      "Epoch 50/50\n",
      "\u001B[1m59/59\u001B[0m \u001B[32m━━━━━━━━━━━━━━━━━━━━\u001B[0m\u001B[37m\u001B[0m \u001B[1m2s\u001B[0m 27ms/step - accuracy: 0.5370 - loss: 1.2822 - val_accuracy: 0.5332 - val_loss: 1.3207\n"
     ]
    }
   ],
   "source": [
    "assessment_model = ClassifierModel(output_shape=n_classes, **models_hyperparameters[\"assessment_model\"])\n",
    "\n",
    "assessment_model.compile(optimizer=\"adam\", loss=loss, metrics=[\"accuracy\"])\n",
    "\n",
    "history = assessment_model.fit(x_train, y_train, validation_data=(x_val, y_val), epochs=N_EPOCHS, batch_size=BATCH_SIZE)"
   ],
   "metadata": {
    "collapsed": false,
    "ExecuteTime": {
     "end_time": "2024-03-27T14:24:03.830486Z",
     "start_time": "2024-03-27T14:22:41.542349Z"
    }
   },
   "id": "a9a8434121f1fa9c",
   "execution_count": 8
  },
  {
   "cell_type": "code",
   "outputs": [
    {
     "name": "stdout",
     "output_type": "stream",
     "text": [
      "\u001B[1m313/313\u001B[0m \u001B[32m━━━━━━━━━━━━━━━━━━━━\u001B[0m\u001B[37m\u001B[0m \u001B[1m2s\u001B[0m 6ms/step - accuracy: 0.5315 - loss: 1.3379\n"
     ]
    },
    {
     "data": {
      "text/plain": "[1.3303395509719849, 0.531499981880188]"
     },
     "execution_count": 9,
     "metadata": {},
     "output_type": "execute_result"
    }
   ],
   "source": [
    "assessment_model.evaluate(x_test, y_test)"
   ],
   "metadata": {
    "collapsed": false,
    "ExecuteTime": {
     "end_time": "2024-03-27T14:24:05.776730Z",
     "start_time": "2024-03-27T14:24:03.831518Z"
    }
   },
   "id": "cef7b1534c52da82",
   "execution_count": 9
  },
  {
   "cell_type": "code",
   "outputs": [],
   "source": [
    "assessment_model.save_weights('../models/assessment_model.weights.h5')"
   ],
   "metadata": {
    "collapsed": false,
    "ExecuteTime": {
     "end_time": "2024-03-27T14:24:05.824431Z",
     "start_time": "2024-03-27T14:24:05.777421Z"
    }
   },
   "id": "ca876979baa26aa3",
   "execution_count": 10
  },
  {
   "cell_type": "code",
   "outputs": [],
   "source": [],
   "metadata": {
    "collapsed": false,
    "ExecuteTime": {
     "end_time": "2024-03-27T09:07:39.160888Z",
     "start_time": "2024-03-27T09:07:39.159651Z"
    }
   },
   "id": "259bc8e87289fa6a",
   "execution_count": 8
  }
 ],
 "metadata": {
  "kernelspec": {
   "display_name": "Python 3",
   "language": "python",
   "name": "python3"
  },
  "language_info": {
   "codemirror_mode": {
    "name": "ipython",
    "version": 2
   },
   "file_extension": ".py",
   "mimetype": "text/x-python",
   "name": "python",
   "nbconvert_exporter": "python",
   "pygments_lexer": "ipython2",
   "version": "2.7.6"
  }
 },
 "nbformat": 4,
 "nbformat_minor": 5
}
