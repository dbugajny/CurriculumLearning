{
 "cells": [
  {
   "cell_type": "code",
   "execution_count": 1,
   "id": "initial_id",
   "metadata": {
    "collapsed": true,
    "ExecuteTime": {
     "end_time": "2024-03-25T09:56:31.699067Z",
     "start_time": "2024-03-25T09:56:27.509725Z"
    }
   },
   "outputs": [],
   "source": [
    "import numpy as np\n",
    "import tensorflow as tf\n",
    "from curriculum_learning.models.classifier_model import ClassifierModel\n",
    "from curriculum_learning import utils\n",
    "import yaml\n",
    "from sklearn.model_selection import train_test_split"
   ]
  },
  {
   "cell_type": "code",
   "outputs": [],
   "source": [
    "with open(\"models_hyperparameters.yaml\", \"r\") as stream:\n",
    "    models_hyperparameters = yaml.safe_load(stream)"
   ],
   "metadata": {
    "collapsed": false,
    "ExecuteTime": {
     "end_time": "2024-03-25T09:56:31.705538Z",
     "start_time": "2024-03-25T09:56:31.700108Z"
    }
   },
   "id": "738133facf33dc15",
   "execution_count": 2
  },
  {
   "cell_type": "code",
   "outputs": [],
   "source": [
    "N_EPOCHS = 30\n",
    "BATCH_SIZE = 512\n",
    "\n",
    "loss = tf.keras.losses.SparseCategoricalCrossentropy()"
   ],
   "metadata": {
    "collapsed": false,
    "ExecuteTime": {
     "end_time": "2024-03-25T09:56:31.845529Z",
     "start_time": "2024-03-25T09:56:31.843113Z"
    }
   },
   "id": "e43fcdcac7c3a426",
   "execution_count": 3
  },
  {
   "cell_type": "code",
   "outputs": [],
   "source": [
    "x, y = utils.load_cifar_data(\"../data/cifar-10-batches-py/\")\n",
    "x /= 255\n",
    "\n",
    "x_train, x_test, y_train, y_test = train_test_split(x, y, test_size=0.4, random_state=42)\n",
    "x_test, x_val, y_test, y_val = train_test_split(x_test, y_test, test_size=0.5, random_state=42)\n",
    "\n",
    "n_classes = len(np.unique(y))\n",
    "train_size = x_train.shape[0]"
   ],
   "metadata": {
    "collapsed": false,
    "ExecuteTime": {
     "end_time": "2024-03-25T09:56:32.686265Z",
     "start_time": "2024-03-25T09:56:32.179498Z"
    }
   },
   "id": "4e13936a515cb8f6",
   "execution_count": 4
  },
  {
   "cell_type": "code",
   "outputs": [
    {
     "data": {
      "text/plain": "(30000, 10000, 10000)"
     },
     "execution_count": 5,
     "metadata": {},
     "output_type": "execute_result"
    }
   ],
   "source": [
    "train_size, len(x_val), len(x_test)"
   ],
   "metadata": {
    "collapsed": false,
    "ExecuteTime": {
     "end_time": "2024-03-25T09:56:32.691611Z",
     "start_time": "2024-03-25T09:56:32.687628Z"
    }
   },
   "id": "dee00021a773dc44",
   "execution_count": 5
  },
  {
   "cell_type": "code",
   "outputs": [
    {
     "name": "stdout",
     "output_type": "stream",
     "text": [
      "Epoch 1/30\n"
     ]
    },
    {
     "name": "stderr",
     "output_type": "stream",
     "text": [
      "2024-03-25 10:56:33.238012: I metal_plugin/src/device/metal_device.cc:1154] Metal device set to: Apple M1 Max\n",
      "2024-03-25 10:56:33.238045: I metal_plugin/src/device/metal_device.cc:296] systemMemory: 32.00 GB\n",
      "2024-03-25 10:56:33.238053: I metal_plugin/src/device/metal_device.cc:313] maxCacheSize: 10.67 GB\n",
      "2024-03-25 10:56:33.238250: I tensorflow/core/common_runtime/pluggable_device/pluggable_device_factory.cc:305] Could not identify NUMA node of platform GPU ID 0, defaulting to 0. Your kernel may not have been built with NUMA support.\n",
      "2024-03-25 10:56:33.238269: I tensorflow/core/common_runtime/pluggable_device/pluggable_device_factory.cc:271] Created TensorFlow device (/job:localhost/replica:0/task:0/device:GPU:0 with 0 MB memory) -> physical PluggableDevice (device: 0, name: METAL, pci bus id: <undefined>)\n",
      "2024-03-25 10:56:34.116503: I tensorflow/core/grappler/optimizers/custom_graph_optimizer_registry.cc:117] Plugin optimizer for device_type GPU is enabled.\n"
     ]
    },
    {
     "name": "stdout",
     "output_type": "stream",
     "text": [
      "\u001B[1m59/59\u001B[0m \u001B[32m━━━━━━━━━━━━━━━━━━━━\u001B[0m\u001B[37m\u001B[0m \u001B[1m5s\u001B[0m 40ms/step - accuracy: 0.1592 - loss: 2.3826 - val_accuracy: 0.1946 - val_loss: 2.1790\n",
      "Epoch 2/30\n",
      "\u001B[1m59/59\u001B[0m \u001B[32m━━━━━━━━━━━━━━━━━━━━\u001B[0m\u001B[37m\u001B[0m \u001B[1m2s\u001B[0m 28ms/step - accuracy: 0.3248 - loss: 1.8707 - val_accuracy: 0.1242 - val_loss: 2.4228\n",
      "Epoch 3/30\n",
      "\u001B[1m59/59\u001B[0m \u001B[32m━━━━━━━━━━━━━━━━━━━━\u001B[0m\u001B[37m\u001B[0m \u001B[1m2s\u001B[0m 27ms/step - accuracy: 0.3813 - loss: 1.7012 - val_accuracy: 0.1335 - val_loss: 2.5808\n",
      "Epoch 4/30\n",
      "\u001B[1m59/59\u001B[0m \u001B[32m━━━━━━━━━━━━━━━━━━━━\u001B[0m\u001B[37m\u001B[0m \u001B[1m2s\u001B[0m 28ms/step - accuracy: 0.4134 - loss: 1.5999 - val_accuracy: 0.1292 - val_loss: 2.6956\n",
      "Epoch 5/30\n",
      "\u001B[1m59/59\u001B[0m \u001B[32m━━━━━━━━━━━━━━━━━━━━\u001B[0m\u001B[37m\u001B[0m \u001B[1m2s\u001B[0m 27ms/step - accuracy: 0.4453 - loss: 1.5188 - val_accuracy: 0.1500 - val_loss: 2.6087\n",
      "Epoch 6/30\n",
      "\u001B[1m59/59\u001B[0m \u001B[32m━━━━━━━━━━━━━━━━━━━━\u001B[0m\u001B[37m\u001B[0m \u001B[1m2s\u001B[0m 28ms/step - accuracy: 0.4639 - loss: 1.4643 - val_accuracy: 0.1999 - val_loss: 2.5127\n",
      "Epoch 7/30\n",
      "\u001B[1m59/59\u001B[0m \u001B[32m━━━━━━━━━━━━━━━━━━━━\u001B[0m\u001B[37m\u001B[0m \u001B[1m2s\u001B[0m 28ms/step - accuracy: 0.4845 - loss: 1.4086 - val_accuracy: 0.3165 - val_loss: 1.9635\n",
      "Epoch 8/30\n",
      "\u001B[1m59/59\u001B[0m \u001B[32m━━━━━━━━━━━━━━━━━━━━\u001B[0m\u001B[37m\u001B[0m \u001B[1m2s\u001B[0m 27ms/step - accuracy: 0.4903 - loss: 1.3890 - val_accuracy: 0.3986 - val_loss: 1.6777\n",
      "Epoch 9/30\n",
      "\u001B[1m59/59\u001B[0m \u001B[32m━━━━━━━━━━━━━━━━━━━━\u001B[0m\u001B[37m\u001B[0m \u001B[1m2s\u001B[0m 28ms/step - accuracy: 0.5073 - loss: 1.3523 - val_accuracy: 0.4630 - val_loss: 1.4715\n",
      "Epoch 10/30\n",
      "\u001B[1m59/59\u001B[0m \u001B[32m━━━━━━━━━━━━━━━━━━━━\u001B[0m\u001B[37m\u001B[0m \u001B[1m2s\u001B[0m 27ms/step - accuracy: 0.5186 - loss: 1.3186 - val_accuracy: 0.4802 - val_loss: 1.4468\n",
      "Epoch 11/30\n",
      "\u001B[1m59/59\u001B[0m \u001B[32m━━━━━━━━━━━━━━━━━━━━\u001B[0m\u001B[37m\u001B[0m \u001B[1m2s\u001B[0m 30ms/step - accuracy: 0.5315 - loss: 1.2907 - val_accuracy: 0.5598 - val_loss: 1.2285\n",
      "Epoch 12/30\n",
      "\u001B[1m59/59\u001B[0m \u001B[32m━━━━━━━━━━━━━━━━━━━━\u001B[0m\u001B[37m\u001B[0m \u001B[1m2s\u001B[0m 28ms/step - accuracy: 0.5383 - loss: 1.2682 - val_accuracy: 0.4975 - val_loss: 1.4070\n",
      "Epoch 13/30\n",
      "\u001B[1m59/59\u001B[0m \u001B[32m━━━━━━━━━━━━━━━━━━━━\u001B[0m\u001B[37m\u001B[0m \u001B[1m2s\u001B[0m 29ms/step - accuracy: 0.5448 - loss: 1.2582 - val_accuracy: 0.5607 - val_loss: 1.2184\n",
      "Epoch 14/30\n",
      "\u001B[1m59/59\u001B[0m \u001B[32m━━━━━━━━━━━━━━━━━━━━\u001B[0m\u001B[37m\u001B[0m \u001B[1m2s\u001B[0m 28ms/step - accuracy: 0.5601 - loss: 1.2250 - val_accuracy: 0.5403 - val_loss: 1.2713\n",
      "Epoch 15/30\n",
      "\u001B[1m59/59\u001B[0m \u001B[32m━━━━━━━━━━━━━━━━━━━━\u001B[0m\u001B[37m\u001B[0m \u001B[1m2s\u001B[0m 27ms/step - accuracy: 0.5566 - loss: 1.2238 - val_accuracy: 0.5719 - val_loss: 1.1871\n",
      "Epoch 16/30\n",
      "\u001B[1m59/59\u001B[0m \u001B[32m━━━━━━━━━━━━━━━━━━━━\u001B[0m\u001B[37m\u001B[0m \u001B[1m2s\u001B[0m 30ms/step - accuracy: 0.5719 - loss: 1.1921 - val_accuracy: 0.5580 - val_loss: 1.2161\n",
      "Epoch 17/30\n",
      "\u001B[1m59/59\u001B[0m \u001B[32m━━━━━━━━━━━━━━━━━━━━\u001B[0m\u001B[37m\u001B[0m \u001B[1m2s\u001B[0m 31ms/step - accuracy: 0.5789 - loss: 1.1775 - val_accuracy: 0.6132 - val_loss: 1.0853\n",
      "Epoch 18/30\n",
      "\u001B[1m59/59\u001B[0m \u001B[32m━━━━━━━━━━━━━━━━━━━━\u001B[0m\u001B[37m\u001B[0m \u001B[1m2s\u001B[0m 28ms/step - accuracy: 0.5819 - loss: 1.1650 - val_accuracy: 0.5620 - val_loss: 1.2359\n",
      "Epoch 19/30\n",
      "\u001B[1m59/59\u001B[0m \u001B[32m━━━━━━━━━━━━━━━━━━━━\u001B[0m\u001B[37m\u001B[0m \u001B[1m2s\u001B[0m 27ms/step - accuracy: 0.5896 - loss: 1.1391 - val_accuracy: 0.6228 - val_loss: 1.0552\n",
      "Epoch 20/30\n",
      "\u001B[1m59/59\u001B[0m \u001B[32m━━━━━━━━━━━━━━━━━━━━\u001B[0m\u001B[37m\u001B[0m \u001B[1m2s\u001B[0m 28ms/step - accuracy: 0.5930 - loss: 1.1365 - val_accuracy: 0.5990 - val_loss: 1.0993\n",
      "Epoch 21/30\n",
      "\u001B[1m59/59\u001B[0m \u001B[32m━━━━━━━━━━━━━━━━━━━━\u001B[0m\u001B[37m\u001B[0m \u001B[1m2s\u001B[0m 28ms/step - accuracy: 0.5920 - loss: 1.1318 - val_accuracy: 0.5128 - val_loss: 1.4175\n",
      "Epoch 22/30\n",
      "\u001B[1m59/59\u001B[0m \u001B[32m━━━━━━━━━━━━━━━━━━━━\u001B[0m\u001B[37m\u001B[0m \u001B[1m2s\u001B[0m 28ms/step - accuracy: 0.6034 - loss: 1.1090 - val_accuracy: 0.5824 - val_loss: 1.1614\n",
      "Epoch 23/30\n",
      "\u001B[1m59/59\u001B[0m \u001B[32m━━━━━━━━━━━━━━━━━━━━\u001B[0m\u001B[37m\u001B[0m \u001B[1m2s\u001B[0m 28ms/step - accuracy: 0.6034 - loss: 1.0941 - val_accuracy: 0.6127 - val_loss: 1.0852\n",
      "Epoch 24/30\n",
      "\u001B[1m59/59\u001B[0m \u001B[32m━━━━━━━━━━━━━━━━━━━━\u001B[0m\u001B[37m\u001B[0m \u001B[1m2s\u001B[0m 28ms/step - accuracy: 0.6039 - loss: 1.0926 - val_accuracy: 0.6314 - val_loss: 1.0326\n",
      "Epoch 25/30\n",
      "\u001B[1m59/59\u001B[0m \u001B[32m━━━━━━━━━━━━━━━━━━━━\u001B[0m\u001B[37m\u001B[0m \u001B[1m2s\u001B[0m 28ms/step - accuracy: 0.6085 - loss: 1.0897 - val_accuracy: 0.6135 - val_loss: 1.0827\n",
      "Epoch 26/30\n",
      "\u001B[1m59/59\u001B[0m \u001B[32m━━━━━━━━━━━━━━━━━━━━\u001B[0m\u001B[37m\u001B[0m \u001B[1m2s\u001B[0m 28ms/step - accuracy: 0.6201 - loss: 1.0650 - val_accuracy: 0.5218 - val_loss: 1.3898\n",
      "Epoch 27/30\n",
      "\u001B[1m59/59\u001B[0m \u001B[32m━━━━━━━━━━━━━━━━━━━━\u001B[0m\u001B[37m\u001B[0m \u001B[1m2s\u001B[0m 28ms/step - accuracy: 0.6154 - loss: 1.0767 - val_accuracy: 0.6337 - val_loss: 1.0381\n",
      "Epoch 28/30\n",
      "\u001B[1m59/59\u001B[0m \u001B[32m━━━━━━━━━━━━━━━━━━━━\u001B[0m\u001B[37m\u001B[0m \u001B[1m2s\u001B[0m 28ms/step - accuracy: 0.6172 - loss: 1.0617 - val_accuracy: 0.5901 - val_loss: 1.1470\n",
      "Epoch 29/30\n",
      "\u001B[1m59/59\u001B[0m \u001B[32m━━━━━━━━━━━━━━━━━━━━\u001B[0m\u001B[37m\u001B[0m \u001B[1m2s\u001B[0m 28ms/step - accuracy: 0.6238 - loss: 1.0510 - val_accuracy: 0.6289 - val_loss: 1.0447\n",
      "Epoch 30/30\n",
      "\u001B[1m59/59\u001B[0m \u001B[32m━━━━━━━━━━━━━━━━━━━━\u001B[0m\u001B[37m\u001B[0m \u001B[1m2s\u001B[0m 28ms/step - accuracy: 0.6283 - loss: 1.0388 - val_accuracy: 0.6321 - val_loss: 1.0373\n"
     ]
    }
   ],
   "source": [
    "assessment_model = ClassifierModel(output_shape=n_classes, **models_hyperparameters[\"assessment_model\"])\n",
    "\n",
    "assessment_model.compile(optimizer=\"adam\", loss=loss, metrics=[\"accuracy\"])\n",
    "\n",
    "history = assessment_model.fit(x_train, y_train, validation_data=(x_val, y_val), epochs=N_EPOCHS, batch_size=BATCH_SIZE)"
   ],
   "metadata": {
    "collapsed": false,
    "ExecuteTime": {
     "end_time": "2024-03-25T09:57:27.161266Z",
     "start_time": "2024-03-25T09:56:33.229773Z"
    }
   },
   "id": "a9a8434121f1fa9c",
   "execution_count": 6
  },
  {
   "cell_type": "code",
   "outputs": [
    {
     "name": "stdout",
     "output_type": "stream",
     "text": [
      "\u001B[1m313/313\u001B[0m \u001B[32m━━━━━━━━━━━━━━━━━━━━\u001B[0m\u001B[37m\u001B[0m \u001B[1m2s\u001B[0m 6ms/step - accuracy: 0.6241 - loss: 1.0372\n"
     ]
    },
    {
     "data": {
      "text/plain": "[1.029136061668396, 0.6295999884605408]"
     },
     "execution_count": 7,
     "metadata": {},
     "output_type": "execute_result"
    }
   ],
   "source": [
    "assessment_model.evaluate(x_test, y_test)"
   ],
   "metadata": {
    "collapsed": false,
    "ExecuteTime": {
     "end_time": "2024-03-25T09:57:29.084554Z",
     "start_time": "2024-03-25T09:57:27.162393Z"
    }
   },
   "id": "cef7b1534c52da82",
   "execution_count": 7
  },
  {
   "cell_type": "code",
   "outputs": [],
   "source": [
    "assessment_model.save_weights('../models/assessment_model.weights.h5')"
   ],
   "metadata": {
    "collapsed": false,
    "ExecuteTime": {
     "end_time": "2024-03-25T09:57:29.128873Z",
     "start_time": "2024-03-25T09:57:29.085312Z"
    }
   },
   "id": "ca876979baa26aa3",
   "execution_count": 8
  },
  {
   "cell_type": "code",
   "outputs": [],
   "source": [],
   "metadata": {
    "collapsed": false,
    "ExecuteTime": {
     "end_time": "2024-03-24T16:18:31.469344Z",
     "start_time": "2024-03-24T16:18:31.467788Z"
    }
   },
   "id": "259bc8e87289fa6a",
   "execution_count": 8
  }
 ],
 "metadata": {
  "kernelspec": {
   "display_name": "Python 3",
   "language": "python",
   "name": "python3"
  },
  "language_info": {
   "codemirror_mode": {
    "name": "ipython",
    "version": 2
   },
   "file_extension": ".py",
   "mimetype": "text/x-python",
   "name": "python",
   "nbconvert_exporter": "python",
   "pygments_lexer": "ipython2",
   "version": "2.7.6"
  }
 },
 "nbformat": 4,
 "nbformat_minor": 5
}
