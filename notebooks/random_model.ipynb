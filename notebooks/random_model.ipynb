{
 "cells": [
  {
   "cell_type": "code",
   "execution_count": 125,
   "id": "initial_id",
   "metadata": {
    "collapsed": true,
    "ExecuteTime": {
     "end_time": "2024-02-20T18:50:43.899075Z",
     "start_time": "2024-02-20T18:50:43.889010Z"
    }
   },
   "outputs": [],
   "source": [
    "import numpy as np\n",
    "import tensorflow as tf\n",
    "from curriculum_learning.models.classifier_model import ClassifierModel\n",
    "from curriculum_learning import utils\n",
    "import yaml\n",
    "from tqdm import tqdm\n",
    "from sklearn.model_selection import train_test_split"
   ]
  },
  {
   "cell_type": "code",
   "execution_count": 126,
   "outputs": [],
   "source": [
    "N_EPOCHS = 50\n",
    "N_TRIALS = 3\n",
    "BATCH_SIZE = 256\n",
    "\n",
    "loss = tf.keras.losses.SparseCategoricalCrossentropy()"
   ],
   "metadata": {
    "collapsed": false,
    "ExecuteTime": {
     "end_time": "2024-02-20T18:50:44.108338Z",
     "start_time": "2024-02-20T18:50:44.099614Z"
    }
   },
   "id": "5ba619241c769e59"
  },
  {
   "cell_type": "code",
   "execution_count": 127,
   "outputs": [],
   "source": [
    "with open(\"models_hyperparameters.yaml\", \"r\") as stream:\n",
    "    models_hyperparameters = yaml.safe_load(stream)\n",
    "    \n",
    "x, y = utils.load_data(\"../data/cifar-10-batches-py/data_batch_1\")\n",
    "x_train, x_test, y_train, y_test = train_test_split(x, y, test_size=0.3, random_state=42)\n",
    "x_test, x_val, y_test, y_val = train_test_split(x_test, y_test, test_size=0.5, random_state=42)\n",
    "\n",
    "train_size = x_train.shape[0]"
   ],
   "metadata": {
    "collapsed": false,
    "ExecuteTime": {
     "end_time": "2024-02-20T18:50:44.387146Z",
     "start_time": "2024-02-20T18:50:44.324107Z"
    }
   },
   "id": "869132b068be0fff"
  },
  {
   "cell_type": "code",
   "execution_count": 128,
   "outputs": [],
   "source": [
    "noise = 30\n",
    "x_train = np.clip(x_train + np.random.normal(0, noise, x_train.shape), 0, 255) / 255\n",
    "x_val = np.clip(x_val + np.random.normal(0, noise, x_val.shape), 0, 255) / 255\n",
    "x_test = np.clip(x_test + np.random.normal(0, noise, x_test.shape), 0, 255) / 255"
   ],
   "metadata": {
    "collapsed": false,
    "ExecuteTime": {
     "end_time": "2024-02-20T18:50:45.294398Z",
     "start_time": "2024-02-20T18:50:44.619759Z"
    }
   },
   "id": "81d8245d180ef70f"
  },
  {
   "cell_type": "code",
   "execution_count": 129,
   "outputs": [],
   "source": [
    "results = {}\n",
    "\n",
    "# test_models = [\"test_model_1\", \"test_model_2\", \"test_model_3\"]\n",
    "test_models = [\"test_model_1\"]"
   ],
   "metadata": {
    "collapsed": false,
    "ExecuteTime": {
     "end_time": "2024-02-20T18:50:45.522591Z",
     "start_time": "2024-02-20T18:50:45.515516Z"
    }
   },
   "id": "92315aab6b5898bf"
  },
  {
   "cell_type": "code",
   "execution_count": 130,
   "outputs": [],
   "source": [
    "early_stopping = tf.keras.callbacks.EarlyStopping(monitor='val_loss', patience=5)"
   ],
   "metadata": {
    "collapsed": false,
    "ExecuteTime": {
     "end_time": "2024-02-20T18:50:46.488876Z",
     "start_time": "2024-02-20T18:50:46.482792Z"
    }
   },
   "id": "e87e49b3ac1e4e5"
  },
  {
   "cell_type": "code",
   "execution_count": 131,
   "outputs": [
    {
     "name": "stdout",
     "output_type": "stream",
     "text": [
      "test_model_1\n"
     ]
    },
    {
     "name": "stderr",
     "output_type": "stream",
     "text": [
      "  0%|          | 0/3 [00:00<?, ?it/s]"
     ]
    },
    {
     "name": "stdout",
     "output_type": "stream",
     "text": [
      "3/3 [==============================] - 1s 111ms/step - loss: 2.6399 - accuracy: 0.1111 - val_loss: 2.3050 - val_accuracy: 0.1033\n",
      "5/5 [==============================] - 0s 50ms/step - loss: 2.6281 - accuracy: 0.1261 - val_loss: 2.3009 - val_accuracy: 0.1073\n",
      "7/7 [==============================] - 0s 39ms/step - loss: 2.5894 - accuracy: 0.1056 - val_loss: 2.2965 - val_accuracy: 0.1327\n",
      "9/9 [==============================] - 0s 35ms/step - loss: 2.5218 - accuracy: 0.1223 - val_loss: 2.2903 - val_accuracy: 0.1360\n",
      "11/11 [==============================] - 0s 34ms/step - loss: 2.4466 - accuracy: 0.1425 - val_loss: 2.2776 - val_accuracy: 0.1393\n",
      "13/13 [==============================] - 0s 35ms/step - loss: 2.3603 - accuracy: 0.1585 - val_loss: 2.2584 - val_accuracy: 0.1380\n",
      "14/14 [==============================] - 1s 37ms/step - loss: 2.2899 - accuracy: 0.1767 - val_loss: 2.2327 - val_accuracy: 0.1440\n",
      "16/16 [==============================] - 1s 32ms/step - loss: 2.2196 - accuracy: 0.2031 - val_loss: 2.2053 - val_accuracy: 0.1760\n",
      "17/17 [==============================] - 1s 32ms/step - loss: 2.1328 - accuracy: 0.2267 - val_loss: 2.1691 - val_accuracy: 0.1940\n",
      "19/19 [==============================] - 1s 32ms/step - loss: 2.0912 - accuracy: 0.2388 - val_loss: 2.1413 - val_accuracy: 0.2147\n",
      "20/20 [==============================] - 1s 31ms/step - loss: 2.0431 - accuracy: 0.2494 - val_loss: 2.1093 - val_accuracy: 0.2213\n",
      "21/21 [==============================] - 1s 31ms/step - loss: 1.9875 - accuracy: 0.2713 - val_loss: 2.0987 - val_accuracy: 0.2140\n",
      "22/22 [==============================] - 1s 31ms/step - loss: 1.9369 - accuracy: 0.2880 - val_loss: 2.0810 - val_accuracy: 0.2087\n",
      "23/23 [==============================] - 1s 30ms/step - loss: 1.8986 - accuracy: 0.3047 - val_loss: 2.1876 - val_accuracy: 0.1880\n",
      "23/23 [==============================] - 1s 33ms/step - loss: 1.8723 - accuracy: 0.3032 - val_loss: 2.4090 - val_accuracy: 0.1420\n",
      "24/24 [==============================] - 1s 34ms/step - loss: 1.8392 - accuracy: 0.3241 - val_loss: 2.2731 - val_accuracy: 0.1893\n",
      "24/24 [==============================] - 1s 40ms/step - loss: 1.8121 - accuracy: 0.3339 - val_loss: 2.2498 - val_accuracy: 0.2000\n",
      "25/25 [==============================] - 1s 38ms/step - loss: 1.7795 - accuracy: 0.3528 - val_loss: 2.1704 - val_accuracy: 0.2253\n",
      "25/25 [==============================] - 1s 39ms/step - loss: 1.7612 - accuracy: 0.3509 - val_loss: 2.1202 - val_accuracy: 0.2433\n",
      "26/26 [==============================] - 1s 31ms/step - loss: 1.7412 - accuracy: 0.3528 - val_loss: 2.3638 - val_accuracy: 0.2113\n",
      "26/26 [==============================] - 1s 31ms/step - loss: 1.7165 - accuracy: 0.3651 - val_loss: 1.8689 - val_accuracy: 0.3360\n",
      "26/26 [==============================] - 1s 32ms/step - loss: 1.6979 - accuracy: 0.3818 - val_loss: 1.8797 - val_accuracy: 0.3340\n",
      "26/26 [==============================] - 1s 31ms/step - loss: 1.6724 - accuracy: 0.3815 - val_loss: 1.9275 - val_accuracy: 0.3260\n",
      "27/27 [==============================] - 1s 32ms/step - loss: 1.6440 - accuracy: 0.4027 - val_loss: 1.7388 - val_accuracy: 0.3780\n",
      "27/27 [==============================] - 1s 32ms/step - loss: 1.6250 - accuracy: 0.3989 - val_loss: 1.6026 - val_accuracy: 0.4140\n",
      "27/27 [==============================] - 1s 33ms/step - loss: 1.6142 - accuracy: 0.3999 - val_loss: 1.5790 - val_accuracy: 0.4200\n",
      "27/27 [==============================] - 1s 34ms/step - loss: 1.5791 - accuracy: 0.4161 - val_loss: 1.6344 - val_accuracy: 0.4113\n",
      "27/27 [==============================] - 1s 34ms/step - loss: 1.5735 - accuracy: 0.4232 - val_loss: 1.5707 - val_accuracy: 0.4287\n",
      "27/27 [==============================] - 1s 34ms/step - loss: 1.5679 - accuracy: 0.4196 - val_loss: 1.4986 - val_accuracy: 0.4573\n",
      "27/27 [==============================] - 1s 33ms/step - loss: 1.5480 - accuracy: 0.4241 - val_loss: 1.4677 - val_accuracy: 0.4667\n",
      "27/27 [==============================] - 1s 31ms/step - loss: 1.5201 - accuracy: 0.4438 - val_loss: 1.5496 - val_accuracy: 0.4393\n",
      "28/28 [==============================] - 1s 31ms/step - loss: 1.5169 - accuracy: 0.4422 - val_loss: 1.4148 - val_accuracy: 0.4827\n",
      "28/28 [==============================] - 1s 30ms/step - loss: 1.5339 - accuracy: 0.4383 - val_loss: 1.4640 - val_accuracy: 0.4613\n",
      "28/28 [==============================] - 1s 31ms/step - loss: 1.5039 - accuracy: 0.4504 - val_loss: 1.5090 - val_accuracy: 0.4653\n",
      "28/28 [==============================] - 1s 31ms/step - loss: 1.4848 - accuracy: 0.4552 - val_loss: 1.3991 - val_accuracy: 0.4940\n",
      "28/28 [==============================] - 1s 31ms/step - loss: 1.4685 - accuracy: 0.4620 - val_loss: 1.4225 - val_accuracy: 0.4873\n",
      "28/28 [==============================] - 1s 33ms/step - loss: 1.4634 - accuracy: 0.4639 - val_loss: 1.4110 - val_accuracy: 0.4933\n",
      "28/28 [==============================] - 1s 34ms/step - loss: 1.4336 - accuracy: 0.4726 - val_loss: 1.3893 - val_accuracy: 0.4873\n",
      "28/28 [==============================] - 1s 36ms/step - loss: 1.4387 - accuracy: 0.4799 - val_loss: 1.3950 - val_accuracy: 0.5060\n",
      "28/28 [==============================] - 1s 42ms/step - loss: 1.4211 - accuracy: 0.4752 - val_loss: 1.3622 - val_accuracy: 0.5093\n",
      "28/28 [==============================] - 1s 50ms/step - loss: 1.4175 - accuracy: 0.4870 - val_loss: 1.3643 - val_accuracy: 0.5067\n",
      "28/28 [==============================] - 1s 53ms/step - loss: 1.4123 - accuracy: 0.4837 - val_loss: 1.3785 - val_accuracy: 0.4953\n",
      "28/28 [==============================] - 2s 62ms/step - loss: 1.3993 - accuracy: 0.4926 - val_loss: 1.3610 - val_accuracy: 0.5187\n",
      "28/28 [==============================] - 2s 60ms/step - loss: 1.4112 - accuracy: 0.4802 - val_loss: 1.3756 - val_accuracy: 0.5040\n",
      "28/28 [==============================] - 2s 58ms/step - loss: 1.3818 - accuracy: 0.4885 - val_loss: 1.3857 - val_accuracy: 0.5040\n",
      "28/28 [==============================] - 2s 56ms/step - loss: 1.3717 - accuracy: 0.4959 - val_loss: 1.4437 - val_accuracy: 0.5000\n",
      "28/28 [==============================] - 1s 49ms/step - loss: 1.3645 - accuracy: 0.4983 - val_loss: 1.4253 - val_accuracy: 0.4953\n",
      "28/28 [==============================] - 1s 52ms/step - loss: 1.3557 - accuracy: 0.5066 - val_loss: 1.3807 - val_accuracy: 0.5073\n",
      "28/28 [==============================] - 1s 49ms/step - loss: 1.3366 - accuracy: 0.5084 - val_loss: 1.4234 - val_accuracy: 0.4993\n",
      "28/28 [==============================] - 1s 51ms/step - loss: 1.3416 - accuracy: 0.5079 - val_loss: 1.3547 - val_accuracy: 0.5193\n",
      "6/6 [==============================] - 0s 13ms/step - loss: 1.3288 - accuracy: 0.5027\n"
     ]
    },
    {
     "name": "stderr",
     "output_type": "stream",
     "text": [
      " 33%|███▎      | 1/3 [00:50<01:41, 50.61s/it]"
     ]
    },
    {
     "name": "stdout",
     "output_type": "stream",
     "text": [
      "3/3 [==============================] - 3s 180ms/step - loss: 2.7202 - accuracy: 0.1129 - val_loss: 2.3023 - val_accuracy: 0.0800\n",
      "5/5 [==============================] - 0s 65ms/step - loss: 2.7318 - accuracy: 0.1081 - val_loss: 2.3002 - val_accuracy: 0.1387\n",
      "7/7 [==============================] - 0s 61ms/step - loss: 2.6204 - accuracy: 0.1147 - val_loss: 2.2995 - val_accuracy: 0.1393\n",
      "9/9 [==============================] - 0s 55ms/step - loss: 2.5809 - accuracy: 0.1205 - val_loss: 2.2962 - val_accuracy: 0.1447\n",
      "11/11 [==============================] - 1s 55ms/step - loss: 2.4525 - accuracy: 0.1501 - val_loss: 2.2926 - val_accuracy: 0.1527\n",
      "13/13 [==============================] - 1s 48ms/step - loss: 2.3250 - accuracy: 0.1774 - val_loss: 2.2858 - val_accuracy: 0.1673\n",
      "14/14 [==============================] - 1s 56ms/step - loss: 2.2739 - accuracy: 0.1986 - val_loss: 2.2742 - val_accuracy: 0.1780\n",
      "16/16 [==============================] - 1s 56ms/step - loss: 2.1781 - accuracy: 0.2112 - val_loss: 2.2596 - val_accuracy: 0.1767\n",
      "17/17 [==============================] - 1s 56ms/step - loss: 2.0933 - accuracy: 0.2402 - val_loss: 2.2529 - val_accuracy: 0.1640\n",
      "19/19 [==============================] - 1s 53ms/step - loss: 2.0561 - accuracy: 0.2513 - val_loss: 2.2350 - val_accuracy: 0.1753\n",
      "20/20 [==============================] - 1s 61ms/step - loss: 2.0059 - accuracy: 0.2581 - val_loss: 2.2064 - val_accuracy: 0.1820\n",
      "21/21 [==============================] - 1s 57ms/step - loss: 1.9593 - accuracy: 0.2816 - val_loss: 2.1821 - val_accuracy: 0.1833\n",
      "22/22 [==============================] - 1s 53ms/step - loss: 1.9142 - accuracy: 0.2973 - val_loss: 2.1652 - val_accuracy: 0.1887\n",
      "23/23 [==============================] - 1s 49ms/step - loss: 1.8663 - accuracy: 0.3201 - val_loss: 2.1425 - val_accuracy: 0.1953\n",
      "23/23 [==============================] - 1s 52ms/step - loss: 1.8630 - accuracy: 0.3160 - val_loss: 2.1709 - val_accuracy: 0.1967\n",
      "24/24 [==============================] - 1s 51ms/step - loss: 1.8214 - accuracy: 0.3353 - val_loss: 2.1465 - val_accuracy: 0.2140\n",
      "24/24 [==============================] - 1s 53ms/step - loss: 1.7982 - accuracy: 0.3386 - val_loss: 2.0956 - val_accuracy: 0.2287\n",
      "25/25 [==============================] - 1s 55ms/step - loss: 1.7795 - accuracy: 0.3445 - val_loss: 2.0631 - val_accuracy: 0.2367\n",
      "25/25 [==============================] - 1s 56ms/step - loss: 1.7621 - accuracy: 0.3571 - val_loss: 2.0375 - val_accuracy: 0.2513\n",
      "26/26 [==============================] - 1s 56ms/step - loss: 1.7121 - accuracy: 0.3655 - val_loss: 1.9782 - val_accuracy: 0.2740\n",
      "26/26 [==============================] - 1s 51ms/step - loss: 1.6975 - accuracy: 0.3778 - val_loss: 1.9571 - val_accuracy: 0.2827\n",
      "26/26 [==============================] - 1s 56ms/step - loss: 1.6946 - accuracy: 0.3727 - val_loss: 1.9054 - val_accuracy: 0.2993\n",
      "26/26 [==============================] - 2s 58ms/step - loss: 1.6459 - accuracy: 0.3938 - val_loss: 1.7441 - val_accuracy: 0.3600\n",
      "27/27 [==============================] - 1s 54ms/step - loss: 1.6430 - accuracy: 0.3915 - val_loss: 1.7750 - val_accuracy: 0.3453\n",
      "27/27 [==============================] - 1s 53ms/step - loss: 1.6184 - accuracy: 0.4028 - val_loss: 1.7893 - val_accuracy: 0.3427\n",
      "27/27 [==============================] - 1s 53ms/step - loss: 1.6140 - accuracy: 0.4083 - val_loss: 1.6882 - val_accuracy: 0.3773\n",
      "27/27 [==============================] - 1s 55ms/step - loss: 1.5818 - accuracy: 0.4196 - val_loss: 1.7498 - val_accuracy: 0.3840\n",
      "27/27 [==============================] - 2s 65ms/step - loss: 1.5745 - accuracy: 0.4196 - val_loss: 1.5232 - val_accuracy: 0.4413\n",
      "27/27 [==============================] - 1s 50ms/step - loss: 1.5444 - accuracy: 0.4297 - val_loss: 1.5295 - val_accuracy: 0.4393\n",
      "27/27 [==============================] - 2s 57ms/step - loss: 1.5433 - accuracy: 0.4298 - val_loss: 1.5311 - val_accuracy: 0.4433\n",
      "27/27 [==============================] - 2s 58ms/step - loss: 1.5340 - accuracy: 0.4252 - val_loss: 1.5149 - val_accuracy: 0.4473\n",
      "28/28 [==============================] - 1s 53ms/step - loss: 1.5179 - accuracy: 0.4442 - val_loss: 1.4370 - val_accuracy: 0.4707\n",
      "28/28 [==============================] - 1s 53ms/step - loss: 1.5320 - accuracy: 0.4376 - val_loss: 1.4875 - val_accuracy: 0.4440\n",
      "28/28 [==============================] - 1s 50ms/step - loss: 1.4957 - accuracy: 0.4475 - val_loss: 1.5360 - val_accuracy: 0.4567\n",
      "28/28 [==============================] - 1s 49ms/step - loss: 1.4820 - accuracy: 0.4541 - val_loss: 1.4671 - val_accuracy: 0.4807\n",
      "28/28 [==============================] - 1s 53ms/step - loss: 1.4654 - accuracy: 0.4616 - val_loss: 1.4450 - val_accuracy: 0.4813\n",
      "28/28 [==============================] - 2s 54ms/step - loss: 1.4693 - accuracy: 0.4581 - val_loss: 1.4267 - val_accuracy: 0.4667\n",
      "28/28 [==============================] - 2s 56ms/step - loss: 1.4494 - accuracy: 0.4735 - val_loss: 1.4225 - val_accuracy: 0.4873\n",
      "28/28 [==============================] - 2s 57ms/step - loss: 1.4404 - accuracy: 0.4697 - val_loss: 1.4319 - val_accuracy: 0.4880\n",
      "28/28 [==============================] - 1s 52ms/step - loss: 1.4301 - accuracy: 0.4796 - val_loss: 1.4684 - val_accuracy: 0.4867\n",
      "28/28 [==============================] - 1s 49ms/step - loss: 1.4164 - accuracy: 0.4787 - val_loss: 1.5682 - val_accuracy: 0.4613\n",
      "28/28 [==============================] - 1s 50ms/step - loss: 1.4055 - accuracy: 0.4833 - val_loss: 1.4424 - val_accuracy: 0.4813\n",
      "28/28 [==============================] - 1s 52ms/step - loss: 1.4033 - accuracy: 0.4829 - val_loss: 1.7220 - val_accuracy: 0.4233\n",
      "28/28 [==============================] - 2s 61ms/step - loss: 1.3937 - accuracy: 0.4951 - val_loss: 1.4125 - val_accuracy: 0.5013\n",
      "28/28 [==============================] - 2s 54ms/step - loss: 1.3836 - accuracy: 0.4969 - val_loss: 1.4466 - val_accuracy: 0.4880\n",
      "28/28 [==============================] - 1s 48ms/step - loss: 1.3775 - accuracy: 0.4938 - val_loss: 1.4006 - val_accuracy: 0.5107\n",
      "28/28 [==============================] - 1s 36ms/step - loss: 1.3517 - accuracy: 0.5009 - val_loss: 1.4355 - val_accuracy: 0.4900\n",
      "28/28 [==============================] - 1s 34ms/step - loss: 1.3605 - accuracy: 0.5008 - val_loss: 1.3869 - val_accuracy: 0.5007\n",
      "28/28 [==============================] - 1s 36ms/step - loss: 1.3523 - accuracy: 0.5043 - val_loss: 1.4367 - val_accuracy: 0.4927\n",
      "28/28 [==============================] - 1s 36ms/step - loss: 1.3352 - accuracy: 0.4979 - val_loss: 1.4885 - val_accuracy: 0.4847\n",
      "6/6 [==============================] - 0s 10ms/step - loss: 1.4661 - accuracy: 0.4673\n"
     ]
    },
    {
     "name": "stderr",
     "output_type": "stream",
     "text": [
      " 67%|██████▋   | 2/3 [02:01<01:02, 62.81s/it]"
     ]
    },
    {
     "name": "stdout",
     "output_type": "stream",
     "text": [
      "3/3 [==============================] - 1s 99ms/step - loss: 2.7855 - accuracy: 0.1004 - val_loss: 2.3014 - val_accuracy: 0.1127\n",
      "5/5 [==============================] - 0s 53ms/step - loss: 2.7263 - accuracy: 0.0955 - val_loss: 2.2999 - val_accuracy: 0.1067\n",
      "7/7 [==============================] - 0s 47ms/step - loss: 2.6458 - accuracy: 0.1086 - val_loss: 2.2997 - val_accuracy: 0.1013\n",
      "9/9 [==============================] - 0s 43ms/step - loss: 2.5836 - accuracy: 0.1099 - val_loss: 2.2960 - val_accuracy: 0.1140\n",
      "11/11 [==============================] - 0s 40ms/step - loss: 2.4973 - accuracy: 0.1275 - val_loss: 2.2827 - val_accuracy: 0.1160\n",
      "13/13 [==============================] - 1s 39ms/step - loss: 2.3828 - accuracy: 0.1595 - val_loss: 2.2655 - val_accuracy: 0.1480\n",
      "14/14 [==============================] - 1s 44ms/step - loss: 2.3022 - accuracy: 0.1803 - val_loss: 2.2526 - val_accuracy: 0.1660\n",
      "16/16 [==============================] - 1s 50ms/step - loss: 2.2359 - accuracy: 0.2038 - val_loss: 2.2455 - val_accuracy: 0.1647\n",
      "17/17 [==============================] - 1s 51ms/step - loss: 2.1395 - accuracy: 0.2239 - val_loss: 2.2363 - val_accuracy: 0.1600\n",
      "19/19 [==============================] - 1s 43ms/step - loss: 2.0874 - accuracy: 0.2474 - val_loss: 2.2398 - val_accuracy: 0.1480\n",
      "20/20 [==============================] - 1s 50ms/step - loss: 2.0239 - accuracy: 0.2603 - val_loss: 2.2855 - val_accuracy: 0.1253\n",
      "21/21 [==============================] - 1s 50ms/step - loss: 1.9776 - accuracy: 0.2701 - val_loss: 2.2804 - val_accuracy: 0.1580\n",
      "22/22 [==============================] - 1s 53ms/step - loss: 1.9387 - accuracy: 0.2964 - val_loss: 2.3612 - val_accuracy: 0.1280\n",
      "23/23 [==============================] - 1s 49ms/step - loss: 1.8919 - accuracy: 0.3082 - val_loss: 2.3362 - val_accuracy: 0.1500\n",
      "23/23 [==============================] - 1s 49ms/step - loss: 1.8747 - accuracy: 0.3189 - val_loss: 2.3426 - val_accuracy: 0.1567\n",
      "24/24 [==============================] - 1s 50ms/step - loss: 1.8499 - accuracy: 0.3168 - val_loss: 2.3934 - val_accuracy: 0.1560\n",
      "24/24 [==============================] - 1s 50ms/step - loss: 1.8096 - accuracy: 0.3388 - val_loss: 2.4128 - val_accuracy: 0.1647\n",
      "25/25 [==============================] - 1s 48ms/step - loss: 1.7776 - accuracy: 0.3479 - val_loss: 2.4022 - val_accuracy: 0.1700\n",
      "25/25 [==============================] - 1s 47ms/step - loss: 1.7576 - accuracy: 0.3642 - val_loss: 2.3513 - val_accuracy: 0.1900\n",
      "26/26 [==============================] - 1s 48ms/step - loss: 1.7310 - accuracy: 0.3646 - val_loss: 2.1946 - val_accuracy: 0.2273\n",
      "26/26 [==============================] - 1s 50ms/step - loss: 1.7209 - accuracy: 0.3701 - val_loss: 2.1862 - val_accuracy: 0.2287\n",
      "26/26 [==============================] - 1s 48ms/step - loss: 1.6868 - accuracy: 0.3767 - val_loss: 2.0833 - val_accuracy: 0.2633\n",
      "26/26 [==============================] - 1s 34ms/step - loss: 1.6787 - accuracy: 0.3853 - val_loss: 2.0615 - val_accuracy: 0.2887\n",
      "27/27 [==============================] - 1s 38ms/step - loss: 1.6614 - accuracy: 0.3873 - val_loss: 1.6941 - val_accuracy: 0.3933\n",
      "27/27 [==============================] - 2s 69ms/step - loss: 1.6223 - accuracy: 0.3991 - val_loss: 1.7868 - val_accuracy: 0.3713\n",
      "27/27 [==============================] - 1s 49ms/step - loss: 1.6251 - accuracy: 0.4024 - val_loss: 1.6056 - val_accuracy: 0.4267\n",
      "27/27 [==============================] - 1s 53ms/step - loss: 1.6000 - accuracy: 0.4030 - val_loss: 1.5922 - val_accuracy: 0.4247\n",
      "27/27 [==============================] - 1s 52ms/step - loss: 1.5839 - accuracy: 0.4236 - val_loss: 1.6180 - val_accuracy: 0.4193\n",
      "27/27 [==============================] - 1s 53ms/step - loss: 1.5672 - accuracy: 0.4195 - val_loss: 1.5726 - val_accuracy: 0.4453\n",
      "27/27 [==============================] - 1s 49ms/step - loss: 1.5690 - accuracy: 0.4186 - val_loss: 1.5443 - val_accuracy: 0.4400\n",
      "27/27 [==============================] - 1s 48ms/step - loss: 1.5274 - accuracy: 0.4299 - val_loss: 1.5985 - val_accuracy: 0.4320\n",
      "28/28 [==============================] - 1s 48ms/step - loss: 1.5405 - accuracy: 0.4374 - val_loss: 1.4924 - val_accuracy: 0.4633\n",
      "28/28 [==============================] - 1s 53ms/step - loss: 1.5211 - accuracy: 0.4434 - val_loss: 1.4415 - val_accuracy: 0.4660\n",
      "28/28 [==============================] - 2s 59ms/step - loss: 1.5166 - accuracy: 0.4433 - val_loss: 1.5024 - val_accuracy: 0.4640\n",
      "28/28 [==============================] - 2s 56ms/step - loss: 1.4922 - accuracy: 0.4496 - val_loss: 1.4442 - val_accuracy: 0.4787\n",
      "28/28 [==============================] - 2s 55ms/step - loss: 1.4871 - accuracy: 0.4534 - val_loss: 1.4288 - val_accuracy: 0.4860\n",
      "28/28 [==============================] - 2s 54ms/step - loss: 1.4699 - accuracy: 0.4583 - val_loss: 1.4490 - val_accuracy: 0.4853\n",
      "28/28 [==============================] - 1s 52ms/step - loss: 1.4635 - accuracy: 0.4559 - val_loss: 1.4036 - val_accuracy: 0.4920\n",
      "28/28 [==============================] - 2s 59ms/step - loss: 1.4540 - accuracy: 0.4623 - val_loss: 1.4593 - val_accuracy: 0.4633\n",
      "28/28 [==============================] - 2s 55ms/step - loss: 1.4423 - accuracy: 0.4745 - val_loss: 1.4182 - val_accuracy: 0.4920\n",
      "28/28 [==============================] - 1s 54ms/step - loss: 1.4427 - accuracy: 0.4711 - val_loss: 1.3709 - val_accuracy: 0.5013\n",
      "28/28 [==============================] - 1s 52ms/step - loss: 1.4124 - accuracy: 0.4839 - val_loss: 1.4037 - val_accuracy: 0.4967\n",
      "28/28 [==============================] - 1s 51ms/step - loss: 1.4104 - accuracy: 0.4895 - val_loss: 1.3866 - val_accuracy: 0.4940\n",
      "28/28 [==============================] - 1s 54ms/step - loss: 1.4025 - accuracy: 0.4858 - val_loss: 1.4220 - val_accuracy: 0.4813\n",
      "28/28 [==============================] - 1s 37ms/step - loss: 1.3914 - accuracy: 0.4901 - val_loss: 1.3827 - val_accuracy: 0.5100\n",
      "28/28 [==============================] - 1s 47ms/step - loss: 1.3769 - accuracy: 0.4974 - val_loss: 1.3768 - val_accuracy: 0.5200\n",
      "28/28 [==============================] - 1s 53ms/step - loss: 1.3747 - accuracy: 0.4986 - val_loss: 1.3865 - val_accuracy: 0.5113\n",
      "28/28 [==============================] - 1s 51ms/step - loss: 1.3612 - accuracy: 0.5014 - val_loss: 1.3610 - val_accuracy: 0.5247\n",
      "28/28 [==============================] - 1s 54ms/step - loss: 1.3492 - accuracy: 0.4989 - val_loss: 1.3902 - val_accuracy: 0.5040\n",
      "28/28 [==============================] - 1s 50ms/step - loss: 1.3616 - accuracy: 0.4996 - val_loss: 1.5120 - val_accuracy: 0.4760\n",
      "6/6 [==============================] - 0s 15ms/step - loss: 1.4742 - accuracy: 0.4607\n"
     ]
    },
    {
     "name": "stderr",
     "output_type": "stream",
     "text": [
      "100%|██████████| 3/3 [03:08<00:00, 62.89s/it]\n"
     ]
    }
   ],
   "source": [
    "for test_model in test_models:\n",
    "    print(test_model)\n",
    "    model_scores = []\n",
    "\n",
    "    for _ in tqdm(range(N_TRIALS)):\n",
    "        model = ClassifierModel(output_shape=10, **models_hyperparameters[test_model])\n",
    "        \n",
    "        model.compile(optimizer='adam', loss=loss, metrics=['accuracy'])\n",
    "        \n",
    "        for i in range(N_EPOCHS):\n",
    "            n_samples = int(np.tanh(4 * (i + 1) / N_EPOCHS) * train_size)\n",
    "            samples_ids = np.random.choice(range(train_size), n_samples, replace=False)\n",
    "\n",
    "            model.fit(\n",
    "                x_train[samples_ids], y_train[samples_ids], \n",
    "                validation_data=(x_val, y_val),\n",
    "                epochs=1, batch_size=BATCH_SIZE,\n",
    "                verbose=1, callbacks=[early_stopping]\n",
    "            )\n",
    "        \n",
    "        _, accuracy = model.evaluate(x_test, y_test, batch_size=BATCH_SIZE, verbose=1)\n",
    "        \n",
    "        model_scores.append(accuracy)\n",
    "\n",
    "    results[test_model] = model_scores"
   ],
   "metadata": {
    "collapsed": false,
    "ExecuteTime": {
     "end_time": "2024-02-20T18:53:55.531983Z",
     "start_time": "2024-02-20T18:50:46.807609Z"
    }
   },
   "id": "db6359a77869578b"
  },
  {
   "cell_type": "code",
   "execution_count": 133,
   "outputs": [
    {
     "data": {
      "text/plain": "{'test_model_1': [0.5026666522026062, 0.4673333466053009, 0.4606666564941406]}"
     },
     "execution_count": 133,
     "metadata": {},
     "output_type": "execute_result"
    }
   ],
   "source": [
    "results"
   ],
   "metadata": {
    "collapsed": false,
    "ExecuteTime": {
     "end_time": "2024-02-20T18:54:16.435857Z",
     "start_time": "2024-02-20T18:54:16.424604Z"
    }
   },
   "id": "b42fa9a082067602"
  },
  {
   "cell_type": "code",
   "execution_count": null,
   "outputs": [],
   "source": [],
   "metadata": {
    "collapsed": false
   },
   "id": "402ee4236dbecd36"
  }
 ],
 "metadata": {
  "kernelspec": {
   "display_name": "Python 3",
   "language": "python",
   "name": "python3"
  },
  "language_info": {
   "codemirror_mode": {
    "name": "ipython",
    "version": 2
   },
   "file_extension": ".py",
   "mimetype": "text/x-python",
   "name": "python",
   "nbconvert_exporter": "python",
   "pygments_lexer": "ipython2",
   "version": "2.7.6"
  }
 },
 "nbformat": 4,
 "nbformat_minor": 5
}
