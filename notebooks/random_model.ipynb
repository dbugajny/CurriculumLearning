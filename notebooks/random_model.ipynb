{
 "cells": [
  {
   "cell_type": "code",
   "execution_count": 100,
   "id": "initial_id",
   "metadata": {
    "collapsed": true,
    "ExecuteTime": {
     "end_time": "2024-02-20T17:25:27.887869Z",
     "start_time": "2024-02-20T17:25:27.883818Z"
    }
   },
   "outputs": [],
   "source": [
    "import numpy as np\n",
    "import tensorflow as tf\n",
    "from curriculum_learning.models.classifier_model import ClassifierModel\n",
    "from curriculum_learning import utils\n",
    "import yaml\n",
    "from tqdm import tqdm\n",
    "from sklearn.model_selection import train_test_split"
   ]
  },
  {
   "cell_type": "code",
   "execution_count": 118,
   "outputs": [],
   "source": [
    "N_EPOCHS = 100\n",
    "N_TRIALS = 3\n",
    "BATCH_SIZE = 256\n",
    "\n",
    "loss = tf.keras.losses.SparseCategoricalCrossentropy()"
   ],
   "metadata": {
    "collapsed": false,
    "ExecuteTime": {
     "end_time": "2024-02-20T18:45:55.458331Z",
     "start_time": "2024-02-20T18:45:55.454555Z"
    }
   },
   "id": "5ba619241c769e59"
  },
  {
   "cell_type": "code",
   "execution_count": 119,
   "outputs": [],
   "source": [
    "with open(\"models_hyperparameters.yaml\", \"r\") as stream:\n",
    "    models_hyperparameters = yaml.safe_load(stream)\n",
    "    \n",
    "x, y = utils.load_data(\"../data/cifar-10-batches-py/data_batch_1\")\n",
    "x_train, x_test, y_train, y_test = train_test_split(x, y, test_size=0.3, random_state=42)\n",
    "x_test, x_val, y_test, y_val = train_test_split(x_test, y_test, test_size=0.5, random_state=42)\n",
    "\n",
    "train_size = x_train.shape[0]"
   ],
   "metadata": {
    "collapsed": false,
    "ExecuteTime": {
     "end_time": "2024-02-20T18:45:56.921042Z",
     "start_time": "2024-02-20T18:45:56.827533Z"
    }
   },
   "id": "869132b068be0fff"
  },
  {
   "cell_type": "code",
   "execution_count": 117,
   "outputs": [],
   "source": [
    "noise = 30\n",
    "x_train = np.clip(x_train + np.random.normal(0, noise, x_train.shape), 0, 255) / 255\n",
    "x_val = np.clip(x_val + np.random.normal(0, noise, x_val.shape), 0, 255) / 255\n",
    "x_test = np.clip(x_test + np.random.normal(0, noise, x_test.shape), 0, 255) / 255"
   ],
   "metadata": {
    "collapsed": false,
    "ExecuteTime": {
     "end_time": "2024-02-20T18:45:54.324106Z",
     "start_time": "2024-02-20T18:45:53.211165Z"
    }
   },
   "id": "81d8245d180ef70f"
  },
  {
   "cell_type": "code",
   "execution_count": 112,
   "outputs": [],
   "source": [
    "results = {}\n",
    "\n",
    "# test_models = [\"test_model_1\", \"test_model_2\", \"test_model_3\"]\n",
    "test_models = [\"test_model_1\"]"
   ],
   "metadata": {
    "collapsed": false,
    "ExecuteTime": {
     "end_time": "2024-02-20T17:36:30.811258Z",
     "start_time": "2024-02-20T17:36:30.799471Z"
    }
   },
   "id": "92315aab6b5898bf"
  },
  {
   "cell_type": "code",
   "execution_count": 113,
   "outputs": [],
   "source": [
    "early_stopping = tf.keras.callbacks.EarlyStopping(monitor='val_loss', patience=5)"
   ],
   "metadata": {
    "collapsed": false,
    "ExecuteTime": {
     "end_time": "2024-02-20T17:36:30.821331Z",
     "start_time": "2024-02-20T17:36:30.812862Z"
    }
   },
   "id": "e87e49b3ac1e4e5"
  },
  {
   "cell_type": "code",
   "execution_count": 114,
   "outputs": [
    {
     "name": "stdout",
     "output_type": "stream",
     "text": [
      "test_model_1\n"
     ]
    },
    {
     "name": "stderr",
     "output_type": "stream",
     "text": [
      "  0%|          | 0/3 [00:00<?, ?it/s]"
     ]
    },
    {
     "name": "stdout",
     "output_type": "stream",
     "text": [
      "2/2 [==============================] - 1s 216ms/step - loss: 2.7125 - accuracy: 0.1075 - val_loss: 5.8686 - val_accuracy: 0.1213\n",
      "3/3 [==============================] - 0s 106ms/step - loss: 2.7441 - accuracy: 0.1075 - val_loss: 4.4445 - val_accuracy: 0.1133\n",
      "4/4 [==============================] - 0s 97ms/step - loss: 2.6451 - accuracy: 0.1257 - val_loss: 4.0089 - val_accuracy: 0.1007\n",
      "5/5 [==============================] - 0s 66ms/step - loss: 2.6663 - accuracy: 0.1081 - val_loss: 3.8337 - val_accuracy: 0.0940\n",
      "6/6 [==============================] - 0s 54ms/step - loss: 2.5485 - accuracy: 0.1253 - val_loss: 3.7311 - val_accuracy: 0.0933\n",
      "7/7 [==============================] - 1s 113ms/step - loss: 2.5190 - accuracy: 0.1195 - val_loss: 3.7302 - val_accuracy: 0.0920\n",
      "8/8 [==============================] - 0s 60ms/step - loss: 2.4104 - accuracy: 0.1487 - val_loss: 3.8853 - val_accuracy: 0.0913\n",
      "9/9 [==============================] - 0s 56ms/step - loss: 2.3385 - accuracy: 0.1671 - val_loss: 3.9909 - val_accuracy: 0.0947\n",
      "10/10 [==============================] - 1s 52ms/step - loss: 2.2848 - accuracy: 0.1767 - val_loss: 3.8902 - val_accuracy: 0.1020\n",
      "11/11 [==============================] - 1s 53ms/step - loss: 2.2522 - accuracy: 0.1783 - val_loss: 4.2014 - val_accuracy: 0.0947\n",
      "12/12 [==============================] - 1s 55ms/step - loss: 2.2149 - accuracy: 0.1990 - val_loss: 3.8231 - val_accuracy: 0.0973\n",
      "13/13 [==============================] - 1s 53ms/step - loss: 2.1564 - accuracy: 0.2181 - val_loss: 3.0555 - val_accuracy: 0.1113\n",
      "14/14 [==============================] - 1s 53ms/step - loss: 2.1166 - accuracy: 0.2166 - val_loss: 2.7675 - val_accuracy: 0.1280\n",
      "14/14 [==============================] - 1s 57ms/step - loss: 2.0562 - accuracy: 0.2391 - val_loss: 2.3493 - val_accuracy: 0.1513\n",
      "15/15 [==============================] - 1s 58ms/step - loss: 2.0561 - accuracy: 0.2410 - val_loss: 2.2359 - val_accuracy: 0.1827\n",
      "16/16 [==============================] - 1s 58ms/step - loss: 2.0009 - accuracy: 0.2635 - val_loss: 2.0850 - val_accuracy: 0.2420\n",
      "17/17 [==============================] - 1s 53ms/step - loss: 1.9821 - accuracy: 0.2766 - val_loss: 2.0043 - val_accuracy: 0.2607\n",
      "17/17 [==============================] - 1s 50ms/step - loss: 1.9344 - accuracy: 0.2821 - val_loss: 1.9507 - val_accuracy: 0.2780\n",
      "18/18 [==============================] - 1s 51ms/step - loss: 1.8973 - accuracy: 0.3064 - val_loss: 1.8959 - val_accuracy: 0.3000\n",
      "19/19 [==============================] - 1s 49ms/step - loss: 1.8606 - accuracy: 0.3148 - val_loss: 1.8672 - val_accuracy: 0.3073\n",
      "19/19 [==============================] - 1s 52ms/step - loss: 1.8615 - accuracy: 0.3050 - val_loss: 1.7942 - val_accuracy: 0.3413\n",
      "20/20 [==============================] - 1s 49ms/step - loss: 1.8486 - accuracy: 0.3222 - val_loss: 1.7854 - val_accuracy: 0.3400\n",
      "20/20 [==============================] - 1s 55ms/step - loss: 1.8065 - accuracy: 0.3326 - val_loss: 1.8256 - val_accuracy: 0.3353\n",
      "21/21 [==============================] - 1s 52ms/step - loss: 1.7936 - accuracy: 0.3396 - val_loss: 1.7043 - val_accuracy: 0.3700\n",
      "21/21 [==============================] - 1s 55ms/step - loss: 1.7854 - accuracy: 0.3433 - val_loss: 1.7108 - val_accuracy: 0.3760\n",
      "22/22 [==============================] - 1s 54ms/step - loss: 1.7563 - accuracy: 0.3480 - val_loss: 1.7017 - val_accuracy: 0.3767\n",
      "22/22 [==============================] - 1s 54ms/step - loss: 1.7471 - accuracy: 0.3590 - val_loss: 1.6657 - val_accuracy: 0.3800\n",
      "23/23 [==============================] - 1s 49ms/step - loss: 1.7192 - accuracy: 0.3611 - val_loss: 1.6386 - val_accuracy: 0.3993\n",
      "23/23 [==============================] - 1s 48ms/step - loss: 1.7085 - accuracy: 0.3680 - val_loss: 1.6330 - val_accuracy: 0.3967\n",
      "23/23 [==============================] - 1s 55ms/step - loss: 1.6935 - accuracy: 0.3763 - val_loss: 1.6332 - val_accuracy: 0.3940\n",
      "24/24 [==============================] - 1s 53ms/step - loss: 1.6691 - accuracy: 0.3839 - val_loss: 1.6176 - val_accuracy: 0.4027\n",
      "24/24 [==============================] - 1s 56ms/step - loss: 1.6780 - accuracy: 0.3803 - val_loss: 1.5972 - val_accuracy: 0.4113\n",
      "24/24 [==============================] - 1s 51ms/step - loss: 1.6560 - accuracy: 0.3898 - val_loss: 1.5768 - val_accuracy: 0.4193\n",
      "24/24 [==============================] - 1s 48ms/step - loss: 1.6416 - accuracy: 0.3948 - val_loss: 1.5678 - val_accuracy: 0.4293\n",
      "25/25 [==============================] - 1s 47ms/step - loss: 1.6256 - accuracy: 0.4021 - val_loss: 1.5536 - val_accuracy: 0.4313\n",
      "25/25 [==============================] - 1s 48ms/step - loss: 1.6040 - accuracy: 0.4125 - val_loss: 1.5436 - val_accuracy: 0.4287\n",
      "25/25 [==============================] - 1s 52ms/step - loss: 1.6094 - accuracy: 0.4068 - val_loss: 1.5209 - val_accuracy: 0.4333\n",
      "25/25 [==============================] - 1s 55ms/step - loss: 1.5838 - accuracy: 0.4189 - val_loss: 1.5641 - val_accuracy: 0.4187\n",
      "26/26 [==============================] - 1s 53ms/step - loss: 1.5596 - accuracy: 0.4253 - val_loss: 1.5699 - val_accuracy: 0.4353\n",
      "26/26 [==============================] - 1s 53ms/step - loss: 1.5887 - accuracy: 0.4144 - val_loss: 1.5462 - val_accuracy: 0.4227\n",
      "26/26 [==============================] - 1s 50ms/step - loss: 1.5499 - accuracy: 0.4298 - val_loss: 1.4748 - val_accuracy: 0.4553\n",
      "26/26 [==============================] - 1s 49ms/step - loss: 1.5419 - accuracy: 0.4285 - val_loss: 1.4728 - val_accuracy: 0.4580\n",
      "26/26 [==============================] - 1s 53ms/step - loss: 1.5309 - accuracy: 0.4378 - val_loss: 1.4712 - val_accuracy: 0.4540\n",
      "26/26 [==============================] - 1s 55ms/step - loss: 1.5225 - accuracy: 0.4469 - val_loss: 1.4828 - val_accuracy: 0.4467\n",
      "26/26 [==============================] - 1s 53ms/step - loss: 1.4899 - accuracy: 0.4587 - val_loss: 1.5079 - val_accuracy: 0.4413\n",
      "26/26 [==============================] - 2s 72ms/step - loss: 1.4901 - accuracy: 0.4476 - val_loss: 1.4439 - val_accuracy: 0.4620\n",
      "27/27 [==============================] - 1s 52ms/step - loss: 1.4841 - accuracy: 0.4622 - val_loss: 1.4768 - val_accuracy: 0.4540\n",
      "27/27 [==============================] - 1s 48ms/step - loss: 1.4746 - accuracy: 0.4617 - val_loss: 1.4243 - val_accuracy: 0.4800\n",
      "27/27 [==============================] - 1s 48ms/step - loss: 1.4707 - accuracy: 0.4561 - val_loss: 1.4658 - val_accuracy: 0.4660\n",
      "27/27 [==============================] - 1s 52ms/step - loss: 1.4461 - accuracy: 0.4748 - val_loss: 1.4591 - val_accuracy: 0.4793\n",
      "27/27 [==============================] - 1s 49ms/step - loss: 1.4471 - accuracy: 0.4778 - val_loss: 1.4653 - val_accuracy: 0.4733\n",
      "27/27 [==============================] - 1s 49ms/step - loss: 1.4494 - accuracy: 0.4651 - val_loss: 1.4262 - val_accuracy: 0.4700\n",
      "27/27 [==============================] - 2s 75ms/step - loss: 1.4197 - accuracy: 0.4761 - val_loss: 1.4898 - val_accuracy: 0.4600\n",
      "27/27 [==============================] - 2s 58ms/step - loss: 1.4242 - accuracy: 0.4806 - val_loss: 1.4211 - val_accuracy: 0.4853\n",
      "27/27 [==============================] - 1s 49ms/step - loss: 1.4153 - accuracy: 0.4796 - val_loss: 1.4257 - val_accuracy: 0.4753\n",
      "27/27 [==============================] - 1s 47ms/step - loss: 1.3880 - accuracy: 0.4931 - val_loss: 1.4747 - val_accuracy: 0.4660\n",
      "27/27 [==============================] - 1s 48ms/step - loss: 1.3903 - accuracy: 0.4938 - val_loss: 1.3940 - val_accuracy: 0.4967\n",
      "27/27 [==============================] - 2s 72ms/step - loss: 1.3757 - accuracy: 0.4927 - val_loss: 1.3867 - val_accuracy: 0.4947\n",
      "27/27 [==============================] - 1s 51ms/step - loss: 1.3857 - accuracy: 0.4929 - val_loss: 1.4328 - val_accuracy: 0.4780\n",
      "27/27 [==============================] - 2s 59ms/step - loss: 1.3706 - accuracy: 0.4983 - val_loss: 1.3791 - val_accuracy: 0.4913\n",
      "27/27 [==============================] - 2s 59ms/step - loss: 1.3620 - accuracy: 0.4936 - val_loss: 1.4070 - val_accuracy: 0.4827\n",
      "27/27 [==============================] - 1s 53ms/step - loss: 1.3541 - accuracy: 0.5083 - val_loss: 1.4030 - val_accuracy: 0.4787\n",
      "27/27 [==============================] - 1s 52ms/step - loss: 1.3501 - accuracy: 0.5085 - val_loss: 1.3870 - val_accuracy: 0.4907\n",
      "28/28 [==============================] - 1s 48ms/step - loss: 1.3370 - accuracy: 0.5088 - val_loss: 1.3715 - val_accuracy: 0.5047\n",
      "28/28 [==============================] - 1s 51ms/step - loss: 1.3302 - accuracy: 0.5073 - val_loss: 1.3873 - val_accuracy: 0.5073\n",
      "28/28 [==============================] - 1s 52ms/step - loss: 1.3534 - accuracy: 0.5057 - val_loss: 1.4086 - val_accuracy: 0.4947\n",
      "28/28 [==============================] - 1s 48ms/step - loss: 1.3460 - accuracy: 0.5025 - val_loss: 1.4786 - val_accuracy: 0.4800\n",
      "28/28 [==============================] - 1s 50ms/step - loss: 1.3148 - accuracy: 0.5132 - val_loss: 1.3823 - val_accuracy: 0.4927\n",
      "28/28 [==============================] - 1s 50ms/step - loss: 1.3252 - accuracy: 0.5122 - val_loss: 1.3795 - val_accuracy: 0.4993\n",
      "28/28 [==============================] - 1s 51ms/step - loss: 1.3066 - accuracy: 0.5213 - val_loss: 1.3848 - val_accuracy: 0.4940\n",
      "28/28 [==============================] - 1s 49ms/step - loss: 1.2976 - accuracy: 0.5249 - val_loss: 1.4754 - val_accuracy: 0.4713\n",
      "28/28 [==============================] - 1s 49ms/step - loss: 1.3001 - accuracy: 0.5237 - val_loss: 1.3887 - val_accuracy: 0.4887\n",
      "28/28 [==============================] - 1s 50ms/step - loss: 1.2757 - accuracy: 0.5285 - val_loss: 1.4392 - val_accuracy: 0.4907\n",
      "28/28 [==============================] - 2s 55ms/step - loss: 1.2808 - accuracy: 0.5280 - val_loss: 1.3592 - val_accuracy: 0.5013\n",
      "28/28 [==============================] - 1s 51ms/step - loss: 1.2752 - accuracy: 0.5347 - val_loss: 1.3478 - val_accuracy: 0.5073\n",
      "28/28 [==============================] - 1s 49ms/step - loss: 1.2759 - accuracy: 0.5344 - val_loss: 1.3620 - val_accuracy: 0.5207\n",
      "28/28 [==============================] - 1s 50ms/step - loss: 1.2675 - accuracy: 0.5419 - val_loss: 1.3433 - val_accuracy: 0.5120\n",
      "28/28 [==============================] - 2s 61ms/step - loss: 1.2646 - accuracy: 0.5347 - val_loss: 1.3475 - val_accuracy: 0.5213\n",
      "28/28 [==============================] - 1s 51ms/step - loss: 1.2511 - accuracy: 0.5423 - val_loss: 1.3272 - val_accuracy: 0.5120\n",
      "28/28 [==============================] - 1s 49ms/step - loss: 1.2326 - accuracy: 0.5510 - val_loss: 1.3438 - val_accuracy: 0.5047\n",
      "28/28 [==============================] - 2s 55ms/step - loss: 1.2574 - accuracy: 0.5351 - val_loss: 1.3576 - val_accuracy: 0.5160\n",
      "28/28 [==============================] - 1s 51ms/step - loss: 1.2273 - accuracy: 0.5516 - val_loss: 1.3599 - val_accuracy: 0.5187\n",
      "28/28 [==============================] - 1s 50ms/step - loss: 1.2243 - accuracy: 0.5538 - val_loss: 1.3675 - val_accuracy: 0.5127\n",
      "28/28 [==============================] - 1s 49ms/step - loss: 1.2371 - accuracy: 0.5523 - val_loss: 1.3372 - val_accuracy: 0.5273\n",
      "28/28 [==============================] - 1s 38ms/step - loss: 1.2190 - accuracy: 0.5553 - val_loss: 1.3555 - val_accuracy: 0.5107\n",
      "28/28 [==============================] - 1s 45ms/step - loss: 1.2183 - accuracy: 0.5490 - val_loss: 1.3387 - val_accuracy: 0.5127\n",
      "28/28 [==============================] - 1s 46ms/step - loss: 1.2142 - accuracy: 0.5591 - val_loss: 1.3463 - val_accuracy: 0.5113\n",
      "28/28 [==============================] - 1s 47ms/step - loss: 1.1882 - accuracy: 0.5665 - val_loss: 1.3553 - val_accuracy: 0.4967\n",
      "28/28 [==============================] - 2s 56ms/step - loss: 1.2045 - accuracy: 0.5602 - val_loss: 1.3346 - val_accuracy: 0.5187\n",
      "28/28 [==============================] - 1s 48ms/step - loss: 1.1926 - accuracy: 0.5623 - val_loss: 1.3874 - val_accuracy: 0.4987\n",
      "28/28 [==============================] - 1s 49ms/step - loss: 1.1681 - accuracy: 0.5700 - val_loss: 1.3853 - val_accuracy: 0.5020\n",
      "28/28 [==============================] - 1s 49ms/step - loss: 1.1870 - accuracy: 0.5636 - val_loss: 1.3341 - val_accuracy: 0.5200\n",
      "28/28 [==============================] - 1s 50ms/step - loss: 1.1805 - accuracy: 0.5663 - val_loss: 1.3438 - val_accuracy: 0.5247\n",
      "28/28 [==============================] - 1s 47ms/step - loss: 1.1748 - accuracy: 0.5699 - val_loss: 1.4158 - val_accuracy: 0.5007\n",
      "28/28 [==============================] - 1s 52ms/step - loss: 1.1811 - accuracy: 0.5674 - val_loss: 1.3728 - val_accuracy: 0.5173\n",
      "28/28 [==============================] - 1s 48ms/step - loss: 1.1779 - accuracy: 0.5744 - val_loss: 1.3301 - val_accuracy: 0.5267\n",
      "28/28 [==============================] - 1s 49ms/step - loss: 1.1544 - accuracy: 0.5826 - val_loss: 1.4578 - val_accuracy: 0.5000\n",
      "28/28 [==============================] - 1s 51ms/step - loss: 1.1626 - accuracy: 0.5746 - val_loss: 1.4596 - val_accuracy: 0.4967\n",
      "28/28 [==============================] - 1s 52ms/step - loss: 1.1588 - accuracy: 0.5822 - val_loss: 1.3460 - val_accuracy: 0.5073\n",
      "28/28 [==============================] - 1s 51ms/step - loss: 1.1326 - accuracy: 0.5830 - val_loss: 1.3417 - val_accuracy: 0.5153\n",
      "6/6 [==============================] - 0s 15ms/step - loss: 1.3038 - accuracy: 0.5280\n"
     ]
    },
    {
     "name": "stderr",
     "output_type": "stream",
     "text": [
      " 33%|███▎      | 1/3 [02:19<04:38, 139.04s/it]"
     ]
    },
    {
     "name": "stdout",
     "output_type": "stream",
     "text": [
      "2/2 [==============================] - 1s 246ms/step - loss: 2.7888 - accuracy: 0.1075 - val_loss: 5.4541 - val_accuracy: 0.0893\n",
      "3/3 [==============================] - 0s 96ms/step - loss: 2.7689 - accuracy: 0.1057 - val_loss: 3.6167 - val_accuracy: 0.0933\n",
      "4/4 [==============================] - 0s 67ms/step - loss: 2.7700 - accuracy: 0.0922 - val_loss: 2.8593 - val_accuracy: 0.1027\n",
      "5/5 [==============================] - 0s 62ms/step - loss: 2.6722 - accuracy: 0.1081 - val_loss: 2.5717 - val_accuracy: 0.1000\n",
      "6/6 [==============================] - 0s 63ms/step - loss: 2.5389 - accuracy: 0.1354 - val_loss: 2.5408 - val_accuracy: 0.0993\n",
      "7/7 [==============================] - 0s 57ms/step - loss: 2.4811 - accuracy: 0.1347 - val_loss: 2.7062 - val_accuracy: 0.0927\n",
      "8/8 [==============================] - 0s 53ms/step - loss: 2.4037 - accuracy: 0.1597 - val_loss: 3.0977 - val_accuracy: 0.0933\n",
      "9/9 [==============================] - 0s 53ms/step - loss: 2.3563 - accuracy: 0.1588 - val_loss: 3.2047 - val_accuracy: 0.0933\n",
      "10/10 [==============================] - 0s 48ms/step - loss: 2.2940 - accuracy: 0.1759 - val_loss: 3.0627 - val_accuracy: 0.0967\n",
      "11/11 [==============================] - 1s 53ms/step - loss: 2.2101 - accuracy: 0.1847 - val_loss: 2.8606 - val_accuracy: 0.0967\n",
      "12/12 [==============================] - 1s 49ms/step - loss: 2.1594 - accuracy: 0.2066 - val_loss: 2.6759 - val_accuracy: 0.1060\n",
      "13/13 [==============================] - 1s 53ms/step - loss: 2.1430 - accuracy: 0.2024 - val_loss: 2.9242 - val_accuracy: 0.1153\n",
      "14/14 [==============================] - 1s 44ms/step - loss: 2.1085 - accuracy: 0.2366 - val_loss: 2.7064 - val_accuracy: 0.1313\n",
      "14/14 [==============================] - 1s 54ms/step - loss: 2.0678 - accuracy: 0.2281 - val_loss: 2.4617 - val_accuracy: 0.1587\n",
      "15/15 [==============================] - 1s 56ms/step - loss: 2.0312 - accuracy: 0.2575 - val_loss: 2.4167 - val_accuracy: 0.1720\n",
      "16/16 [==============================] - 1s 47ms/step - loss: 1.9979 - accuracy: 0.2580 - val_loss: 2.1292 - val_accuracy: 0.2233\n",
      "17/17 [==============================] - 1s 55ms/step - loss: 1.9740 - accuracy: 0.2737 - val_loss: 1.9338 - val_accuracy: 0.2853\n",
      "17/17 [==============================] - 1s 52ms/step - loss: 1.9210 - accuracy: 0.2923 - val_loss: 1.9054 - val_accuracy: 0.3093\n",
      "18/18 [==============================] - 1s 46ms/step - loss: 1.9031 - accuracy: 0.3013 - val_loss: 1.8455 - val_accuracy: 0.3347\n",
      "19/19 [==============================] - 1s 47ms/step - loss: 1.8761 - accuracy: 0.3130 - val_loss: 1.8093 - val_accuracy: 0.3447\n",
      "19/19 [==============================] - 1s 55ms/step - loss: 1.8550 - accuracy: 0.3219 - val_loss: 1.7473 - val_accuracy: 0.3620\n",
      "20/20 [==============================] - 1s 49ms/step - loss: 1.8483 - accuracy: 0.3341 - val_loss: 1.7204 - val_accuracy: 0.3687\n",
      "20/20 [==============================] - 1s 49ms/step - loss: 1.8381 - accuracy: 0.3210 - val_loss: 1.7080 - val_accuracy: 0.3813\n",
      "21/21 [==============================] - 1s 47ms/step - loss: 1.8187 - accuracy: 0.3218 - val_loss: 1.7128 - val_accuracy: 0.3767\n",
      "21/21 [==============================] - 1s 51ms/step - loss: 1.7743 - accuracy: 0.3489 - val_loss: 1.6770 - val_accuracy: 0.3880\n",
      "22/22 [==============================] - 1s 49ms/step - loss: 1.7593 - accuracy: 0.3554 - val_loss: 1.6532 - val_accuracy: 0.3927\n",
      "22/22 [==============================] - 1s 51ms/step - loss: 1.7560 - accuracy: 0.3453 - val_loss: 1.6272 - val_accuracy: 0.4073\n",
      "23/23 [==============================] - 1s 31ms/step - loss: 1.7432 - accuracy: 0.3615 - val_loss: 1.6389 - val_accuracy: 0.3973\n",
      "23/23 [==============================] - 1s 33ms/step - loss: 1.7119 - accuracy: 0.3727 - val_loss: 1.5887 - val_accuracy: 0.4133\n",
      "23/23 [==============================] - 1s 49ms/step - loss: 1.6983 - accuracy: 0.3770 - val_loss: 1.5781 - val_accuracy: 0.4227\n",
      "24/24 [==============================] - 1s 50ms/step - loss: 1.6910 - accuracy: 0.3758 - val_loss: 1.5944 - val_accuracy: 0.4213\n",
      "24/24 [==============================] - 1s 49ms/step - loss: 1.6851 - accuracy: 0.3795 - val_loss: 1.5704 - val_accuracy: 0.4327\n",
      "24/24 [==============================] - 1s 51ms/step - loss: 1.6746 - accuracy: 0.3847 - val_loss: 1.5535 - val_accuracy: 0.4313\n",
      "24/24 [==============================] - 1s 48ms/step - loss: 1.6601 - accuracy: 0.3865 - val_loss: 1.5627 - val_accuracy: 0.4267\n",
      "25/25 [==============================] - 1s 44ms/step - loss: 1.6354 - accuracy: 0.4013 - val_loss: 1.5486 - val_accuracy: 0.4273\n",
      "25/25 [==============================] - 1s 44ms/step - loss: 1.6303 - accuracy: 0.4042 - val_loss: 1.5314 - val_accuracy: 0.4407\n",
      "25/25 [==============================] - 1s 49ms/step - loss: 1.6152 - accuracy: 0.4158 - val_loss: 1.5809 - val_accuracy: 0.4173\n",
      "25/25 [==============================] - 1s 47ms/step - loss: 1.5823 - accuracy: 0.4116 - val_loss: 1.5263 - val_accuracy: 0.4453\n",
      "26/26 [==============================] - 1s 49ms/step - loss: 1.5766 - accuracy: 0.4263 - val_loss: 1.5255 - val_accuracy: 0.4387\n",
      "26/26 [==============================] - 1s 48ms/step - loss: 1.5793 - accuracy: 0.4195 - val_loss: 1.5376 - val_accuracy: 0.4273\n",
      "26/26 [==============================] - 1s 56ms/step - loss: 1.5723 - accuracy: 0.4239 - val_loss: 1.5178 - val_accuracy: 0.4447\n",
      "26/26 [==============================] - 1s 53ms/step - loss: 1.5590 - accuracy: 0.4274 - val_loss: 1.4693 - val_accuracy: 0.4553\n",
      "26/26 [==============================] - 1s 49ms/step - loss: 1.5582 - accuracy: 0.4296 - val_loss: 1.5053 - val_accuracy: 0.4453\n",
      "26/26 [==============================] - 2s 59ms/step - loss: 1.5397 - accuracy: 0.4402 - val_loss: 1.5469 - val_accuracy: 0.4333\n",
      "26/26 [==============================] - 1s 50ms/step - loss: 1.5065 - accuracy: 0.4476 - val_loss: 1.4607 - val_accuracy: 0.4587\n",
      "26/26 [==============================] - 1s 50ms/step - loss: 1.5183 - accuracy: 0.4470 - val_loss: 1.4346 - val_accuracy: 0.4800\n",
      "27/27 [==============================] - 1s 48ms/step - loss: 1.4973 - accuracy: 0.4456 - val_loss: 1.4973 - val_accuracy: 0.4620\n",
      "27/27 [==============================] - 1s 56ms/step - loss: 1.4780 - accuracy: 0.4526 - val_loss: 1.4272 - val_accuracy: 0.4840\n",
      "27/27 [==============================] - 1s 50ms/step - loss: 1.4750 - accuracy: 0.4647 - val_loss: 1.4201 - val_accuracy: 0.4893\n",
      "27/27 [==============================] - 1s 50ms/step - loss: 1.4755 - accuracy: 0.4609 - val_loss: 1.4046 - val_accuracy: 0.4893\n",
      "27/27 [==============================] - 1s 51ms/step - loss: 1.4505 - accuracy: 0.4729 - val_loss: 1.4269 - val_accuracy: 0.4780\n",
      "27/27 [==============================] - 1s 47ms/step - loss: 1.4704 - accuracy: 0.4695 - val_loss: 1.4060 - val_accuracy: 0.4913\n",
      "27/27 [==============================] - 1s 49ms/step - loss: 1.4429 - accuracy: 0.4735 - val_loss: 1.4426 - val_accuracy: 0.4833\n",
      "27/27 [==============================] - 1s 50ms/step - loss: 1.4376 - accuracy: 0.4776 - val_loss: 1.4712 - val_accuracy: 0.4673\n",
      "27/27 [==============================] - 1s 51ms/step - loss: 1.4169 - accuracy: 0.4770 - val_loss: 1.4489 - val_accuracy: 0.4847\n",
      "27/27 [==============================] - 1s 47ms/step - loss: 1.4056 - accuracy: 0.4893 - val_loss: 1.4598 - val_accuracy: 0.4700\n",
      "27/27 [==============================] - 1s 50ms/step - loss: 1.3990 - accuracy: 0.4931 - val_loss: 1.4383 - val_accuracy: 0.4787\n",
      "27/27 [==============================] - 2s 68ms/step - loss: 1.3975 - accuracy: 0.4843 - val_loss: 1.3824 - val_accuracy: 0.5073\n",
      "27/27 [==============================] - 1s 52ms/step - loss: 1.3849 - accuracy: 0.4980 - val_loss: 1.3912 - val_accuracy: 0.4960\n",
      "27/27 [==============================] - 1s 50ms/step - loss: 1.3773 - accuracy: 0.4932 - val_loss: 1.4505 - val_accuracy: 0.4820\n",
      "27/27 [==============================] - 1s 50ms/step - loss: 1.3550 - accuracy: 0.5007 - val_loss: 1.3832 - val_accuracy: 0.5007\n",
      "27/27 [==============================] - 1s 50ms/step - loss: 1.3731 - accuracy: 0.5003 - val_loss: 1.3906 - val_accuracy: 0.5020\n",
      "27/27 [==============================] - 1s 50ms/step - loss: 1.3589 - accuracy: 0.5012 - val_loss: 1.4009 - val_accuracy: 0.5007\n",
      "28/28 [==============================] - 1s 50ms/step - loss: 1.3507 - accuracy: 0.5133 - val_loss: 1.4227 - val_accuracy: 0.4947\n",
      "28/28 [==============================] - 1s 49ms/step - loss: 1.3963 - accuracy: 0.4887 - val_loss: 1.5188 - val_accuracy: 0.4513\n",
      "28/28 [==============================] - 1s 48ms/step - loss: 1.3826 - accuracy: 0.4953 - val_loss: 1.5021 - val_accuracy: 0.4627\n",
      "28/28 [==============================] - 1s 49ms/step - loss: 1.3615 - accuracy: 0.4928 - val_loss: 1.3578 - val_accuracy: 0.5093\n",
      "28/28 [==============================] - 1s 48ms/step - loss: 1.3390 - accuracy: 0.5106 - val_loss: 1.3599 - val_accuracy: 0.5107\n",
      "28/28 [==============================] - 1s 52ms/step - loss: 1.3287 - accuracy: 0.5055 - val_loss: 1.3779 - val_accuracy: 0.5073\n",
      "28/28 [==============================] - 1s 53ms/step - loss: 1.3218 - accuracy: 0.5222 - val_loss: 1.3633 - val_accuracy: 0.5067\n",
      "28/28 [==============================] - 1s 50ms/step - loss: 1.3186 - accuracy: 0.5187 - val_loss: 1.3761 - val_accuracy: 0.5067\n",
      "28/28 [==============================] - 1s 49ms/step - loss: 1.3116 - accuracy: 0.5207 - val_loss: 1.3453 - val_accuracy: 0.5227\n",
      "28/28 [==============================] - 1s 50ms/step - loss: 1.3061 - accuracy: 0.5278 - val_loss: 1.5751 - val_accuracy: 0.4673\n",
      "28/28 [==============================] - 1s 49ms/step - loss: 1.2938 - accuracy: 0.5286 - val_loss: 1.3820 - val_accuracy: 0.5073\n",
      "28/28 [==============================] - 1s 47ms/step - loss: 1.2709 - accuracy: 0.5403 - val_loss: 1.3860 - val_accuracy: 0.5173\n",
      "28/28 [==============================] - 1s 49ms/step - loss: 1.2612 - accuracy: 0.5340 - val_loss: 1.3617 - val_accuracy: 0.5227\n",
      "28/28 [==============================] - 1s 52ms/step - loss: 1.2746 - accuracy: 0.5298 - val_loss: 1.4631 - val_accuracy: 0.4907\n",
      "28/28 [==============================] - 1s 52ms/step - loss: 1.2772 - accuracy: 0.5371 - val_loss: 1.3973 - val_accuracy: 0.5060\n",
      "28/28 [==============================] - 1s 49ms/step - loss: 1.2783 - accuracy: 0.5315 - val_loss: 1.3976 - val_accuracy: 0.5113\n",
      "28/28 [==============================] - 1s 49ms/step - loss: 1.2608 - accuracy: 0.5413 - val_loss: 1.4615 - val_accuracy: 0.4900\n",
      "28/28 [==============================] - 1s 52ms/step - loss: 1.2599 - accuracy: 0.5388 - val_loss: 1.3220 - val_accuracy: 0.5307\n",
      "28/28 [==============================] - 1s 48ms/step - loss: 1.2508 - accuracy: 0.5430 - val_loss: 1.3558 - val_accuracy: 0.5140\n",
      "28/28 [==============================] - 1s 48ms/step - loss: 1.2395 - accuracy: 0.5445 - val_loss: 1.3503 - val_accuracy: 0.5227\n",
      "28/28 [==============================] - 1s 33ms/step - loss: 1.2335 - accuracy: 0.5564 - val_loss: 1.3361 - val_accuracy: 0.5300\n",
      "28/28 [==============================] - 1s 47ms/step - loss: 1.2112 - accuracy: 0.5616 - val_loss: 1.3417 - val_accuracy: 0.5200\n",
      "28/28 [==============================] - 1s 48ms/step - loss: 1.2232 - accuracy: 0.5565 - val_loss: 1.3401 - val_accuracy: 0.5387\n",
      "28/28 [==============================] - 1s 50ms/step - loss: 1.2275 - accuracy: 0.5531 - val_loss: 1.3270 - val_accuracy: 0.5447\n",
      "28/28 [==============================] - 1s 53ms/step - loss: 1.1974 - accuracy: 0.5643 - val_loss: 1.3792 - val_accuracy: 0.5220\n",
      "28/28 [==============================] - 1s 49ms/step - loss: 1.2075 - accuracy: 0.5607 - val_loss: 1.3273 - val_accuracy: 0.5393\n",
      "28/28 [==============================] - 1s 47ms/step - loss: 1.2044 - accuracy: 0.5597 - val_loss: 1.3365 - val_accuracy: 0.5353\n",
      "28/28 [==============================] - 1s 48ms/step - loss: 1.2071 - accuracy: 0.5582 - val_loss: 1.3678 - val_accuracy: 0.5153\n",
      "28/28 [==============================] - 1s 46ms/step - loss: 1.1924 - accuracy: 0.5662 - val_loss: 1.3500 - val_accuracy: 0.5260\n",
      "28/28 [==============================] - 1s 47ms/step - loss: 1.1831 - accuracy: 0.5686 - val_loss: 1.3628 - val_accuracy: 0.5260\n",
      "28/28 [==============================] - 1s 48ms/step - loss: 1.1932 - accuracy: 0.5684 - val_loss: 1.3281 - val_accuracy: 0.5360\n",
      "28/28 [==============================] - 1s 50ms/step - loss: 1.1609 - accuracy: 0.5747 - val_loss: 1.3348 - val_accuracy: 0.5307\n",
      "28/28 [==============================] - 1s 47ms/step - loss: 1.1834 - accuracy: 0.5733 - val_loss: 1.3426 - val_accuracy: 0.5327\n",
      "28/28 [==============================] - 1s 49ms/step - loss: 1.1659 - accuracy: 0.5781 - val_loss: 1.3469 - val_accuracy: 0.5253\n",
      "28/28 [==============================] - 1s 50ms/step - loss: 1.1601 - accuracy: 0.5812 - val_loss: 1.3405 - val_accuracy: 0.5307\n",
      "28/28 [==============================] - 1s 52ms/step - loss: 1.1598 - accuracy: 0.5786 - val_loss: 1.3390 - val_accuracy: 0.5393\n",
      "28/28 [==============================] - 1s 46ms/step - loss: 1.1568 - accuracy: 0.5763 - val_loss: 1.3255 - val_accuracy: 0.5420\n",
      "6/6 [==============================] - 0s 13ms/step - loss: 1.3171 - accuracy: 0.5200\n"
     ]
    },
    {
     "name": "stderr",
     "output_type": "stream",
     "text": [
      " 67%|██████▋   | 2/3 [04:30<02:14, 134.30s/it]"
     ]
    },
    {
     "name": "stdout",
     "output_type": "stream",
     "text": [
      "2/2 [==============================] - 1s 232ms/step - loss: 2.8087 - accuracy: 0.1039 - val_loss: 4.1667 - val_accuracy: 0.0967\n",
      "3/3 [==============================] - 0s 100ms/step - loss: 2.7431 - accuracy: 0.1093 - val_loss: 3.2417 - val_accuracy: 0.1007\n",
      "4/4 [==============================] - 0s 62ms/step - loss: 2.6293 - accuracy: 0.1198 - val_loss: 2.9837 - val_accuracy: 0.1027\n",
      "5/5 [==============================] - 0s 65ms/step - loss: 2.6254 - accuracy: 0.1036 - val_loss: 2.9857 - val_accuracy: 0.0933\n",
      "6/6 [==============================] - 0s 70ms/step - loss: 2.5932 - accuracy: 0.1151 - val_loss: 3.2926 - val_accuracy: 0.0927\n",
      "7/7 [==============================] - 0s 56ms/step - loss: 2.4855 - accuracy: 0.1292 - val_loss: 3.8027 - val_accuracy: 0.0927\n",
      "8/8 [==============================] - 0s 60ms/step - loss: 2.4582 - accuracy: 0.1440 - val_loss: 3.9773 - val_accuracy: 0.0920\n",
      "9/9 [==============================] - 0s 52ms/step - loss: 2.3738 - accuracy: 0.1588 - val_loss: 4.3915 - val_accuracy: 0.0913\n",
      "10/10 [==============================] - 0s 44ms/step - loss: 2.3081 - accuracy: 0.1722 - val_loss: 4.9551 - val_accuracy: 0.0920\n",
      "11/11 [==============================] - 1s 53ms/step - loss: 2.2608 - accuracy: 0.2001 - val_loss: 4.2840 - val_accuracy: 0.0913\n",
      "12/12 [==============================] - 1s 49ms/step - loss: 2.1994 - accuracy: 0.2028 - val_loss: 3.1163 - val_accuracy: 0.1013\n",
      "13/13 [==============================] - 1s 50ms/step - loss: 2.1603 - accuracy: 0.2075 - val_loss: 3.2226 - val_accuracy: 0.1233\n",
      "14/14 [==============================] - 1s 45ms/step - loss: 2.1380 - accuracy: 0.2097 - val_loss: 2.7057 - val_accuracy: 0.1433\n",
      "14/14 [==============================] - 1s 52ms/step - loss: 2.0529 - accuracy: 0.2453 - val_loss: 2.5550 - val_accuracy: 0.1627\n",
      "15/15 [==============================] - 1s 51ms/step - loss: 2.0298 - accuracy: 0.2559 - val_loss: 2.3284 - val_accuracy: 0.1980\n",
      "16/16 [==============================] - 1s 47ms/step - loss: 2.0230 - accuracy: 0.2544 - val_loss: 2.1297 - val_accuracy: 0.2267\n",
      "17/17 [==============================] - 1s 51ms/step - loss: 1.9584 - accuracy: 0.2800 - val_loss: 2.0591 - val_accuracy: 0.2573\n",
      "17/17 [==============================] - 1s 52ms/step - loss: 1.9596 - accuracy: 0.2758 - val_loss: 1.9491 - val_accuracy: 0.2960\n",
      "18/18 [==============================] - 1s 49ms/step - loss: 1.9157 - accuracy: 0.2908 - val_loss: 1.9115 - val_accuracy: 0.3087\n",
      "19/19 [==============================] - 1s 45ms/step - loss: 1.8948 - accuracy: 0.2958 - val_loss: 1.8147 - val_accuracy: 0.3280\n",
      "19/19 [==============================] - 1s 53ms/step - loss: 1.8807 - accuracy: 0.3137 - val_loss: 1.7822 - val_accuracy: 0.3400\n",
      "20/20 [==============================] - 1s 50ms/step - loss: 1.8488 - accuracy: 0.3248 - val_loss: 1.7834 - val_accuracy: 0.3333\n",
      "20/20 [==============================] - 1s 49ms/step - loss: 1.8319 - accuracy: 0.3230 - val_loss: 1.7396 - val_accuracy: 0.3627\n",
      "21/21 [==============================] - 1s 46ms/step - loss: 1.8111 - accuracy: 0.3352 - val_loss: 1.7113 - val_accuracy: 0.3580\n",
      "21/21 [==============================] - 1s 51ms/step - loss: 1.7998 - accuracy: 0.3416 - val_loss: 1.7472 - val_accuracy: 0.3613\n",
      "22/22 [==============================] - 1s 49ms/step - loss: 1.7770 - accuracy: 0.3495 - val_loss: 1.6838 - val_accuracy: 0.3687\n",
      "22/22 [==============================] - 1s 50ms/step - loss: 1.7689 - accuracy: 0.3460 - val_loss: 1.7096 - val_accuracy: 0.3573\n",
      "23/23 [==============================] - 1s 50ms/step - loss: 1.7521 - accuracy: 0.3567 - val_loss: 1.7291 - val_accuracy: 0.3660\n",
      "23/23 [==============================] - 1s 47ms/step - loss: 1.7294 - accuracy: 0.3581 - val_loss: 1.6623 - val_accuracy: 0.3787\n",
      "23/23 [==============================] - 1s 47ms/step - loss: 1.7322 - accuracy: 0.3630 - val_loss: 1.6161 - val_accuracy: 0.3967\n",
      "24/24 [==============================] - 1s 47ms/step - loss: 1.7025 - accuracy: 0.3766 - val_loss: 1.5925 - val_accuracy: 0.4000\n",
      "24/24 [==============================] - 1s 45ms/step - loss: 1.6971 - accuracy: 0.3815 - val_loss: 1.5862 - val_accuracy: 0.4027\n",
      "24/24 [==============================] - 1s 47ms/step - loss: 1.6731 - accuracy: 0.3845 - val_loss: 1.5775 - val_accuracy: 0.3993\n",
      "24/24 [==============================] - 1s 54ms/step - loss: 1.6414 - accuracy: 0.3981 - val_loss: 1.5735 - val_accuracy: 0.3960\n",
      "25/25 [==============================] - 1s 47ms/step - loss: 1.6574 - accuracy: 0.3931 - val_loss: 1.5469 - val_accuracy: 0.4100\n",
      "25/25 [==============================] - 1s 48ms/step - loss: 1.6382 - accuracy: 0.3958 - val_loss: 1.5911 - val_accuracy: 0.4120\n",
      "25/25 [==============================] - 1s 47ms/step - loss: 1.6234 - accuracy: 0.3959 - val_loss: 1.5508 - val_accuracy: 0.4247\n",
      "25/25 [==============================] - 1s 48ms/step - loss: 1.6147 - accuracy: 0.4019 - val_loss: 1.5738 - val_accuracy: 0.4113\n",
      "26/26 [==============================] - 2s 58ms/step - loss: 1.6070 - accuracy: 0.4074 - val_loss: 1.5502 - val_accuracy: 0.4073\n",
      "26/26 [==============================] - 1s 53ms/step - loss: 1.5991 - accuracy: 0.4108 - val_loss: 1.5743 - val_accuracy: 0.4167\n",
      "26/26 [==============================] - 1s 52ms/step - loss: 1.5727 - accuracy: 0.4248 - val_loss: 1.5795 - val_accuracy: 0.4240\n",
      "26/26 [==============================] - 1s 55ms/step - loss: 1.5571 - accuracy: 0.4236 - val_loss: 1.5873 - val_accuracy: 0.4173\n",
      "26/26 [==============================] - 1s 54ms/step - loss: 1.5613 - accuracy: 0.4279 - val_loss: 1.4869 - val_accuracy: 0.4453\n",
      "26/26 [==============================] - 1s 54ms/step - loss: 1.5368 - accuracy: 0.4303 - val_loss: 1.4924 - val_accuracy: 0.4507\n",
      "26/26 [==============================] - 1s 54ms/step - loss: 1.5299 - accuracy: 0.4393 - val_loss: 1.4870 - val_accuracy: 0.4473\n",
      "26/26 [==============================] - 1s 54ms/step - loss: 1.5306 - accuracy: 0.4386 - val_loss: 1.5447 - val_accuracy: 0.4440\n",
      "27/27 [==============================] - 1s 49ms/step - loss: 1.5204 - accuracy: 0.4421 - val_loss: 1.4730 - val_accuracy: 0.4540\n",
      "27/27 [==============================] - 2s 75ms/step - loss: 1.5076 - accuracy: 0.4473 - val_loss: 1.4591 - val_accuracy: 0.4633\n",
      "27/27 [==============================] - 2s 74ms/step - loss: 1.5041 - accuracy: 0.4425 - val_loss: 1.5055 - val_accuracy: 0.4500\n",
      "27/27 [==============================] - 1s 51ms/step - loss: 1.4819 - accuracy: 0.4535 - val_loss: 1.4902 - val_accuracy: 0.4553\n",
      "27/27 [==============================] - 1s 52ms/step - loss: 1.4766 - accuracy: 0.4603 - val_loss: 1.4602 - val_accuracy: 0.4667\n",
      "27/27 [==============================] - 1s 53ms/step - loss: 1.4765 - accuracy: 0.4558 - val_loss: 1.4375 - val_accuracy: 0.4720\n",
      "27/27 [==============================] - 2s 61ms/step - loss: 1.4643 - accuracy: 0.4655 - val_loss: 1.5577 - val_accuracy: 0.4427\n",
      "27/27 [==============================] - 1s 53ms/step - loss: 1.4452 - accuracy: 0.4717 - val_loss: 1.4891 - val_accuracy: 0.4653\n",
      "27/27 [==============================] - 2s 61ms/step - loss: 1.4481 - accuracy: 0.4688 - val_loss: 1.4302 - val_accuracy: 0.4753\n",
      "27/27 [==============================] - 2s 65ms/step - loss: 1.4331 - accuracy: 0.4748 - val_loss: 1.4999 - val_accuracy: 0.4640\n",
      "27/27 [==============================] - 1s 52ms/step - loss: 1.4115 - accuracy: 0.4894 - val_loss: 1.4396 - val_accuracy: 0.4787\n",
      "27/27 [==============================] - 2s 63ms/step - loss: 1.4129 - accuracy: 0.4831 - val_loss: 1.6050 - val_accuracy: 0.4453\n",
      "27/27 [==============================] - 1s 53ms/step - loss: 1.4104 - accuracy: 0.4850 - val_loss: 1.4981 - val_accuracy: 0.4713\n",
      "27/27 [==============================] - 1s 55ms/step - loss: 1.3999 - accuracy: 0.4828 - val_loss: 1.4557 - val_accuracy: 0.4833\n",
      "27/27 [==============================] - 1s 50ms/step - loss: 1.3887 - accuracy: 0.4897 - val_loss: 1.4860 - val_accuracy: 0.4707\n",
      "27/27 [==============================] - 1s 48ms/step - loss: 1.3771 - accuracy: 0.4909 - val_loss: 1.4904 - val_accuracy: 0.4613\n",
      "27/27 [==============================] - 1s 50ms/step - loss: 1.3829 - accuracy: 0.4943 - val_loss: 1.3738 - val_accuracy: 0.5173\n",
      "28/28 [==============================] - 1s 48ms/step - loss: 1.3769 - accuracy: 0.4999 - val_loss: 1.5581 - val_accuracy: 0.4600\n",
      "28/28 [==============================] - 1s 52ms/step - loss: 1.3956 - accuracy: 0.4941 - val_loss: 1.5994 - val_accuracy: 0.4513\n",
      "28/28 [==============================] - 1s 48ms/step - loss: 1.3718 - accuracy: 0.4955 - val_loss: 1.4566 - val_accuracy: 0.4840\n",
      "28/28 [==============================] - 1s 50ms/step - loss: 1.3679 - accuracy: 0.4990 - val_loss: 1.4201 - val_accuracy: 0.4887\n",
      "28/28 [==============================] - 1s 50ms/step - loss: 1.3596 - accuracy: 0.5030 - val_loss: 1.5349 - val_accuracy: 0.4520\n",
      "28/28 [==============================] - 1s 51ms/step - loss: 1.3619 - accuracy: 0.5037 - val_loss: 1.4450 - val_accuracy: 0.4820\n",
      "28/28 [==============================] - 1s 52ms/step - loss: 1.3506 - accuracy: 0.5085 - val_loss: 1.3757 - val_accuracy: 0.4993\n",
      "28/28 [==============================] - 1s 52ms/step - loss: 1.3274 - accuracy: 0.5164 - val_loss: 1.4060 - val_accuracy: 0.4913\n",
      "28/28 [==============================] - 1s 50ms/step - loss: 1.3452 - accuracy: 0.5039 - val_loss: 1.3645 - val_accuracy: 0.5093\n",
      "28/28 [==============================] - 1s 50ms/step - loss: 1.3148 - accuracy: 0.5199 - val_loss: 1.4482 - val_accuracy: 0.4853\n",
      "28/28 [==============================] - 1s 52ms/step - loss: 1.3080 - accuracy: 0.5165 - val_loss: 1.4074 - val_accuracy: 0.5007\n",
      "28/28 [==============================] - 1s 47ms/step - loss: 1.3143 - accuracy: 0.5200 - val_loss: 1.4468 - val_accuracy: 0.4873\n",
      "28/28 [==============================] - 1s 48ms/step - loss: 1.3204 - accuracy: 0.5260 - val_loss: 1.4522 - val_accuracy: 0.4807\n",
      "28/28 [==============================] - 1s 51ms/step - loss: 1.2939 - accuracy: 0.5357 - val_loss: 1.4039 - val_accuracy: 0.5040\n",
      "28/28 [==============================] - 1s 50ms/step - loss: 1.3057 - accuracy: 0.5245 - val_loss: 1.3879 - val_accuracy: 0.5007\n",
      "28/28 [==============================] - 1s 48ms/step - loss: 1.2783 - accuracy: 0.5337 - val_loss: 1.4684 - val_accuracy: 0.4867\n",
      "28/28 [==============================] - 1s 49ms/step - loss: 1.2829 - accuracy: 0.5333 - val_loss: 1.3452 - val_accuracy: 0.5200\n",
      "28/28 [==============================] - 1s 32ms/step - loss: 1.2845 - accuracy: 0.5246 - val_loss: 1.4197 - val_accuracy: 0.4967\n",
      "28/28 [==============================] - 1s 29ms/step - loss: 1.2676 - accuracy: 0.5337 - val_loss: 1.3564 - val_accuracy: 0.5140\n",
      "28/28 [==============================] - 1s 29ms/step - loss: 1.2555 - accuracy: 0.5367 - val_loss: 1.4044 - val_accuracy: 0.4993\n",
      "28/28 [==============================] - 1s 31ms/step - loss: 1.2522 - accuracy: 0.5502 - val_loss: 1.3357 - val_accuracy: 0.5327\n",
      "28/28 [==============================] - 1s 33ms/step - loss: 1.2405 - accuracy: 0.5508 - val_loss: 1.3994 - val_accuracy: 0.5067\n",
      "28/28 [==============================] - 1s 32ms/step - loss: 1.2420 - accuracy: 0.5482 - val_loss: 1.3968 - val_accuracy: 0.5000\n",
      "28/28 [==============================] - 1s 30ms/step - loss: 1.2432 - accuracy: 0.5465 - val_loss: 1.3563 - val_accuracy: 0.5007\n",
      "28/28 [==============================] - 1s 34ms/step - loss: 1.2484 - accuracy: 0.5515 - val_loss: 1.4057 - val_accuracy: 0.5053\n",
      "28/28 [==============================] - 1s 32ms/step - loss: 1.2439 - accuracy: 0.5432 - val_loss: 1.3525 - val_accuracy: 0.5313\n",
      "28/28 [==============================] - 1s 33ms/step - loss: 1.2379 - accuracy: 0.5467 - val_loss: 1.3767 - val_accuracy: 0.4987\n",
      "28/28 [==============================] - 1s 31ms/step - loss: 1.2145 - accuracy: 0.5559 - val_loss: 1.3683 - val_accuracy: 0.5107\n",
      "28/28 [==============================] - 1s 35ms/step - loss: 1.2233 - accuracy: 0.5561 - val_loss: 1.3723 - val_accuracy: 0.5073\n",
      "28/28 [==============================] - 1s 30ms/step - loss: 1.2063 - accuracy: 0.5529 - val_loss: 1.4075 - val_accuracy: 0.4920\n",
      "28/28 [==============================] - 1s 29ms/step - loss: 1.2120 - accuracy: 0.5641 - val_loss: 1.3981 - val_accuracy: 0.5047\n",
      "28/28 [==============================] - 1s 32ms/step - loss: 1.2075 - accuracy: 0.5609 - val_loss: 1.3727 - val_accuracy: 0.5200\n",
      "28/28 [==============================] - 1s 30ms/step - loss: 1.2113 - accuracy: 0.5606 - val_loss: 1.3589 - val_accuracy: 0.5233\n",
      "28/28 [==============================] - 1s 30ms/step - loss: 1.1935 - accuracy: 0.5665 - val_loss: 1.3691 - val_accuracy: 0.5187\n",
      "28/28 [==============================] - 1s 30ms/step - loss: 1.1785 - accuracy: 0.5706 - val_loss: 1.4317 - val_accuracy: 0.4993\n",
      "28/28 [==============================] - 1s 31ms/step - loss: 1.1839 - accuracy: 0.5652 - val_loss: 1.5168 - val_accuracy: 0.4867\n",
      "28/28 [==============================] - 1s 31ms/step - loss: 1.1869 - accuracy: 0.5655 - val_loss: 1.3583 - val_accuracy: 0.5233\n",
      "6/6 [==============================] - 0s 8ms/step - loss: 1.3533 - accuracy: 0.5047\n"
     ]
    },
    {
     "name": "stderr",
     "output_type": "stream",
     "text": [
      "100%|██████████| 3/3 [06:36<00:00, 132.17s/it]\n"
     ]
    }
   ],
   "source": [
    "for test_model in test_models:\n",
    "    print(test_model)\n",
    "    model_scores = []\n",
    "\n",
    "    for _ in tqdm(range(N_TRIALS)):\n",
    "        model = ClassifierModel(output_shape=10, **models_hyperparameters[test_model])\n",
    "        \n",
    "        model.compile(optimizer='adam', loss=loss, metrics=['accuracy'])\n",
    "        \n",
    "        for i in range(N_EPOCHS):\n",
    "            n_samples = int(np.tanh(2 * (i + 1)/ (N_EPOCHS / 2)) * train_size)\n",
    "            samples_ids = np.random.choice(range(train_size), n_samples, replace=False)\n",
    "\n",
    "            model.fit(\n",
    "                x_train[samples_ids], y_train[samples_ids], \n",
    "                validation_data=(x_val, y_val),\n",
    "                epochs=1, batch_size=BATCH_SIZE,\n",
    "                verbose=1, callbacks=[early_stopping]\n",
    "            )\n",
    "        \n",
    "        _, accuracy = model.evaluate(x_test, y_test, batch_size=BATCH_SIZE, verbose=1)\n",
    "        \n",
    "        model_scores.append(accuracy)\n",
    "\n",
    "    results[test_model] = model_scores"
   ],
   "metadata": {
    "collapsed": false,
    "ExecuteTime": {
     "end_time": "2024-02-20T17:43:07.551464Z",
     "start_time": "2024-02-20T17:36:30.988115Z"
    }
   },
   "id": "db6359a77869578b"
  },
  {
   "cell_type": "code",
   "execution_count": 116,
   "outputs": [
    {
     "data": {
      "text/plain": "{'test_model_1': [0.527999997138977, 0.5199999809265137, 0.5046666860580444]}"
     },
     "execution_count": 116,
     "metadata": {},
     "output_type": "execute_result"
    }
   ],
   "source": [
    "results"
   ],
   "metadata": {
    "collapsed": false,
    "ExecuteTime": {
     "end_time": "2024-02-20T17:55:42.322401Z",
     "start_time": "2024-02-20T17:55:42.317197Z"
    }
   },
   "id": "b42fa9a082067602"
  },
  {
   "cell_type": "code",
   "execution_count": null,
   "outputs": [],
   "source": [
    "{'test_model_1': [0.5246666669845581, 0.4620000123977661, 0.4846666753292084]}"
   ],
   "metadata": {
    "collapsed": false
   },
   "id": "a64fc3e7a84f0afd"
  },
  {
   "cell_type": "code",
   "execution_count": 97,
   "outputs": [
    {
     "data": {
      "text/plain": "0.6858090622290945"
     },
     "execution_count": 97,
     "metadata": {},
     "output_type": "execute_result"
    }
   ],
   "source": [
    "(np.tanh(2 * (20 + 1)/ (100 / 2)))"
   ],
   "metadata": {
    "collapsed": false,
    "ExecuteTime": {
     "end_time": "2024-02-20T17:25:05.116030Z",
     "start_time": "2024-02-20T17:25:05.105111Z"
    }
   },
   "id": "e42d618947400d47"
  },
  {
   "cell_type": "code",
   "execution_count": null,
   "outputs": [],
   "source": [],
   "metadata": {
    "collapsed": false
   },
   "id": "402ee4236dbecd36"
  }
 ],
 "metadata": {
  "kernelspec": {
   "display_name": "Python 3",
   "language": "python",
   "name": "python3"
  },
  "language_info": {
   "codemirror_mode": {
    "name": "ipython",
    "version": 2
   },
   "file_extension": ".py",
   "mimetype": "text/x-python",
   "name": "python",
   "nbconvert_exporter": "python",
   "pygments_lexer": "ipython2",
   "version": "2.7.6"
  }
 },
 "nbformat": 4,
 "nbformat_minor": 5
}
