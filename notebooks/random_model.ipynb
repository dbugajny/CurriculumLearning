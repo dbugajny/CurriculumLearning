{
 "cells": [
  {
   "cell_type": "code",
   "execution_count": 142,
   "id": "initial_id",
   "metadata": {
    "collapsed": true,
    "ExecuteTime": {
     "end_time": "2024-02-20T19:21:52.326592Z",
     "start_time": "2024-02-20T19:21:52.321171Z"
    }
   },
   "outputs": [],
   "source": [
    "import numpy as np\n",
    "import tensorflow as tf\n",
    "from curriculum_learning.models.classifier_model import ClassifierModel\n",
    "from curriculum_learning import utils\n",
    "import yaml\n",
    "from tqdm import tqdm\n",
    "from sklearn.model_selection import train_test_split"
   ]
  },
  {
   "cell_type": "code",
   "execution_count": 143,
   "outputs": [],
   "source": [
    "N_EPOCHS = 70\n",
    "N_TRIALS = 3\n",
    "BATCH_SIZE = 256\n",
    "\n",
    "loss = tf.keras.losses.SparseCategoricalCrossentropy()"
   ],
   "metadata": {
    "collapsed": false,
    "ExecuteTime": {
     "end_time": "2024-02-20T19:21:52.530548Z",
     "start_time": "2024-02-20T19:21:52.523048Z"
    }
   },
   "id": "5ba619241c769e59"
  },
  {
   "cell_type": "code",
   "execution_count": 152,
   "outputs": [],
   "source": [
    "with open(\"models_hyperparameters.yaml\", \"r\") as stream:\n",
    "    models_hyperparameters = yaml.safe_load(stream)\n",
    "    \n",
    "x, y = utils.load_data(\"../data/cifar-10-batches-py/data_batch_1\")\n",
    "x_train, x_test, y_train, y_test = train_test_split(x, y, test_size=0.3, random_state=42)\n",
    "x_test, x_val, y_test, y_val = train_test_split(x_test, y_test, test_size=0.5, random_state=42)\n",
    "\n",
    "train_size = x_train.shape[0]\n",
    "\n",
    "# x_train = x_train / 255\n",
    "# x_val = x_val / 255\n",
    "# x_test = x_test / 255"
   ],
   "metadata": {
    "collapsed": false,
    "ExecuteTime": {
     "end_time": "2024-02-20T19:33:39.142445Z",
     "start_time": "2024-02-20T19:33:38.982995Z"
    }
   },
   "id": "869132b068be0fff"
  },
  {
   "cell_type": "code",
   "execution_count": 153,
   "outputs": [],
   "source": [
    "noise = 30\n",
    "x_train = np.clip(x_train + np.random.normal(0, noise, x_train.shape), 0, 255) / 255\n",
    "x_val = np.clip(x_val + np.random.normal(0, noise, x_val.shape), 0, 255) / 255\n",
    "x_test = np.clip(x_test + np.random.normal(0, noise, x_test.shape), 0, 255) / 255"
   ],
   "metadata": {
    "collapsed": false,
    "ExecuteTime": {
     "end_time": "2024-02-20T19:33:40.231201Z",
     "start_time": "2024-02-20T19:33:39.373542Z"
    }
   },
   "id": "7875c795d0519267"
  },
  {
   "cell_type": "code",
   "execution_count": 154,
   "outputs": [],
   "source": [
    "results = {}\n",
    "\n",
    "# test_models = [\"test_model_1\", \"test_model_2\", \"test_model_3\"]\n",
    "test_models = [\"test_model_1\"]"
   ],
   "metadata": {
    "collapsed": false,
    "ExecuteTime": {
     "end_time": "2024-02-20T19:33:40.239554Z",
     "start_time": "2024-02-20T19:33:40.230972Z"
    }
   },
   "id": "92315aab6b5898bf"
  },
  {
   "cell_type": "code",
   "execution_count": 155,
   "outputs": [
    {
     "name": "stdout",
     "output_type": "stream",
     "text": [
      "test_model_1\n"
     ]
    },
    {
     "name": "stderr",
     "output_type": "stream",
     "text": [
      "  0%|          | 0/3 [00:00<?, ?it/s]"
     ]
    },
    {
     "name": "stdout",
     "output_type": "stream",
     "text": [
      "2/2 [==============================] - 1s 337ms/step - loss: 2.6767 - accuracy: 0.0977 - val_loss: 2.3032 - val_accuracy: 0.1080\n",
      "4/4 [==============================] - 0s 132ms/step - loss: 2.6304 - accuracy: 0.1055 - val_loss: 2.3036 - val_accuracy: 0.1140\n",
      "5/5 [==============================] - 1s 129ms/step - loss: 2.5531 - accuracy: 0.1162 - val_loss: 2.3034 - val_accuracy: 0.1187\n",
      "7/7 [==============================] - 1s 153ms/step - loss: 2.4438 - accuracy: 0.1457 - val_loss: 2.2966 - val_accuracy: 0.1320\n",
      "8/8 [==============================] - 1s 131ms/step - loss: 2.3505 - accuracy: 0.1669 - val_loss: 2.2843 - val_accuracy: 0.1240\n",
      "10/10 [==============================] - 1s 111ms/step - loss: 2.2866 - accuracy: 0.1810 - val_loss: 2.2636 - val_accuracy: 0.1627\n",
      "11/11 [==============================] - 1s 113ms/step - loss: 2.1872 - accuracy: 0.2083 - val_loss: 2.2544 - val_accuracy: 0.1560\n",
      "12/12 [==============================] - 2s 167ms/step - loss: 2.1220 - accuracy: 0.2371 - val_loss: 2.2731 - val_accuracy: 0.1087\n",
      "13/13 [==============================] - 1s 103ms/step - loss: 2.0882 - accuracy: 0.2352 - val_loss: 2.2960 - val_accuracy: 0.1013\n",
      "15/15 [==============================] - 1s 100ms/step - loss: 2.0355 - accuracy: 0.2515 - val_loss: 2.3175 - val_accuracy: 0.1073\n",
      "16/16 [==============================] - 2s 99ms/step - loss: 1.9653 - accuracy: 0.2744 - val_loss: 2.4004 - val_accuracy: 0.1020\n",
      "17/17 [==============================] - 2s 99ms/step - loss: 1.9511 - accuracy: 0.2876 - val_loss: 2.5125 - val_accuracy: 0.1067\n",
      "18/18 [==============================] - 2s 96ms/step - loss: 1.9072 - accuracy: 0.2944 - val_loss: 2.5984 - val_accuracy: 0.1107\n",
      "19/19 [==============================] - 2s 98ms/step - loss: 1.8645 - accuracy: 0.3242 - val_loss: 2.6672 - val_accuracy: 0.1027\n",
      "19/19 [==============================] - 2s 101ms/step - loss: 1.8163 - accuracy: 0.3354 - val_loss: 2.7708 - val_accuracy: 0.1193\n",
      "20/20 [==============================] - 2s 119ms/step - loss: 1.7889 - accuracy: 0.3412 - val_loss: 2.8050 - val_accuracy: 0.1180\n",
      "21/21 [==============================] - 2s 105ms/step - loss: 1.7443 - accuracy: 0.3487 - val_loss: 2.8035 - val_accuracy: 0.1113\n",
      "22/22 [==============================] - 2s 109ms/step - loss: 1.7057 - accuracy: 0.3643 - val_loss: 2.8825 - val_accuracy: 0.1160\n",
      "22/22 [==============================] - 2s 108ms/step - loss: 1.6869 - accuracy: 0.3823 - val_loss: 2.8005 - val_accuracy: 0.1240\n",
      "23/23 [==============================] - 2s 99ms/step - loss: 1.6255 - accuracy: 0.4039 - val_loss: 2.8711 - val_accuracy: 0.1333\n",
      "23/23 [==============================] - 2s 101ms/step - loss: 1.6050 - accuracy: 0.4115 - val_loss: 2.9576 - val_accuracy: 0.1280\n",
      "24/24 [==============================] - 3s 125ms/step - loss: 1.5790 - accuracy: 0.4199 - val_loss: 2.8510 - val_accuracy: 0.1367\n",
      "24/24 [==============================] - 3s 140ms/step - loss: 1.5638 - accuracy: 0.4197 - val_loss: 2.9878 - val_accuracy: 0.1420\n",
      "25/25 [==============================] - 3s 116ms/step - loss: 1.5246 - accuracy: 0.4304 - val_loss: 2.6654 - val_accuracy: 0.1853\n",
      "25/25 [==============================] - 3s 109ms/step - loss: 1.4974 - accuracy: 0.4554 - val_loss: 2.9120 - val_accuracy: 0.1553\n",
      "25/25 [==============================] - 2s 92ms/step - loss: 1.4613 - accuracy: 0.4596 - val_loss: 2.6021 - val_accuracy: 0.2153\n",
      "25/25 [==============================] - 2s 79ms/step - loss: 1.4285 - accuracy: 0.4760 - val_loss: 2.3870 - val_accuracy: 0.2460\n",
      "26/26 [==============================] - 2s 75ms/step - loss: 1.3971 - accuracy: 0.4850 - val_loss: 2.0433 - val_accuracy: 0.3020\n",
      "26/26 [==============================] - 2s 76ms/step - loss: 1.3726 - accuracy: 0.5043 - val_loss: 2.0391 - val_accuracy: 0.3033\n",
      "26/26 [==============================] - 3s 121ms/step - loss: 1.3590 - accuracy: 0.5012 - val_loss: 1.8182 - val_accuracy: 0.3653\n",
      "26/26 [==============================] - 4s 149ms/step - loss: 1.3264 - accuracy: 0.5126 - val_loss: 1.6603 - val_accuracy: 0.4093\n",
      "26/26 [==============================] - 4s 141ms/step - loss: 1.3080 - accuracy: 0.5208 - val_loss: 1.6861 - val_accuracy: 0.4120\n",
      "27/27 [==============================] - 4s 137ms/step - loss: 1.2755 - accuracy: 0.5374 - val_loss: 1.5269 - val_accuracy: 0.4427\n",
      "27/27 [==============================] - 4s 140ms/step - loss: 1.2785 - accuracy: 0.5384 - val_loss: 1.7670 - val_accuracy: 0.3933\n",
      "27/27 [==============================] - 3s 102ms/step - loss: 1.2446 - accuracy: 0.5410 - val_loss: 1.7302 - val_accuracy: 0.4133\n",
      "27/27 [==============================] - 3s 105ms/step - loss: 1.2512 - accuracy: 0.5468 - val_loss: 1.7594 - val_accuracy: 0.4007\n",
      "27/27 [==============================] - 3s 126ms/step - loss: 1.2043 - accuracy: 0.5631 - val_loss: 1.6592 - val_accuracy: 0.4240\n",
      "27/27 [==============================] - 3s 108ms/step - loss: 1.1869 - accuracy: 0.5696 - val_loss: 1.5268 - val_accuracy: 0.4573\n",
      "27/27 [==============================] - 3s 126ms/step - loss: 1.1645 - accuracy: 0.5687 - val_loss: 1.4794 - val_accuracy: 0.4760\n",
      "27/27 [==============================] - 3s 125ms/step - loss: 1.1423 - accuracy: 0.5846 - val_loss: 1.5878 - val_accuracy: 0.4453\n",
      "27/27 [==============================] - 3s 111ms/step - loss: 1.1030 - accuracy: 0.6014 - val_loss: 1.6555 - val_accuracy: 0.4220\n",
      "27/27 [==============================] - 3s 117ms/step - loss: 1.0939 - accuracy: 0.6058 - val_loss: 1.4688 - val_accuracy: 0.4807\n",
      "27/27 [==============================] - 3s 118ms/step - loss: 1.0844 - accuracy: 0.6027 - val_loss: 1.5807 - val_accuracy: 0.4587\n",
      "27/27 [==============================] - 2s 62ms/step - loss: 1.0717 - accuracy: 0.6142 - val_loss: 1.5743 - val_accuracy: 0.4673\n",
      "28/28 [==============================] - 3s 115ms/step - loss: 1.0598 - accuracy: 0.6113 - val_loss: 1.9559 - val_accuracy: 0.3860\n",
      "28/28 [==============================] - 3s 104ms/step - loss: 1.1369 - accuracy: 0.5868 - val_loss: 1.6161 - val_accuracy: 0.4527\n",
      "28/28 [==============================] - 3s 96ms/step - loss: 1.0961 - accuracy: 0.6020 - val_loss: 1.5642 - val_accuracy: 0.4707\n",
      "28/28 [==============================] - 2s 59ms/step - loss: 1.0560 - accuracy: 0.6151 - val_loss: 1.4828 - val_accuracy: 0.4833\n",
      "28/28 [==============================] - 3s 107ms/step - loss: 0.9958 - accuracy: 0.6390 - val_loss: 1.5621 - val_accuracy: 0.4607\n",
      "28/28 [==============================] - 3s 110ms/step - loss: 1.0040 - accuracy: 0.6366 - val_loss: 1.5821 - val_accuracy: 0.4707\n",
      "28/28 [==============================] - 3s 107ms/step - loss: 0.9798 - accuracy: 0.6503 - val_loss: 1.7647 - val_accuracy: 0.4280\n",
      "28/28 [==============================] - 3s 107ms/step - loss: 0.9448 - accuracy: 0.6572 - val_loss: 1.6811 - val_accuracy: 0.4453\n",
      "28/28 [==============================] - 3s 107ms/step - loss: 0.9476 - accuracy: 0.6547 - val_loss: 1.5194 - val_accuracy: 0.4800\n",
      "28/28 [==============================] - 3s 109ms/step - loss: 0.9351 - accuracy: 0.6604 - val_loss: 1.6259 - val_accuracy: 0.4480\n",
      "28/28 [==============================] - 3s 105ms/step - loss: 0.8977 - accuracy: 0.6775 - val_loss: 1.6980 - val_accuracy: 0.4387\n",
      "28/28 [==============================] - 3s 105ms/step - loss: 0.9011 - accuracy: 0.6752 - val_loss: 1.5610 - val_accuracy: 0.4860\n",
      "28/28 [==============================] - 3s 109ms/step - loss: 0.8896 - accuracy: 0.6755 - val_loss: 1.6060 - val_accuracy: 0.4640\n",
      "28/28 [==============================] - 3s 98ms/step - loss: 0.8905 - accuracy: 0.6768 - val_loss: 1.6260 - val_accuracy: 0.4833\n",
      "28/28 [==============================] - 3s 101ms/step - loss: 0.8316 - accuracy: 0.6973 - val_loss: 1.7155 - val_accuracy: 0.4633\n",
      "28/28 [==============================] - 3s 94ms/step - loss: 0.8405 - accuracy: 0.6898 - val_loss: 1.8197 - val_accuracy: 0.4447\n",
      "28/28 [==============================] - 3s 99ms/step - loss: 0.8450 - accuracy: 0.7001 - val_loss: 1.7069 - val_accuracy: 0.4593\n",
      "28/28 [==============================] - 2s 84ms/step - loss: 0.8206 - accuracy: 0.6982 - val_loss: 1.6270 - val_accuracy: 0.4573\n",
      "28/28 [==============================] - 2s 61ms/step - loss: 0.8081 - accuracy: 0.7101 - val_loss: 1.6689 - val_accuracy: 0.4700\n",
      "28/28 [==============================] - 3s 104ms/step - loss: 0.7985 - accuracy: 0.7172 - val_loss: 1.6927 - val_accuracy: 0.4620\n",
      "28/28 [==============================] - 3s 102ms/step - loss: 0.8126 - accuracy: 0.7055 - val_loss: 1.6598 - val_accuracy: 0.4607\n",
      "28/28 [==============================] - 3s 104ms/step - loss: 0.7831 - accuracy: 0.7265 - val_loss: 1.7532 - val_accuracy: 0.4487\n",
      "28/28 [==============================] - 3s 107ms/step - loss: 0.7768 - accuracy: 0.7123 - val_loss: 1.7850 - val_accuracy: 0.4460\n",
      "28/28 [==============================] - 2s 56ms/step - loss: 0.7519 - accuracy: 0.7258 - val_loss: 1.6529 - val_accuracy: 0.4707\n",
      "28/28 [==============================] - 2s 82ms/step - loss: 0.7558 - accuracy: 0.7275 - val_loss: 1.7786 - val_accuracy: 0.4607\n",
      "28/28 [==============================] - 3s 100ms/step - loss: 0.7304 - accuracy: 0.7384 - val_loss: 1.7370 - val_accuracy: 0.4740\n",
      "6/6 [==============================] - 0s 23ms/step - loss: 1.7176 - accuracy: 0.4553\n"
     ]
    },
    {
     "name": "stderr",
     "output_type": "stream",
     "text": [
      " 33%|███▎      | 1/3 [03:09<06:19, 189.81s/it]"
     ]
    },
    {
     "name": "stdout",
     "output_type": "stream",
     "text": [
      "2/2 [==============================] - 1s 287ms/step - loss: 2.6653 - accuracy: 0.0877 - val_loss: 2.3014 - val_accuracy: 0.1040\n",
      "4/4 [==============================] - 0s 120ms/step - loss: 2.5303 - accuracy: 0.1181 - val_loss: 2.3018 - val_accuracy: 0.0960\n",
      "5/5 [==============================] - 1s 132ms/step - loss: 2.5006 - accuracy: 0.1221 - val_loss: 2.3008 - val_accuracy: 0.0947\n",
      "7/7 [==============================] - 1s 131ms/step - loss: 2.3923 - accuracy: 0.1463 - val_loss: 2.2971 - val_accuracy: 0.0960\n",
      "8/8 [==============================] - 1s 106ms/step - loss: 2.3265 - accuracy: 0.1762 - val_loss: 2.2897 - val_accuracy: 0.0987\n",
      "10/10 [==============================] - 1s 106ms/step - loss: 2.2923 - accuracy: 0.1740 - val_loss: 2.2781 - val_accuracy: 0.1100\n",
      "11/11 [==============================] - 1s 106ms/step - loss: 2.1821 - accuracy: 0.2008 - val_loss: 2.2592 - val_accuracy: 0.1453\n",
      "12/12 [==============================] - 1s 105ms/step - loss: 2.1244 - accuracy: 0.2228 - val_loss: 2.2340 - val_accuracy: 0.1713\n",
      "13/13 [==============================] - 1s 108ms/step - loss: 2.0753 - accuracy: 0.2494 - val_loss: 2.2170 - val_accuracy: 0.1747\n",
      "15/15 [==============================] - 1s 97ms/step - loss: 2.0267 - accuracy: 0.2609 - val_loss: 2.2184 - val_accuracy: 0.1673\n",
      "16/16 [==============================] - 2s 112ms/step - loss: 1.9642 - accuracy: 0.2865 - val_loss: 2.1848 - val_accuracy: 0.1733\n",
      "17/17 [==============================] - 2s 130ms/step - loss: 1.9460 - accuracy: 0.2820 - val_loss: 2.2108 - val_accuracy: 0.1540\n",
      "18/18 [==============================] - 2s 118ms/step - loss: 1.8780 - accuracy: 0.3234 - val_loss: 2.2267 - val_accuracy: 0.1467\n",
      "19/19 [==============================] - 2s 106ms/step - loss: 1.8534 - accuracy: 0.3268 - val_loss: 2.2741 - val_accuracy: 0.1500\n",
      "19/19 [==============================] - 2s 109ms/step - loss: 1.8004 - accuracy: 0.3407 - val_loss: 2.4091 - val_accuracy: 0.1273\n",
      "20/20 [==============================] - 2s 108ms/step - loss: 1.7805 - accuracy: 0.3491 - val_loss: 2.4247 - val_accuracy: 0.1380\n",
      "21/21 [==============================] - 2s 105ms/step - loss: 1.7265 - accuracy: 0.3762 - val_loss: 2.5488 - val_accuracy: 0.1400\n",
      "22/22 [==============================] - 3s 132ms/step - loss: 1.6912 - accuracy: 0.3843 - val_loss: 2.7024 - val_accuracy: 0.1327\n",
      "22/22 [==============================] - 3s 124ms/step - loss: 1.6563 - accuracy: 0.3941 - val_loss: 2.7372 - val_accuracy: 0.1340\n",
      "23/23 [==============================] - 3s 114ms/step - loss: 1.6263 - accuracy: 0.3895 - val_loss: 2.7703 - val_accuracy: 0.1373\n",
      "23/23 [==============================] - 2s 110ms/step - loss: 1.6005 - accuracy: 0.4142 - val_loss: 3.0142 - val_accuracy: 0.1260\n",
      "24/24 [==============================] - 3s 110ms/step - loss: 1.5572 - accuracy: 0.4352 - val_loss: 2.9152 - val_accuracy: 0.1320\n",
      "24/24 [==============================] - 2s 81ms/step - loss: 1.5202 - accuracy: 0.4441 - val_loss: 3.0949 - val_accuracy: 0.1220\n",
      "25/25 [==============================] - 2s 69ms/step - loss: 1.4997 - accuracy: 0.4471 - val_loss: 2.9705 - val_accuracy: 0.1353\n",
      "25/25 [==============================] - 3s 114ms/step - loss: 1.4846 - accuracy: 0.4514 - val_loss: 2.7625 - val_accuracy: 0.1753\n",
      "25/25 [==============================] - 3s 103ms/step - loss: 1.4517 - accuracy: 0.4668 - val_loss: 2.4960 - val_accuracy: 0.2320\n",
      "25/25 [==============================] - 2s 101ms/step - loss: 1.4197 - accuracy: 0.4751 - val_loss: 2.3442 - val_accuracy: 0.2400\n",
      "26/26 [==============================] - 3s 105ms/step - loss: 1.3921 - accuracy: 0.4902 - val_loss: 2.3986 - val_accuracy: 0.2460\n",
      "26/26 [==============================] - 3s 99ms/step - loss: 1.3793 - accuracy: 0.4968 - val_loss: 2.0610 - val_accuracy: 0.3073\n",
      "26/26 [==============================] - 3s 99ms/step - loss: 1.3548 - accuracy: 0.4995 - val_loss: 1.8610 - val_accuracy: 0.3540\n",
      "26/26 [==============================] - 3s 97ms/step - loss: 1.3349 - accuracy: 0.5097 - val_loss: 2.1863 - val_accuracy: 0.3147\n",
      "26/26 [==============================] - 2s 84ms/step - loss: 1.2976 - accuracy: 0.5291 - val_loss: 1.7560 - val_accuracy: 0.3913\n",
      "27/27 [==============================] - 2s 77ms/step - loss: 1.2927 - accuracy: 0.5250 - val_loss: 1.8529 - val_accuracy: 0.3773\n",
      "27/27 [==============================] - 2s 77ms/step - loss: 1.2524 - accuracy: 0.5411 - val_loss: 1.5336 - val_accuracy: 0.4533\n",
      "27/27 [==============================] - 3s 95ms/step - loss: 1.2377 - accuracy: 0.5448 - val_loss: 1.5392 - val_accuracy: 0.4427\n",
      "27/27 [==============================] - 3s 99ms/step - loss: 1.2181 - accuracy: 0.5540 - val_loss: 1.6264 - val_accuracy: 0.4273\n",
      "27/27 [==============================] - 3s 113ms/step - loss: 1.1804 - accuracy: 0.5706 - val_loss: 1.7038 - val_accuracy: 0.4147\n",
      "27/27 [==============================] - 3s 112ms/step - loss: 1.1675 - accuracy: 0.5683 - val_loss: 1.6230 - val_accuracy: 0.4453\n",
      "27/27 [==============================] - 3s 123ms/step - loss: 1.1382 - accuracy: 0.5847 - val_loss: 1.5097 - val_accuracy: 0.4687\n",
      "27/27 [==============================] - 3s 108ms/step - loss: 1.1309 - accuracy: 0.5836 - val_loss: 1.5619 - val_accuracy: 0.4447\n",
      "27/27 [==============================] - 3s 99ms/step - loss: 1.1008 - accuracy: 0.5979 - val_loss: 1.6269 - val_accuracy: 0.4413\n",
      "27/27 [==============================] - 3s 107ms/step - loss: 1.0834 - accuracy: 0.6001 - val_loss: 1.5127 - val_accuracy: 0.4720\n",
      "27/27 [==============================] - 3s 108ms/step - loss: 1.0433 - accuracy: 0.6206 - val_loss: 1.5139 - val_accuracy: 0.4767\n",
      "27/27 [==============================] - 3s 108ms/step - loss: 1.0409 - accuracy: 0.6178 - val_loss: 1.4877 - val_accuracy: 0.4820\n",
      "28/28 [==============================] - 3s 108ms/step - loss: 1.0502 - accuracy: 0.6125 - val_loss: 1.9034 - val_accuracy: 0.3920\n",
      "28/28 [==============================] - 3s 90ms/step - loss: 1.0591 - accuracy: 0.6153 - val_loss: 1.7103 - val_accuracy: 0.4340\n",
      "28/28 [==============================] - 2s 60ms/step - loss: 1.0916 - accuracy: 0.5954 - val_loss: 1.5447 - val_accuracy: 0.4893\n",
      "28/28 [==============================] - 3s 104ms/step - loss: 1.0210 - accuracy: 0.6245 - val_loss: 1.6487 - val_accuracy: 0.4513\n",
      "28/28 [==============================] - 3s 103ms/step - loss: 1.0080 - accuracy: 0.6282 - val_loss: 1.5787 - val_accuracy: 0.4553\n",
      "28/28 [==============================] - 3s 104ms/step - loss: 0.9800 - accuracy: 0.6417 - val_loss: 1.5846 - val_accuracy: 0.4627\n",
      "28/28 [==============================] - 3s 105ms/step - loss: 0.9488 - accuracy: 0.6545 - val_loss: 1.5131 - val_accuracy: 0.4940\n",
      "28/28 [==============================] - 3s 108ms/step - loss: 0.9376 - accuracy: 0.6527 - val_loss: 1.5354 - val_accuracy: 0.4827\n",
      "28/28 [==============================] - 3s 101ms/step - loss: 0.9081 - accuracy: 0.6689 - val_loss: 1.5276 - val_accuracy: 0.4793\n",
      "28/28 [==============================] - 3s 104ms/step - loss: 0.9036 - accuracy: 0.6710 - val_loss: 1.6554 - val_accuracy: 0.4407\n",
      "28/28 [==============================] - 3s 114ms/step - loss: 0.8927 - accuracy: 0.6739 - val_loss: 1.7111 - val_accuracy: 0.4420\n",
      "28/28 [==============================] - 3s 111ms/step - loss: 0.8743 - accuracy: 0.6823 - val_loss: 1.5613 - val_accuracy: 0.4627\n",
      "28/28 [==============================] - 3s 113ms/step - loss: 0.8744 - accuracy: 0.6808 - val_loss: 1.7017 - val_accuracy: 0.4427\n",
      "28/28 [==============================] - 3s 110ms/step - loss: 0.8510 - accuracy: 0.6952 - val_loss: 1.6015 - val_accuracy: 0.4707\n",
      "28/28 [==============================] - 3s 105ms/step - loss: 0.8431 - accuracy: 0.6950 - val_loss: 1.6333 - val_accuracy: 0.4720\n",
      "28/28 [==============================] - 3s 103ms/step - loss: 0.8249 - accuracy: 0.6956 - val_loss: 1.6638 - val_accuracy: 0.4707\n",
      "28/28 [==============================] - 3s 107ms/step - loss: 0.7956 - accuracy: 0.7028 - val_loss: 1.6352 - val_accuracy: 0.4760\n",
      "28/28 [==============================] - 3s 108ms/step - loss: 0.7991 - accuracy: 0.7111 - val_loss: 1.6495 - val_accuracy: 0.4653\n",
      "28/28 [==============================] - 3s 121ms/step - loss: 0.8064 - accuracy: 0.7065 - val_loss: 1.6979 - val_accuracy: 0.4647\n",
      "28/28 [==============================] - 3s 114ms/step - loss: 0.7732 - accuracy: 0.7190 - val_loss: 1.7393 - val_accuracy: 0.4520\n",
      "28/28 [==============================] - 3s 106ms/step - loss: 0.7784 - accuracy: 0.7168 - val_loss: 1.8134 - val_accuracy: 0.4540\n",
      "28/28 [==============================] - 3s 109ms/step - loss: 0.7510 - accuracy: 0.7244 - val_loss: 1.7281 - val_accuracy: 0.4513\n",
      "28/28 [==============================] - 3s 104ms/step - loss: 0.7382 - accuracy: 0.7337 - val_loss: 1.7008 - val_accuracy: 0.4607\n",
      "28/28 [==============================] - 3s 106ms/step - loss: 0.7386 - accuracy: 0.7381 - val_loss: 1.7389 - val_accuracy: 0.4720\n",
      "28/28 [==============================] - 3s 107ms/step - loss: 0.7423 - accuracy: 0.7342 - val_loss: 1.6883 - val_accuracy: 0.4773\n",
      "28/28 [==============================] - 3s 105ms/step - loss: 0.7104 - accuracy: 0.7434 - val_loss: 1.6703 - val_accuracy: 0.4727\n",
      "6/6 [==============================] - 0s 22ms/step - loss: 1.6503 - accuracy: 0.4600\n"
     ]
    },
    {
     "name": "stderr",
     "output_type": "stream",
     "text": [
      " 67%|██████▋   | 2/3 [06:18<03:08, 188.88s/it]"
     ]
    },
    {
     "name": "stdout",
     "output_type": "stream",
     "text": [
      "2/2 [==============================] - 1s 365ms/step - loss: 2.7164 - accuracy: 0.1103 - val_loss: 2.3015 - val_accuracy: 0.1153\n",
      "4/4 [==============================] - 0s 127ms/step - loss: 2.5884 - accuracy: 0.1018 - val_loss: 2.2996 - val_accuracy: 0.1207\n",
      "5/5 [==============================] - 1s 141ms/step - loss: 2.4940 - accuracy: 0.1086 - val_loss: 2.2981 - val_accuracy: 0.1107\n",
      "7/7 [==============================] - 1s 110ms/step - loss: 2.4019 - accuracy: 0.1399 - val_loss: 2.2962 - val_accuracy: 0.1033\n",
      "8/8 [==============================] - 1s 125ms/step - loss: 2.2896 - accuracy: 0.1587 - val_loss: 2.2898 - val_accuracy: 0.1073\n",
      "10/10 [==============================] - 1s 118ms/step - loss: 2.1996 - accuracy: 0.1896 - val_loss: 2.2700 - val_accuracy: 0.1707\n",
      "11/11 [==============================] - 1s 112ms/step - loss: 2.1237 - accuracy: 0.2106 - val_loss: 2.2539 - val_accuracy: 0.2100\n",
      "12/12 [==============================] - 1s 124ms/step - loss: 2.0927 - accuracy: 0.2248 - val_loss: 2.2322 - val_accuracy: 0.1953\n",
      "13/13 [==============================] - 2s 120ms/step - loss: 2.0006 - accuracy: 0.2784 - val_loss: 2.2227 - val_accuracy: 0.1547\n",
      "15/15 [==============================] - 2s 129ms/step - loss: 1.9666 - accuracy: 0.2756 - val_loss: 2.2524 - val_accuracy: 0.1340\n",
      "16/16 [==============================] - 2s 116ms/step - loss: 1.9136 - accuracy: 0.2973 - val_loss: 2.3672 - val_accuracy: 0.1173\n",
      "17/17 [==============================] - 2s 115ms/step - loss: 1.8714 - accuracy: 0.3214 - val_loss: 2.5642 - val_accuracy: 0.0993\n",
      "18/18 [==============================] - 2s 124ms/step - loss: 1.8551 - accuracy: 0.3179 - val_loss: 2.8190 - val_accuracy: 0.0980\n",
      "19/19 [==============================] - 2s 123ms/step - loss: 1.8140 - accuracy: 0.3429 - val_loss: 2.9015 - val_accuracy: 0.0993\n",
      "19/19 [==============================] - 2s 108ms/step - loss: 1.7781 - accuracy: 0.3535 - val_loss: 3.1261 - val_accuracy: 0.0967\n",
      "20/20 [==============================] - 2s 115ms/step - loss: 1.7206 - accuracy: 0.3702 - val_loss: 3.2371 - val_accuracy: 0.1020\n",
      "21/21 [==============================] - 2s 108ms/step - loss: 1.7164 - accuracy: 0.3659 - val_loss: 3.3904 - val_accuracy: 0.1007\n",
      "22/22 [==============================] - 2s 106ms/step - loss: 1.6659 - accuracy: 0.3859 - val_loss: 3.4531 - val_accuracy: 0.0993\n",
      "22/22 [==============================] - 2s 112ms/step - loss: 1.6537 - accuracy: 0.3946 - val_loss: 3.2930 - val_accuracy: 0.1107\n",
      "23/23 [==============================] - 2s 107ms/step - loss: 1.6045 - accuracy: 0.4181 - val_loss: 3.2190 - val_accuracy: 0.1273\n",
      "23/23 [==============================] - 3s 119ms/step - loss: 1.5661 - accuracy: 0.4260 - val_loss: 3.2647 - val_accuracy: 0.1280\n",
      "24/24 [==============================] - 3s 111ms/step - loss: 1.5375 - accuracy: 0.4384 - val_loss: 3.3228 - val_accuracy: 0.1420\n",
      "24/24 [==============================] - 3s 108ms/step - loss: 1.5091 - accuracy: 0.4383 - val_loss: 3.1533 - val_accuracy: 0.1473\n",
      "25/25 [==============================] - 3s 106ms/step - loss: 1.4952 - accuracy: 0.4544 - val_loss: 3.0724 - val_accuracy: 0.1793\n",
      "25/25 [==============================] - 3s 104ms/step - loss: 1.4942 - accuracy: 0.4453 - val_loss: 2.7832 - val_accuracy: 0.1820\n",
      "25/25 [==============================] - 3s 106ms/step - loss: 1.4641 - accuracy: 0.4602 - val_loss: 2.4391 - val_accuracy: 0.2480\n",
      "25/25 [==============================] - 3s 114ms/step - loss: 1.4289 - accuracy: 0.4801 - val_loss: 2.3202 - val_accuracy: 0.2580\n",
      "26/26 [==============================] - 4s 146ms/step - loss: 1.3965 - accuracy: 0.4841 - val_loss: 2.1460 - val_accuracy: 0.2980\n",
      "26/26 [==============================] - 3s 134ms/step - loss: 1.3786 - accuracy: 0.4925 - val_loss: 2.0285 - val_accuracy: 0.3227\n",
      "26/26 [==============================] - 3s 109ms/step - loss: 1.3401 - accuracy: 0.5038 - val_loss: 1.8319 - val_accuracy: 0.3600\n",
      "26/26 [==============================] - 3s 119ms/step - loss: 1.3249 - accuracy: 0.5126 - val_loss: 1.7851 - val_accuracy: 0.3880\n",
      "26/26 [==============================] - 3s 101ms/step - loss: 1.2940 - accuracy: 0.5272 - val_loss: 1.7536 - val_accuracy: 0.3920\n",
      "27/27 [==============================] - 2s 87ms/step - loss: 1.2708 - accuracy: 0.5344 - val_loss: 1.9987 - val_accuracy: 0.3660\n",
      "27/27 [==============================] - 3s 103ms/step - loss: 1.2689 - accuracy: 0.5304 - val_loss: 1.6129 - val_accuracy: 0.4307\n",
      "27/27 [==============================] - 4s 140ms/step - loss: 1.2527 - accuracy: 0.5379 - val_loss: 1.4888 - val_accuracy: 0.4647\n",
      "27/27 [==============================] - 3s 109ms/step - loss: 1.2289 - accuracy: 0.5430 - val_loss: 1.4629 - val_accuracy: 0.4793\n",
      "27/27 [==============================] - 3s 114ms/step - loss: 1.2146 - accuracy: 0.5600 - val_loss: 1.5525 - val_accuracy: 0.4540\n",
      "27/27 [==============================] - 3s 110ms/step - loss: 1.2082 - accuracy: 0.5647 - val_loss: 1.5346 - val_accuracy: 0.4553\n",
      "27/27 [==============================] - 3s 102ms/step - loss: 1.1539 - accuracy: 0.5761 - val_loss: 1.4858 - val_accuracy: 0.4773\n",
      "27/27 [==============================] - 3s 115ms/step - loss: 1.1440 - accuracy: 0.5764 - val_loss: 1.5322 - val_accuracy: 0.4567\n",
      "27/27 [==============================] - 3s 112ms/step - loss: 1.1261 - accuracy: 0.5859 - val_loss: 1.5290 - val_accuracy: 0.4573\n",
      "27/27 [==============================] - 3s 108ms/step - loss: 1.1192 - accuracy: 0.5907 - val_loss: 1.5753 - val_accuracy: 0.4487\n",
      "27/27 [==============================] - 3s 127ms/step - loss: 1.0860 - accuracy: 0.5975 - val_loss: 1.4856 - val_accuracy: 0.4733\n",
      "27/27 [==============================] - 3s 115ms/step - loss: 1.0647 - accuracy: 0.6138 - val_loss: 1.6100 - val_accuracy: 0.4440\n",
      "28/28 [==============================] - 3s 103ms/step - loss: 1.0716 - accuracy: 0.6083 - val_loss: 1.9339 - val_accuracy: 0.3887\n",
      "28/28 [==============================] - 3s 101ms/step - loss: 1.1749 - accuracy: 0.5689 - val_loss: 1.7354 - val_accuracy: 0.4187\n",
      "28/28 [==============================] - 3s 105ms/step - loss: 1.0878 - accuracy: 0.5986 - val_loss: 1.7587 - val_accuracy: 0.4060\n",
      "28/28 [==============================] - 3s 104ms/step - loss: 1.0573 - accuracy: 0.6103 - val_loss: 1.7574 - val_accuracy: 0.4140\n",
      "28/28 [==============================] - 3s 104ms/step - loss: 1.0311 - accuracy: 0.6252 - val_loss: 1.5940 - val_accuracy: 0.4527\n",
      "28/28 [==============================] - 3s 106ms/step - loss: 1.0047 - accuracy: 0.6295 - val_loss: 1.6030 - val_accuracy: 0.4593\n",
      "28/28 [==============================] - 3s 109ms/step - loss: 0.9897 - accuracy: 0.6308 - val_loss: 1.6106 - val_accuracy: 0.4567\n",
      "28/28 [==============================] - 3s 110ms/step - loss: 0.9866 - accuracy: 0.6361 - val_loss: 1.5493 - val_accuracy: 0.4680\n",
      "28/28 [==============================] - 3s 109ms/step - loss: 0.9648 - accuracy: 0.6486 - val_loss: 1.6719 - val_accuracy: 0.4427\n",
      "28/28 [==============================] - 3s 109ms/step - loss: 0.9240 - accuracy: 0.6673 - val_loss: 1.7206 - val_accuracy: 0.4433\n",
      "28/28 [==============================] - 3s 104ms/step - loss: 0.9316 - accuracy: 0.6577 - val_loss: 1.6007 - val_accuracy: 0.4667\n",
      "28/28 [==============================] - 3s 105ms/step - loss: 0.9187 - accuracy: 0.6654 - val_loss: 1.7192 - val_accuracy: 0.4407\n",
      "28/28 [==============================] - 3s 107ms/step - loss: 0.9045 - accuracy: 0.6739 - val_loss: 1.6296 - val_accuracy: 0.4753\n",
      "28/28 [==============================] - 3s 103ms/step - loss: 0.8883 - accuracy: 0.6791 - val_loss: 1.5824 - val_accuracy: 0.4773\n",
      "28/28 [==============================] - 3s 105ms/step - loss: 0.8668 - accuracy: 0.6775 - val_loss: 1.5486 - val_accuracy: 0.4807\n",
      "28/28 [==============================] - 3s 105ms/step - loss: 0.8705 - accuracy: 0.6886 - val_loss: 1.6720 - val_accuracy: 0.4560\n",
      "28/28 [==============================] - 3s 104ms/step - loss: 0.8487 - accuracy: 0.6957 - val_loss: 1.5672 - val_accuracy: 0.4700\n",
      "28/28 [==============================] - 3s 105ms/step - loss: 0.8280 - accuracy: 0.6983 - val_loss: 1.6347 - val_accuracy: 0.4713\n",
      "28/28 [==============================] - 3s 110ms/step - loss: 0.8334 - accuracy: 0.6960 - val_loss: 1.6988 - val_accuracy: 0.4640\n",
      "28/28 [==============================] - 3s 106ms/step - loss: 0.8129 - accuracy: 0.7074 - val_loss: 1.6395 - val_accuracy: 0.4700\n",
      "28/28 [==============================] - 3s 102ms/step - loss: 0.7972 - accuracy: 0.7131 - val_loss: 1.6197 - val_accuracy: 0.4773\n",
      "28/28 [==============================] - 3s 112ms/step - loss: 0.7874 - accuracy: 0.7160 - val_loss: 1.6547 - val_accuracy: 0.4627\n",
      "28/28 [==============================] - 3s 100ms/step - loss: 0.7696 - accuracy: 0.7257 - val_loss: 1.6332 - val_accuracy: 0.4687\n",
      "28/28 [==============================] - 3s 104ms/step - loss: 0.7606 - accuracy: 0.7262 - val_loss: 1.7896 - val_accuracy: 0.4467\n",
      "28/28 [==============================] - 3s 110ms/step - loss: 0.7673 - accuracy: 0.7283 - val_loss: 1.6325 - val_accuracy: 0.4700\n",
      "28/28 [==============================] - 3s 107ms/step - loss: 0.7524 - accuracy: 0.7332 - val_loss: 1.6426 - val_accuracy: 0.4627\n",
      "6/6 [==============================] - 0s 21ms/step - loss: 1.6443 - accuracy: 0.4653\n"
     ]
    },
    {
     "name": "stderr",
     "output_type": "stream",
     "text": [
      "100%|██████████| 3/3 [09:43<00:00, 194.53s/it]\n"
     ]
    }
   ],
   "source": [
    "for test_model in test_models:\n",
    "    print(test_model)\n",
    "    model_scores = []\n",
    "\n",
    "    for _ in tqdm(range(N_TRIALS)):\n",
    "        model = ClassifierModel(output_shape=10, **models_hyperparameters[test_model])\n",
    "        \n",
    "        model.compile(optimizer='adam', loss=loss, metrics=['accuracy'])\n",
    "        \n",
    "        for i in range(N_EPOCHS):\n",
    "            n_samples = int(np.tanh(4 * (i + 1) / N_EPOCHS) * train_size)\n",
    "            samples_ids = np.random.choice(range(train_size), n_samples, replace=False)\n",
    "\n",
    "            model.fit(\n",
    "                x_train[samples_ids], y_train[samples_ids], \n",
    "                validation_data=(x_val, y_val),\n",
    "                epochs=1, batch_size=BATCH_SIZE, verbose=1\n",
    "            )\n",
    "        \n",
    "        _, accuracy = model.evaluate(x_test, y_test, batch_size=BATCH_SIZE, verbose=1)\n",
    "        \n",
    "        model_scores.append(accuracy)\n",
    "\n",
    "    results[test_model] = model_scores"
   ],
   "metadata": {
    "collapsed": false,
    "ExecuteTime": {
     "end_time": "2024-02-20T19:43:23.876273Z",
     "start_time": "2024-02-20T19:33:40.253438Z"
    }
   },
   "id": "db6359a77869578b"
  },
  {
   "cell_type": "code",
   "execution_count": 160,
   "outputs": [
    {
     "data": {
      "text/plain": "{'test_model_1': [0.45533332228660583,\n  0.46000000834465027,\n  0.46533334255218506]}"
     },
     "execution_count": 160,
     "metadata": {},
     "output_type": "execute_result"
    }
   ],
   "source": [
    "results"
   ],
   "metadata": {
    "collapsed": false,
    "ExecuteTime": {
     "end_time": "2024-02-20T19:44:27.262287Z",
     "start_time": "2024-02-20T19:44:27.252663Z"
    }
   },
   "id": "d8a2a025ea165507"
  },
  {
   "cell_type": "code",
   "execution_count": 159,
   "outputs": [
    {
     "data": {
      "text/plain": "0.4602222243944804"
     },
     "execution_count": 159,
     "metadata": {},
     "output_type": "execute_result"
    }
   ],
   "source": [
    "sum(results[\"test_model_1\"]) / 3"
   ],
   "metadata": {
    "collapsed": false,
    "ExecuteTime": {
     "end_time": "2024-02-20T19:44:24.721943Z",
     "start_time": "2024-02-20T19:44:24.716607Z"
    }
   },
   "id": "b42fa9a082067602"
  },
  {
   "cell_type": "code",
   "execution_count": null,
   "outputs": [],
   "source": [],
   "metadata": {
    "collapsed": false
   },
   "id": "d865bf1d464f5c62"
  }
 ],
 "metadata": {
  "kernelspec": {
   "display_name": "Python 3",
   "language": "python",
   "name": "python3"
  },
  "language_info": {
   "codemirror_mode": {
    "name": "ipython",
    "version": 2
   },
   "file_extension": ".py",
   "mimetype": "text/x-python",
   "name": "python",
   "nbconvert_exporter": "python",
   "pygments_lexer": "ipython2",
   "version": "2.7.6"
  }
 },
 "nbformat": 4,
 "nbformat_minor": 5
}
