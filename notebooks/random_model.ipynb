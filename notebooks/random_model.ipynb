{
 "cells": [
  {
   "cell_type": "code",
   "execution_count": 1,
   "id": "initial_id",
   "metadata": {
    "collapsed": true,
    "ExecuteTime": {
     "end_time": "2024-02-18T11:44:19.369772Z",
     "start_time": "2024-02-18T11:44:17.023815Z"
    }
   },
   "outputs": [],
   "source": [
    "import numpy as np\n",
    "import tensorflow as tf\n",
    "from curriculum_learning.models.classifier_model import ClassifierModel\n",
    "from curriculum_learning import utils\n",
    "import yaml\n",
    "from tqdm import tqdm\n",
    "from sklearn.model_selection import train_test_split"
   ]
  },
  {
   "cell_type": "code",
   "execution_count": 34,
   "outputs": [],
   "source": [
    "N_EPOCHS = 100\n",
    "N_TRIALS = 3\n",
    "BATCH_SIZE = 256"
   ],
   "metadata": {
    "collapsed": false,
    "ExecuteTime": {
     "end_time": "2024-02-18T11:49:38.848672Z",
     "start_time": "2024-02-18T11:49:38.841003Z"
    }
   },
   "id": "5ba619241c769e59"
  },
  {
   "cell_type": "code",
   "execution_count": 35,
   "outputs": [],
   "source": [
    "with open(\"models_hyperparameters.yaml\", \"r\") as stream:\n",
    "    models_hyperparameters = yaml.safe_load(stream)\n",
    "    \n",
    "x, y = utils.load_data(\"../data/cifar-10-batches-py/data_batch_1\")\n",
    "x_train, x_test, y_train, y_test = train_test_split(x, y, test_size=0.8, random_state=42)\n",
    "\n",
    "train_size = x_train.shape[0]"
   ],
   "metadata": {
    "collapsed": false,
    "ExecuteTime": {
     "end_time": "2024-02-18T11:49:39.178285Z",
     "start_time": "2024-02-18T11:49:39.091853Z"
    }
   },
   "id": "869132b068be0fff"
  },
  {
   "cell_type": "code",
   "execution_count": 36,
   "outputs": [],
   "source": [
    "results = {}\n",
    "\n",
    "test_models = [\"test_model_1\", \"test_model_2\", \"test_model_3\"]"
   ],
   "metadata": {
    "collapsed": false,
    "ExecuteTime": {
     "end_time": "2024-02-18T11:49:39.324647Z",
     "start_time": "2024-02-18T11:49:39.321460Z"
    }
   },
   "id": "92315aab6b5898bf"
  },
  {
   "cell_type": "code",
   "execution_count": 37,
   "outputs": [
    {
     "name": "stdout",
     "output_type": "stream",
     "text": [
      "test_model_1\n"
     ]
    },
    {
     "name": "stderr",
     "output_type": "stream",
     "text": [
      "  0%|          | 0/3 [00:00<?, ?it/s]"
     ]
    },
    {
     "name": "stdout",
     "output_type": "stream",
     "text": [
      "1/1 [==============================] - 0s 385ms/step - loss: 2.3043 - accuracy: 0.2000\n",
      "1/1 [==============================] - 0s 12ms/step - loss: 2.8786 - accuracy: 0.0250\n",
      "1/1 [==============================] - 0s 15ms/step - loss: 2.8705 - accuracy: 0.0667\n",
      "1/1 [==============================] - 0s 17ms/step - loss: 2.8092 - accuracy: 0.1000\n",
      "1/1 [==============================] - 0s 20ms/step - loss: 2.8335 - accuracy: 0.1100\n",
      "1/1 [==============================] - 0s 21ms/step - loss: 2.7752 - accuracy: 0.0917\n",
      "1/1 [==============================] - 0s 25ms/step - loss: 2.5858 - accuracy: 0.1143\n",
      "1/1 [==============================] - 0s 24ms/step - loss: 2.7754 - accuracy: 0.1187\n",
      "1/1 [==============================] - 0s 28ms/step - loss: 2.6890 - accuracy: 0.1167\n",
      "1/1 [==============================] - 0s 32ms/step - loss: 2.7098 - accuracy: 0.0800\n",
      "1/1 [==============================] - 0s 28ms/step - loss: 2.6244 - accuracy: 0.1227\n",
      "1/1 [==============================] - 0s 33ms/step - loss: 2.7747 - accuracy: 0.1000\n",
      "2/2 [==============================] - 0s 7ms/step - loss: 2.5895 - accuracy: 0.1500\n",
      "2/2 [==============================] - 0s 9ms/step - loss: 2.6519 - accuracy: 0.1464\n",
      "2/2 [==============================] - 0s 10ms/step - loss: 2.5457 - accuracy: 0.1133\n",
      "2/2 [==============================] - 0s 13ms/step - loss: 2.5280 - accuracy: 0.1219\n",
      "2/2 [==============================] - 0s 16ms/step - loss: 2.5305 - accuracy: 0.1441\n",
      "2/2 [==============================] - 0s 16ms/step - loss: 2.4751 - accuracy: 0.1472\n",
      "2/2 [==============================] - 0s 19ms/step - loss: 2.4632 - accuracy: 0.1368\n",
      "2/2 [==============================] - 0s 20ms/step - loss: 2.4350 - accuracy: 0.1400\n",
      "2/2 [==============================] - 0s 23ms/step - loss: 2.4117 - accuracy: 0.1190\n",
      "2/2 [==============================] - 0s 24ms/step - loss: 2.3916 - accuracy: 0.1318\n",
      "2/2 [==============================] - 0s 27ms/step - loss: 2.4487 - accuracy: 0.1500\n",
      "2/2 [==============================] - 0s 28ms/step - loss: 2.4805 - accuracy: 0.1250\n",
      "2/2 [==============================] - 0s 31ms/step - loss: 2.3002 - accuracy: 0.1660\n",
      "3/3 [==============================] - 0s 17ms/step - loss: 2.4025 - accuracy: 0.1308\n",
      "3/3 [==============================] - 0s 20ms/step - loss: 2.3327 - accuracy: 0.1630\n",
      "3/3 [==============================] - 0s 21ms/step - loss: 2.2906 - accuracy: 0.1643\n",
      "3/3 [==============================] - 0s 24ms/step - loss: 2.3369 - accuracy: 0.1483\n",
      "3/3 [==============================] - 0s 22ms/step - loss: 2.2617 - accuracy: 0.1650\n",
      "3/3 [==============================] - 0s 23ms/step - loss: 2.2388 - accuracy: 0.1774\n",
      "3/3 [==============================] - 0s 23ms/step - loss: 2.2272 - accuracy: 0.1922\n",
      "3/3 [==============================] - 0s 24ms/step - loss: 2.2486 - accuracy: 0.1909\n",
      "3/3 [==============================] - 0s 24ms/step - loss: 2.2726 - accuracy: 0.1456\n",
      "3/3 [==============================] - 0s 27ms/step - loss: 2.2049 - accuracy: 0.1843\n",
      "3/3 [==============================] - 0s 29ms/step - loss: 2.2293 - accuracy: 0.2000\n",
      "3/3 [==============================] - 0s 29ms/step - loss: 2.1994 - accuracy: 0.1959\n",
      "3/3 [==============================] - 0s 33ms/step - loss: 2.1631 - accuracy: 0.2039\n",
      "4/4 [==============================] - 0s 23ms/step - loss: 2.1824 - accuracy: 0.1846\n",
      "4/4 [==============================] - 0s 24ms/step - loss: 2.1932 - accuracy: 0.2013\n",
      "4/4 [==============================] - 0s 24ms/step - loss: 2.1376 - accuracy: 0.2293\n",
      "4/4 [==============================] - 0s 25ms/step - loss: 2.1746 - accuracy: 0.2226\n",
      "4/4 [==============================] - 0s 26ms/step - loss: 2.1734 - accuracy: 0.2151\n",
      "4/4 [==============================] - 0s 26ms/step - loss: 2.1929 - accuracy: 0.2080\n",
      "4/4 [==============================] - 0s 27ms/step - loss: 2.0546 - accuracy: 0.2478\n",
      "4/4 [==============================] - 0s 28ms/step - loss: 2.1319 - accuracy: 0.2239\n",
      "4/4 [==============================] - 0s 28ms/step - loss: 2.0864 - accuracy: 0.2340\n",
      "4/4 [==============================] - 0s 28ms/step - loss: 2.0519 - accuracy: 0.2562\n",
      "4/4 [==============================] - 0s 29ms/step - loss: 2.1073 - accuracy: 0.2122\n",
      "4/4 [==============================] - 0s 30ms/step - loss: 2.0885 - accuracy: 0.2530\n",
      "4/4 [==============================] - 0s 31ms/step - loss: 2.0673 - accuracy: 0.2294\n",
      "5/5 [==============================] - 0s 26ms/step - loss: 2.0809 - accuracy: 0.2327\n",
      "5/5 [==============================] - 0s 26ms/step - loss: 2.0382 - accuracy: 0.2509\n",
      "5/5 [==============================] - 0s 27ms/step - loss: 2.0404 - accuracy: 0.2361\n",
      "5/5 [==============================] - 0s 27ms/step - loss: 2.0291 - accuracy: 0.2427\n",
      "5/5 [==============================] - 0s 28ms/step - loss: 1.9962 - accuracy: 0.2518\n",
      "5/5 [==============================] - 0s 26ms/step - loss: 2.0055 - accuracy: 0.2684\n",
      "5/5 [==============================] - 0s 27ms/step - loss: 1.9798 - accuracy: 0.2526\n",
      "5/5 [==============================] - 0s 29ms/step - loss: 1.9592 - accuracy: 0.2831\n",
      "5/5 [==============================] - 0s 28ms/step - loss: 1.9167 - accuracy: 0.3033\n",
      "5/5 [==============================] - 0s 29ms/step - loss: 1.9579 - accuracy: 0.2795\n",
      "5/5 [==============================] - 0s 30ms/step - loss: 1.9395 - accuracy: 0.3024\n",
      "5/5 [==============================] - 0s 29ms/step - loss: 1.9402 - accuracy: 0.2770\n",
      "5/5 [==============================] - 0s 32ms/step - loss: 1.9249 - accuracy: 0.2812\n",
      "6/6 [==============================] - 0s 26ms/step - loss: 1.9107 - accuracy: 0.3000\n",
      "6/6 [==============================] - 0s 27ms/step - loss: 1.8702 - accuracy: 0.3144\n",
      "6/6 [==============================] - 0s 28ms/step - loss: 1.9177 - accuracy: 0.2761\n",
      "6/6 [==============================] - 0s 27ms/step - loss: 1.8798 - accuracy: 0.3015\n",
      "6/6 [==============================] - 0s 28ms/step - loss: 1.8777 - accuracy: 0.3210\n",
      "6/6 [==============================] - 0s 28ms/step - loss: 1.8338 - accuracy: 0.3243\n",
      "6/6 [==============================] - 0s 28ms/step - loss: 1.8600 - accuracy: 0.3127\n",
      "6/6 [==============================] - 0s 30ms/step - loss: 1.8532 - accuracy: 0.3250\n",
      "6/6 [==============================] - 0s 29ms/step - loss: 1.8100 - accuracy: 0.3315\n",
      "6/6 [==============================] - 0s 30ms/step - loss: 1.8280 - accuracy: 0.3318\n",
      "6/6 [==============================] - 0s 31ms/step - loss: 1.7894 - accuracy: 0.3320\n",
      "6/6 [==============================] - 0s 32ms/step - loss: 1.8119 - accuracy: 0.3461\n",
      "7/7 [==============================] - 0s 27ms/step - loss: 1.8139 - accuracy: 0.3201\n",
      "7/7 [==============================] - 0s 28ms/step - loss: 1.7792 - accuracy: 0.3603\n",
      "7/7 [==============================] - 0s 28ms/step - loss: 1.7737 - accuracy: 0.3589\n",
      "7/7 [==============================] - 0s 29ms/step - loss: 1.7727 - accuracy: 0.3600\n",
      "7/7 [==============================] - 0s 28ms/step - loss: 1.7686 - accuracy: 0.3556\n",
      "7/7 [==============================] - 0s 28ms/step - loss: 1.7656 - accuracy: 0.3732\n",
      "7/7 [==============================] - 0s 29ms/step - loss: 1.7557 - accuracy: 0.3560\n",
      "7/7 [==============================] - 0s 30ms/step - loss: 1.7086 - accuracy: 0.3762\n",
      "7/7 [==============================] - 0s 29ms/step - loss: 1.7206 - accuracy: 0.3665\n",
      "7/7 [==============================] - 0s 29ms/step - loss: 1.6882 - accuracy: 0.3797\n",
      "7/7 [==============================] - 0s 29ms/step - loss: 1.6732 - accuracy: 0.3902\n",
      "7/7 [==============================] - 0s 30ms/step - loss: 1.6682 - accuracy: 0.3915\n",
      "7/7 [==============================] - 0s 30ms/step - loss: 1.6719 - accuracy: 0.3949\n",
      "8/8 [==============================] - 0s 27ms/step - loss: 1.6318 - accuracy: 0.3906\n",
      "8/8 [==============================] - 0s 27ms/step - loss: 1.6140 - accuracy: 0.4143\n",
      "8/8 [==============================] - 0s 28ms/step - loss: 1.6788 - accuracy: 0.3908\n",
      "8/8 [==============================] - 0s 27ms/step - loss: 1.6520 - accuracy: 0.4005\n",
      "8/8 [==============================] - 0s 29ms/step - loss: 1.6317 - accuracy: 0.4090\n",
      "8/8 [==============================] - 0s 28ms/step - loss: 1.6319 - accuracy: 0.4158\n",
      "8/8 [==============================] - 0s 29ms/step - loss: 1.6214 - accuracy: 0.4240\n",
      "8/8 [==============================] - 0s 29ms/step - loss: 1.5917 - accuracy: 0.4103\n",
      "8/8 [==============================] - 0s 29ms/step - loss: 1.5731 - accuracy: 0.4423\n",
      "8/8 [==============================] - 0s 30ms/step - loss: 1.5777 - accuracy: 0.4242\n",
      "8/8 [==============================] - 0s 29ms/step - loss: 1.5560 - accuracy: 0.4370\n"
     ]
    },
    {
     "name": "stderr",
     "output_type": "stream",
     "text": [
      "  0%|          | 0/3 [00:16<?, ?it/s]\n"
     ]
    }
   ],
   "source": [
    "for test_model in test_models:\n",
    "    print(test_model)\n",
    "    model_scores = []\n",
    "\n",
    "    for _ in tqdm(range(N_TRIALS)):\n",
    "        model = ClassifierModel(output_shape=10, **models_hyperparameters[test_model])\n",
    "        \n",
    "        model.compile(\n",
    "            optimizer='adam',\n",
    "            loss=tf.keras.losses.SparseCategoricalCrossentropy(),\n",
    "            metrics=['accuracy']\n",
    "        )\n",
    "        \n",
    "        n_samples_step = train_size // N_EPOCHS\n",
    "        for i in range(N_EPOCHS):\n",
    "            n_samples = (i + 1) * n_samples_step\n",
    "            samples_ids = np.random.choice(range(train_size), n_samples, replace=False)\n",
    "            \n",
    "            model.fit(x_train[samples_ids], y_train[samples_ids], epochs=1, batch_size=BATCH_SIZE, verbose=1)\n",
    "        \n",
    "        _, accuracy = model.evaluate(x_test, y_test, batch_size=BATCH_SIZE, verbose=0)\n",
    "        \n",
    "        model_scores.append(accuracy)\n",
    "        break\n",
    "    break\n",
    "    results[test_model] = model_scores"
   ],
   "metadata": {
    "collapsed": false,
    "ExecuteTime": {
     "end_time": "2024-02-18T11:49:55.740245Z",
     "start_time": "2024-02-18T11:49:39.626330Z"
    }
   },
   "id": "db6359a77869578b"
  },
  {
   "cell_type": "code",
   "execution_count": 32,
   "outputs": [
    {
     "data": {
      "text/plain": "132000"
     },
     "execution_count": 32,
     "metadata": {},
     "output_type": "execute_result"
    }
   ],
   "source": [
    "train_size * (i + 1) * n_samples_step"
   ],
   "metadata": {
    "collapsed": false,
    "ExecuteTime": {
     "end_time": "2024-02-18T11:49:13.323075Z",
     "start_time": "2024-02-18T11:49:13.318499Z"
    }
   },
   "id": "8db6d02162d29d97"
  },
  {
   "cell_type": "code",
   "execution_count": 17,
   "outputs": [
    {
     "data": {
      "text/plain": "[3.1404736042022705, 0.13699999451637268]"
     },
     "execution_count": 17,
     "metadata": {},
     "output_type": "execute_result"
    }
   ],
   "source": [
    "model.evaluate(x_test, y_test, batch_size=BATCH_SIZE, verbose=0)"
   ],
   "metadata": {
    "collapsed": false,
    "ExecuteTime": {
     "end_time": "2024-02-18T11:45:28.091943Z",
     "start_time": "2024-02-18T11:45:27.705027Z"
    }
   },
   "id": "4ac9fe771b8e7d51"
  },
  {
   "cell_type": "code",
   "execution_count": 16,
   "outputs": [
    {
     "data": {
      "text/plain": "{'test_model_1': [0.17874999344348907,\n  0.12062499672174454,\n  0.17787499725818634],\n 'test_model_2': [0.15512500703334808,\n  0.1120000034570694,\n  0.10487499833106995],\n 'test_model_3': [0.11675000190734863,\n  0.1366250067949295,\n  0.13699999451637268]}"
     },
     "execution_count": 16,
     "metadata": {},
     "output_type": "execute_result"
    }
   ],
   "source": [
    "results"
   ],
   "metadata": {
    "collapsed": false,
    "ExecuteTime": {
     "end_time": "2024-02-18T11:45:19.620422Z",
     "start_time": "2024-02-18T11:45:19.607977Z"
    }
   },
   "id": "f4fad74278fcb997"
  },
  {
   "cell_type": "code",
   "execution_count": null,
   "outputs": [],
   "source": [],
   "metadata": {
    "collapsed": false
   },
   "id": "b42fa9a082067602"
  }
 ],
 "metadata": {
  "kernelspec": {
   "display_name": "Python 3",
   "language": "python",
   "name": "python3"
  },
  "language_info": {
   "codemirror_mode": {
    "name": "ipython",
    "version": 2
   },
   "file_extension": ".py",
   "mimetype": "text/x-python",
   "name": "python",
   "nbconvert_exporter": "python",
   "pygments_lexer": "ipython2",
   "version": "2.7.6"
  }
 },
 "nbformat": 4,
 "nbformat_minor": 5
}
