{
 "cells": [
  {
   "cell_type": "code",
   "execution_count": 13,
   "id": "initial_id",
   "metadata": {
    "collapsed": true,
    "ExecuteTime": {
     "end_time": "2024-03-29T09:46:40.701517Z",
     "start_time": "2024-03-29T09:46:40.694088Z"
    }
   },
   "outputs": [],
   "source": [
    "import numpy as np\n",
    "import tensorflow as tf\n",
    "from curriculum_learning.models.classifier_model import ClassifierModel\n",
    "from curriculum_learning import utils\n",
    "import yaml\n",
    "from tqdm import tqdm\n",
    "from sklearn.model_selection import train_test_split\n",
    "import tensorflow_datasets as tfds\n",
    "import matplotlib.pyplot as plt\n",
    "import seaborn as sns"
   ]
  },
  {
   "cell_type": "code",
   "execution_count": 14,
   "outputs": [],
   "source": [
    "with open(\"models_hyperparameters.yaml\", \"r\") as stream:\n",
    "    models_hyperparameters = yaml.safe_load(stream)\n",
    "    \n",
    "with open(\"config_tests.yaml\", \"r\") as stream:\n",
    "    config_tests = yaml.safe_load(stream)\n",
    "    \n",
    "N_EPOCHS = 50\n",
    "N_TRIALS = 50\n",
    "BATCH_SIZE = 512\n",
    "\n",
    "CONFIG = config_tests[\"assessment_proba_best\"]\n",
    "\n",
    "loss = tf.keras.losses.SparseCategoricalCrossentropy()"
   ],
   "metadata": {
    "collapsed": false,
    "ExecuteTime": {
     "end_time": "2024-03-29T09:46:41.058152Z",
     "start_time": "2024-03-29T09:46:41.049084Z"
    }
   },
   "id": "fa5a1f60ac32c234"
  },
  {
   "cell_type": "code",
   "outputs": [
    {
     "name": "stderr",
     "output_type": "stream",
     "text": [
      "2024-03-29 10:46:42.302003: W tensorflow/core/framework/local_rendezvous.cc:404] Local rendezvous is aborting with status: OUT_OF_RANGE: End of sequence\n",
      "2024-03-29 10:46:43.047442: W tensorflow/core/framework/local_rendezvous.cc:404] Local rendezvous is aborting with status: OUT_OF_RANGE: End of sequence\n"
     ]
    }
   ],
   "source": [
    "ds_1 = tfds.load(\"stl10\", split=\"train\", as_supervised=True, shuffle_files=False)\n",
    "ds_2 = tfds.load(\"stl10\", split=\"test\", as_supervised=True, shuffle_files=False)\n",
    "\n",
    "x = []\n",
    "y = []\n",
    "for x_, y_ in ds_1.as_numpy_iterator():\n",
    "    x.append(x_)\n",
    "    y.append(y_)\n",
    "for x_, y_ in ds_2.as_numpy_iterator():\n",
    "    x.append(x_)\n",
    "    y.append(y_)\n",
    "    \n",
    "x = np.array(x, dtype=np.float32) / 255\n",
    "y = np.array(y, dtype=np.float32)"
   ],
   "metadata": {
    "collapsed": false,
    "ExecuteTime": {
     "end_time": "2024-03-29T09:46:43.461371Z",
     "start_time": "2024-03-29T09:46:41.613604Z"
    }
   },
   "id": "833df77eba9d27a2",
   "execution_count": 15
  },
  {
   "cell_type": "code",
   "outputs": [],
   "source": [
    "# x, y = utils.load_cifar_data(\"../data/cifar-10-batches-py/\")\n",
    "# x /= 255"
   ],
   "metadata": {
    "collapsed": false,
    "ExecuteTime": {
     "end_time": "2024-03-29T09:46:45.997393Z",
     "start_time": "2024-03-29T09:46:45.994552Z"
    }
   },
   "id": "50f51c0eab68c560",
   "execution_count": 16
  },
  {
   "cell_type": "code",
   "execution_count": 18,
   "outputs": [
    {
     "data": {
      "text/plain": "(9100, 1950, 1950)"
     },
     "execution_count": 18,
     "metadata": {},
     "output_type": "execute_result"
    }
   ],
   "source": [
    "x_train, x_test, y_train, y_test = train_test_split(x, y, test_size=0.3, random_state=42, stratify=y)\n",
    "x_test, x_val, y_test, y_val = train_test_split(x_test, y_test, test_size=0.5, random_state=42, stratify=y_test)\n",
    "\n",
    "n_classes = len(np.unique(y))\n",
    "train_size = x_train.shape[0]\n",
    "train_size, len(x_val), len(x_test)"
   ],
   "metadata": {
    "collapsed": false,
    "ExecuteTime": {
     "end_time": "2024-03-29T09:47:00.251058Z",
     "start_time": "2024-03-29T09:46:59.786777Z"
    }
   },
   "id": "8424e92d91deb0ac"
  },
  {
   "cell_type": "code",
   "execution_count": 19,
   "outputs": [
    {
     "name": "stderr",
     "output_type": "stream",
     "text": [
      "/Users/dbugajny/PycharmProjects/CurriculumLearning/venv/lib/python3.9/site-packages/keras/src/saving/saving_lib.py:396: UserWarning: Skipping variable loading for optimizer 'rmsprop', because it has 2 variables whereas the saved optimizer has 38 variables. \n",
      "  trackable.load_own_variables(weights_store.get(inner_path))\n"
     ]
    }
   ],
   "source": [
    "assessment_model = ClassifierModel(output_shape=n_classes, **models_hyperparameters[\"assessment_model\"])\n",
    "\n",
    "assessment_model.compile(loss=loss, metrics=[\"accuracy\"])\n",
    "assessment_model(x_train[:1])\n",
    "assessment_model.load_weights(\"../models/assessment_model.weights.h5\")"
   ],
   "metadata": {
    "collapsed": false,
    "ExecuteTime": {
     "end_time": "2024-03-29T09:47:07.281150Z",
     "start_time": "2024-03-29T09:47:06.209499Z"
    }
   },
   "id": "bdafb8a9c136f286"
  },
  {
   "cell_type": "code",
   "outputs": [
    {
     "name": "stderr",
     "output_type": "stream",
     "text": [
      "2024-03-29 10:47:07.610497: I tensorflow/core/grappler/optimizers/custom_graph_optimizer_registry.cc:117] Plugin optimizer for device_type GPU is enabled.\n"
     ]
    },
    {
     "name": "stdout",
     "output_type": "stream",
     "text": [
      "\u001B[1m61/61\u001B[0m \u001B[32m━━━━━━━━━━━━━━━━━━━━\u001B[0m\u001B[37m\u001B[0m \u001B[1m2s\u001B[0m 7ms/step - accuracy: 0.5573 - loss: 1.2289\n"
     ]
    },
    {
     "data": {
      "text/plain": "[1.1985386610031128, 0.5651282072067261]"
     },
     "execution_count": 20,
     "metadata": {},
     "output_type": "execute_result"
    }
   ],
   "source": [
    "assessment_model.evaluate(x_test, y_test)"
   ],
   "metadata": {
    "collapsed": false,
    "ExecuteTime": {
     "end_time": "2024-03-29T09:47:09.098178Z",
     "start_time": "2024-03-29T09:47:07.282504Z"
    }
   },
   "id": "7ff2d10f11b6825b",
   "execution_count": 20
  },
  {
   "cell_type": "code",
   "execution_count": 21,
   "outputs": [],
   "source": [
    "x_train_sorted = x_train[np.argsort(y_train)]\n",
    "y_train_sorted = y_train[np.argsort(y_train)]\n",
    "_, counts = np.unique(y_train_sorted, return_counts=True)\n",
    "\n",
    "samples_proba = utils.calculate_proba2(\n",
    "    assessment_model, x_train_sorted, y_train_sorted, counts\n",
    ")"
   ],
   "metadata": {
    "collapsed": false,
    "ExecuteTime": {
     "end_time": "2024-03-29T09:47:15.358342Z",
     "start_time": "2024-03-29T09:47:12.074854Z"
    }
   },
   "id": "a2cd5df2d1ace314"
  },
  {
   "cell_type": "code",
   "outputs": [],
   "source": [
    "model = ClassifierModel(output_shape=n_classes, **models_hyperparameters[\"test_model\"])\n",
    "model.compile(optimizer=\"adam\", loss=loss, metrics=[\"accuracy\"])\n",
    "model(x_train[0:1])\n",
    "# model.save_weights(\"../models/default_model.weights.h5\")\n",
    "model.load_weights(\"../models/default_model.weights.h5\")\n",
    "model_weights = model.get_weights()"
   ],
   "metadata": {
    "collapsed": false,
    "ExecuteTime": {
     "end_time": "2024-03-29T09:47:19.416124Z",
     "start_time": "2024-03-29T09:47:19.248492Z"
    }
   },
   "id": "5d8c20ae81a03a89",
   "execution_count": 23
  },
  {
   "cell_type": "code",
   "execution_count": 24,
   "outputs": [
    {
     "name": "stdout",
     "output_type": "stream",
     "text": [
      "{'negative_loss': True, 'progressive': False, 'order_type': 'proba'}\n"
     ]
    },
    {
     "name": "stderr",
     "output_type": "stream",
     "text": [
      "  0%|          | 0/50 [00:00<?, ?it/s]"
     ]
    },
    {
     "name": "stdout",
     "output_type": "stream",
     "text": [
      "\u001B[1m4/4\u001B[0m \u001B[32m━━━━━━━━━━━━━━━━━━━━\u001B[0m\u001B[37m\u001B[0m \u001B[1m1s\u001B[0m 109ms/step - accuracy: 0.5510 - loss: 1.6780\n"
     ]
    },
    {
     "name": "stderr",
     "output_type": "stream",
     "text": [
      "  2%|▏         | 1/50 [02:12<1:47:49, 132.02s/it]"
     ]
    },
    {
     "name": "stdout",
     "output_type": "stream",
     "text": [
      "Mean: 0.5594871640205383  Median:  0.5594871640205383\n",
      "\u001B[1m4/4\u001B[0m \u001B[32m━━━━━━━━━━━━━━━━━━━━\u001B[0m\u001B[37m\u001B[0m \u001B[1m0s\u001B[0m 67ms/step - accuracy: 0.5657 - loss: 1.6814\n"
     ]
    },
    {
     "name": "stderr",
     "output_type": "stream",
     "text": [
      "  4%|▍         | 2/50 [03:39<1:24:27, 105.58s/it]"
     ]
    },
    {
     "name": "stdout",
     "output_type": "stream",
     "text": [
      "Mean: 0.5666666626930237  Median:  0.5666666626930237\n",
      "\u001B[1m4/4\u001B[0m \u001B[32m━━━━━━━━━━━━━━━━━━━━\u001B[0m\u001B[37m\u001B[0m \u001B[1m0s\u001B[0m 53ms/step - accuracy: 0.5346 - loss: 1.8259\n"
     ]
    },
    {
     "name": "stderr",
     "output_type": "stream",
     "text": [
      "  6%|▌         | 3/50 [05:06<1:16:14, 97.33s/it] "
     ]
    },
    {
     "name": "stdout",
     "output_type": "stream",
     "text": [
      "Mean: 0.5577777822812399  Median:  0.5594871640205383\n",
      "\u001B[1m4/4\u001B[0m \u001B[32m━━━━━━━━━━━━━━━━━━━━\u001B[0m\u001B[37m\u001B[0m \u001B[1m0s\u001B[0m 48ms/step - accuracy: 0.5498 - loss: 1.6681\n"
     ]
    },
    {
     "name": "stderr",
     "output_type": "stream",
     "text": [
      "  8%|▊         | 4/50 [06:28<1:09:50, 91.09s/it]"
     ]
    },
    {
     "name": "stdout",
     "output_type": "stream",
     "text": [
      "Mean: 0.5589743554592133  Median:  0.5610256195068359\n",
      "\u001B[1m4/4\u001B[0m \u001B[32m━━━━━━━━━━━━━━━━━━━━\u001B[0m\u001B[37m\u001B[0m \u001B[1m0s\u001B[0m 48ms/step - accuracy: 0.5431 - loss: 1.7311\n"
     ]
    },
    {
     "name": "stderr",
     "output_type": "stream",
     "text": [
      " 10%|█         | 5/50 [07:47<1:05:15, 87.02s/it]"
     ]
    },
    {
     "name": "stdout",
     "output_type": "stream",
     "text": [
      "Mean: 0.5588717937469483  Median:  0.5594871640205383\n",
      "\u001B[1m4/4\u001B[0m \u001B[32m━━━━━━━━━━━━━━━━━━━━\u001B[0m\u001B[37m\u001B[0m \u001B[1m0s\u001B[0m 52ms/step - accuracy: 0.5707 - loss: 1.6181\n"
     ]
    },
    {
     "name": "stderr",
     "output_type": "stream",
     "text": [
      " 12%|█▏        | 6/50 [09:07<1:01:52, 84.37s/it]"
     ]
    },
    {
     "name": "stdout",
     "output_type": "stream",
     "text": [
      "Mean: 0.5625641047954559  Median:  0.5610256195068359\n",
      "\u001B[1m4/4\u001B[0m \u001B[32m━━━━━━━━━━━━━━━━━━━━\u001B[0m\u001B[37m\u001B[0m \u001B[1m0s\u001B[0m 54ms/step - accuracy: 0.5584 - loss: 1.6131\n"
     ]
    },
    {
     "name": "stderr",
     "output_type": "stream",
     "text": [
      " 14%|█▍        | 7/50 [10:25<59:04, 82.42s/it]  "
     ]
    },
    {
     "name": "stdout",
     "output_type": "stream",
     "text": [
      "Mean: 0.5643223438944135  Median:  0.5625640749931335\n",
      "\u001B[1m4/4\u001B[0m \u001B[32m━━━━━━━━━━━━━━━━━━━━\u001B[0m\u001B[37m\u001B[0m \u001B[1m0s\u001B[0m 52ms/step - accuracy: 0.5619 - loss: 1.6469\n"
     ]
    },
    {
     "name": "stderr",
     "output_type": "stream",
     "text": [
      " 16%|█▌        | 8/50 [11:44<57:00, 81.44s/it]"
     ]
    },
    {
     "name": "stdout",
     "output_type": "stream",
     "text": [
      "Mean: 0.5657692328095436  Median:  0.5682051181793213\n",
      "\u001B[1m4/4\u001B[0m \u001B[32m━━━━━━━━━━━━━━━━━━━━\u001B[0m\u001B[37m\u001B[0m \u001B[1m0s\u001B[0m 52ms/step - accuracy: 0.5385 - loss: 1.8269\n"
     ]
    },
    {
     "name": "stderr",
     "output_type": "stream",
     "text": [
      " 18%|█▊        | 9/50 [13:04<55:12, 80.78s/it]"
     ]
    },
    {
     "name": "stdout",
     "output_type": "stream",
     "text": [
      "Mean: 0.5634757876396179  Median:  0.5625640749931335\n",
      "\u001B[1m4/4\u001B[0m \u001B[32m━━━━━━━━━━━━━━━━━━━━\u001B[0m\u001B[37m\u001B[0m \u001B[1m0s\u001B[0m 49ms/step - accuracy: 0.5324 - loss: 1.6863\n"
     ]
    },
    {
     "name": "stderr",
     "output_type": "stream",
     "text": [
      " 20%|██        | 10/50 [14:23<53:27, 80.19s/it]"
     ]
    },
    {
     "name": "stdout",
     "output_type": "stream",
     "text": [
      "Mean: 0.5616923093795776  Median:  0.5610256195068359\n",
      "\u001B[1m4/4\u001B[0m \u001B[32m━━━━━━━━━━━━━━━━━━━━\u001B[0m\u001B[37m\u001B[0m \u001B[1m0s\u001B[0m 54ms/step - accuracy: 0.5621 - loss: 1.7351\n"
     ]
    },
    {
     "name": "stderr",
     "output_type": "stream",
     "text": [
      " 22%|██▏       | 11/50 [15:42<51:54, 79.87s/it]"
     ]
    },
    {
     "name": "stdout",
     "output_type": "stream",
     "text": [
      "Mean: 0.5620979016477411  Median:  0.5625640749931335\n",
      "\u001B[1m4/4\u001B[0m \u001B[32m━━━━━━━━━━━━━━━━━━━━\u001B[0m\u001B[37m\u001B[0m \u001B[1m0s\u001B[0m 50ms/step - accuracy: 0.5674 - loss: 1.6254\n"
     ]
    },
    {
     "name": "stderr",
     "output_type": "stream",
     "text": [
      " 24%|██▍       | 12/50 [17:02<50:38, 79.95s/it]"
     ]
    },
    {
     "name": "stdout",
     "output_type": "stream",
     "text": [
      "Mean: 0.5629059821367264  Median:  0.5643589496612549\n",
      "\u001B[1m4/4\u001B[0m \u001B[32m━━━━━━━━━━━━━━━━━━━━\u001B[0m\u001B[37m\u001B[0m \u001B[1m0s\u001B[0m 50ms/step - accuracy: 0.5550 - loss: 1.6363\n"
     ]
    },
    {
     "name": "stderr",
     "output_type": "stream",
     "text": [
      " 26%|██▌       | 13/50 [18:22<49:18, 79.95s/it]"
     ]
    },
    {
     "name": "stdout",
     "output_type": "stream",
     "text": [
      "Mean: 0.5635897425504831  Median:  0.5661538243293762\n",
      "\u001B[1m4/4\u001B[0m \u001B[32m━━━━━━━━━━━━━━━━━━━━\u001B[0m\u001B[37m\u001B[0m \u001B[1m0s\u001B[0m 52ms/step - accuracy: 0.5654 - loss: 1.6365\n"
     ]
    },
    {
     "name": "stderr",
     "output_type": "stream",
     "text": [
      " 28%|██▊       | 14/50 [19:44<48:19, 80.55s/it]"
     ]
    },
    {
     "name": "stdout",
     "output_type": "stream",
     "text": [
      "Mean: 0.5641391915934426  Median:  0.5687179267406464\n",
      "\u001B[1m4/4\u001B[0m \u001B[32m━━━━━━━━━━━━━━━━━━━━\u001B[0m\u001B[37m\u001B[0m \u001B[1m0s\u001B[0m 55ms/step - accuracy: 0.5457 - loss: 1.6847\n"
     ]
    },
    {
     "name": "stderr",
     "output_type": "stream",
     "text": [
      " 30%|███       | 15/50 [21:04<46:51, 80.33s/it]"
     ]
    },
    {
     "name": "stdout",
     "output_type": "stream",
     "text": [
      "Mean: 0.5638290564219157  Median:  0.5661538243293762\n",
      "\u001B[1m4/4\u001B[0m \u001B[32m━━━━━━━━━━━━━━━━━━━━\u001B[0m\u001B[37m\u001B[0m \u001B[1m0s\u001B[0m 52ms/step - accuracy: 0.5454 - loss: 1.6579\n"
     ]
    },
    {
     "name": "stderr",
     "output_type": "stream",
     "text": [
      " 32%|███▏      | 16/50 [22:23<45:26, 80.19s/it]"
     ]
    },
    {
     "name": "stdout",
     "output_type": "stream",
     "text": [
      "Mean: 0.5633012801408768  Median:  0.5643589496612549\n",
      "\u001B[1m4/4\u001B[0m \u001B[32m━━━━━━━━━━━━━━━━━━━━\u001B[0m\u001B[37m\u001B[0m \u001B[1m0s\u001B[0m 52ms/step - accuracy: 0.5670 - loss: 1.5736\n"
     ]
    },
    {
     "name": "stderr",
     "output_type": "stream",
     "text": [
      " 34%|███▍      | 17/50 [23:44<44:12, 80.39s/it]"
     ]
    },
    {
     "name": "stdout",
     "output_type": "stream",
     "text": [
      "Mean: 0.5640723950722638  Median:  0.5661538243293762\n",
      "\u001B[1m4/4\u001B[0m \u001B[32m━━━━━━━━━━━━━━━━━━━━\u001B[0m\u001B[37m\u001B[0m \u001B[1m0s\u001B[0m 50ms/step - accuracy: 0.5593 - loss: 1.7345\n"
     ]
    },
    {
     "name": "stderr",
     "output_type": "stream",
     "text": [
      " 36%|███▌      | 18/50 [47:56<4:22:34, 492.31s/it]"
     ]
    },
    {
     "name": "stdout",
     "output_type": "stream",
     "text": [
      "Mean: 0.5643589728408389  Median:  0.5676923096179962\n",
      "\u001B[1m4/4\u001B[0m \u001B[32m━━━━━━━━━━━━━━━━━━━━\u001B[0m\u001B[37m\u001B[0m \u001B[1m0s\u001B[0m 51ms/step - accuracy: 0.5578 - loss: 1.6808\n"
     ]
    },
    {
     "name": "stderr",
     "output_type": "stream",
     "text": [
      " 38%|███▊      | 19/50 [49:15<3:10:14, 368.20s/it]"
     ]
    },
    {
     "name": "stdout",
     "output_type": "stream",
     "text": [
      "Mean: 0.564264504533065  Median:  0.5661538243293762\n",
      "\u001B[1m4/4\u001B[0m \u001B[32m━━━━━━━━━━━━━━━━━━━━\u001B[0m\u001B[37m\u001B[0m \u001B[1m0s\u001B[0m 56ms/step - accuracy: 0.5626 - loss: 1.6526\n"
     ]
    },
    {
     "name": "stderr",
     "output_type": "stream",
     "text": [
      " 40%|████      | 20/50 [50:29<2:19:58, 279.93s/it]"
     ]
    },
    {
     "name": "stdout",
     "output_type": "stream",
     "text": [
      "Mean: 0.5645897418260575  Median:  0.5676923096179962\n",
      "\u001B[1m4/4\u001B[0m \u001B[32m━━━━━━━━━━━━━━━━━━━━\u001B[0m\u001B[37m\u001B[0m \u001B[1m0s\u001B[0m 49ms/step - accuracy: 0.5484 - loss: 1.7846\n"
     ]
    },
    {
     "name": "stderr",
     "output_type": "stream",
     "text": [
      " 42%|████▏     | 21/50 [51:46<1:45:49, 218.95s/it]"
     ]
    },
    {
     "name": "stdout",
     "output_type": "stream",
     "text": [
      "Mean: 0.564371182805016  Median:  0.5661538243293762\n",
      "\u001B[1m4/4\u001B[0m \u001B[32m━━━━━━━━━━━━━━━━━━━━\u001B[0m\u001B[37m\u001B[0m \u001B[1m0s\u001B[0m 51ms/step - accuracy: 0.5568 - loss: 1.7273\n"
     ]
    },
    {
     "name": "stderr",
     "output_type": "stream",
     "text": [
      " 44%|████▍     | 22/50 [53:05<1:22:42, 177.22s/it]"
     ]
    },
    {
     "name": "stdout",
     "output_type": "stream",
     "text": [
      "Mean: 0.5646853121844205  Median:  0.5676923096179962\n"
     ]
    },
    {
     "name": "stderr",
     "output_type": "stream",
     "text": [
      " 44%|████▍     | 22/50 [53:24<1:07:58, 145.66s/it]\n"
     ]
    },
    {
     "ename": "KeyboardInterrupt",
     "evalue": "",
     "output_type": "error",
     "traceback": [
      "\u001B[0;31m---------------------------------------------------------------------------\u001B[0m",
      "\u001B[0;31mKeyboardInterrupt\u001B[0m                         Traceback (most recent call last)",
      "Cell \u001B[0;32mIn[24], line 12\u001B[0m\n\u001B[1;32m      8\u001B[0m n_samples \u001B[38;5;241m=\u001B[39m \u001B[38;5;28mint\u001B[39m(np\u001B[38;5;241m.\u001B[39mtanh(\u001B[38;5;241m4\u001B[39m \u001B[38;5;241m*\u001B[39m (i \u001B[38;5;241m+\u001B[39m \u001B[38;5;241m1\u001B[39m) \u001B[38;5;241m/\u001B[39m N_EPOCHS) \u001B[38;5;241m*\u001B[39m train_size)\n\u001B[1;32m     10\u001B[0m samples_ids \u001B[38;5;241m=\u001B[39m utils\u001B[38;5;241m.\u001B[39mchose_samples(n_samples, samples_proba, CONFIG[\u001B[38;5;124m\"\u001B[39m\u001B[38;5;124morder_type\u001B[39m\u001B[38;5;124m\"\u001B[39m])\n\u001B[1;32m     11\u001B[0m model\u001B[38;5;241m.\u001B[39mfit(\n\u001B[0;32m---> 12\u001B[0m     \u001B[43mx_train_sorted\u001B[49m\u001B[43m[\u001B[49m\u001B[43msamples_ids\u001B[49m\u001B[43m]\u001B[49m,\n\u001B[1;32m     13\u001B[0m     y_train_sorted[samples_ids],\n\u001B[1;32m     14\u001B[0m     \u001B[38;5;66;03m# validation_data=(x_val, y_val),\u001B[39;00m\n\u001B[1;32m     15\u001B[0m     epochs\u001B[38;5;241m=\u001B[39m\u001B[38;5;241m1\u001B[39m,\n\u001B[1;32m     16\u001B[0m     batch_size\u001B[38;5;241m=\u001B[39mBATCH_SIZE,\n\u001B[1;32m     17\u001B[0m     verbose\u001B[38;5;241m=\u001B[39m\u001B[38;5;241m0\u001B[39m,\n\u001B[1;32m     18\u001B[0m )\n\u001B[1;32m     20\u001B[0m \u001B[38;5;28;01mif\u001B[39;00m CONFIG[\u001B[38;5;124m\"\u001B[39m\u001B[38;5;124mprogressive\u001B[39m\u001B[38;5;124m\"\u001B[39m]:\n\u001B[1;32m     21\u001B[0m     samples_proba \u001B[38;5;241m=\u001B[39m utils\u001B[38;5;241m.\u001B[39mcalculate_proba2(\n\u001B[1;32m     22\u001B[0m         model, x_train_sorted, y_train_sorted, counts \u001B[38;5;66;03m# , CONFIG[\"negative_loss\"]\u001B[39;00m\n\u001B[1;32m     23\u001B[0m     )\n",
      "\u001B[0;31mKeyboardInterrupt\u001B[0m: "
     ]
    }
   ],
   "source": [
    "print(CONFIG)\n",
    "model_scores = []\n",
    "\n",
    "for _ in tqdm(range(N_TRIALS)):\n",
    "    model.set_weights(model_weights)\n",
    "        \n",
    "    for i in range(N_EPOCHS):\n",
    "        n_samples = int(np.tanh(4 * (i + 1) / N_EPOCHS) * train_size)\n",
    "        \n",
    "        samples_ids = utils.chose_samples(n_samples, samples_proba, CONFIG[\"order_type\"])\n",
    "        model.fit(\n",
    "            x_train_sorted[samples_ids],\n",
    "            y_train_sorted[samples_ids],\n",
    "            # validation_data=(x_val, y_val),\n",
    "            epochs=1,\n",
    "            batch_size=BATCH_SIZE,\n",
    "            verbose=0,\n",
    "        )\n",
    "        \n",
    "        if CONFIG[\"progressive\"]:\n",
    "            samples_proba = utils.calculate_proba2(\n",
    "                model, x_train_sorted, y_train_sorted, counts # , CONFIG[\"negative_loss\"]\n",
    "            )\n",
    "            \n",
    "    _, accuracy = model.evaluate(x_test, y_test, batch_size=BATCH_SIZE, verbose=1)\n",
    "    model_scores.append(accuracy)\n",
    "    print(\"Mean:\", np.mean(model_scores), \" Median: \", np.median(model_scores))"
   ],
   "metadata": {
    "collapsed": false,
    "ExecuteTime": {
     "end_time": "2024-03-29T10:40:45.169676Z",
     "start_time": "2024-03-29T09:47:20.517752Z"
    }
   },
   "id": "ce9112b33b1ada44"
  },
  {
   "cell_type": "code",
   "outputs": [],
   "source": [
    "np.mean(model_scores)"
   ],
   "metadata": {
    "collapsed": false
   },
   "id": "bff7d6751a3176c",
   "execution_count": null
  },
  {
   "cell_type": "code",
   "outputs": [],
   "source": [
    "np.median(model_scores)"
   ],
   "metadata": {
    "collapsed": false
   },
   "id": "b767c90ae0745134",
   "execution_count": null
  },
  {
   "cell_type": "code",
   "outputs": [
    {
     "data": {
      "text/plain": "0.5641453319787979"
     },
     "execution_count": 93,
     "metadata": {},
     "output_type": "execute_result"
    }
   ],
   "source": [
    "np.mean(model_scores)"
   ],
   "metadata": {
    "collapsed": false,
    "ExecuteTime": {
     "end_time": "2024-03-28T13:48:35.981133Z",
     "start_time": "2024-03-28T13:48:35.977104Z"
    }
   },
   "id": "6d5f4807b9100a28",
   "execution_count": 93
  },
  {
   "cell_type": "code",
   "outputs": [
    {
     "data": {
      "text/plain": "0.5772333145141602"
     },
     "execution_count": 94,
     "metadata": {},
     "output_type": "execute_result"
    }
   ],
   "source": [
    "np.median(model_scores)"
   ],
   "metadata": {
    "collapsed": false,
    "ExecuteTime": {
     "end_time": "2024-03-28T13:48:36.152261Z",
     "start_time": "2024-03-28T13:48:36.146313Z"
    }
   },
   "id": "594c59ae2596ea09",
   "execution_count": 94
  },
  {
   "cell_type": "code",
   "outputs": [
    {
     "data": {
      "text/plain": "[0.6331333518028259,\n 0.4480000138282776,\n 0.574999988079071,\n 0.6006666421890259,\n 0.6215333342552185,\n 0.541533350944519,\n 0.6043333411216736,\n 0.6056666374206543,\n 0.5491999983787537,\n 0.4354666769504547,\n 0.5721333622932434,\n 0.567466676235199,\n 0.5573999881744385,\n 0.5572666525840759,\n 0.5580000281333923,\n 0.6100000143051147,\n 0.6237333416938782,\n 0.6277999877929688,\n 0.5673333406448364,\n 0.5690666437149048,\n 0.5794666409492493,\n 0.5798666477203369,\n 0.6197999715805054,\n 0.5888000130653381,\n 0.5439333319664001,\n 0.590666651725769,\n 0.5379999876022339,\n 0.48526665568351746,\n 0.6028666496276855,\n 0.4907333254814148,\n 0.5888000130653381,\n 0.5167999863624573,\n 0.5967333316802979,\n 0.541266679763794,\n 0.4643999934196472,\n 0.5345333218574524,\n 0.5027333498001099,\n 0.6042666435241699,\n 0.5983333587646484,\n 0.5888000130653381,\n 0.44973334670066833,\n 0.6233333349227905,\n 0.6090666651725769,\n 0.48840001225471497,\n 0.5842666625976562,\n 0.46959999203681946,\n 0.6227999925613403,\n 0.5874000191688538,\n 0.5723999738693237,\n 0.6194666624069214]"
     },
     "execution_count": 95,
     "metadata": {},
     "output_type": "execute_result"
    }
   ],
   "source": [
    "model_scores"
   ],
   "metadata": {
    "collapsed": false,
    "ExecuteTime": {
     "end_time": "2024-03-28T13:48:37.236084Z",
     "start_time": "2024-03-28T13:48:37.230101Z"
    }
   },
   "id": "48eb82d9ee21ed52",
   "execution_count": 95
  },
  {
   "cell_type": "code",
   "outputs": [],
   "source": [
    "abc = [0.6394000053405762,\n",
    " 0.6604999899864197,\n",
    " 0.6775000095367432,\n",
    " 0.6521999835968018,\n",
    " 0.6334999799728394,\n",
    " 0.6639999747276306,\n",
    " 0.675000011920929,\n",
    " 0.661899983882904,\n",
    " 0.663100004196167,\n",
    " 0.6538000106811523,\n",
    " 0.6675000190734863,\n",
    " 0.666700005531311,\n",
    " 0.6355000138282776,\n",
    " 0.6825000047683716,\n",
    " 0.6384000182151794,\n",
    " 0.661300003528595,\n",
    " 0.6888999938964844,\n",
    " 0.6801999807357788,\n",
    " 0.6797999739646912,\n",
    " 0.6589999794960022,\n",
    " 0.6743999719619751,\n",
    " 0.6650999784469604,\n",
    " 0.6970000267028809,\n",
    " 0.6700000166893005,\n",
    " 0.6575999855995178,\n",
    " 0.6556000113487244,\n",
    " 0.6568999886512756,\n",
    " 0.6488000154495239,\n",
    " 0.6245999932289124,\n",
    " 0.6732000112533569,\n",
    " 0.6847000122070312,\n",
    " 0.5996000170707703,\n",
    " 0.652899980545044,\n",
    " 0.6632000207901001,\n",
    " 0.6603000164031982,\n",
    " 0.48539999127388,\n",
    " 0.6866000294685364,\n",
    " 0.6546000242233276,\n",
    " 0.6355999708175659,\n",
    " 0.6445000171661377,\n",
    " 0.6488999724388123,\n",
    " 0.6886000037193298,\n",
    " 0.6840999722480774,\n",
    " 0.6948000192642212,\n",
    " 0.6952999830245972,\n",
    " 0.671999990940094,\n",
    " 0.6729000210762024,\n",
    " 0.6859999895095825,\n",
    " 0.6485000252723694,\n",
    " 0.6401000022888184]"
   ],
   "metadata": {
    "collapsed": false,
    "ExecuteTime": {
     "end_time": "2024-03-27T20:35:12.315283Z",
     "start_time": "2024-03-27T20:35:12.311151Z"
    }
   },
   "id": "c9be023631e10600",
   "execution_count": 51
  },
  {
   "cell_type": "code",
   "outputs": [],
   "source": [
    "# import matplotlib.pyplot as plt\n",
    "# plt.figure(figsize=(10, 6))\n",
    "# plt.subplot(131)\n",
    "# plt.boxplot(results[\"test_model_1\"])\n",
    "# plt.ylim([0.63, 0.65])\n",
    "# plt.subplot(132)\n",
    "# plt.boxplot(ass_m[\"test_model_1\"])\n",
    "# plt.ylim([0.63, 0.65])\n",
    "# plt.subplot(133)\n",
    "# plt.boxplot(random_m[\"test_model_1\"])\n",
    "# plt.ylim([0.63, 0.65])\n",
    "# plt.show()"
   ],
   "metadata": {
    "collapsed": false,
    "ExecuteTime": {
     "end_time": "2024-03-27T16:11:18.021103Z",
     "start_time": "2024-03-27T16:11:18.015921Z"
    }
   },
   "id": "680579d76c6480b0",
   "execution_count": 16
  },
  {
   "cell_type": "code",
   "outputs": [
    {
     "data": {
      "text/plain": "TtestResult(statistic=-12.31960666634431, pvalue=2.9282921617593514e-26, df=198.0)"
     },
     "execution_count": 17,
     "metadata": {},
     "output_type": "execute_result"
    }
   ],
   "source": [
    "import scipy.stats\n",
    "scipy.stats.ttest_ind(abc * 2, model_scores * 2)"
   ],
   "metadata": {
    "collapsed": false,
    "ExecuteTime": {
     "end_time": "2024-03-27T16:11:18.027261Z",
     "start_time": "2024-03-27T16:11:18.021928Z"
    }
   },
   "id": "abe728bfb422081a",
   "execution_count": 17
  },
  {
   "cell_type": "code",
   "outputs": [
    {
     "data": {
      "text/plain": "(0.671435554822286, 0.6663088891241286)"
     },
     "execution_count": 55,
     "metadata": {},
     "output_type": "execute_result"
    }
   ],
   "source": [
    "np.mean(sorted(model_scores)[5:]), np.mean(sorted(abc)[5:])"
   ],
   "metadata": {
    "collapsed": false,
    "ExecuteTime": {
     "end_time": "2024-03-28T07:02:47.063397Z",
     "start_time": "2024-03-28T07:02:47.043212Z"
    }
   },
   "id": "de9e6e80b9d0476b",
   "execution_count": 55
  },
  {
   "cell_type": "code",
   "outputs": [
    {
     "data": {
      "text/plain": "0.7122500240802743"
     },
     "execution_count": 58,
     "metadata": {},
     "output_type": "execute_result"
    }
   ],
   "source": [
    "(np.mean(sorted(model_scores)[10:]) - np.mean(sorted(abc)[10:]) ) * 100"
   ],
   "metadata": {
    "collapsed": false,
    "ExecuteTime": {
     "end_time": "2024-03-28T07:03:07.779735Z",
     "start_time": "2024-03-28T07:03:07.776693Z"
    }
   },
   "id": "9d653b3093a288d4",
   "execution_count": 58
  },
  {
   "cell_type": "code",
   "outputs": [],
   "source": [],
   "metadata": {
    "collapsed": false
   },
   "id": "42a40bf5388b5d36"
  }
 ],
 "metadata": {
  "kernelspec": {
   "display_name": "Python 3",
   "language": "python",
   "name": "python3"
  },
  "language_info": {
   "codemirror_mode": {
    "name": "ipython",
    "version": 2
   },
   "file_extension": ".py",
   "mimetype": "text/x-python",
   "name": "python",
   "nbconvert_exporter": "python",
   "pygments_lexer": "ipython2",
   "version": "2.7.6"
  }
 },
 "nbformat": 4,
 "nbformat_minor": 5
}
