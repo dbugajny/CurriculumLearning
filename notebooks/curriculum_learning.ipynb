{
 "cells": [
  {
   "cell_type": "code",
   "execution_count": 3,
   "id": "initial_id",
   "metadata": {
    "collapsed": true,
    "ExecuteTime": {
     "end_time": "2024-07-16T16:37:50.148156Z",
     "start_time": "2024-07-16T16:37:50.143529Z"
    }
   },
   "outputs": [],
   "source": [
    "import numpy as np\n",
    "import tensorflow as tf\n",
    "from curriculum_learning.models.classifier_model import ClassifierModel\n",
    "from curriculum_learning import utils\n",
    "from tqdm import tqdm\n",
    "from sklearn.model_selection import train_test_split\n",
    "import tensorflow_datasets as tfds"
   ]
  },
  {
   "cell_type": "code",
   "outputs": [],
   "source": [
    "DATASET_NAME = \"eurosat\""
   ],
   "metadata": {
    "collapsed": false
   },
   "id": "f4e61aca64f3e264"
  },
  {
   "cell_type": "code",
   "outputs": [],
   "source": [
    "N_EPOCHS_CL = 50\n",
    "N_TRIALS = 1\n",
    "BATCH_SIZE = 512\n",
    "\n",
    "model_fit_base_params = {\n",
    "    \"batch_size\": BATCH_SIZE,\n",
    "    \"shuffle\": True,\n",
    "    \"verbose\": 0,\n",
    "}\n",
    "model_fit_1_params = model_fit_base_params | {\"epochs\": 1}\n",
    "model_fit_500_params = model_fit_base_params | {\"epochs\": 500}\n",
    "\n",
    "loss = tf.keras.losses.SparseCategoricalCrossentropy()"
   ],
   "metadata": {
    "collapsed": false,
    "ExecuteTime": {
     "end_time": "2024-07-16T17:04:38.986507Z",
     "start_time": "2024-07-16T17:04:38.984178Z"
    }
   },
   "id": "5080a937fd234104",
   "execution_count": 53
  },
  {
   "cell_type": "code",
   "outputs": [
    {
     "name": "stderr",
     "output_type": "stream",
     "text": [
      "2024-07-16 19:15:19.105334: W tensorflow/core/framework/local_rendezvous.cc:404] Local rendezvous is aborting with status: OUT_OF_RANGE: End of sequence\n"
     ]
    }
   ],
   "source": [
    "x = []\n",
    "y = []\n",
    "\n",
    "ds_1 = tfds.load(DATASET_NAME, split=\"train\", as_supervised=True, shuffle_files=False)\n",
    "for x_, y_ in ds_1.as_numpy_iterator():\n",
    "    x.append(x_)\n",
    "    y.append(y_)\n",
    "    \n",
    "# ds_2 = tfds.load(DATASET_NAME, split=\"test\", as_supervised=True, shuffle_files=False)\n",
    "# for x_, y_ in ds_2.as_numpy_iterator():\n",
    "#     x.append(x_)\n",
    "#     y.append(y_)\n",
    "\n",
    "x = np.array(x, dtype=np.float32) / 255\n",
    "y = np.array(y, dtype=np.float32)"
   ],
   "metadata": {
    "collapsed": false,
    "ExecuteTime": {
     "end_time": "2024-07-16T17:15:19.453222Z",
     "start_time": "2024-07-16T17:15:16.551031Z"
    }
   },
   "id": "833df77eba9d27a2",
   "execution_count": 78
  },
  {
   "cell_type": "code",
   "execution_count": 79,
   "outputs": [
    {
     "data": {
      "text/plain": "(18900, 4050, 4050, 27000)"
     },
     "execution_count": 79,
     "metadata": {},
     "output_type": "execute_result"
    }
   ],
   "source": [
    "x_train, x_test, y_train, y_test = train_test_split(x, y, test_size=0.3, random_state=42, stratify=y)\n",
    "x_test, x_val, y_test, y_val = train_test_split(x_test, y_test, test_size=0.5, random_state=42, stratify=y_test)\n",
    "\n",
    "n_classes = len(np.unique(y))\n",
    "train_size = x_train.shape[0]\n",
    "\n",
    "x_train_sorted = x_train[np.argsort(y_train)]\n",
    "y_train_sorted = y_train[np.argsort(y_train)]\n",
    "_, counts = np.unique(y_train_sorted, return_counts=True)\n",
    "\n",
    "train_size, len(x_val), len(x_test), train_size + len(x_val) + len(x_test)"
   ],
   "metadata": {
    "collapsed": false,
    "ExecuteTime": {
     "end_time": "2024-07-16T17:15:22.912754Z",
     "start_time": "2024-07-16T17:15:21.949110Z"
    }
   },
   "id": "8424e92d91deb0ac"
  },
  {
   "cell_type": "code",
   "outputs": [],
   "source": [
    "model = ClassifierModel(output_shape=n_classes, **utils.MODEL_ARCHITECTURE)\n",
    "model.compile(optimizer=\"adam\", loss=loss, metrics=[\"accuracy\"])\n",
    "model(x_train[0:1])\n",
    "model.load_weights(f\"../models/default_model_weights_{DATASET_NAME}.weights.h5\")\n",
    "model_weights = model.get_weights()"
   ],
   "metadata": {
    "collapsed": false,
    "ExecuteTime": {
     "end_time": "2024-07-16T17:15:23.162957Z",
     "start_time": "2024-07-16T17:15:22.913758Z"
    }
   },
   "id": "5d8c20ae81a03a89",
   "execution_count": 80
  },
  {
   "cell_type": "code",
   "outputs": [],
   "source": [
    "def run_experiments(value_type: str, order_type: utils.OrderType, name: str):\n",
    "    acc = []\n",
    "    re_mi = []\n",
    "    re_ma = []\n",
    "    pr_mi = []\n",
    "    pr_ma = []\n",
    "    f1_mi = []\n",
    "    f1_ma = []\n",
    "    best_model_weights = model.get_weights()\n",
    "    \n",
    "    if value_type == \"edges\":\n",
    "        samples_values = utils.calculate_values_edges(x_train_sorted, blur=True)\n",
    "        samples_proba = utils.normalize_values_per_group(samples_values, counts)\n",
    "    \n",
    "    for _ in tqdm(range(N_TRIALS)):\n",
    "        model.set_weights(model_weights)\n",
    "    \n",
    "        for i in range(N_EPOCHS_CL):\n",
    "            n_samples = int(np.tanh(4 * (i + 1) / N_EPOCHS_CL) * train_size)\n",
    "\n",
    "            if value_type == \"losses\":\n",
    "                samples_values = utils.calculate_values_losses(model, x_train_sorted, y_train_sorted, batch_size=BATCH_SIZE)\n",
    "                samples_proba = utils.normalize_values_per_group(samples_values, counts)\n",
    "\n",
    "            samples_ids = utils.chose_samples(n_samples, samples_proba, order_type)\n",
    "    \n",
    "            model.fit(x_train_sorted[samples_ids], y_train_sorted[samples_ids], **model_fit_1_params)\n",
    "    \n",
    "        model.fit(\n",
    "            x_train_sorted, y_train_sorted, validation_data=(x_val, y_val), **model_fit_500_params,\n",
    "            callbacks=[tf.keras.callbacks.EarlyStopping(monitor='val_loss', restore_best_weights=True, patience=5, start_from_epoch=10)]\n",
    "        )\n",
    "              \n",
    "        y_pred = np.argmax(model.predict(x_test, batch_size=BATCH_SIZE, verbose=0), axis=1)  \n",
    "        utils.calculate_metrics(y_test, y_pred, acc, re_mi, re_ma, pr_mi, pr_ma, f1_mi, f1_ma)\n",
    "        if acc[-1] >= max(acc):\n",
    "            best_model_weights = model.get_weights()\n",
    "            \n",
    "        print(f\"Mean accuracy: {np.mean(acc):.4f}, Current accuracy: {acc[-1]:.4f}\")\n",
    "        \n",
    "    df_scores = utils.create_df_scores(acc, re_mi, re_ma, pr_mi, pr_ma, f1_mi, f1_ma)\n",
    "    df_scores.to_csv(f\"../data/results/{name}.csv\")\n",
    "    \n",
    "    model.set_weights(best_model_weights)\n",
    "    model.save_weights(f\"../models/best/{name}.weights.h5\")"
   ],
   "metadata": {
    "collapsed": false,
    "ExecuteTime": {
     "end_time": "2024-07-16T17:15:23.569671Z",
     "start_time": "2024-07-16T17:15:23.562286Z"
    }
   },
   "id": "efe67648b5f902c5",
   "execution_count": 81
  },
  {
   "cell_type": "markdown",
   "source": [
    "# Edges"
   ],
   "metadata": {
    "collapsed": false
   },
   "id": "8dbc5faac813bf81"
  },
  {
   "cell_type": "code",
   "outputs": [],
   "source": [
    "from sklearn import metrics\n",
    "y_pred = np.argmax(model.predict(x_test, batch_size=BATCH_SIZE, verbose=0), axis=1)"
   ],
   "metadata": {
    "collapsed": false,
    "is_executing": true
   },
   "id": "1acdd7d8809b34d6",
   "execution_count": null
  },
  {
   "cell_type": "code",
   "outputs": [
    {
     "name": "stdout",
     "output_type": "stream",
     "text": [
      "              precision    recall  f1-score   support\n",
      "\n",
      "         0.0    0.84831   0.77436   0.80965       195\n",
      "         1.0    0.56983   0.52308   0.54545       195\n",
      "         2.0    0.73460   0.79487   0.76355       195\n",
      "         3.0    0.37809   0.54872   0.44770       195\n",
      "         4.0    0.58511   0.56410   0.57441       195\n",
      "         5.0    0.38953   0.34359   0.36512       195\n",
      "         6.0    0.73826   0.56410   0.63953       195\n",
      "         7.0    0.50909   0.57436   0.53976       195\n",
      "         8.0    0.74299   0.81538   0.77751       195\n",
      "         9.0    0.70513   0.56410   0.62678       195\n",
      "\n",
      "    accuracy                        0.60667      1950\n",
      "   macro avg    0.62009   0.60667   0.60895      1950\n",
      "weighted avg    0.62009   0.60667   0.60895      1950\n"
     ]
    }
   ],
   "source": [
    "print(metrics.classification_report(y_test, y_pred, digits=5))"
   ],
   "metadata": {
    "collapsed": false,
    "ExecuteTime": {
     "end_time": "2024-07-16T17:13:48.566998Z",
     "start_time": "2024-07-16T17:13:48.557905Z"
    }
   },
   "id": "fb7d8e881ab8eaca",
   "execution_count": 75
  },
  {
   "cell_type": "code",
   "outputs": [],
   "source": [
    "metrics.recall_score(y_test, y_pred, average=None)"
   ],
   "metadata": {
    "collapsed": false
   },
   "id": "9777720e2d2a4a30"
  },
  {
   "cell_type": "code",
   "outputs": [],
   "source": [
    "metrics.recall_score(y_test, y_pred, average=\"weighted\")"
   ],
   "metadata": {
    "collapsed": false
   },
   "id": "1436d241be118261"
  },
  {
   "cell_type": "code",
   "outputs": [
    {
     "data": {
      "text/plain": "0.6066666666666667"
     },
     "execution_count": 76,
     "metadata": {},
     "output_type": "execute_result"
    }
   ],
   "source": [
    "metrics.recall_score(y_test, y_pred, average=\"macro\")"
   ],
   "metadata": {
    "collapsed": false,
    "ExecuteTime": {
     "end_time": "2024-07-16T17:13:51.223856Z",
     "start_time": "2024-07-16T17:13:51.216465Z"
    }
   },
   "id": "8839853abc95a08f",
   "execution_count": 76
  },
  {
   "cell_type": "code",
   "outputs": [
    {
     "data": {
      "text/plain": "0.6200942106847257"
     },
     "execution_count": 77,
     "metadata": {},
     "output_type": "execute_result"
    }
   ],
   "source": [
    "metrics.precision_score(y_test, y_pred, average=\"macro\")"
   ],
   "metadata": {
    "collapsed": false,
    "ExecuteTime": {
     "end_time": "2024-07-16T17:14:09.317954Z",
     "start_time": "2024-07-16T17:14:09.313291Z"
    }
   },
   "id": "49224cca0f76438a",
   "execution_count": 77
  },
  {
   "cell_type": "code",
   "outputs": [
    {
     "name": "stderr",
     "output_type": "stream",
     "text": [
      "  0%|          | 0/1 [00:00<?, ?it/s]"
     ]
    }
   ],
   "source": [
    "vals = \"edges\"\n",
    "ot = utils.OrderType.PROBA\n",
    "run_experiments(vals, ot, name=f\"{vals}_{ot.value}_{DATASET_NAME}\")"
   ],
   "metadata": {
    "collapsed": false,
    "is_executing": true,
    "ExecuteTime": {
     "start_time": "2024-07-16T17:15:29.893592Z"
    }
   },
   "id": "cdf560a64be5b55e",
   "execution_count": null
  },
  {
   "cell_type": "code",
   "outputs": [],
   "source": [
    "vals = \"edges\"\n",
    "ot = utils.OrderType.FIXED\n",
    "run_experiments(vals, ot, name=f\"{vals}_{ot.value}_stl10\")"
   ],
   "metadata": {
    "collapsed": false
   },
   "id": "a5a8bf1cf4005b9b"
  },
  {
   "cell_type": "markdown",
   "source": [
    "# Losses"
   ],
   "metadata": {
    "collapsed": false
   },
   "id": "7a8f1dcdeeba8b74"
  },
  {
   "cell_type": "code",
   "outputs": [],
   "source": [
    "vals = \"losses\"\n",
    "ot = utils.OrderType.PROBA\n",
    "run_experiments(vals, ot, name=f\"{vals}_{ot.value}_stl10\")"
   ],
   "metadata": {
    "collapsed": false
   },
   "id": "7fab4095ceccdac7"
  },
  {
   "cell_type": "code",
   "outputs": [],
   "source": [
    "vals = \"losses\"\n",
    "ot = utils.OrderType.FIXED\n",
    "run_experiments(vals, ot, name=f\"{vals}_{ot.value}_stl10\")"
   ],
   "metadata": {
    "collapsed": false
   },
   "id": "bd364836f49f5035"
  },
  {
   "cell_type": "markdown",
   "source": [
    "# Random"
   ],
   "metadata": {
    "collapsed": false
   },
   "id": "75688d36e3c5d82c"
  },
  {
   "cell_type": "code",
   "outputs": [],
   "source": [
    "def run_experiments_random(name: str):    \n",
    "    acc = []\n",
    "    re_mi = []\n",
    "    re_ma = []\n",
    "    pr_mi = []\n",
    "    pr_ma = []\n",
    "    f1_mi = []\n",
    "    f1_ma = []\n",
    "    best_model_weights = model.get_weights()\n",
    "    \n",
    "    for _ in tqdm(range(N_TRIALS)):\n",
    "        model.set_weights(model_weights)\n",
    "    \n",
    "        model.fit(\n",
    "            x_train_sorted, y_train_sorted, validation_data=(x_val, y_val), **model_fit_500_params,\n",
    "            callbacks=[tf.keras.callbacks.EarlyStopping(monitor='val_loss', restore_best_weights=True, patience=5, start_from_epoch=35)]\n",
    "        )\n",
    "    \n",
    "        y_pred = np.argmax(model.predict(x_test, batch_size=BATCH_SIZE, verbose=0), axis=1)  \n",
    "        utils.calculate_metrics(y_test, y_pred, acc, re_mi, re_ma, pr_mi, pr_ma, f1_mi, f1_ma)\n",
    "        if acc[-1] > max(acc):\n",
    "            best_model_weights = model.get_weights()\n",
    "            \n",
    "        print(f\"Mean accuracy: {np.mean(acc):.4f}, Current accuracy: {acc[-1]:.4f}\")\n",
    "        \n",
    "    df_scores = utils.create_df_scores(acc, re_mi, re_ma, pr_mi, pr_ma, f1_mi, f1_ma)\n",
    "    df_scores.to_csv(f\"../data/results/{name}.csv\")\n",
    "\n",
    "    model.set_weights(best_model_weights)\n",
    "    model.save_weights(f\"../models/best/{name}.weights.h5\")"
   ],
   "metadata": {
    "collapsed": false
   },
   "id": "c4944c9f8eaffaf6"
  },
  {
   "cell_type": "code",
   "outputs": [],
   "source": [
    "# with open('RANDOM.txt', 'w') as f:\n",
    "#     for score in model_scores_random:\n",
    "#         f.write(f\"{score}\\n\")"
   ],
   "metadata": {
    "collapsed": false
   },
   "id": "c66f23119e6fd335",
   "execution_count": null
  },
  {
   "cell_type": "code",
   "outputs": [],
   "source": [
    "# model_scores_random"
   ],
   "metadata": {
    "collapsed": false
   },
   "id": "a2671c41f0227ac0",
   "execution_count": null
  },
  {
   "cell_type": "code",
   "outputs": [],
   "source": [
    "# my_dict = {\n",
    "#     'model_scores_random': model_scores_random,\n",
    "#     'model_scores_proba_edges': model_scores_proba_edges,\n",
    "#     'model_scores_fixed_edges': model_scores_fixed_edges,\n",
    "#     'model_scores_proba_loss': model_scores_proba_loss,\n",
    "#     'model_scores_fixed_loss': model_scores_fixed_loss,\n",
    "# }\n",
    "# \n",
    "# fig, ax = plt.subplots(figsize=(12, 4))\n",
    "# ax.boxplot(my_dict.values())\n",
    "# ax.set_xticklabels(my_dict.keys())\n",
    "# plt.ylim([0.725, 0.865])"
   ],
   "metadata": {
    "collapsed": false
   },
   "id": "5233365e21fbd13d",
   "execution_count": null
  },
  {
   "cell_type": "code",
   "outputs": [],
   "source": [],
   "metadata": {
    "collapsed": false
   },
   "id": "435948d951668730",
   "execution_count": null
  }
 ],
 "metadata": {
  "kernelspec": {
   "display_name": "Python 3",
   "language": "python",
   "name": "python3"
  },
  "language_info": {
   "codemirror_mode": {
    "name": "ipython",
    "version": 2
   },
   "file_extension": ".py",
   "mimetype": "text/x-python",
   "name": "python",
   "nbconvert_exporter": "python",
   "pygments_lexer": "ipython2",
   "version": "2.7.6"
  }
 },
 "nbformat": 4,
 "nbformat_minor": 5
}
