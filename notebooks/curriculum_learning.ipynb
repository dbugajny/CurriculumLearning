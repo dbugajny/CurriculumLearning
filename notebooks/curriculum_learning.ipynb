{
 "cells": [
  {
   "cell_type": "code",
   "execution_count": 1,
   "id": "initial_id",
   "metadata": {
    "collapsed": true,
    "ExecuteTime": {
     "end_time": "2024-03-25T09:57:32.728630Z",
     "start_time": "2024-03-25T09:57:29.777425Z"
    }
   },
   "outputs": [],
   "source": [
    "import numpy as np\n",
    "import tensorflow as tf\n",
    "from curriculum_learning.models.classifier_model import ClassifierModel\n",
    "from curriculum_learning import utils\n",
    "import yaml\n",
    "from tqdm import tqdm\n",
    "from sklearn.model_selection import train_test_split"
   ]
  },
  {
   "cell_type": "code",
   "execution_count": 2,
   "outputs": [],
   "source": [
    "with open(\"models_hyperparameters.yaml\", \"r\") as stream:\n",
    "    models_hyperparameters = yaml.safe_load(stream)\n",
    "    \n",
    "with open(\"config_tests.yaml\", \"r\") as stream:\n",
    "    config_tests = yaml.safe_load(stream)"
   ],
   "metadata": {
    "collapsed": false,
    "ExecuteTime": {
     "end_time": "2024-03-25T09:57:32.739263Z",
     "start_time": "2024-03-25T09:57:32.730045Z"
    }
   },
   "id": "fa5a1f60ac32c234"
  },
  {
   "cell_type": "code",
   "execution_count": 23,
   "outputs": [],
   "source": [
    "N_EPOCHS = 30\n",
    "N_TRIALS = 50\n",
    "BATCH_SIZE = 512\n",
    "\n",
    "CONFIG = config_tests[\"progressive_proba_best\"]\n",
    "\n",
    "loss = tf.keras.losses.SparseCategoricalCrossentropy()"
   ],
   "metadata": {
    "collapsed": false,
    "ExecuteTime": {
     "end_time": "2024-03-25T13:06:19.512752Z",
     "start_time": "2024-03-25T13:06:19.507088Z"
    }
   },
   "id": "291968d1be29b250"
  },
  {
   "cell_type": "code",
   "execution_count": 24,
   "outputs": [],
   "source": [
    "x, y = utils.load_cifar_data(\"../data/cifar-10-batches-py/\")\n",
    "x /= 255\n",
    "\n",
    "x_train, x_test, y_train, y_test = train_test_split(x, y, test_size=0.4, random_state=42)\n",
    "x_test, x_val, y_test, y_val = train_test_split(x_test, y_test, test_size=0.5, random_state=42)\n",
    "\n",
    "n_classes = len(np.unique(y))\n",
    "train_size = x_train.shape[0]"
   ],
   "metadata": {
    "collapsed": false,
    "ExecuteTime": {
     "end_time": "2024-03-25T13:06:20.778867Z",
     "start_time": "2024-03-25T13:06:19.991067Z"
    }
   },
   "id": "8424e92d91deb0ac"
  },
  {
   "cell_type": "code",
   "execution_count": 25,
   "outputs": [],
   "source": [
    "assessment_model = ClassifierModel(output_shape=n_classes, **models_hyperparameters[\"assessment_model\"])\n",
    "\n",
    "assessment_model.compile(loss=loss, metrics=[\"accuracy\"])\n",
    "assessment_model(x_train[:1])\n",
    "assessment_model.load_weights(\"../models/assessment_model.weights.h5\")"
   ],
   "metadata": {
    "collapsed": false,
    "ExecuteTime": {
     "end_time": "2024-03-25T13:06:21.058572Z",
     "start_time": "2024-03-25T13:06:20.779949Z"
    }
   },
   "id": "bdafb8a9c136f286"
  },
  {
   "cell_type": "code",
   "outputs": [
    {
     "name": "stdout",
     "output_type": "stream",
     "text": [
      "\u001B[1m313/313\u001B[0m \u001B[32m━━━━━━━━━━━━━━━━━━━━\u001B[0m\u001B[37m\u001B[0m \u001B[1m3s\u001B[0m 7ms/step - accuracy: 0.6241 - loss: 1.0372\n"
     ]
    },
    {
     "data": {
      "text/plain": "[1.029136061668396, 0.6295999884605408]"
     },
     "execution_count": 26,
     "metadata": {},
     "output_type": "execute_result"
    }
   ],
   "source": [
    "assessment_model.evaluate(x_test, y_test)"
   ],
   "metadata": {
    "collapsed": false,
    "ExecuteTime": {
     "end_time": "2024-03-25T13:06:27.129804Z",
     "start_time": "2024-03-25T13:06:24.139117Z"
    }
   },
   "id": "7ff2d10f11b6825b",
   "execution_count": 26
  },
  {
   "cell_type": "code",
   "execution_count": 27,
   "outputs": [],
   "source": [
    "x_train_sorted = x_train[np.argsort(y_train)]\n",
    "y_train_sorted = y_train[np.argsort(y_train)]\n",
    "_, counts = np.unique(y_train_sorted, return_counts=True)\n",
    "\n",
    "samples_proba = utils.calculate_proba(\n",
    "    assessment_model, x_train_sorted, y_train_sorted, counts, CONFIG[\"negative_loss\"]\n",
    ")"
   ],
   "metadata": {
    "collapsed": false,
    "ExecuteTime": {
     "end_time": "2024-03-25T13:06:30.762109Z",
     "start_time": "2024-03-25T13:06:27.564718Z"
    }
   },
   "id": "a2cd5df2d1ace314"
  },
  {
   "cell_type": "code",
   "outputs": [],
   "source": [
    "model = ClassifierModel(output_shape=n_classes, **models_hyperparameters[\"test_model_1\"])\n",
    "model.compile(optimizer=\"adam\", loss=loss, metrics=[\"accuracy\"])\n",
    "model(x_train[0:1])\n",
    "### model.save_weights(\"../models/default_model.weights.h5\")\n",
    "model.load_weights(\"../models/default_model.weights.h5\")\n",
    "model_weights = model.get_weights()"
   ],
   "metadata": {
    "collapsed": false,
    "ExecuteTime": {
     "end_time": "2024-03-25T13:06:30.939305Z",
     "start_time": "2024-03-25T13:06:30.763241Z"
    }
   },
   "id": "5d8c20ae81a03a89",
   "execution_count": 28
  },
  {
   "cell_type": "code",
   "execution_count": null,
   "outputs": [
    {
     "name": "stderr",
     "output_type": "stream",
     "text": [
      "  0%|          | 0/50 [00:00<?, ?it/s]"
     ]
    }
   ],
   "source": [
    "results = {}\n",
    "model_scores = []\n",
    "\n",
    "for _ in tqdm(range(N_TRIALS)):\n",
    "    model.set_weights(model_weights)\n",
    "        \n",
    "    for i in range(N_EPOCHS):\n",
    "        n_samples = int(np.tanh(4 * (i + 1) / N_EPOCHS) * train_size)\n",
    "        \n",
    "        samples_ids = utils.chose_samples(n_samples, samples_proba, CONFIG[\"order_type\"])\n",
    "        model.fit(\n",
    "            x_train_sorted[samples_ids],\n",
    "            y_train_sorted[samples_ids],\n",
    "            # validation_data=(x_val, y_val),\n",
    "            epochs=1,\n",
    "            batch_size=BATCH_SIZE,\n",
    "            verbose=0,\n",
    "        )\n",
    "        \n",
    "        if CONFIG[\"progressive\"]:\n",
    "            samples_proba = utils.calculate_proba(\n",
    "                model, x_train_sorted, y_train_sorted, counts, CONFIG[\"negative_loss\"]\n",
    "            )\n",
    "            \n",
    "    _, accuracy = model.evaluate(x_test, y_test, batch_size=BATCH_SIZE, verbose=1)\n",
    "    model_scores.append(accuracy)\n",
    "\n",
    "    results[\"test_model_1\"] = model_scores"
   ],
   "metadata": {
    "collapsed": false,
    "is_executing": true,
    "ExecuteTime": {
     "start_time": "2024-03-25T13:06:30.940146Z"
    }
   },
   "id": "ce9112b33b1ada44"
  },
  {
   "cell_type": "code",
   "execution_count": 20,
   "outputs": [
    {
     "data": {
      "text/plain": "{'test_model_1': [0.6618000268936157,\n  0.6466000080108643,\n  0.625,\n  0.6243000030517578,\n  0.6646000146865845,\n  0.6240000128746033,\n  0.6625000238418579,\n  0.6847000122070312,\n  0.6686999797821045,\n  0.6251000165939331,\n  0.6370000243186951,\n  0.6363999843597412,\n  0.6685000061988831,\n  0.5289000272750854,\n  0.6320000290870667,\n  0.650600016117096,\n  0.6658999919891357,\n  0.6388999819755554,\n  0.6471999883651733,\n  0.6643999814987183,\n  0.5927000045776367,\n  0.6323000192642212,\n  0.6427000164985657,\n  0.6633999943733215,\n  0.6328999996185303,\n  0.6157000064849854,\n  0.6482999920845032,\n  0.671999990940094,\n  0.6280999779701233,\n  0.6459000110626221,\n  0.6155999898910522,\n  0.680899977684021,\n  0.6488000154495239,\n  0.5845999717712402,\n  0.6744999885559082,\n  0.5877000093460083,\n  0.6427000164985657,\n  0.6291000247001648,\n  0.6870999932289124,\n  0.5861999988555908,\n  0.5940999984741211,\n  0.6732000112533569,\n  0.5968000292778015,\n  0.646399974822998,\n  0.6489999890327454,\n  0.670199990272522,\n  0.5655999779701233,\n  0.633899986743927,\n  0.613099992275238,\n  0.6439999938011169]}"
     },
     "execution_count": 20,
     "metadata": {},
     "output_type": "execute_result"
    }
   ],
   "source": [
    "results"
   ],
   "metadata": {
    "collapsed": false,
    "ExecuteTime": {
     "end_time": "2024-03-25T12:55:05.144568Z",
     "start_time": "2024-03-25T12:55:05.136121Z"
    }
   },
   "id": "d551d3d3c24e87d6"
  },
  {
   "cell_type": "code",
   "outputs": [
    {
     "data": {
      "text/plain": "0.6370920014381408"
     },
     "execution_count": 21,
     "metadata": {},
     "output_type": "execute_result"
    }
   ],
   "source": [
    "sum(results[\"test_model_1\"]) / N_TRIALS"
   ],
   "metadata": {
    "collapsed": false,
    "ExecuteTime": {
     "end_time": "2024-03-25T13:00:19.700307Z",
     "start_time": "2024-03-25T13:00:19.695540Z"
    }
   },
   "id": "91eb875fc2cb9908",
   "execution_count": 21
  },
  {
   "cell_type": "code",
   "execution_count": 11,
   "outputs": [
    {
     "data": {
      "text/plain": "0.6341319984197616"
     },
     "execution_count": 11,
     "metadata": {},
     "output_type": "execute_result"
    }
   ],
   "source": [
    "sum(results[\"test_model_1\"]) / N_TRIALS"
   ],
   "metadata": {
    "collapsed": false,
    "ExecuteTime": {
     "end_time": "2024-03-25T10:53:03.686686Z",
     "start_time": "2024-03-25T10:53:03.681759Z"
    }
   },
   "id": "d7c19f6278654c3b"
  },
  {
   "cell_type": "code",
   "outputs": [],
   "source": [
    "# import scipy.stats\n",
    "# scipy.stats.ttest_ind(abc, results[\"test_model_1\"])"
   ],
   "metadata": {
    "collapsed": false,
    "ExecuteTime": {
     "end_time": "2024-03-25T10:53:04.294006Z",
     "start_time": "2024-03-25T10:53:04.291641Z"
    }
   },
   "id": "625165dc67fd0315",
   "execution_count": 12
  },
  {
   "cell_type": "code",
   "outputs": [
    {
     "data": {
      "text/plain": "0.6341319984197616"
     },
     "execution_count": 22,
     "metadata": {},
     "output_type": "execute_result"
    }
   ],
   "source": [
    "abc = [0.6812000274658203,\n",
    "  0.6647999882698059,\n",
    "  0.6518999934196472,\n",
    "  0.6837000250816345,\n",
    "  0.6197999715805054,\n",
    "  0.6370000243186951,\n",
    "  0.6348999738693237,\n",
    "  0.5795999765396118,\n",
    "  0.597100019454956,\n",
    "  0.6399000287055969,\n",
    "  0.6011999845504761,\n",
    "  0.6022999882698059,\n",
    "  0.6406999826431274,\n",
    "  0.645799994468689,\n",
    "  0.6207000017166138,\n",
    "  0.6618000268936157,\n",
    "  0.5845999717712402,\n",
    "  0.5770999789237976,\n",
    "  0.6766999959945679,\n",
    "  0.6568999886512756,\n",
    "  0.6427000164985657,\n",
    "  0.609499990940094,\n",
    "  0.6531000137329102,\n",
    "  0.6708999872207642,\n",
    "  0.6642000079154968,\n",
    "  0.6219000220298767,\n",
    "  0.6248999834060669,\n",
    "  0.6446999907493591,\n",
    "  0.6068999767303467,\n",
    "  0.6470999717712402,\n",
    "  0.6611999869346619,\n",
    "  0.6348000168800354,\n",
    "  0.6656000018119812,\n",
    "  0.6819999814033508,\n",
    "  0.6370000243186951,\n",
    "  0.6762999892234802,\n",
    "  0.600600004196167,\n",
    "  0.6376000046730042,\n",
    "  0.4887000024318695,\n",
    "  0.5899999737739563,\n",
    "  0.663100004196167,\n",
    "  0.65420001745224,\n",
    "  0.6169000267982483,\n",
    "  0.599399983882904,\n",
    "  0.6161999702453613,\n",
    "  0.6198999881744385,\n",
    "  0.6546000242233276,\n",
    "  0.6581000089645386,\n",
    "  0.656499981880188,\n",
    "  0.6503000259399414]\n",
    "\n",
    "sum(abc) / 50"
   ],
   "metadata": {
    "collapsed": false,
    "ExecuteTime": {
     "end_time": "2024-03-25T13:02:12.459325Z",
     "start_time": "2024-03-25T13:02:12.452411Z"
    }
   },
   "id": "24d4798ad998d0fe",
   "execution_count": 22
  },
  {
   "cell_type": "code",
   "outputs": [],
   "source": [],
   "metadata": {
    "collapsed": false
   },
   "id": "680579d76c6480b0"
  }
 ],
 "metadata": {
  "kernelspec": {
   "display_name": "Python 3",
   "language": "python",
   "name": "python3"
  },
  "language_info": {
   "codemirror_mode": {
    "name": "ipython",
    "version": 2
   },
   "file_extension": ".py",
   "mimetype": "text/x-python",
   "name": "python",
   "nbconvert_exporter": "python",
   "pygments_lexer": "ipython2",
   "version": "2.7.6"
  }
 },
 "nbformat": 4,
 "nbformat_minor": 5
}
