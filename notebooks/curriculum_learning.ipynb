{
 "cells": [
  {
   "cell_type": "code",
   "execution_count": 25,
   "id": "initial_id",
   "metadata": {
    "collapsed": true,
    "ExecuteTime": {
     "end_time": "2024-07-01T15:26:00.444466Z",
     "start_time": "2024-07-01T15:26:00.439907Z"
    }
   },
   "outputs": [],
   "source": [
    "import numpy as np\n",
    "import tensorflow as tf\n",
    "from curriculum_learning.models.classifier_model import ClassifierModel\n",
    "from curriculum_learning import utils\n",
    "from tqdm import tqdm\n",
    "from sklearn.model_selection import train_test_split\n",
    "import tensorflow_datasets as tfds\n",
    "import matplotlib.pyplot as plt\n",
    "import seaborn as sns"
   ]
  },
  {
   "cell_type": "code",
   "outputs": [],
   "source": [
    "MODEL_ARCHITECTURE = {\n",
    "    'conv_block_filters': [16, 32, 64],\n",
    "    'conv_block_kernel_sizes': [3, 3, 3],\n",
    "    'conv_block_strides': [2, 2, 2],\n",
    "    'conv_block_dropout_rates': [0.2, 0.2, 0.2],\n",
    "    'dense_block_units': [32],\n",
    "    'dense_block_dropout_rates': [0.5]\n",
    "}\n",
    "\n",
    "N_EPOCHS = 50\n",
    "N_TRIALS = 30\n",
    "BATCH_SIZE = 512\n",
    "\n",
    "loss = tf.keras.losses.SparseCategoricalCrossentropy()"
   ],
   "metadata": {
    "collapsed": false,
    "ExecuteTime": {
     "end_time": "2024-07-01T15:28:40.709402Z",
     "start_time": "2024-07-01T15:28:40.704315Z"
    }
   },
   "id": "5080a937fd234104",
   "execution_count": 28
  },
  {
   "cell_type": "code",
   "outputs": [
    {
     "name": "stderr",
     "output_type": "stream",
     "text": [
      "2024-07-01 17:28:43.823525: W tensorflow/core/framework/local_rendezvous.cc:404] Local rendezvous is aborting with status: OUT_OF_RANGE: End of sequence\n"
     ]
    }
   ],
   "source": [
    "ds_1 = tfds.load(\"eurosat\", split=\"train\", as_supervised=True, shuffle_files=False)\n",
    "# ds_2 = tfds.load(\"stl10\", split=\"test\", as_supervised=True, shuffle_files=False)\n",
    "\n",
    "x = []\n",
    "y = []\n",
    "\n",
    "for x_, y_ in ds_1.as_numpy_iterator():\n",
    "    x.append(x_)\n",
    "    y.append(y_)\n",
    "    \n",
    "# for x_, y_ in ds_2.as_numpy_iterator():\n",
    "#     x.append(x_)\n",
    "#     y.append(y_)"
   ],
   "metadata": {
    "collapsed": false,
    "ExecuteTime": {
     "end_time": "2024-07-01T15:28:43.825994Z",
     "start_time": "2024-07-01T15:28:41.099418Z"
    }
   },
   "id": "833df77eba9d27a2",
   "execution_count": 29
  },
  {
   "cell_type": "code",
   "execution_count": 14,
   "outputs": [
    {
     "data": {
      "text/plain": "(18900, 4050, 4050)"
     },
     "execution_count": 14,
     "metadata": {},
     "output_type": "execute_result"
    }
   ],
   "source": [
    "x = np.array(x, dtype=np.float32) / 255\n",
    "y = np.array(y, dtype=np.float32)\n",
    "\n",
    "x_train, x_test, y_train, y_test = train_test_split(x, y, test_size=0.3, random_state=42, stratify=y)\n",
    "x_test, x_val, y_test, y_val = train_test_split(x_test, y_test, test_size=0.5, random_state=42, stratify=y_test)\n",
    "\n",
    "n_classes = len(np.unique(y))\n",
    "train_size = x_train.shape[0]\n",
    "train_size, len(x_val), len(x_test)"
   ],
   "metadata": {
    "collapsed": false,
    "ExecuteTime": {
     "end_time": "2024-07-01T15:11:23.902618Z",
     "start_time": "2024-07-01T15:11:23.059549Z"
    }
   },
   "id": "8424e92d91deb0ac"
  },
  {
   "cell_type": "code",
   "outputs": [],
   "source": [
    "x_train_sorted = x_train[np.argsort(y_train)]\n",
    "y_train_sorted = y_train[np.argsort(y_train)]\n",
    "_, counts = np.unique(y_train_sorted, return_counts=True)"
   ],
   "metadata": {
    "collapsed": false,
    "ExecuteTime": {
     "end_time": "2024-07-01T15:11:24.397968Z",
     "start_time": "2024-07-01T15:11:23.908228Z"
    }
   },
   "id": "a2cd5df2d1ace314",
   "execution_count": 16
  },
  {
   "cell_type": "code",
   "outputs": [],
   "source": [
    "model = ClassifierModel(output_shape=n_classes, **MODEL_ARCHITECTURE)\n",
    "model.compile(optimizer=\"adam\", loss=loss, metrics=[\"accuracy\"])\n",
    "model(x_train[0:1])\n",
    "# model.save_weights(\"../models/default_model.weights.h5\")\n",
    "model.load_weights(\"../models/default_model.weights.h5\")\n",
    "model_weights = model.get_weights()"
   ],
   "metadata": {
    "collapsed": false,
    "ExecuteTime": {
     "end_time": "2024-07-01T15:11:29.639433Z",
     "start_time": "2024-07-01T15:11:28.584923Z"
    }
   },
   "id": "5d8c20ae81a03a89",
   "execution_count": 17
  },
  {
   "cell_type": "code",
   "execution_count": 9,
   "outputs": [
    {
     "name": "stderr",
     "output_type": "stream",
     "text": [
      "  3%|▎         | 1/30 [04:51<2:20:46, 291.26s/it]"
     ]
    },
    {
     "name": "stdout",
     "output_type": "stream",
     "text": [
      "Mean: 0.8289   Median: 0.8289   Last accuracy 0.8289\n"
     ]
    },
    {
     "name": "stderr",
     "output_type": "stream",
     "text": [
      "  7%|▋         | 2/30 [07:45<1:43:45, 222.35s/it]"
     ]
    },
    {
     "name": "stdout",
     "output_type": "stream",
     "text": [
      "Mean: 0.8040   Median: 0.8040   Last accuracy 0.7790\n"
     ]
    },
    {
     "name": "stderr",
     "output_type": "stream",
     "text": [
      " 10%|█         | 3/30 [10:22<1:26:33, 192.37s/it]"
     ]
    },
    {
     "name": "stdout",
     "output_type": "stream",
     "text": [
      "Mean: 0.8049   Median: 0.8067   Last accuracy 0.8067\n"
     ]
    },
    {
     "name": "stderr",
     "output_type": "stream",
     "text": [
      " 13%|█▎        | 4/30 [12:53<1:16:20, 176.16s/it]"
     ]
    },
    {
     "name": "stdout",
     "output_type": "stream",
     "text": [
      "Mean: 0.8062   Median: 0.8085   Last accuracy 0.8104\n"
     ]
    },
    {
     "name": "stderr",
     "output_type": "stream",
     "text": [
      " 17%|█▋        | 5/30 [15:42<1:12:18, 173.55s/it]"
     ]
    },
    {
     "name": "stdout",
     "output_type": "stream",
     "text": [
      "Mean: 0.8050   Median: 0.8067   Last accuracy 0.8002\n"
     ]
    },
    {
     "name": "stderr",
     "output_type": "stream",
     "text": [
      " 20%|██        | 6/30 [18:23<1:07:46, 169.45s/it]"
     ]
    },
    {
     "name": "stdout",
     "output_type": "stream",
     "text": [
      "Mean: 0.8051   Median: 0.8060   Last accuracy 0.8054\n"
     ]
    },
    {
     "name": "stderr",
     "output_type": "stream",
     "text": [
      " 23%|██▎       | 7/30 [21:08<1:04:20, 167.86s/it]"
     ]
    },
    {
     "name": "stdout",
     "output_type": "stream",
     "text": [
      "Mean: 0.8066   Median: 0.8067   Last accuracy 0.8156\n"
     ]
    },
    {
     "name": "stderr",
     "output_type": "stream",
     "text": [
      " 27%|██▋       | 8/30 [24:01<1:02:09, 169.54s/it]"
     ]
    },
    {
     "name": "stdout",
     "output_type": "stream",
     "text": [
      "Mean: 0.8084   Median: 0.8085   Last accuracy 0.8210\n"
     ]
    },
    {
     "name": "stderr",
     "output_type": "stream",
     "text": [
      " 27%|██▋       | 8/30 [24:52<1:08:25, 186.62s/it]\n"
     ]
    },
    {
     "ename": "KeyboardInterrupt",
     "evalue": "",
     "output_type": "error",
     "traceback": [
      "\u001B[0;31m---------------------------------------------------------------------------\u001B[0m",
      "\u001B[0;31mKeyboardInterrupt\u001B[0m                         Traceback (most recent call last)",
      "Cell \u001B[0;32mIn[9], line 18\u001B[0m\n\u001B[1;32m     11\u001B[0m     samples_proba \u001B[38;5;241m=\u001B[39m utils\u001B[38;5;241m.\u001B[39mcalculate_proba(\n\u001B[1;32m     12\u001B[0m         model, x_train_sorted, y_train_sorted, counts, batch_size\u001B[38;5;241m=\u001B[39mBATCH_SIZE\n\u001B[1;32m     13\u001B[0m     )\n\u001B[1;32m     15\u001B[0m     samples_ids \u001B[38;5;241m=\u001B[39m utils\u001B[38;5;241m.\u001B[39mchose_samples(n_samples, samples_proba, CONFIG[\u001B[38;5;124m\"\u001B[39m\u001B[38;5;124morder_type\u001B[39m\u001B[38;5;124m\"\u001B[39m])\n\u001B[1;32m     17\u001B[0m     model\u001B[38;5;241m.\u001B[39mfit(\n\u001B[0;32m---> 18\u001B[0m         \u001B[43mx_train_sorted\u001B[49m\u001B[43m[\u001B[49m\u001B[43msamples_ids\u001B[49m\u001B[43m]\u001B[49m,\n\u001B[1;32m     19\u001B[0m         y_train_sorted[samples_ids],\n\u001B[1;32m     20\u001B[0m         \u001B[38;5;66;03m# validation_data=(x_val, y_val),\u001B[39;00m\n\u001B[1;32m     21\u001B[0m         epochs\u001B[38;5;241m=\u001B[39m\u001B[38;5;241m1\u001B[39m,\n\u001B[1;32m     22\u001B[0m         batch_size\u001B[38;5;241m=\u001B[39mBATCH_SIZE,\n\u001B[1;32m     23\u001B[0m         verbose\u001B[38;5;241m=\u001B[39mverbose,\n\u001B[1;32m     24\u001B[0m     )\n\u001B[1;32m     26\u001B[0m model\u001B[38;5;241m.\u001B[39mfit(\n\u001B[1;32m     27\u001B[0m     x_train, y_train, validation_data\u001B[38;5;241m=\u001B[39m(x_val, y_val), epochs\u001B[38;5;241m=\u001B[39m\u001B[38;5;241m500\u001B[39m, batch_size\u001B[38;5;241m=\u001B[39mBATCH_SIZE, \n\u001B[1;32m     28\u001B[0m     callbacks\u001B[38;5;241m=\u001B[39m[tf\u001B[38;5;241m.\u001B[39mkeras\u001B[38;5;241m.\u001B[39mcallbacks\u001B[38;5;241m.\u001B[39mEarlyStopping(monitor\u001B[38;5;241m=\u001B[39m\u001B[38;5;124m'\u001B[39m\u001B[38;5;124mval_loss\u001B[39m\u001B[38;5;124m'\u001B[39m, restore_best_weights\u001B[38;5;241m=\u001B[39m\u001B[38;5;28;01mTrue\u001B[39;00m, patience\u001B[38;5;241m=\u001B[39m\u001B[38;5;241m5\u001B[39m, start_from_epoch\u001B[38;5;241m=\u001B[39m\u001B[38;5;241m10\u001B[39m)], \n\u001B[1;32m     29\u001B[0m     verbose\u001B[38;5;241m=\u001B[39mverbose\n\u001B[1;32m     30\u001B[0m )\n\u001B[1;32m     32\u001B[0m _, accuracy \u001B[38;5;241m=\u001B[39m model\u001B[38;5;241m.\u001B[39mevaluate(x_test, y_test, batch_size\u001B[38;5;241m=\u001B[39mBATCH_SIZE, verbose\u001B[38;5;241m=\u001B[39m\u001B[38;5;241m0\u001B[39m)\n",
      "\u001B[0;31mKeyboardInterrupt\u001B[0m: "
     ]
    }
   ],
   "source": [
    "model_scores = []\n",
    "verbose = 0\n",
    "early_stopping = tf.keras.callbacks.EarlyStopping(monitor='val_loss', restore_best_weights=True, patience=5, start_from_epoch=0)\n",
    "\n",
    "# samples_values = utils.calculate_values_edges(x_train_sorted, counts, blur=True)\n",
    "# samples_proba = utils.normalize_losses_per_group(samples_values, counts)\n",
    "\n",
    "ORDER_TYPE = utils.OrderType.FIXED\n",
    "\n",
    "for _ in tqdm(range(N_TRIALS)):\n",
    "    model.set_weights(model_weights)\n",
    "\n",
    "    for i in range(N_EPOCHS):\n",
    "        n_samples = int(np.tanh(4 * (i + 1) / N_EPOCHS) * train_size)\n",
    "\n",
    "        samples_values = utils.calculate_values_losses(\n",
    "            model, x_train_sorted, y_train_sorted, batch_size=BATCH_SIZE\n",
    "        )\n",
    "        samples_proba = utils.normalize_losses_per_group(samples_values, counts)\n",
    "        \n",
    "        samples_ids = utils.chose_samples(n_samples, samples_proba, ORDER_TYPE)\n",
    "\n",
    "        model.fit(\n",
    "            x_train_sorted[samples_ids],\n",
    "            y_train_sorted[samples_ids],\n",
    "            epochs=1,\n",
    "            batch_size=BATCH_SIZE,\n",
    "            verbose=verbose,\n",
    "        )\n",
    "\n",
    "    model.fit(\n",
    "        x_train, y_train, validation_data=(x_val, y_val), epochs=500, batch_size=BATCH_SIZE, \n",
    "        callbacks=[tf.keras.callbacks.EarlyStopping(monitor='val_loss', restore_best_weights=True, patience=5, start_from_epoch=10)], \n",
    "        verbose=verbose\n",
    "    )\n",
    "            \n",
    "    _, accuracy = model.evaluate(x_test, y_test, batch_size=BATCH_SIZE, verbose=0)\n",
    "    model_scores.append(accuracy)\n",
    "    print(f\"Mean: {np.mean(model_scores):.4f}   Median: {np.median(model_scores):.4f}   Last accuracy {accuracy:.4f}\")"
   ],
   "metadata": {
    "collapsed": false,
    "ExecuteTime": {
     "end_time": "2024-07-01T10:15:39.445394Z",
     "start_time": "2024-07-01T09:50:45.666670Z"
    }
   },
   "id": "ce9112b33b1ada44"
  },
  {
   "cell_type": "code",
   "outputs": [
    {
     "data": {
      "text/plain": "[0.8392592668533325,\n 0.8106172680854797,\n 0.8518518805503845,\n 0.8118518590927124,\n 0.8627160787582397,\n 0.7886419892311096,\n 0.8288888931274414,\n 0.8254321217536926,\n 0.82419753074646,\n 0.8402469158172607,\n 0.7856789827346802,\n 0.8083950877189636,\n 0.8318518400192261,\n 0.8059259057044983,\n 0.8204938173294067,\n 0.8283950686454773,\n 0.7212345600128174,\n 0.760493814945221,\n 0.8012345433235168,\n 0.7787654399871826,\n 0.8548148274421692,\n 0.8037037253379822,\n 0.8424691557884216,\n 0.7701234817504883,\n 0.8392592668533325,\n 0.7866666913032532,\n 0.7990123629570007,\n 0.8306173086166382,\n 0.8404937982559204,\n 0.843950629234314]"
     },
     "execution_count": 16,
     "metadata": {},
     "output_type": "execute_result"
    }
   ],
   "source": [
    "model_scores"
   ],
   "metadata": {
    "collapsed": false,
    "ExecuteTime": {
     "end_time": "2024-05-05T07:15:45.943843Z",
     "start_time": "2024-05-05T07:15:45.940435Z"
    }
   },
   "id": "b1008223872a931",
   "execution_count": 16
  },
  {
   "cell_type": "code",
   "outputs": [],
   "source": [
    "model_scores_random = []\n",
    "verbose = 0\n",
    "\n",
    "for _ in tqdm(range(N_TRIALS)):\n",
    "    model.set_weights(model_weights)\n",
    "\n",
    "    model.fit(\n",
    "        x_train, y_train, validation_data=(x_val, y_val), epochs=500, batch_size=BATCH_SIZE, verbose=verbose, shuffle=True, \n",
    "        callbacks=[tf.keras.callbacks.EarlyStopping(monitor='val_loss', restore_best_weights=True, patience=5, start_from_epoch=35)]\n",
    "    )\n",
    "\n",
    "    _, accuracy = model.evaluate(x_test, y_test, batch_size=BATCH_SIZE, verbose=verbose)\n",
    "    model_scores_random.append(accuracy)\n",
    "    print(f\"Mean: {np.mean(model_scores):.4f}   Median: {np.median(model_scores):.4f}   Last accuracy {accuracy:.4f}\")"
   ],
   "metadata": {
    "collapsed": false,
    "ExecuteTime": {
     "end_time": "2024-07-01T15:11:54.823345Z",
     "start_time": "2024-07-01T15:11:54.818784Z"
    }
   },
   "id": "42a40bf5388b5d36",
   "execution_count": 19
  },
  {
   "cell_type": "code",
   "outputs": [],
   "source": [],
   "metadata": {
    "collapsed": false,
    "ExecuteTime": {
     "end_time": "2024-05-01T11:46:27.415144Z",
     "start_time": "2024-05-01T11:46:27.413498Z"
    }
   },
   "id": "ab854c56fbbb8a3d",
   "execution_count": 16
  },
  {
   "cell_type": "code",
   "outputs": [],
   "source": [],
   "metadata": {
    "collapsed": false
   },
   "id": "6fb3b1188c716777"
  }
 ],
 "metadata": {
  "kernelspec": {
   "display_name": "Python 3",
   "language": "python",
   "name": "python3"
  },
  "language_info": {
   "codemirror_mode": {
    "name": "ipython",
    "version": 2
   },
   "file_extension": ".py",
   "mimetype": "text/x-python",
   "name": "python",
   "nbconvert_exporter": "python",
   "pygments_lexer": "ipython2",
   "version": "2.7.6"
  }
 },
 "nbformat": 4,
 "nbformat_minor": 5
}
