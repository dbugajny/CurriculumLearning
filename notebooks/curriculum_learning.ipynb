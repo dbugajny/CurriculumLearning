{
 "cells": [
  {
   "cell_type": "code",
   "execution_count": 15,
   "id": "initial_id",
   "metadata": {
    "collapsed": true,
    "ExecuteTime": {
     "end_time": "2024-03-27T09:58:03.495165Z",
     "start_time": "2024-03-27T09:58:03.491811Z"
    }
   },
   "outputs": [],
   "source": [
    "import numpy as np\n",
    "import tensorflow as tf\n",
    "from curriculum_learning.models.classifier_model import ClassifierModel\n",
    "from curriculum_learning import utils\n",
    "import yaml\n",
    "from tqdm import tqdm\n",
    "from sklearn.model_selection import train_test_split\n",
    "import matplotlib.pyplot as plt\n",
    "import seaborn as sns"
   ]
  },
  {
   "cell_type": "code",
   "execution_count": 16,
   "outputs": [],
   "source": [
    "with open(\"models_hyperparameters.yaml\", \"r\") as stream:\n",
    "    models_hyperparameters = yaml.safe_load(stream)\n",
    "    \n",
    "with open(\"config_tests.yaml\", \"r\") as stream:\n",
    "    config_tests = yaml.safe_load(stream)"
   ],
   "metadata": {
    "collapsed": false,
    "ExecuteTime": {
     "end_time": "2024-03-27T09:58:03.520926Z",
     "start_time": "2024-03-27T09:58:03.514477Z"
    }
   },
   "id": "fa5a1f60ac32c234"
  },
  {
   "cell_type": "code",
   "execution_count": 17,
   "outputs": [],
   "source": [
    "N_EPOCHS = 50\n",
    "N_TRIALS = 50\n",
    "BATCH_SIZE = 512\n",
    "\n",
    "CONFIG = config_tests[\"assessment_proba_best\"]\n",
    "\n",
    "loss = tf.keras.losses.SparseCategoricalCrossentropy()"
   ],
   "metadata": {
    "collapsed": false,
    "ExecuteTime": {
     "end_time": "2024-03-27T09:58:03.529391Z",
     "start_time": "2024-03-27T09:58:03.527204Z"
    }
   },
   "id": "291968d1be29b250"
  },
  {
   "cell_type": "code",
   "execution_count": 18,
   "outputs": [],
   "source": [
    "x, y = utils.load_cifar_data(\"../data/cifar-10-batches-py/\")\n",
    "x /= 255\n",
    "\n",
    "x_train, x_test, y_train, y_test = train_test_split(x, y, test_size=0.6, random_state=42, stratify=y)\n",
    "x_test, x_val, y_test, y_val = train_test_split(x_test, y_test, test_size=0.5, random_state=42, stratify=y_test)\n",
    "\n",
    "n_classes = len(np.unique(y))\n",
    "train_size = x_train.shape[0]"
   ],
   "metadata": {
    "collapsed": false,
    "ExecuteTime": {
     "end_time": "2024-03-27T09:58:04.340063Z",
     "start_time": "2024-03-27T09:58:03.530523Z"
    }
   },
   "id": "8424e92d91deb0ac"
  },
  {
   "cell_type": "code",
   "outputs": [
    {
     "data": {
      "text/plain": "(20000, 15000, 15000)"
     },
     "execution_count": 19,
     "metadata": {},
     "output_type": "execute_result"
    }
   ],
   "source": [
    "train_size, len(x_val), len(x_test)"
   ],
   "metadata": {
    "collapsed": false,
    "ExecuteTime": {
     "end_time": "2024-03-27T09:58:04.343749Z",
     "start_time": "2024-03-27T09:58:04.341221Z"
    }
   },
   "id": "3c15bdc99fbc3794",
   "execution_count": 19
  },
  {
   "cell_type": "markdown",
   "source": [],
   "metadata": {
    "collapsed": false
   },
   "id": "7d1ce2d07e0319c9"
  },
  {
   "cell_type": "code",
   "execution_count": 20,
   "outputs": [
    {
     "name": "stderr",
     "output_type": "stream",
     "text": [
      "/Users/dbugajny/PycharmProjects/CurriculumLearning/venv/lib/python3.9/site-packages/keras/src/saving/saving_lib.py:396: UserWarning: Skipping variable loading for optimizer 'rmsprop', because it has 2 variables whereas the saved optimizer has 38 variables. \n",
      "  trackable.load_own_variables(weights_store.get(inner_path))\n"
     ]
    }
   ],
   "source": [
    "assessment_model = ClassifierModel(output_shape=n_classes, **models_hyperparameters[\"assessment_model\"])\n",
    "\n",
    "assessment_model.compile(loss=loss, metrics=[\"accuracy\"])\n",
    "assessment_model(x_train[:1])\n",
    "assessment_model.load_weights(\"../models/assessment_model.weights.h5\")"
   ],
   "metadata": {
    "collapsed": false,
    "ExecuteTime": {
     "end_time": "2024-03-27T09:58:04.468284Z",
     "start_time": "2024-03-27T09:58:04.344551Z"
    }
   },
   "id": "bdafb8a9c136f286"
  },
  {
   "cell_type": "code",
   "outputs": [
    {
     "name": "stdout",
     "output_type": "stream",
     "text": [
      "\u001B[1m469/469\u001B[0m \u001B[32m━━━━━━━━━━━━━━━━━━━━\u001B[0m\u001B[37m\u001B[0m \u001B[1m3s\u001B[0m 6ms/step - accuracy: 0.5517 - loss: 1.2630\n"
     ]
    },
    {
     "data": {
      "text/plain": "[1.2574479579925537, 0.5510666370391846]"
     },
     "execution_count": 21,
     "metadata": {},
     "output_type": "execute_result"
    }
   ],
   "source": [
    "assessment_model.evaluate(x_test, y_test)"
   ],
   "metadata": {
    "collapsed": false,
    "ExecuteTime": {
     "end_time": "2024-03-27T09:58:07.710931Z",
     "start_time": "2024-03-27T09:58:04.469840Z"
    }
   },
   "id": "7ff2d10f11b6825b",
   "execution_count": 21
  },
  {
   "cell_type": "code",
   "execution_count": null,
   "outputs": [],
   "source": [
    "x_train_sorted = x_train[np.argsort(y_train)]\n",
    "y_train_sorted = y_train[np.argsort(y_train)]\n",
    "_, counts = np.unique(y_train_sorted, return_counts=True)\n",
    "\n",
    "samples_proba = utils.calculate_proba2(\n",
    "    assessment_model, x_train_sorted, y_train_sorted, counts\n",
    ")"
   ],
   "metadata": {
    "collapsed": false,
    "is_executing": true,
    "ExecuteTime": {
     "start_time": "2024-03-27T09:58:07.711792Z"
    }
   },
   "id": "a2cd5df2d1ace314"
  },
  {
   "cell_type": "code",
   "outputs": [],
   "source": [
    "model = ClassifierModel(output_shape=n_classes, **models_hyperparameters[\"test_model\"])\n",
    "model.compile(optimizer=\"adam\", loss=loss, metrics=[\"accuracy\"])\n",
    "model(x_train[0:1])\n",
    "### model.save_weights(\"../models/default_model.weights.h5\")\n",
    "model.load_weights(\"../models/default_model.weights.h5\")\n",
    "model_weights = model.get_weights()"
   ],
   "metadata": {
    "collapsed": false,
    "is_executing": true
   },
   "id": "5d8c20ae81a03a89",
   "execution_count": null
  },
  {
   "cell_type": "code",
   "execution_count": null,
   "outputs": [],
   "source": [
    "model_scores = []\n",
    "\n",
    "for _ in tqdm(range(N_TRIALS)):\n",
    "    model.set_weights(model_weights)\n",
    "        \n",
    "    for i in range(N_EPOCHS):\n",
    "        n_samples = int(np.tanh(4 * (i + 1) / N_EPOCHS) * train_size)\n",
    "        \n",
    "        samples_ids = utils.chose_samples(n_samples, samples_proba, CONFIG[\"order_type\"])\n",
    "        model.fit(\n",
    "            x_train_sorted[samples_ids],\n",
    "            y_train_sorted[samples_ids],\n",
    "            # validation_data=(x_val, y_val),\n",
    "            epochs=1,\n",
    "            batch_size=BATCH_SIZE,\n",
    "            verbose=0,\n",
    "        )\n",
    "        \n",
    "        if CONFIG[\"progressive\"]:\n",
    "            samples_proba = utils.calculate_proba2(\n",
    "                model, x_train_sorted, y_train_sorted, counts # , CONFIG[\"negative_loss\"]\n",
    "            )\n",
    "            \n",
    "    _, accuracy = model.evaluate(x_test, y_test, batch_size=BATCH_SIZE, verbose=1)\n",
    "    model_scores.append(accuracy)\n",
    "    print(\"Mean:\", np.mean(model_scores))"
   ],
   "metadata": {
    "collapsed": false,
    "is_executing": true
   },
   "id": "ce9112b33b1ada44"
  },
  {
   "cell_type": "code",
   "outputs": [],
   "source": [
    "np.median(model_scores)"
   ],
   "metadata": {
    "collapsed": false,
    "is_executing": true
   },
   "id": "594c59ae2596ea09",
   "execution_count": null
  },
  {
   "cell_type": "code",
   "outputs": [],
   "source": [
    "CONFIG"
   ],
   "metadata": {
    "collapsed": false,
    "is_executing": true
   },
   "id": "c9be023631e10600",
   "execution_count": null
  },
  {
   "cell_type": "code",
   "outputs": [],
   "source": [
    "# import matplotlib.pyplot as plt\n",
    "# plt.figure(figsize=(10, 6))\n",
    "# plt.subplot(131)\n",
    "# plt.boxplot(results[\"test_model_1\"])\n",
    "# plt.ylim([0.63, 0.65])\n",
    "# plt.subplot(132)\n",
    "# plt.boxplot(ass_m[\"test_model_1\"])\n",
    "# plt.ylim([0.63, 0.65])\n",
    "# plt.subplot(133)\n",
    "# plt.boxplot(random_m[\"test_model_1\"])\n",
    "# plt.ylim([0.63, 0.65])\n",
    "# plt.show()"
   ],
   "metadata": {
    "collapsed": false,
    "is_executing": true
   },
   "id": "680579d76c6480b0",
   "execution_count": null
  },
  {
   "cell_type": "code",
   "outputs": [],
   "source": [
    "abc = [0.6460999846458435,\n",
    " 0.705299973487854,\n",
    " 0.6814000010490417,\n",
    " 0.6901000142097473,\n",
    " 0.6704000234603882,\n",
    " 0.679099977016449,\n",
    " 0.6834999918937683,\n",
    " 0.6952000260353088,\n",
    " 0.6812999844551086,\n",
    " 0.6843000054359436,\n",
    " 0.7019000053405762,\n",
    " 0.6528000235557556,\n",
    " 0.6559000015258789,\n",
    " 0.6805999875068665,\n",
    " 0.5934000015258789,\n",
    " 0.6704999804496765,\n",
    " 0.6823999881744385,\n",
    " 0.6553999781608582,\n",
    " 0.6852999925613403,\n",
    " 0.6736999750137329,\n",
    " 0.6478000283241272,\n",
    " 0.6850000023841858,\n",
    " 0.5813999772071838,\n",
    " 0.6521000266075134,\n",
    " 0.679099977016449,\n",
    " 0.6668999791145325,\n",
    " 0.6913999915122986,\n",
    " 0.6065000295639038,\n",
    " 0.6934999823570251,\n",
    " 0.6527000069618225,\n",
    " 0.6782000064849854,\n",
    " 0.6826000213623047,\n",
    " 0.6948999762535095,\n",
    " 0.6331999897956848,\n",
    " 0.6876999735832214,\n",
    " 0.6541000008583069,\n",
    " 0.7009999752044678,\n",
    " 0.6833000183105469,\n",
    " 0.6970999836921692,\n",
    " 0.673799991607666,\n",
    " 0.6690000295639038,\n",
    " 0.6815000176429749,\n",
    " 0.6561999917030334,\n",
    " 0.6574000120162964,\n",
    " 0.6601999998092651,\n",
    " 0.6599000096321106,\n",
    " 0.684499979019165,\n",
    " 0.6427000164985657,\n",
    " 0.6690000295639038,\n",
    " 0.6814000010490417]"
   ],
   "metadata": {
    "collapsed": false,
    "is_executing": true
   },
   "id": "56a93d45dda04ec",
   "execution_count": null
  },
  {
   "cell_type": "code",
   "outputs": [],
   "source": [
    "import scipy.stats\n",
    "scipy.stats.ttest_ind(abc, model_scores)"
   ],
   "metadata": {
    "collapsed": false,
    "is_executing": true
   },
   "id": "abe728bfb422081a",
   "execution_count": null
  },
  {
   "cell_type": "code",
   "outputs": [],
   "source": [
    "abc = [0.6462666392326355,\n",
    " 0.6143333315849304,\n",
    " 0.6458666920661926,\n",
    " 0.6164666414260864,\n",
    " 0.5498666763305664,\n",
    " 0.659333348274231,\n",
    " 0.5580000281333923,\n",
    " 0.6102666854858398,\n",
    " 0.6272666454315186,\n",
    " 0.5816666483879089,\n",
    " 0.5935333371162415,\n",
    " 0.6465333104133606,\n",
    " 0.6446666717529297,\n",
    " 0.6413333415985107,\n",
    " 0.6402666568756104,\n",
    " 0.6539333462715149,\n",
    " 0.627133309841156,\n",
    " 0.5664666891098022,\n",
    " 0.6363333463668823,\n",
    " 0.5622000098228455,\n",
    " 0.5845999717712402,\n",
    " 0.6078000068664551,\n",
    " 0.6403999924659729,\n",
    " 0.5857333540916443,\n",
    " 0.60753333568573,\n",
    " 0.6057999730110168,\n",
    " 0.5952666401863098,\n",
    " 0.6287333369255066,\n",
    " 0.6296666860580444,\n",
    " 0.598800003528595,\n",
    " 0.6316666603088379,\n",
    " 0.6499999761581421,\n",
    " 0.6220666766166687,\n",
    " 0.5823333263397217,\n",
    " 0.6305333375930786,\n",
    " 0.5469333529472351,\n",
    " 0.6465333104133606,\n",
    " 0.623199999332428,\n",
    " 0.6430000066757202,\n",
    " 0.6377333402633667,\n",
    " 0.5971999764442444,\n",
    " 0.6179333329200745,\n",
    " 0.6143333315849304,\n",
    " 0.584933340549469,\n",
    " 0.4405333399772644,\n",
    " 0.6126000285148621,\n",
    " 0.5825999975204468,\n",
    " 0.6133333444595337,\n",
    " 0.6164666414260864,\n",
    " 0.5774666666984558]\n",
    "np.median(abc)"
   ],
   "metadata": {
    "collapsed": false,
    "is_executing": true
   },
   "id": "cc68d4a643d2651c",
   "execution_count": null
  },
  {
   "cell_type": "code",
   "outputs": [],
   "source": [],
   "metadata": {
    "collapsed": false,
    "is_executing": true
   },
   "id": "de9e6e80b9d0476b"
  }
 ],
 "metadata": {
  "kernelspec": {
   "display_name": "Python 3",
   "language": "python",
   "name": "python3"
  },
  "language_info": {
   "codemirror_mode": {
    "name": "ipython",
    "version": 2
   },
   "file_extension": ".py",
   "mimetype": "text/x-python",
   "name": "python",
   "nbconvert_exporter": "python",
   "pygments_lexer": "ipython2",
   "version": "2.7.6"
  }
 },
 "nbformat": 4,
 "nbformat_minor": 5
}
